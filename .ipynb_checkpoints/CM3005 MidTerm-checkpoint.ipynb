{
 "cells": [
  {
   "cell_type": "markdown",
   "id": "1db0a66e",
   "metadata": {},
   "source": [
    "# <center>The Price of Gold<center>"
   ]
  },
  {
   "cell_type": "markdown",
   "id": "06de9153",
   "metadata": {},
   "source": [
    "## 1 Domain-specific area and objectives of the project \n",
    "\n",
    "The chosen domain for this report is financial markets, in particular, tracking one of the most popular commodity and a form of currency, **gold**.\n",
    "\n",
    "Gold has been used as a form of currency and a store of value for centuries[1]. Its historical significance as a medium of exchange as well as symbol of wealth has contributed to its enduring role in finance. Gold is actively traded on daily basis on various global exchanges. Traders buy and sell gold futures contracts to speculate on its future price movements.\n",
    "\n",
    "Gold is incorporated into various financial instruments, such as Exchange-Traded Funds (ETFs) and gold-backed securities[2]. These instruments allow commercial and retail investors to gain exposure to gold prices without physically owning the metal. It also helps to fight against inflation, as gold supply cannot be artificially inflated like fiat currencies[3].\n",
    "\n",
    "As well as being a financial instrument to invest in and generate wealth, gold is often considered a \"safe haven\" asset. During times of economic uncertainty or political instability, people tend to flee towards gold as a store of value. Why? Gold is perceived as a stable and reliable asset that can retain its worth in challenging economic conditions. It can be said that people's perception and ideologies towards gold contributes to the metal's value as well.\n",
    "\n",
    "**As of now, with global market instability, war, inflation and climate change determining where the price of gold will be in the near future can be a problem for both retail investor and institutions alike.**\n",
    "\n",
    "Now that we know what gold is and why people value it, we can understand why Machine Learning (ML) can come into place here.\n",
    "\n",
    "**A linear regression model can help us predict the future price of gold**. It can give investors an indicator of whether their asset will appreciate or depreciate in the coming future. It can also provide a general consensus of the public's view on gold, as declining gold prices could indicate a disinterest in gold as a commodity, as its demand may be dropping. *Though there are several factors the affect the price of gold*, using historical gold price data is a valid method of predicting its future price. There are already algorithms and trading bots being used by traders that utilize ML to make trades based of historical data.\n",
    "\n",
    "The objective of this project is to build a model that will give us a prediction to future gold prices, which can be use to aid in our decision-making process of whether to add gold to our investment portfolio, or to liquidate it, as well as visualizing the price change over the decades.\n",
    "\n",
    "The results of this project may offer both academic and practical insights into the precious metals markets."
   ]
  },
  {
   "cell_type": "markdown",
   "id": "5bd1496c",
   "metadata": {},
   "source": [
    "## 2 Dataset\n",
    "\n",
    "The dataset acquired to be used for this project comes from Kaggle[4]. The dataset comes in three CSV files that are zipped together. The file names are, \"Gold_Daily\", \"Gold_Monthly\", and \"Gold_Yearly\". The size of each files are 358KB, 23KB and 3KB, bringing the total size of the dataset to 384KB. The way the data was sourced, as stated on the Kaggle page, was from Investing.com[5], which is financial market website that also stores historical prices of tradable assets on the exchange.\n",
    "\n",
    "The three CSV files originally contains information such as the date of the historical gold price, its high, low, open, as well as its volume and change. The total number of columns for each file is 7. The date column is the 'date' of the gold on the exchange, the 'price' is its closing price for that day. The 'open' column is what the price of gold opened at during the start of the day, and the 'high' and 'low' is the the highest price and lowest price gold reached during the day. The original dataset contains missing values and doesnt have a unique ID for each row.\n",
    "\n",
    "In the mid-term webinar hosted by Dr Georgios Mastorakis, he make mentions it is allowed to add random noise, remove random values and intentionally make the data set dirtier, in order to make full use of the pre-processing step. In addition to the original dataset already containing missing values, I will be adding random noise into the values, like multiple values in cells.\n",
    "\n",
    "This dataset is suitable to the objectives of the project, as it contains a linear trendline that can be implemented into a linear regression model. It highlights the chosen domain of financial markets, and the tracking price of one of the most popular commodities."
   ]
  },
  {
   "cell_type": "markdown",
   "id": "3ef6112b",
   "metadata": {},
   "source": [
    "## 3 Data Preparation\n",
    "\n",
    "We will start processing the dataset here. The steps that will be undertaken here are:\n",
    "\n",
    "    - converting into appropriate datatype\n",
    "    - addressing missing values\n",
    "    - assigning a unique ID to the dataset\n",
    "    - transforming it into a 1NF dataset\n",
    "    \n",
    "These steps are needed to reduce redundancy, increase accuracy of the dataset, which will in turn help our linear regression model later on. We will be using the Pandas library for this."
   ]
  },
  {
   "cell_type": "code",
   "execution_count": 1,
   "id": "71e49594",
   "metadata": {
    "scrolled": true
   },
   "outputs": [
    {
     "name": "stdout",
     "output_type": "stream",
     "text": [
      "        Date  Price   Open   High    Low    Vol  Change %\n",
      "0  06-Dec-94  375.8  375.6  376.5  375.1  0.99K    0.0008\n",
      "1  07-Dec-94  376.1  377.0  377.5  375.1  1.88K    0.0008\n",
      "2  08-Dec-94  376.6  375.3  376.7  374.8  0.48K    0.0013\n",
      "3  09-Dec-94  377.0  375.6  377.0  375.5  0.38K    0.0011\n",
      "4  12-Dec-94  377.5  376.8  377.8  376.5  0.07K    0.0013\n",
      "\n",
      "\n",
      "     Date  Price   Open         High    Low Vol.  Change %\n",
      "0  Feb-79  271.6  271.6        271.6  271.6    -    0.0727\n",
      "1  Mar-79  256.6  256.6        256.6  256.6    -   -0.0552\n",
      "2  Apr-79  262.4  262.4  262.4,262.4  262.4    -    0.0226\n",
      "3  May-79  290.7  290.7        290.7  290.7    -    0.1079\n",
      "4  Jun-79  293.5  293.5        293.5  293.5    -    0.0096\n",
      "5  Jul-79  297.3  297.3        297.3  297.3    -    0.0129\n",
      "6  Aug-79  326.7  326.7        326.7  326.7    -    0.0989\n",
      "7  Sep-79  404.5  404.5        404.5  404.5    -    0.2381\n",
      "8  Oct-79  385.7  385.7        385.7  385.7    -   -0.0465\n",
      "9  Nov-79  419.1  396.5          421  390.0    -    0.0866\n",
      "\n",
      "\n",
      "   Year  Average\\nClosing Price  Year Open  Year High  Year Low  Year Close  \\\n",
      "0  1969                   41.10      41.80      43.75     35.00       35.21   \n",
      "1  1970                   35.96      35.13      39.19     34.78       37.38   \n",
      "2  1971                   40.80      37.33      43.90     37.33       43.50   \n",
      "3  1972                   58.17      43.73      70.00     43.73       64.70   \n",
      "4  1973                   97.12      64.99     127.00     64.10      112.25   \n",
      "\n",
      "   Annual\\n% Change  \n",
      "0           -0.1607  \n",
      "1            0.0616  \n",
      "2            0.1637  \n",
      "3            0.4874  \n",
      "4            0.7349  \n",
      "\n",
      "\n"
     ]
    }
   ],
   "source": [
    "import pandas as pd\n",
    "\n",
    "#load the 3 csv files into a dataframe\n",
    "daily_df = pd.read_csv('gold/Gold_Daily.csv')\n",
    "monthly_df = pd.read_csv('gold/Gold_Monthly.csv')\n",
    "yearly_df = pd.read_csv('gold/Gold_Yearly.csv')\n",
    "\n",
    "print(daily_df.head())\n",
    "print(\"\\n\")\n",
    "print(monthly_df.head(10))\n",
    "print(\"\\n\")\n",
    "print(yearly_df.head())\n",
    "print(\"\\n\")"
   ]
  },
  {
   "cell_type": "code",
   "execution_count": 2,
   "id": "9e06d101",
   "metadata": {
    "scrolled": true
   },
   "outputs": [
    {
     "name": "stdout",
     "output_type": "stream",
     "text": [
      "<class 'pandas.core.frame.DataFrame'>\n",
      "RangeIndex: 6886 entries, 0 to 6885\n",
      "Data columns (total 7 columns):\n",
      " #   Column    Non-Null Count  Dtype  \n",
      "---  ------    --------------  -----  \n",
      " 0   Date      6886 non-null   object \n",
      " 1   Price     6886 non-null   float64\n",
      " 2   Open      6886 non-null   float64\n",
      " 3   High      6886 non-null   float64\n",
      " 4   Low       6886 non-null   float64\n",
      " 5   Vol       6886 non-null   object \n",
      " 6   Change %  6886 non-null   float64\n",
      "dtypes: float64(5), object(2)\n",
      "memory usage: 376.7+ KB\n",
      "\n",
      "\n",
      "<class 'pandas.core.frame.DataFrame'>\n",
      "RangeIndex: 515 entries, 0 to 514\n",
      "Data columns (total 7 columns):\n",
      " #   Column    Non-Null Count  Dtype  \n",
      "---  ------    --------------  -----  \n",
      " 0   Date      515 non-null    object \n",
      " 1   Price     515 non-null    float64\n",
      " 2   Open      515 non-null    float64\n",
      " 3   High      515 non-null    object \n",
      " 4   Low       515 non-null    float64\n",
      " 5   Vol.      515 non-null    object \n",
      " 6   Change %  515 non-null    float64\n",
      "dtypes: float64(4), object(3)\n",
      "memory usage: 28.3+ KB\n",
      "\n",
      "\n",
      "<class 'pandas.core.frame.DataFrame'>\n",
      "RangeIndex: 53 entries, 0 to 52\n",
      "Data columns (total 7 columns):\n",
      " #   Column                 Non-Null Count  Dtype  \n",
      "---  ------                 --------------  -----  \n",
      " 0   Year                   53 non-null     int64  \n",
      " 1   Average\n",
      "Closing Price  53 non-null     float64\n",
      " 2   Year Open              53 non-null     float64\n",
      " 3   Year High              53 non-null     float64\n",
      " 4   Year Low               53 non-null     float64\n",
      " 5   Year Close             53 non-null     float64\n",
      " 6   Annual\n",
      "% Change        53 non-null     float64\n",
      "dtypes: float64(6), int64(1)\n",
      "memory usage: 3.0 KB\n"
     ]
    }
   ],
   "source": [
    "daily_df.info()\n",
    "print(\"\\n\")\n",
    "\n",
    "monthly_df.info()\n",
    "print(\"\\n\")\n",
    "\n",
    "yearly_df.info()"
   ]
  },
  {
   "cell_type": "markdown",
   "id": "7d36eb09",
   "metadata": {},
   "source": [
    "The above shows the format of the three CSV files, as well as the information of each dataframe. We can see they all contain 7 columns, with both float and object(string/mixed) data types. Lets first address the missing values for each file."
   ]
  },
  {
   "cell_type": "markdown",
   "id": "e2116a21",
   "metadata": {},
   "source": [
    "In the daily gold price csv file, the volume column has missing volume data denoted with the symbol '-'. Lets replace it with nan first. To do that, we will need to import numpy"
   ]
  },
  {
   "cell_type": "code",
   "execution_count": 3,
   "id": "7c858504",
   "metadata": {
    "scrolled": false
   },
   "outputs": [
    {
     "data": {
      "text/html": [
       "<div>\n",
       "<style scoped>\n",
       "    .dataframe tbody tr th:only-of-type {\n",
       "        vertical-align: middle;\n",
       "    }\n",
       "\n",
       "    .dataframe tbody tr th {\n",
       "        vertical-align: top;\n",
       "    }\n",
       "\n",
       "    .dataframe thead th {\n",
       "        text-align: right;\n",
       "    }\n",
       "</style>\n",
       "<table border=\"1\" class=\"dataframe\">\n",
       "  <thead>\n",
       "    <tr style=\"text-align: right;\">\n",
       "      <th></th>\n",
       "      <th>Date</th>\n",
       "      <th>Price</th>\n",
       "      <th>Open</th>\n",
       "      <th>High</th>\n",
       "      <th>Low</th>\n",
       "      <th>Vol</th>\n",
       "      <th>Change %</th>\n",
       "    </tr>\n",
       "  </thead>\n",
       "  <tbody>\n",
       "    <tr>\n",
       "      <th>10</th>\n",
       "      <td>20-Dec-94</td>\n",
       "      <td>381.8</td>\n",
       "      <td>381.8</td>\n",
       "      <td>382.3</td>\n",
       "      <td>381.4</td>\n",
       "      <td>0.02K</td>\n",
       "      <td>0.0069</td>\n",
       "    </tr>\n",
       "    <tr>\n",
       "      <th>11</th>\n",
       "      <td>21-Dec-94</td>\n",
       "      <td>381.6</td>\n",
       "      <td>382.0</td>\n",
       "      <td>382.0</td>\n",
       "      <td>381.5</td>\n",
       "      <td>0.03K</td>\n",
       "      <td>-0.0005</td>\n",
       "    </tr>\n",
       "    <tr>\n",
       "      <th>12</th>\n",
       "      <td>22-Dec-94</td>\n",
       "      <td>381.0</td>\n",
       "      <td>381.5</td>\n",
       "      <td>381.5</td>\n",
       "      <td>381.5</td>\n",
       "      <td>0.05K</td>\n",
       "      <td>-0.0016</td>\n",
       "    </tr>\n",
       "    <tr>\n",
       "      <th>13</th>\n",
       "      <td>23-Dec-94</td>\n",
       "      <td>380.4</td>\n",
       "      <td>381.0</td>\n",
       "      <td>381.0</td>\n",
       "      <td>380.4</td>\n",
       "      <td>0.02K</td>\n",
       "      <td>-0.0016</td>\n",
       "    </tr>\n",
       "    <tr>\n",
       "      <th>14</th>\n",
       "      <td>27-Dec-94</td>\n",
       "      <td>381.6</td>\n",
       "      <td>381.0</td>\n",
       "      <td>382.0</td>\n",
       "      <td>381.0</td>\n",
       "      <td>0.06K</td>\n",
       "      <td>0.0032</td>\n",
       "    </tr>\n",
       "    <tr>\n",
       "      <th>15</th>\n",
       "      <td>28-Dec-94</td>\n",
       "      <td>383.7</td>\n",
       "      <td>382.1</td>\n",
       "      <td>383.6</td>\n",
       "      <td>382.1</td>\n",
       "      <td>-</td>\n",
       "      <td>0.0055</td>\n",
       "    </tr>\n",
       "    <tr>\n",
       "      <th>16</th>\n",
       "      <td>29-Dec-94</td>\n",
       "      <td>382.7</td>\n",
       "      <td>382.7</td>\n",
       "      <td>382.7</td>\n",
       "      <td>382.7</td>\n",
       "      <td>-</td>\n",
       "      <td>-0.0026</td>\n",
       "    </tr>\n",
       "    <tr>\n",
       "      <th>17</th>\n",
       "      <td>30-Dec-94</td>\n",
       "      <td>383.1</td>\n",
       "      <td>383.1</td>\n",
       "      <td>383.1</td>\n",
       "      <td>383.1</td>\n",
       "      <td>-</td>\n",
       "      <td>0.0010</td>\n",
       "    </tr>\n",
       "    <tr>\n",
       "      <th>18</th>\n",
       "      <td>03-Jan-95</td>\n",
       "      <td>379.6</td>\n",
       "      <td>379.6</td>\n",
       "      <td>379.6</td>\n",
       "      <td>379.6</td>\n",
       "      <td>-</td>\n",
       "      <td>-0.0091</td>\n",
       "    </tr>\n",
       "    <tr>\n",
       "      <th>19</th>\n",
       "      <td>04-Jan-95</td>\n",
       "      <td>374.0</td>\n",
       "      <td>377.7</td>\n",
       "      <td>377.7</td>\n",
       "      <td>374.0</td>\n",
       "      <td>0.00K</td>\n",
       "      <td>-0.0148</td>\n",
       "    </tr>\n",
       "  </tbody>\n",
       "</table>\n",
       "</div>"
      ],
      "text/plain": [
       "         Date  Price   Open   High    Low    Vol  Change %\n",
       "10  20-Dec-94  381.8  381.8  382.3  381.4  0.02K    0.0069\n",
       "11  21-Dec-94  381.6  382.0  382.0  381.5  0.03K   -0.0005\n",
       "12  22-Dec-94  381.0  381.5  381.5  381.5  0.05K   -0.0016\n",
       "13  23-Dec-94  380.4  381.0  381.0  380.4  0.02K   -0.0016\n",
       "14  27-Dec-94  381.6  381.0  382.0  381.0  0.06K    0.0032\n",
       "15  28-Dec-94  383.7  382.1  383.6  382.1      -    0.0055\n",
       "16  29-Dec-94  382.7  382.7  382.7  382.7      -   -0.0026\n",
       "17  30-Dec-94  383.1  383.1  383.1  383.1      -    0.0010\n",
       "18  03-Jan-95  379.6  379.6  379.6  379.6      -   -0.0091\n",
       "19  04-Jan-95  374.0  377.7  377.7  374.0  0.00K   -0.0148"
      ]
     },
     "execution_count": 3,
     "metadata": {},
     "output_type": "execute_result"
    }
   ],
   "source": [
    "daily_df[10:20]"
   ]
  },
  {
   "cell_type": "code",
   "execution_count": 4,
   "id": "994dc2bd",
   "metadata": {
    "scrolled": false
   },
   "outputs": [
    {
     "data": {
      "text/html": [
       "<div>\n",
       "<style scoped>\n",
       "    .dataframe tbody tr th:only-of-type {\n",
       "        vertical-align: middle;\n",
       "    }\n",
       "\n",
       "    .dataframe tbody tr th {\n",
       "        vertical-align: top;\n",
       "    }\n",
       "\n",
       "    .dataframe thead th {\n",
       "        text-align: right;\n",
       "    }\n",
       "</style>\n",
       "<table border=\"1\" class=\"dataframe\">\n",
       "  <thead>\n",
       "    <tr style=\"text-align: right;\">\n",
       "      <th></th>\n",
       "      <th>Date</th>\n",
       "      <th>Price</th>\n",
       "      <th>Open</th>\n",
       "      <th>High</th>\n",
       "      <th>Low</th>\n",
       "      <th>Vol</th>\n",
       "      <th>Change %</th>\n",
       "    </tr>\n",
       "  </thead>\n",
       "  <tbody>\n",
       "  </tbody>\n",
       "</table>\n",
       "</div>"
      ],
      "text/plain": [
       "Empty DataFrame\n",
       "Columns: [Date, Price, Open, High, Low, Vol, Change %]\n",
       "Index: []"
      ]
     },
     "execution_count": 4,
     "metadata": {},
     "output_type": "execute_result"
    }
   ],
   "source": [
    "#identify duplicate rows\n",
    "duplicateRows_D = daily_df[daily_df.duplicated()]\n",
    "\n",
    "#view duplicate rows\n",
    "duplicateRows_D"
   ]
  },
  {
   "cell_type": "markdown",
   "id": "9cb6b625",
   "metadata": {},
   "source": [
    "No duplicate rows"
   ]
  },
  {
   "cell_type": "code",
   "execution_count": 5,
   "id": "bcb42a55",
   "metadata": {
    "scrolled": true
   },
   "outputs": [
    {
     "name": "stdout",
     "output_type": "stream",
     "text": [
      "         Date  Price   Open   High    Low    Vol  Change %\n",
      "10  20-Dec-94  381.8  381.8  382.3  381.4  0.02K    0.0069\n",
      "11  21-Dec-94  381.6  382.0  382.0  381.5  0.03K   -0.0005\n",
      "12  22-Dec-94  381.0  381.5  381.5  381.5  0.05K   -0.0016\n",
      "13  23-Dec-94  380.4  381.0  381.0  380.4  0.02K   -0.0016\n",
      "14  27-Dec-94  381.6  381.0  382.0  381.0  0.06K    0.0032\n",
      "15  28-Dec-94  383.7  382.1  383.6  382.1    NaN    0.0055\n",
      "16  29-Dec-94  382.7  382.7  382.7  382.7    NaN   -0.0026\n",
      "17  30-Dec-94  383.1  383.1  383.1  383.1    NaN    0.0010\n",
      "18  03-Jan-95  379.6  379.6  379.6  379.6    NaN   -0.0091\n",
      "19  04-Jan-95  374.0  377.7  377.7  374.0  0.00K   -0.0148\n"
     ]
    },
    {
     "data": {
      "text/plain": [
       "1302"
      ]
     },
     "execution_count": 5,
     "metadata": {},
     "output_type": "execute_result"
    }
   ],
   "source": [
    "import numpy as np\n",
    "#daily gold price\n",
    "#replace '-' with NaN\n",
    "daily_df['Vol'] = daily_df['Vol'].replace('-',np.nan) \n",
    "print(daily_df[10:20])\n",
    "\n",
    "#count number of nan values\n",
    "daily_df['Vol'].isna().sum()"
   ]
  },
  {
   "cell_type": "markdown",
   "id": "91bf80ba",
   "metadata": {},
   "source": [
    "We have replaced the missing values for the volume column with numpy NaN, and we can see that we have a total missing value count of 1302. We need to address this in our process of normalizing this dataset as it will improve data integrity and model accuracy.\n",
    "\n",
    "#### How to address missing values?\n",
    "Because out dataset is linear, we can use interpolate() to fill the missing values. The volume column denoted the volume traded in the session in thousands. We need to remove the \"K\" from the object and convert it to a float first, before interpolation can begin.\n",
    "\n",
    "For columns that are identical with the daily and monthly csv files, we will be making functions so that we can call upon them to clean the data set for the 'Gold_Monthly.csv' file"
   ]
  },
  {
   "cell_type": "code",
   "execution_count": 6,
   "id": "d76000a2",
   "metadata": {
    "scrolled": false
   },
   "outputs": [
    {
     "name": "stdout",
     "output_type": "stream",
     "text": [
      "         Date  Price   Open   High    Low   Vol  Change %\n",
      "10  20-Dec-94  381.8  381.8  382.3  381.4  20.0    0.0069\n",
      "11  21-Dec-94  381.6  382.0  382.0  381.5  30.0   -0.0005\n",
      "12  22-Dec-94  381.0  381.5  381.5  381.5  50.0   -0.0016\n",
      "13  23-Dec-94  380.4  381.0  381.0  380.4  20.0   -0.0016\n",
      "14  27-Dec-94  381.6  381.0  382.0  381.0  60.0    0.0032\n",
      "15  28-Dec-94  383.7  382.1  383.6  382.1   NaN    0.0055\n",
      "16  29-Dec-94  382.7  382.7  382.7  382.7   NaN   -0.0026\n",
      "17  30-Dec-94  383.1  383.1  383.1  383.1   NaN    0.0010\n",
      "18  03-Jan-95  379.6  379.6  379.6  379.6   NaN   -0.0091\n",
      "19  04-Jan-95  374.0  377.7  377.7  374.0   0.0   -0.0148\n"
     ]
    }
   ],
   "source": [
    "#function to remove 'K' string and conver to numeric\n",
    "def convertVol(dataframe):\n",
    "    #remove 'K' and convert to numeric\n",
    "    dataframe['Vol'] = dataframe['Vol'].str.replace('K', '').astype(float)\n",
    "    #multiply by 1000 to convert from 'K' (thousands) to actual numeric values\n",
    "    dataframe['Vol'] = dataframe['Vol'] * 1000\n",
    "    return dataframe['Vol']\n",
    "\n",
    "\n",
    "daily_df['Vol'] = convertVol(daily_df)\n",
    "\n",
    "print(daily_df[10:20])"
   ]
  },
  {
   "cell_type": "code",
   "execution_count": 7,
   "id": "5eb8eab6",
   "metadata": {
    "scrolled": true
   },
   "outputs": [
    {
     "name": "stdout",
     "output_type": "stream",
     "text": [
      "   ID  Day  Month  Year  Price   Open   High    Low     Vol  Change\n",
      "0   0    6     12  1994  375.8  375.6  376.5  375.1   990.0  0.0008\n",
      "1   1    7     12  1994  376.1  377.0  377.5  375.1  1880.0  0.0008\n",
      "2   2    8     12  1994  376.6  375.3  376.7  374.8   480.0  0.0013\n",
      "3   3    9     12  1994  377.0  375.6  377.0  375.5   380.0  0.0011\n",
      "4   4   12     12  1994  377.5  376.8  377.8  376.5    70.0  0.0013\n",
      "5   5   13     12  1994  377.6  379.5  379.5  378.0    40.0  0.0003\n",
      "6   6   14     12  1994  378.9  379.0  381.0  379.0    50.0  0.0034\n",
      "7   7   15     12  1994  380.2  379.9  380.3  378.9    80.0  0.0034\n",
      "8   8   16     12  1994  378.6  380.5  380.5  379.0    40.0 -0.0042\n",
      "9   9   19     12  1994  379.2  379.2  379.2  379.2    10.0  0.0016\n",
      "\n",
      "\n",
      "Count of missing values: 0\n"
     ]
    }
   ],
   "source": [
    "#interpolate the missing values, set the direction to forward, from first entry to last\n",
    "daily_df = daily_df.interpolate(method ='linear', limit_direction ='forward') \n",
    "\n",
    "#convert date to pandas datetime format\n",
    "daily_df['Date']=pd.to_datetime(daily_df['Date'],format='%d-%b-%y')\n",
    "\n",
    "#rename change column\n",
    "daily_df = daily_df.rename(columns={\"Change %\":\"Change\"})\n",
    "\n",
    "#add day month year columns and drop date\n",
    "daily_df['Day'] = daily_df['Date'].dt.day\n",
    "daily_df['Month'] = daily_df['Date'].dt.month\n",
    "daily_df['Year'] = daily_df['Date'].dt.year\n",
    "#save the date column values to a variable, so we can plot it later\n",
    "daily_Dates_List = daily_df['Date'].tolist()\n",
    "\n",
    "#drop date column\n",
    "daily_df = daily_df.drop(columns=['Date'])\n",
    "\n",
    "#assign unique ID for each row\n",
    "daily_df['ID'] = range(len(daily_df))\n",
    "\n",
    "#rearrange columns\n",
    "arrange = [\"ID\",\"Day\",\"Month\",\"Year\",\"Price\",\"Open\",\"High\",\"Low\",\"Vol\",\"Change\" ]\n",
    "daily_df = daily_df.reindex(columns=arrange)\n",
    "\n",
    "print(daily_df[:10])\n",
    "print(\"\\n\")\n",
    "print(\"Count of missing values:\",daily_df['Vol'].isna().sum())"
   ]
  },
  {
   "cell_type": "code",
   "execution_count": 8,
   "id": "e604d006",
   "metadata": {
    "scrolled": false
   },
   "outputs": [
    {
     "data": {
      "text/plain": [
       "ID          int32\n",
       "Day         int64\n",
       "Month       int64\n",
       "Year        int64\n",
       "Price     float64\n",
       "Open      float64\n",
       "High      float64\n",
       "Low       float64\n",
       "Vol       float64\n",
       "Change    float64\n",
       "dtype: object"
      ]
     },
     "execution_count": 8,
     "metadata": {},
     "output_type": "execute_result"
    }
   ],
   "source": [
    "daily_df.dtypes"
   ]
  },
  {
   "cell_type": "markdown",
   "id": "dde058e4",
   "metadata": {},
   "source": [
    "We can see the volume column has been converted into a float, and the missing values has been interpolated. The total missing values is now zero. \n",
    "\n",
    "I have also converted the \"Date\" column to the appropriate pandas datetime object, as well as renaming the \"Change%\" column, which is the percent change of the previous and current (day, month, or year) price, to\" \"Change\", to remove the special characters. \n",
    "\n",
    "Finally, split the date time format into separate columns, so that we can feed the multiple linear regression model the dates of the each historical gold price later on, and assign a unique ID to each row.\n",
    "\n",
    "Lets now proceed with prepping the \"Gold_Monthly.csv\". As mentioned above, this dataset has noise introduced into it with some cells have multiple values."
   ]
  },
  {
   "cell_type": "code",
   "execution_count": 9,
   "id": "1294a39a",
   "metadata": {
    "scrolled": true
   },
   "outputs": [
    {
     "data": {
      "text/html": [
       "<div>\n",
       "<style scoped>\n",
       "    .dataframe tbody tr th:only-of-type {\n",
       "        vertical-align: middle;\n",
       "    }\n",
       "\n",
       "    .dataframe tbody tr th {\n",
       "        vertical-align: top;\n",
       "    }\n",
       "\n",
       "    .dataframe thead th {\n",
       "        text-align: right;\n",
       "    }\n",
       "</style>\n",
       "<table border=\"1\" class=\"dataframe\">\n",
       "  <thead>\n",
       "    <tr style=\"text-align: right;\">\n",
       "      <th></th>\n",
       "      <th>Date</th>\n",
       "      <th>Price</th>\n",
       "      <th>Open</th>\n",
       "      <th>High</th>\n",
       "      <th>Low</th>\n",
       "      <th>Vol.</th>\n",
       "      <th>Change %</th>\n",
       "    </tr>\n",
       "  </thead>\n",
       "  <tbody>\n",
       "  </tbody>\n",
       "</table>\n",
       "</div>"
      ],
      "text/plain": [
       "Empty DataFrame\n",
       "Columns: [Date, Price, Open, High, Low, Vol., Change %]\n",
       "Index: []"
      ]
     },
     "execution_count": 9,
     "metadata": {},
     "output_type": "execute_result"
    }
   ],
   "source": [
    "#identify duplicate rows\n",
    "duplicateRows = monthly_df[monthly_df.duplicated()]\n",
    "\n",
    "#view duplicate rows\n",
    "duplicateRows"
   ]
  },
  {
   "cell_type": "code",
   "execution_count": 10,
   "id": "963ceed5",
   "metadata": {
    "scrolled": true
   },
   "outputs": [],
   "source": [
    "#rename columns\n",
    "monthly_df = monthly_df.rename(columns={\"Vol.\":\"Vol\",\"Change %\":\"Change\"})\n",
    "\n",
    "#replace '-' with NaN\n",
    "monthly_df['Vol'] = monthly_df['Vol'].replace('-',np.nan)\n",
    "\n",
    "#the 2nd last entry in monthly where the volume is in millions, we will convert that first\n",
    "monthly_df['Vol'] = monthly_df['Vol'].str.replace('M','')\n",
    "monthly_df.at[513,'Vol'] = 1.31 * 1000000\n",
    "\n",
    "#remoke 'K'and convert to float\n",
    "monthly_df['Vol'] = convertVol(monthly_df)"
   ]
  },
  {
   "cell_type": "code",
   "execution_count": 11,
   "id": "bfcbb3f6",
   "metadata": {
    "scrolled": true
   },
   "outputs": [
    {
     "name": "stdout",
     "output_type": "stream",
     "text": [
      "    Price   Open         High    Low       Vol  Change  Month  Year\n",
      "0   271.6  271.6        271.6  271.6       NaN  0.0727      2  1979\n",
      "1   256.6  256.6        256.6  256.6       NaN -0.0552      3  1979\n",
      "2   262.4  262.4  262.4,262.4  262.4       NaN  0.0226      4  1979\n",
      "3   290.7  290.7        290.7  290.7       NaN  0.1079      5  1979\n",
      "4   293.5  293.5        293.5  293.5       NaN  0.0096      6  1979\n",
      "5   297.3  297.3        297.3  297.3       NaN  0.0129      7  1979\n",
      "6   326.7  326.7        326.7  326.7       NaN  0.0989      8  1979\n",
      "7   404.5  404.5        404.5  404.5       NaN  0.2381      9  1979\n",
      "8   385.7  385.7        385.7  385.7       NaN -0.0465     10  1979\n",
      "9   419.1  396.5          421  390.0       NaN  0.0866     11  1979\n",
      "10  533.6  430.5        534.5  424.0       NaN  0.2732     12  1979\n",
      "11  681.5  562.5      875,875  558.0  179390.0  0.2772      1  1980\n",
      "12  631.0  677.0          729  599.0   49350.0 -0.0741      2  1980\n",
      "13  501.5  631.0        648.5  453.0   57000.0 -0.2052      3  1980\n",
      "14  501.6  504.0          562  465.0   23190.0  0.0002      4  1980\n",
      "15  545.2  490.6          552  478.0   25700.0  0.0869      5  1980\n",
      "16  647.4  567.0        658.5  550.0   26510.0  0.1875      6  1980\n",
      "17  619.7  662.9          691  604.0   51300.0 -0.0428      7  1980\n",
      "18  635.0  620.0          649  600.0   14270.0  0.0247      8  1980\n",
      "19  671.5  639.7          727  635.5   48930.0  0.0575      9  1980\n",
      "\n",
      "\n",
      "Count of missing values: 11\n"
     ]
    }
   ],
   "source": [
    "#fill missing values\n",
    "monthly_df = monthly_df.interpolate(method ='linear', limit_direction ='forward') \n",
    "\n",
    "#get pandas date time\n",
    "monthly_df['Date']=pd.to_datetime(monthly_df['Date'],format='%b-%y')\n",
    "#month and year columns\n",
    "monthly_df['Month'] = monthly_df['Date'].dt.month\n",
    "monthly_df['Year'] = monthly_df['Date'].dt.year\n",
    "\n",
    "#save the date column values to a variable, so we can plot it later\n",
    "monthly_Dates_List = monthly_df['Date'].tolist()\n",
    "#remove the first 11 dates, cuz we remove the NaN values later\n",
    "for x,item in enumerate(monthly_Dates_List):\n",
    "    monthly_Dates_List.remove(item)\n",
    "    if x == 10:\n",
    "        break\n",
    "\n",
    "#drop original date col\n",
    "monthly_df = monthly_df.drop(columns=['Date'])\n",
    "\n",
    "print(monthly_df[0:20])\n",
    "print(\"\\n\")\n",
    "print(\"Count of missing values:\",monthly_df['Vol'].isna().sum())"
   ]
  },
  {
   "cell_type": "code",
   "execution_count": 12,
   "id": "05c28ece",
   "metadata": {
    "scrolled": true
   },
   "outputs": [
    {
     "name": "stdout",
     "output_type": "stream",
     "text": [
      "3\n"
     ]
    }
   ],
   "source": [
    "#removing multiple cell values in the \"High\" column\n",
    "CountComma = monthly_df.High.str.count(',').sum()\n",
    "print(CountComma)"
   ]
  },
  {
   "cell_type": "markdown",
   "id": "6b813d06",
   "metadata": {},
   "source": [
    "We have 3 cells in our dataset that has commas, which indicate multiple values. Lets remove the value of the before the comma, as well as the comma."
   ]
  },
  {
   "cell_type": "code",
   "execution_count": 13,
   "id": "84ea2c6d",
   "metadata": {
    "scrolled": false
   },
   "outputs": [
    {
     "name": "stdout",
     "output_type": "stream",
     "text": [
      "0     271.6\n",
      "1     256.6\n",
      "2     262.4\n",
      "3     290.7\n",
      "4     293.5\n",
      "5     297.3\n",
      "6     326.7\n",
      "7     404.5\n",
      "8     385.7\n",
      "9       421\n",
      "10    534.5\n",
      "11      875\n",
      "12      729\n",
      "13    648.5\n",
      "14      562\n",
      "15      552\n",
      "16    658.5\n",
      "17      691\n",
      "18      649\n",
      "19      727\n",
      "Name: High, dtype: object\n"
     ]
    }
   ],
   "source": [
    "#lambda function to each cell in the specified column, split the string, and keep the second element only\n",
    "monthly_df['High'] = monthly_df['High'].apply(lambda x: x.split(',')[1] if ',' in x else x)\n",
    "print(monthly_df['High'][0:20])"
   ]
  },
  {
   "cell_type": "code",
   "execution_count": 14,
   "id": "f3e32c6b",
   "metadata": {
    "scrolled": true
   },
   "outputs": [
    {
     "name": "stdout",
     "output_type": "stream",
     "text": [
      "Price     float64\n",
      "Open      float64\n",
      "High      float64\n",
      "Low       float64\n",
      "Vol       float64\n",
      "Change    float64\n",
      "Month       int64\n",
      "Year        int64\n",
      "dtype: object\n"
     ]
    }
   ],
   "source": [
    "#convert dtype ojbect to float\n",
    "monthly_df = monthly_df.astype({'High':'float64'})\n",
    "print(monthly_df.dtypes)"
   ]
  },
  {
   "cell_type": "markdown",
   "id": "16781b7c",
   "metadata": {},
   "source": [
    "Looking at the above, we can see our data processing for the \"Monthly_Gold.csv\" file gave us 11 NaN values. This is because, originally, the first 11 rows had no recordings of the monthly volume of transactions, and our interpolate functions that fills the NaN value starts from the first index. Since there is no recorded, the interpolation can only being from the first recording of volume, in this case, row ID 11.\n",
    "\n",
    "You might say, why not interpolate backwards from the last index? This would not make sense for this data set as logically speaking, the volume of transactions recorded at the year 2021, would naturally be significantly higher than that of 1979. Interpolating the data backwards would give us highly inaccurate estimates of the missing values.\n",
    "\n",
    "The logical step here would be to simply drop the 11 rows."
   ]
  },
  {
   "cell_type": "code",
   "execution_count": 15,
   "id": "7f03d494",
   "metadata": {
    "scrolled": false
   },
   "outputs": [
    {
     "data": {
      "text/html": [
       "<div>\n",
       "<style scoped>\n",
       "    .dataframe tbody tr th:only-of-type {\n",
       "        vertical-align: middle;\n",
       "    }\n",
       "\n",
       "    .dataframe tbody tr th {\n",
       "        vertical-align: top;\n",
       "    }\n",
       "\n",
       "    .dataframe thead th {\n",
       "        text-align: right;\n",
       "    }\n",
       "</style>\n",
       "<table border=\"1\" class=\"dataframe\">\n",
       "  <thead>\n",
       "    <tr style=\"text-align: right;\">\n",
       "      <th></th>\n",
       "      <th>ID</th>\n",
       "      <th>Month</th>\n",
       "      <th>Year</th>\n",
       "      <th>Price</th>\n",
       "      <th>Open</th>\n",
       "      <th>High</th>\n",
       "      <th>Low</th>\n",
       "      <th>Vol</th>\n",
       "      <th>Change</th>\n",
       "    </tr>\n",
       "  </thead>\n",
       "  <tbody>\n",
       "    <tr>\n",
       "      <th>11</th>\n",
       "      <td>0</td>\n",
       "      <td>1</td>\n",
       "      <td>1980</td>\n",
       "      <td>681.5</td>\n",
       "      <td>562.5</td>\n",
       "      <td>875.0</td>\n",
       "      <td>558.0</td>\n",
       "      <td>179390.0</td>\n",
       "      <td>0.2772</td>\n",
       "    </tr>\n",
       "    <tr>\n",
       "      <th>12</th>\n",
       "      <td>1</td>\n",
       "      <td>2</td>\n",
       "      <td>1980</td>\n",
       "      <td>631.0</td>\n",
       "      <td>677.0</td>\n",
       "      <td>729.0</td>\n",
       "      <td>599.0</td>\n",
       "      <td>49350.0</td>\n",
       "      <td>-0.0741</td>\n",
       "    </tr>\n",
       "    <tr>\n",
       "      <th>13</th>\n",
       "      <td>2</td>\n",
       "      <td>3</td>\n",
       "      <td>1980</td>\n",
       "      <td>501.5</td>\n",
       "      <td>631.0</td>\n",
       "      <td>648.5</td>\n",
       "      <td>453.0</td>\n",
       "      <td>57000.0</td>\n",
       "      <td>-0.2052</td>\n",
       "    </tr>\n",
       "    <tr>\n",
       "      <th>14</th>\n",
       "      <td>3</td>\n",
       "      <td>4</td>\n",
       "      <td>1980</td>\n",
       "      <td>501.6</td>\n",
       "      <td>504.0</td>\n",
       "      <td>562.0</td>\n",
       "      <td>465.0</td>\n",
       "      <td>23190.0</td>\n",
       "      <td>0.0002</td>\n",
       "    </tr>\n",
       "    <tr>\n",
       "      <th>15</th>\n",
       "      <td>4</td>\n",
       "      <td>5</td>\n",
       "      <td>1980</td>\n",
       "      <td>545.2</td>\n",
       "      <td>490.6</td>\n",
       "      <td>552.0</td>\n",
       "      <td>478.0</td>\n",
       "      <td>25700.0</td>\n",
       "      <td>0.0869</td>\n",
       "    </tr>\n",
       "  </tbody>\n",
       "</table>\n",
       "</div>"
      ],
      "text/plain": [
       "    ID  Month  Year  Price   Open   High    Low       Vol  Change\n",
       "11   0      1  1980  681.5  562.5  875.0  558.0  179390.0  0.2772\n",
       "12   1      2  1980  631.0  677.0  729.0  599.0   49350.0 -0.0741\n",
       "13   2      3  1980  501.5  631.0  648.5  453.0   57000.0 -0.2052\n",
       "14   3      4  1980  501.6  504.0  562.0  465.0   23190.0  0.0002\n",
       "15   4      5  1980  545.2  490.6  552.0  478.0   25700.0  0.0869"
      ]
     },
     "execution_count": 15,
     "metadata": {},
     "output_type": "execute_result"
    }
   ],
   "source": [
    "monthly_df = monthly_df.dropna()\n",
    "\n",
    "#assign unique ID for each row\n",
    "monthly_df['ID'] = range(len(monthly_df))\n",
    "\n",
    "#rearrange columns\n",
    "arrange = [\"ID\",\"Month\",\"Year\",\"Price\",\"Open\",\"High\",\"Low\",\"Vol\",\"Change\" ]\n",
    "monthly_df = monthly_df.reindex(columns=arrange)\n",
    "\n",
    "monthly_df.head()"
   ]
  },
  {
   "cell_type": "markdown",
   "id": "31460915",
   "metadata": {},
   "source": [
    "Now prepping the \"Yearly_Gold.csv\". Only changes here needed are assigning a unique ID, and renaming of columns."
   ]
  },
  {
   "cell_type": "code",
   "execution_count": 16,
   "id": "58a896fe",
   "metadata": {
    "scrolled": false
   },
   "outputs": [
    {
     "data": {
      "text/html": [
       "<div>\n",
       "<style scoped>\n",
       "    .dataframe tbody tr th:only-of-type {\n",
       "        vertical-align: middle;\n",
       "    }\n",
       "\n",
       "    .dataframe tbody tr th {\n",
       "        vertical-align: top;\n",
       "    }\n",
       "\n",
       "    .dataframe thead th {\n",
       "        text-align: right;\n",
       "    }\n",
       "</style>\n",
       "<table border=\"1\" class=\"dataframe\">\n",
       "  <thead>\n",
       "    <tr style=\"text-align: right;\">\n",
       "      <th></th>\n",
       "      <th>ID</th>\n",
       "      <th>Year</th>\n",
       "      <th>Average</th>\n",
       "      <th>Year Open</th>\n",
       "      <th>Year High</th>\n",
       "      <th>Year Low</th>\n",
       "      <th>Year Close</th>\n",
       "      <th>Change</th>\n",
       "    </tr>\n",
       "  </thead>\n",
       "  <tbody>\n",
       "    <tr>\n",
       "      <th>0</th>\n",
       "      <td>0</td>\n",
       "      <td>1969</td>\n",
       "      <td>41.10</td>\n",
       "      <td>41.80</td>\n",
       "      <td>43.75</td>\n",
       "      <td>35.00</td>\n",
       "      <td>35.21</td>\n",
       "      <td>-0.1607</td>\n",
       "    </tr>\n",
       "    <tr>\n",
       "      <th>1</th>\n",
       "      <td>1</td>\n",
       "      <td>1970</td>\n",
       "      <td>35.96</td>\n",
       "      <td>35.13</td>\n",
       "      <td>39.19</td>\n",
       "      <td>34.78</td>\n",
       "      <td>37.38</td>\n",
       "      <td>0.0616</td>\n",
       "    </tr>\n",
       "    <tr>\n",
       "      <th>2</th>\n",
       "      <td>2</td>\n",
       "      <td>1971</td>\n",
       "      <td>40.80</td>\n",
       "      <td>37.33</td>\n",
       "      <td>43.90</td>\n",
       "      <td>37.33</td>\n",
       "      <td>43.50</td>\n",
       "      <td>0.1637</td>\n",
       "    </tr>\n",
       "    <tr>\n",
       "      <th>3</th>\n",
       "      <td>3</td>\n",
       "      <td>1972</td>\n",
       "      <td>58.17</td>\n",
       "      <td>43.73</td>\n",
       "      <td>70.00</td>\n",
       "      <td>43.73</td>\n",
       "      <td>64.70</td>\n",
       "      <td>0.4874</td>\n",
       "    </tr>\n",
       "    <tr>\n",
       "      <th>4</th>\n",
       "      <td>4</td>\n",
       "      <td>1973</td>\n",
       "      <td>97.12</td>\n",
       "      <td>64.99</td>\n",
       "      <td>127.00</td>\n",
       "      <td>64.10</td>\n",
       "      <td>112.25</td>\n",
       "      <td>0.7349</td>\n",
       "    </tr>\n",
       "  </tbody>\n",
       "</table>\n",
       "</div>"
      ],
      "text/plain": [
       "   ID  Year  Average  Year Open  Year High  Year Low  Year Close  Change\n",
       "0   0  1969    41.10      41.80      43.75     35.00       35.21 -0.1607\n",
       "1   1  1970    35.96      35.13      39.19     34.78       37.38  0.0616\n",
       "2   2  1971    40.80      37.33      43.90     37.33       43.50  0.1637\n",
       "3   3  1972    58.17      43.73      70.00     43.73       64.70  0.4874\n",
       "4   4  1973    97.12      64.99     127.00     64.10      112.25  0.7349"
      ]
     },
     "execution_count": 16,
     "metadata": {},
     "output_type": "execute_result"
    }
   ],
   "source": [
    "#rename columns\n",
    "yearly_df = yearly_df.rename(columns={\"Average\\nClosing Price\":\"Average\",\"Annual\\n% Change\":\"Change\"})\n",
    "\n",
    "#assign ID\n",
    "yearly_df['ID'] = range(len(yearly_df))\n",
    "\n",
    "#arrange columns\n",
    "cols = list(yearly_df.columns)\n",
    "cols = [cols[-1]] + cols[:-1]\n",
    "yearly_df = yearly_df[cols]\n",
    "\n",
    "yearly_df.head()"
   ]
  },
  {
   "cell_type": "markdown",
   "id": "5ed7728b",
   "metadata": {},
   "source": [
    "All three dataset have been normalized and converted in 1NF, where there following are satisfied:\n",
    "\n",
    "    - a single cell must not hold more than one value (atomicity)\n",
    "    - there must be a primary key for identification\n",
    "    - no duplicated rows or columns\n",
    "    - each column must have only one value for each row in the table"
   ]
  },
  {
   "cell_type": "markdown",
   "id": "6331fcf6",
   "metadata": {},
   "source": [
    "## 4 Statistical Analysis"
   ]
  },
  {
   "cell_type": "markdown",
   "id": "560d86c4",
   "metadata": {},
   "source": [
    "Our cleaned dataset can now be analyzed to provide statistical insights. These statistical insights removes unnecessary information and logs important data about our dataset in an succinct manner.\n",
    "\n",
    "These will include:\n",
    "\n",
    "    - measures of central tendency\n",
    "    - measures of spread\n",
    "    - type of distribution"
   ]
  },
  {
   "cell_type": "markdown",
   "id": "bfb1b63a",
   "metadata": {},
   "source": [
    "### 4. 1 Measures of central tendency\n",
    "\n",
    "> The mode, mean and median of the dataset. "
   ]
  },
  {
   "cell_type": "code",
   "execution_count": null,
   "id": "7fc85f4a",
   "metadata": {},
   "outputs": [],
   "source": [
    "import matplotlib.pyplot as plt\n",
    "import seaborn as sns"
   ]
  },
  {
   "cell_type": "code",
   "execution_count": 51,
   "id": "e2e1d032",
   "metadata": {
    "scrolled": true
   },
   "outputs": [
    {
     "name": "stdout",
     "output_type": "stream",
     "text": [
      "Gold Price Statistics 1979-2021\n"
     ]
    },
    {
     "data": {
      "text/html": [
       "<div>\n",
       "<style scoped>\n",
       "    .dataframe tbody tr th:only-of-type {\n",
       "        vertical-align: middle;\n",
       "    }\n",
       "\n",
       "    .dataframe tbody tr th {\n",
       "        vertical-align: top;\n",
       "    }\n",
       "\n",
       "    .dataframe thead th {\n",
       "        text-align: right;\n",
       "    }\n",
       "</style>\n",
       "<table border=\"1\" class=\"dataframe\">\n",
       "  <thead>\n",
       "    <tr style=\"text-align: right;\">\n",
       "      <th></th>\n",
       "      <th>Mode</th>\n",
       "      <th>Mean</th>\n",
       "      <th>Median</th>\n",
       "      <th>Standard Deviation</th>\n",
       "    </tr>\n",
       "  </thead>\n",
       "  <tbody>\n",
       "    <tr>\n",
       "      <th>Daily Price</th>\n",
       "      <td>382.30</td>\n",
       "      <td>909.824807</td>\n",
       "      <td>890.90</td>\n",
       "      <td>541.516040</td>\n",
       "    </tr>\n",
       "    <tr>\n",
       "      <th>Monthly Price</th>\n",
       "      <td>342.70</td>\n",
       "      <td>723.299107</td>\n",
       "      <td>419.20</td>\n",
       "      <td>498.075312</td>\n",
       "    </tr>\n",
       "    <tr>\n",
       "      <th>Yearly Price</th>\n",
       "      <td>35.96</td>\n",
       "      <td>591.265094</td>\n",
       "      <td>383.73</td>\n",
       "      <td>497.289713</td>\n",
       "    </tr>\n",
       "  </tbody>\n",
       "</table>\n",
       "</div>"
      ],
      "text/plain": [
       "                 Mode        Mean  Median  Standard Deviation\n",
       "Daily Price    382.30  909.824807  890.90          541.516040\n",
       "Monthly Price  342.70  723.299107  419.20          498.075312\n",
       "Yearly Price    35.96  591.265094  383.73          497.289713"
      ]
     },
     "execution_count": 51,
     "metadata": {},
     "output_type": "execute_result"
    }
   ],
   "source": [
    "#display mode mean and median of monthly and daily gold prices\n",
    "def measureCentralTendency(dataframe,column):\n",
    "    if column == 'Price':\n",
    "        measure_list = []\n",
    "        measure_list.append(dataframe['Price'].mode()[0])\n",
    "        measure_list.append(dataframe['Price'].mean())\n",
    "        measure_list.append(dataframe['Price'].median())\n",
    "        measure_list.append(dataframe['Price'].std())\n",
    "        return measure_list\n",
    "    if column == 'Average':\n",
    "        measure_list = []\n",
    "        measure_list.append(dataframe['Average'].mode()[0])\n",
    "        measure_list.append(dataframe['Average'].mean())\n",
    "        measure_list.append(dataframe['Average'].median())\n",
    "        measure_list.append(dataframe['Average'].std())\n",
    "        return measure_list\n",
    "\n",
    "\n",
    "getStatsList= [measureCentralTendency(daily_df,'Price'),measureCentralTendency(monthly_df,'Price'),\n",
    "               measureCentralTendency(yearly_df,'Average')]\n",
    "\n",
    "stats = pd.DataFrame(getStatsList, columns=[\"Mode\",\"Mean\",\"Median\",\"Standard Deviation\"],\n",
    "                     index=[\"Daily Price\",\"Monthly Price\",\"Yearly Price\"])\n",
    "print(\"Gold Price Statistics 1979-2021\")\n",
    "stats"
   ]
  },
  {
   "cell_type": "markdown",
   "id": "6fc72485",
   "metadata": {},
   "source": [
    "If we look at the daily average price of gold, we can see its around 909, with a standard deviation of 541. Why is the standard deviation so large? The standard deviation is the measure of spread against the mean. For gold prices, it makes sense as to why the sample values in the dataset, in this case the price, vary so much from the mean. Gold is an appreciating and holding asset that has been rising over the decades, meaning its value has been increasing, for the most part, linearly. So if the average daily price of gold has been around 909, having lower gold price value in the early 90s, and higher values in the 2000s when the asset appreciated, explains the high standard deviation against the mean."
   ]
  },
  {
   "cell_type": "markdown",
   "id": "6311db9e",
   "metadata": {},
   "source": [
    "### 4.2 Measures of Spread\n",
    "\n",
    "> Standard Deviation and Skewness"
   ]
  },
  {
   "cell_type": "code",
   "execution_count": 50,
   "id": "e499c205",
   "metadata": {
    "scrolled": false
   },
   "outputs": [
    {
     "data": {
      "image/png": "[encoded data removed]",
      "text/plain": [
       "<Figure size 640x480 with 1 Axes>"
      ]
     },
     "metadata": {},
     "output_type": "display_data"
    }
   ],
   "source": [
    "mean_price = daily_df['Price'].mean()\n",
    "std_dev_price = daily_df['Price'].std()\n",
    "\n",
    "#the mean as a horizontal line\n",
    "plt.axhline(mean_price, color='red', linestyle='dashed', linewidth=2, label='Mean Price')\n",
    "\n",
    "#the standard deviation as error bars\n",
    "plt.errorbar(0, mean_price, yerr=std_dev_price, fmt='o', color='blue', capsize=5, label='Standard Deviation')\n",
    "\n",
    "# Add labels and title\n",
    "plt.ylabel('Gold Price')\n",
    "plt.legend()\n",
    "\n",
    "plt.show()"
   ]
  },
  {
   "cell_type": "code",
   "execution_count": 66,
   "id": "0181aa37",
   "metadata": {
    "scrolled": false
   },
   "outputs": [
    {
     "data": {
      "image/png": "[encoded data removed]",
      "text/plain": [
       "<Figure size 640x480 with 1 Axes>"
      ]
     },
     "metadata": {},
     "output_type": "display_data"
    }
   ],
   "source": [
    "#box and whisker plot\n",
    "plt.boxplot(daily_df['Price'],vert=False)\n",
    "plt.title('Daily Gold')\n",
    "plt.show()"
   ]
  },
  {
   "cell_type": "markdown",
   "id": "b74f6f79",
   "metadata": {},
   "source": [
    "The minimum and maximum daily gold price range for the year 1994 to 2021, as seen above in the whiskers of the box plot."
   ]
  },
  {
   "cell_type": "code",
   "execution_count": 103,
   "id": "f2d6a965",
   "metadata": {
    "scrolled": false
   },
   "outputs": [
    {
     "data": {
      "image/png": "[encoded data removed]",
      "text/plain": [
       "<Figure size 640x480 with 1 Axes>"
      ]
     },
     "metadata": {},
     "output_type": "display_data"
    }
   ],
   "source": [
    "plt.hist(daily_df['Price'],color='green')\n",
    "plt.ylabel('Frequency')\n",
    "plt.xlabel('Daily Gold')\n",
    "plt.show()"
   ]
  },
  {
   "cell_type": "markdown",
   "id": "ec879a6b",
   "metadata": {},
   "source": [
    "Gold price was frequently hovered in the 250 to 500 price range."
   ]
  },
  {
   "cell_type": "markdown",
   "id": "4e66a809",
   "metadata": {},
   "source": [
    "**right skewered/positively skewered distribution of volume**"
   ]
  },
  {
   "cell_type": "code",
   "execution_count": 115,
   "id": "54288cfd",
   "metadata": {
    "scrolled": false
   },
   "outputs": [
    {
     "data": {
      "image/png": "[encoded data removed]",
      "text/plain": [
       "<Figure size 1200x600 with 2 Axes>"
      ]
     },
     "metadata": {},
     "output_type": "display_data"
    }
   ],
   "source": [
    "#daily and monthly volume histograms\n",
    "fig, axs = plt.subplots(1, 2,figsize=(12, 6))\n",
    "\n",
    "axs[1].hist(daily_df['Vol'])\n",
    "axs[0].hist(monthly_df['Vol'])\n",
    "plt.show()"
   ]
  },
  {
   "cell_type": "code",
   "execution_count": 45,
   "id": "4c2126ca",
   "metadata": {
    "scrolled": false
   },
   "outputs": [
    {
     "name": "stdout",
     "output_type": "stream",
     "text": [
      "Daily Volume Stats\n",
      "\n",
      "count      6886.000000\n",
      "mean       2202.091926\n",
      "std       10502.164473\n",
      "min           0.000000\n",
      "25%          20.000000\n",
      "50%          80.000000\n",
      "75%         357.500000\n",
      "max      242860.000000\n",
      "Name: Vol, dtype: float64 \n",
      "\n",
      "Monthly Volume Stats\n",
      "\n",
      "count       504.00000\n",
      "mean      20688.43254\n",
      "std       24645.10263\n",
      "min           0.00000\n",
      "25%        4150.00000\n",
      "50%       10990.00000\n",
      "75%       29020.00000\n",
      "max      179390.00000\n",
      "Name: Vol, dtype: float64\n"
     ]
    }
   ],
   "source": [
    "print(\"Daily Volume Stats\\n\")\n",
    "print(daily_df.Vol.describe(),\"\\n\")\n",
    "print(\"Monthly Volume Stats\\n\")\n",
    "print(monthly_df.Vol.describe())"
   ]
  },
  {
   "cell_type": "markdown",
   "id": "63575c7e",
   "metadata": {},
   "source": [
    "The volume gives us a more interesting description of the data's statistics. Most of the amount of volume of transactions occurs around the 0 to 25,000 range, with very slow increases in transactional volume. I would have expected the volume to increase in the upper ranges as well, when gold was more publicly adopted. The daily volume transaction data is right skewered. There are more data points with smaller transaction volumes, and fewer data points with larger transaction volumes.\n",
    "\n",
    "If we look at the mean and standard deviation of the daily volume, the relatively large standard deviation of 10502 suggests that the volume values vary widely from the mean."
   ]
  },
  {
   "cell_type": "markdown",
   "id": "043811c8",
   "metadata": {},
   "source": [
    "## 5 Visualisation"
   ]
  },
  {
   "cell_type": "code",
   "execution_count": 19,
   "id": "2029427c",
   "metadata": {
    "scrolled": false
   },
   "outputs": [
    {
     "data": {
      "image/png": "[encoded data removed]",
      "text/plain": [
       "<Figure size 700x1000 with 3 Axes>"
      ]
     },
     "metadata": {},
     "output_type": "display_data"
    }
   ],
   "source": [
    "#plot average gold yearly closing price\n",
    "fig, axs = plt.subplots(3,figsize=(7, 10))\n",
    "fig.tight_layout()\n",
    "\n",
    "\n",
    "axs[0].plot(yearly_df['Year'],yearly_df['Average'])\n",
    "axs[0].title.set_text('Yearly Closing Price')\n",
    "axs[1].plot(monthly_Dates_List,monthly_df['Price'])\n",
    "axs[1].title.set_text('Monthly Closing Price')\n",
    "axs[2].plot(daily_Dates_List,daily_df['Price'])\n",
    "axs[2].title.set_text('Daily Closing Price')"
   ]
  },
  {
   "cell_type": "markdown",
   "id": "77092311",
   "metadata": {},
   "source": [
    "#### Rise of gold price, starting from the 2000s"
   ]
  },
  {
   "cell_type": "markdown",
   "id": "fde19c1b",
   "metadata": {},
   "source": [
    "*The most important visualisation in viewing the historical gold price, as seen above, is a line chart*. We can see the yearly, monthly, and daily closing price of gold closely related, suggesting that the data has integrity and accuracy. We can see a bull run[6] that began from 2000, before ending the run with a 28% fall in 2013[7].\n",
    "\n",
    "We still have other variables and correlations that can help us visualize this dataset. Let visualize those as well."
   ]
  },
  {
   "cell_type": "code",
   "execution_count": 20,
   "id": "4ce15d01",
   "metadata": {
    "scrolled": false
   },
   "outputs": [
    {
     "data": {
      "image/png": "[encoded data removed]",
      "text/plain": [
       "<Figure size 640x480 with 1 Axes>"
      ]
     },
     "metadata": {},
     "output_type": "display_data"
    }
   ],
   "source": [
    "#difference between opening and closing price, monthly\n",
    "plt.plot(daily_Dates_List, daily_df['High'],color=\"red\",label=\"High\")\n",
    "plt.plot(daily_Dates_List, daily_df['Low'],color=\"green\",label=\"Low\")\n",
    "plt.legend()\n",
    "plt.title(\"Daily Highs & Lows\")\n",
    "plt.show()"
   ]
  },
  {
   "cell_type": "markdown",
   "id": "125faf9a",
   "metadata": {},
   "source": [
    "The green line shows the Low price of the gold for the day, whilst the red line in the back, highlights the high of the day. The close correlation between the daily high and lows can imply a tight bid-ask spread[8]. Which means gold was actively traded throughout the decades"
   ]
  },
  {
   "cell_type": "code",
   "execution_count": 21,
   "id": "7b457164",
   "metadata": {
    "scrolled": false
   },
   "outputs": [
    {
     "data": {
      "image/png": "[encoded data removed]",
      "text/plain": [
       "<Figure size 1500x500 with 1 Axes>"
      ]
     },
     "metadata": {},
     "output_type": "display_data"
    }
   ],
   "source": [
    "#plot monthly price change\n",
    "plt.figure(figsize=(15, 5))\n",
    "plt.plot(monthly_Dates_List, monthly_df['Change'],color=\"red\",label=\"High\")\n",
    "plt.show()"
   ]
  },
  {
   "cell_type": "markdown",
   "id": "91cb7e6e",
   "metadata": {},
   "source": [
    "From this dataset, we can concur that the price change in gold was slightly more volatile between the years of 1980 to 1985. The factors that could have increase the volatility of gold were mentioned the first section of the report, such as political instability and war. This is relevant to use as we can see the price change of gold near 2020 is low, suggesting a relatively stable period in the commodity's timeline. Our linear regression model later on should not deviate too much from the previous price's as it will not be in accordance with the change trend."
   ]
  },
  {
   "cell_type": "markdown",
   "id": "e637e3bd",
   "metadata": {},
   "source": [
    "## 6 Machine Learning"
   ]
  },
  {
   "cell_type": "markdown",
   "id": "33c668d1",
   "metadata": {},
   "source": [
    "This section will encompass the building of the linear regression model. We will be using the scikit-learn library for this. The daily gold price data will be used for our multi-linear regression model, as it has more entries, giving our model more data to train itself."
   ]
  },
  {
   "cell_type": "code",
   "execution_count": 22,
   "id": "e87c08f1",
   "metadata": {
    "scrolled": true
   },
   "outputs": [],
   "source": [
    "#import ML libraries\n",
    "from sklearn.model_selection import train_test_split\n",
    "from sklearn.linear_model import LinearRegression\n",
    "\n",
    "feature = daily_df[['Open']]\n",
    "label = daily_df['Price']\n",
    "\n",
    "X1, X2, y1, y2 = train_test_split(feature, label, test_size=0.2)"
   ]
  },
  {
   "cell_type": "code",
   "execution_count": 23,
   "id": "5bd6c64b",
   "metadata": {
    "scrolled": true
   },
   "outputs": [
    {
     "name": "stdout",
     "output_type": "stream",
     "text": [
      "[1.00371338]\n",
      "-0.5244041870764704\n"
     ]
    }
   ],
   "source": [
    "#train our model\n",
    "first_model = LinearRegression(fit_intercept=True)\n",
    "first_model.fit(X1,y1)\n",
    "\n",
    "#predict and print slope and interercept\n",
    "first_prediction = first_model.predict(X2)\n",
    "print(first_model.coef_)\n",
    "print(first_model.intercept_)"
   ]
  },
  {
   "cell_type": "code",
   "execution_count": 24,
   "id": "03497ccb",
   "metadata": {
    "scrolled": false
   },
   "outputs": [
    {
     "data": {
      "image/png": "[encoded data removed]",
      "text/plain": [
       "<Figure size 640x480 with 1 Axes>"
      ]
     },
     "metadata": {},
     "output_type": "display_data"
    }
   ],
   "source": [
    "plt.scatter(X1,y1,s=0.3)\n",
    "plt.plot(X2,first_prediction)\n",
    "plt.show()"
   ]
  },
  {
   "cell_type": "markdown",
   "id": "7603a098",
   "metadata": {},
   "source": [
    "As expected, looking at the comparison chart above that plots the training data of the opening price of the day against the closing price of gold for the day, the scatter points are very closely spaced together. This makes sense because the degree of change between gold's opening and closing price is very tight. The assets price is not volatile. Our model's prediction line closely fits the data, the plot above as as well the intercept printed above supports this. \n",
    "\n",
    "However, we cannot just use a single independent variable to predict the dependent variable because we will be missing our on too much additional information. The predicting the future price of gold solely on its previous opening price, whilst ignoring other important information of the trading such as its high and low price, and the training volume, returns an incomplete evaluation of the gold's data."
   ]
  },
  {
   "cell_type": "markdown",
   "id": "f1941208",
   "metadata": {},
   "source": [
    "We shall train a new model with more features."
   ]
  },
  {
   "cell_type": "code",
   "execution_count": 25,
   "id": "f4be096e",
   "metadata": {
    "scrolled": false
   },
   "outputs": [],
   "source": [
    "#split the dataset into training and testing\n",
    "X = daily_df[['Day', 'Month', 'Year','Open', 'High', 'Low', 'Vol', 'Change']]\n",
    "y = daily_df['Price']\n",
    "\n",
    "X_train,X_test,y_train,y_test = train_test_split(X,y,test_size=0.3)"
   ]
  },
  {
   "cell_type": "code",
   "execution_count": 26,
   "id": "3e08d667",
   "metadata": {
    "scrolled": false
   },
   "outputs": [
    {
     "data": {
      "text/plain": [
       "(6886, 8)"
      ]
     },
     "execution_count": 26,
     "metadata": {},
     "output_type": "execute_result"
    }
   ],
   "source": [
    "X.shape"
   ]
  },
  {
   "cell_type": "markdown",
   "id": "4c84861e",
   "metadata": {},
   "source": [
    "**The reason why [ 'Month', 'Day', 'Year','Open', 'High', 'Low', 'Vol', 'Change'], were chosen as the features are as follows:**\n",
    "\n",
    "If there are seasonal patterns in gold prices, incorporating the 'Day','Month;  information might help capture those\n",
    "trends. For example, there might be historical trends indicating that gold prices tend to rise during certain\n",
    "months due to increased demand during festive seasons or economic events\n",
    "    \n",
    "'Open', 'High', and 'Low' represent various price levels throughout the day. These features allows the model to consider the opening, highest, and lowest prices, which could be indicative of price trends.\n",
    "\n",
    "Trading volume can provide insights into market activity and liquidity. High trading volumes might be associated with certain price movements. Including volume as a feature allows the model to capture the relationship between trading activity and price changes.\n",
    "\n",
    "The change in percentage of the daily gold price can offer information about the direction of gold's price movements. It could help the model understand the gold 's momentum in the market.\n",
    "\n",
    "And our label will be the price of gold for the day."
   ]
  },
  {
   "cell_type": "code",
   "execution_count": 27,
   "id": "55bf218d",
   "metadata": {
    "scrolled": false
   },
   "outputs": [
    {
     "data": {
      "text/plain": [
       "LinearRegression()"
      ]
     },
     "execution_count": 27,
     "metadata": {},
     "output_type": "execute_result"
    }
   ],
   "source": [
    "#create our linear regression model and fit the data\n",
    "model = LinearRegression(fit_intercept=True)\n",
    "model.fit(X_train,y_train)"
   ]
  },
  {
   "cell_type": "code",
   "execution_count": 128,
   "id": "56d7edcb",
   "metadata": {
    "scrolled": false
   },
   "outputs": [
    {
     "data": {
      "text/plain": [
       "<AxesSubplot:xlabel='Price'>"
      ]
     },
     "execution_count": 128,
     "metadata": {},
     "output_type": "execute_result"
    },
    {
     "data": {
      "image/png": "[encoded data removed]",
      "text/plain": [
       "<Figure size 640x480 with 1 Axes>"
      ]
     },
     "metadata": {},
     "output_type": "display_data"
    }
   ],
   "source": [
    "#prediction time\n",
    "y_results = model.predict(X_test)\n",
    "\n",
    "#plot the fitted line\n",
    "sns.regplot(x=y_test, y=y_results, ci=None, color=\"b\",scatter_kws={'s':0.3})"
   ]
  },
  {
   "cell_type": "markdown",
   "id": "8288f974",
   "metadata": {},
   "source": [
    "The above seaborn plot shows a 2D plot of our multi features regression model. We can see the line of the predicted values, follow extremely closely to the test values of our train test split, almost to the point where they are both overlapping. Let us use the R2 score as well to check the fit of our model."
   ]
  },
  {
   "cell_type": "code",
   "execution_count": 29,
   "id": "048d9ab9",
   "metadata": {
    "scrolled": true
   },
   "outputs": [
    {
     "name": "stdout",
     "output_type": "stream",
     "text": [
      "Validation R2 score is: 0.998806488179294\n"
     ]
    }
   ],
   "source": [
    "from sklearn.metrics import r2_score\n",
    "\n",
    "print(\"Validation R2 score is:\",r2_score(y_test,y_results))"
   ]
  },
  {
   "cell_type": "markdown",
   "id": "2613ec44",
   "metadata": {},
   "source": [
    "Our R2 score of 99% seems to match our plotted fit of the model. If we look at the independant variables used such as the 'Open', 'High' and 'Low', it makes sense that the variables have a high predictive value of what the outcome dependant would be, in this case, the price of gold for that particular day.\n",
    "\n",
    "The variance of the y_test and y_results is very low, indicating the prediction results is near identical."
   ]
  },
  {
   "cell_type": "code",
   "execution_count": 30,
   "id": "4188c403",
   "metadata": {
    "scrolled": true
   },
   "outputs": [
    {
     "name": "stdout",
     "output_type": "stream",
     "text": [
      "mean absolute error(MAE): 6.486286724452451\n",
      "mean squared error(MSE): 348.23328624466524\n"
     ]
    }
   ],
   "source": [
    "from sklearn.metrics import mean_squared_error, mean_absolute_error \n",
    "\n",
    "print('mean absolute error(MAE):', mean_absolute_error(y_test, y_results)) \n",
    "print('mean squared error(MSE):', mean_squared_error(y_test, y_results)) "
   ]
  },
  {
   "cell_type": "markdown",
   "id": "574050eb",
   "metadata": {},
   "source": [
    "The mean absolute error(MAE) is defined as the sum of absolute/positive errors of all values. We can see the absolute error our of test data and the predicted values being off about 7, whilst the mean squared error is the sum of squared differences, the lower the better. "
   ]
  },
  {
   "cell_type": "markdown",
   "id": "66c9b835",
   "metadata": {},
   "source": [
    "## 7 Validation"
   ]
  },
  {
   "cell_type": "markdown",
   "id": "23fd1182",
   "metadata": {},
   "source": [
    "Lets validate our model to see its performance and score using cross validation."
   ]
  },
  {
   "cell_type": "code",
   "execution_count": 31,
   "id": "36719daa",
   "metadata": {
    "scrolled": false
   },
   "outputs": [
    {
     "data": {
      "text/plain": [
       "array([0.9847968 , 0.99453307, 0.99933722, 0.95103146, 0.99657334])"
      ]
     },
     "execution_count": 31,
     "metadata": {},
     "output_type": "execute_result"
    }
   ],
   "source": [
    "#import cross validation\n",
    "from sklearn.model_selection import cross_val_score\n",
    "\n",
    "cross_score = cross_val_score(model, X, y , cv = 5)\n",
    "cross_score"
   ]
  },
  {
   "cell_type": "code",
   "execution_count": 32,
   "id": "c174dd9b",
   "metadata": {
    "scrolled": false
   },
   "outputs": [
    {
     "name": "stdout",
     "output_type": "stream",
     "text": [
      "Cross validation total mean: 0.985\n",
      "Cross validation total deviation: 0.04\n"
     ]
    }
   ],
   "source": [
    "#python string formating\n",
    "print(\"Cross validation total mean: %.3f\" % cross_score.mean())\n",
    "print(\"Cross validation total deviation: %.2f\"%(cross_score.std()*2))"
   ]
  },
  {
   "cell_type": "markdown",
   "id": "66a04d91",
   "metadata": {},
   "source": [
    "The array return by cross_val_score is the score of the estimator for each one of the five sets of the cross validation[9]. We can see the score of each of the five sets, is very close to 1, which is the maximum score attainable. This score closely matches the initial `model.score` we did earlier, implying our model is returning a high mean accuracy."
   ]
  },
  {
   "cell_type": "markdown",
   "id": "4aa8ec16",
   "metadata": {},
   "source": [
    "We can see the total mean of the cross validations score is 0.985, with a deviation of +/- 0.04, meaning the range of each fold closer or further away from the mean. Our model continue to very accurately predict unseen data based off the seen, training data."
   ]
  },
  {
   "cell_type": "markdown",
   "id": "1846b636",
   "metadata": {},
   "source": [
    "To further add to the validation of a multiple linear regression model, i will be importing another model to do a comparison, to see if we achieve similar scores, or will another regression model gives us completely different readings.\n",
    "\n",
    "The model I have chosen is the Random Forest Regression Model. The reason is because this model uses averaging to improve the predictive accuracy and control over-fitting[10]."
   ]
  },
  {
   "cell_type": "code",
   "execution_count": 33,
   "id": "e72ccfa4",
   "metadata": {
    "scrolled": false
   },
   "outputs": [],
   "source": [
    "from sklearn.ensemble import RandomForestRegressor\n",
    "\n",
    "forest_Model = RandomForestRegressor(max_depth=5)\n",
    "\n",
    "#use cross validation on randomforest\n",
    "forest_score = cross_val_score(forest_Model,X,y,cv=5)\n",
    "\n",
    "forest_Model.fit(X_train,y_train)\n",
    "\n",
    "forest_prediction = forest_Model.predict(X_test)"
   ]
  },
  {
   "cell_type": "code",
   "execution_count": 34,
   "id": "1c6fec87",
   "metadata": {
    "scrolled": false
   },
   "outputs": [
    {
     "name": "stdout",
     "output_type": "stream",
     "text": [
      "Forest Cross validation total mean: 0.850\n",
      "Forest Cross validation total deviation: 0.33\n"
     ]
    }
   ],
   "source": [
    "#python string formating\n",
    "print(\"Forest Cross validation total mean: %.3f\" % forest_score.mean())\n",
    "print(\"Forest Cross validation total deviation: %.2f\"%(forest_score.std()*2))"
   ]
  },
  {
   "cell_type": "code",
   "execution_count": 35,
   "id": "d6057de1",
   "metadata": {
    "scrolled": false
   },
   "outputs": [
    {
     "data": {
      "image/png": "[encoded data removed]",
      "text/plain": [
       "<Figure size 500x700 with 1 Axes>"
      ]
     },
     "metadata": {},
     "output_type": "display_data"
    }
   ],
   "source": [
    "#visualize distributions\n",
    "sets = [\"Fold_1\",\"Fold_2\",\"Fold_3\",\"Fold_4\",\"Fold_5\"]\n",
    "plt.figure(figsize=(5, 7)) \n",
    "\n",
    "plt.bar(sets,cross_score.tolist(),label='Linear')\n",
    "plt.bar(sets,forest_score.tolist(),label='Random Forest')\n",
    "\n",
    "plt.ylabel(\"Score\") \n",
    "plt.legend(bbox_to_anchor=(1.0, 1.0)) \n",
    "plt.show()"
   ]
  },
  {
   "cell_type": "markdown",
   "id": "b0a0dbf9",
   "metadata": {},
   "source": [
    "Firstly, the forest cross validation score mean was 0.860 with a deviation of 0.29. Our linear model gave a better validation of  o.995 and 0.04 respectively. The score difference can also be visualized in the above bar chart, where we can seee the linear score in blue, outperforming significantly in the third fold. Thus we can conclude the validation of our linear regression model."
   ]
  },
  {
   "cell_type": "markdown",
   "id": "72893c31",
   "metadata": {},
   "source": [
    "## 8 Feature Engineering"
   ]
  },
  {
   "cell_type": "markdown",
   "id": "afde0436",
   "metadata": {},
   "source": [
    "Our models has already benefited from one of the feature engineering techniques described in the course, imputation of missing values.\n",
    "\n",
    "We have already done this in section 3, Data Preparation, where we used interpolate() to fill the missing values of our dataset. But in the implementation of the pipeline, we can call the SimpleImputer() to populate the missing values using the most frequent values or other strategies like mean or median.\n",
    "\n",
    "To ensure all our steps in building our regression model behaves appropriately and in order, we can implement a pipeline. As part of our data-processing pipeline, we will be standardizing our data first, before feeding it into our model. This is because our features have different magnitudes."
   ]
  },
  {
   "cell_type": "code",
   "execution_count": 36,
   "id": "67ecc7b5",
   "metadata": {
    "scrolled": false
   },
   "outputs": [],
   "source": [
    "from sklearn.preprocessing import StandardScaler\n",
    "from sklearn.impute import SimpleImputer\n",
    "\n",
    "#implement a data pipeline\n",
    "from sklearn.pipeline import make_pipeline\n",
    "\n",
    "#standardize and scale features\n",
    "linear_pipeline = make_pipeline(SimpleImputer(),StandardScaler(),LinearRegression())\n",
    "\n",
    "linear_pipeline.fit(X,y)\n",
    "\n",
    "y_predict = linear_pipeline.predict(X_test)"
   ]
  },
  {
   "cell_type": "markdown",
   "id": "f40fad27",
   "metadata": {},
   "source": [
    "The above cell shows the building of our linear model pipeline. When `linear_pipeline.fit(X,y)` is called, the features are passed into the SimpleImputer, to impute any missing values in the set. In is then passed into the StandardScaler(), which standardizes the data set. This is important as our data set has features of different scale. For exampele, the volume might range from \"0-100000\" while the daily price change in percentange might range from \"0.0% - 3.0%. The difference requires the feature to be standardize to aid in a better performing ML model."
   ]
  },
  {
   "cell_type": "markdown",
   "id": "e14b3bc4",
   "metadata": {},
   "source": [
    "## 10 Evaluation"
   ]
  },
  {
   "cell_type": "markdown",
   "id": "f7bb64ca",
   "metadata": {},
   "source": [
    "To close of this final section of the report, we shall evaluate the linear regression model built through the data pipeline against the validation random forest model.\n",
    "\n",
    "To evaluate, we will be **measuring the R^Square(R2) AND Root Mean Square Error(RMSE) of the model**, which is the root of the mean square error. The mean square error, as seen above prior to building the pipiline, measures the difference between the predicted versus the actual values, squares it, then returns the mean of all the samples in that set. \n",
    "\n",
    "We are using RMSE in conjuction with R2 because RMSE tells the distance of the predicted versus the actual, while R2 represents the proportion of variance (of y) that has been explained by the independent variables[11]. The lower RMSE score the better, the high the R2 score, the better.\n",
    "\n",
    "Both these make sense for evaluating the predicition of gold as we want to know how far off the the predict gold price is from the actual and how well does the predicted gold price stack against the actual price."
   ]
  },
  {
   "cell_type": "code",
   "execution_count": 37,
   "id": "b105bfaa",
   "metadata": {
    "scrolled": false
   },
   "outputs": [
    {
     "data": {
      "text/html": [
       "<div>\n",
       "<style scoped>\n",
       "    .dataframe tbody tr th:only-of-type {\n",
       "        vertical-align: middle;\n",
       "    }\n",
       "\n",
       "    .dataframe tbody tr th {\n",
       "        vertical-align: top;\n",
       "    }\n",
       "\n",
       "    .dataframe thead th {\n",
       "        text-align: right;\n",
       "    }\n",
       "</style>\n",
       "<table border=\"1\" class=\"dataframe\">\n",
       "  <thead>\n",
       "    <tr style=\"text-align: right;\">\n",
       "      <th></th>\n",
       "      <th>RMSE</th>\n",
       "      <th>R2</th>\n",
       "    </tr>\n",
       "  </thead>\n",
       "  <tbody>\n",
       "    <tr>\n",
       "      <th>Linear PipeLine</th>\n",
       "      <td>18.610377</td>\n",
       "      <td>0.998813</td>\n",
       "    </tr>\n",
       "    <tr>\n",
       "      <th>RandomForest</th>\n",
       "      <td>21.432371</td>\n",
       "      <td>0.998426</td>\n",
       "    </tr>\n",
       "  </tbody>\n",
       "</table>\n",
       "</div>"
      ],
      "text/plain": [
       "                      RMSE        R2\n",
       "Linear PipeLine  18.610377  0.998813\n",
       "RandomForest     21.432371  0.998426"
      ]
     },
     "execution_count": 37,
     "metadata": {},
     "output_type": "execute_result"
    }
   ],
   "source": [
    "#numerical evaluation\n",
    "modelNames = ['Linear PipeLine','RandomForest']\n",
    "col_names = ['RMSE','R2']\n",
    "score_cards = [[mean_squared_error(y_test,y_predict,squared=False),r2_score(y_test,y_predict)],\n",
    "               [mean_squared_error(y_test,forest_prediction,squared=False),r2_score(y_test,forest_prediction)]]\n",
    "\n",
    "eval_Table = pd.DataFrame(data=score_cards,index=modelNames,columns=col_names)\n",
    "eval_Table"
   ]
  },
  {
   "cell_type": "markdown",
   "id": "5177a58c",
   "metadata": {},
   "source": [
    "The above pandas dataframe shows the results. The linear model performed better in both measurement metrics."
   ]
  },
  {
   "cell_type": "markdown",
   "id": "1c621981",
   "metadata": {},
   "source": [
    "The contributions to the selected domain-specific area, in this case, financial markets, can help retail and even institutional investors decide how to manage the commodity gold, should it be in their portfolio. By using the linear regression model, they can get a prediction as to what the gold price will be in the near future, aiding in their decision to buy or sell, alongside other market indicators.\n",
    "\n",
    "The solution here is transferable to other domain-specific area in finance such as predicting stock price or the price of other commodities. For example, users can use the linear regression model to predict forex price's of their choice, aiding in investing/trading."
   ]
  },
  {
   "cell_type": "markdown",
   "id": "534bcbb2",
   "metadata": {},
   "source": [
    "## References\n",
    "\n",
    "[1] World Gold Council. (n.d.). Money and Gold. [online] Available at: https://www.gold.org/history-gold/gold-as-currency\n",
    "\n",
    "[2] ETF Database. (n.d.). Gold ETF List. [online] Available at: https://etfdb.com/etfs/commodity/gold/\n",
    "\n",
    "[3] Maxwell, T. (2022). Why You Should Buy Gold during Inflation. [online] www.cbsnews.com. Available at: https://www.cbsnews.com/news/why-you-should-buy-gold-during-inflation/ \n",
    "\n",
    "[4] Dataset : https://www.kaggle.com/datasets/nward7/gold-historical-datasets?select=Gold_Monthly.csv\n",
    "\n",
    "[5] Investing.com (2023). Investing.com - Stock Market Quotes & Financial News. [online] Investing.com. Available at: https://www.investing.com/.\n",
    "\n",
    "[6] Chen, J. (2019). Bull Market Definition. [online] Investopedia. Available at: https://www.investopedia.com/terms/b/bullmarket.asp.\n",
    "\n",
    "[7] Shumsky, T. (2013). Gold Falls 28% In 2013, Ends 12-Year Bull Run. Wall Street Journal. [online] 31 Dec. Available at: https://www.wsj.com/articles/SB10001424052702304591604579292321014055380\n",
    "\n",
    "[8] Investopedia. (n.d.). What Is a Bid-Ask Spread, and How Does It Work in Trading? [online] Available at: https://www.investopedia.com/terms/b/bid-askspread.asp#:~:text=In%20financial%20markets%2C%20a%20bid.\n",
    "\n",
    "[9] Scikit-learn.org. (2019). sklearn.model_selection.cross_val_score — scikit-learn 0.22 documentation. [online] Available at: https://scikit-learn.org/stable/modules/generated/sklearn.model_selection.cross_val_score.html.\n",
    "\n",
    "[10] scikit-learn (2018). 3.2.4.3.2. sklearn.ensemble.RandomForestRegressor — scikit-learn 0.20.3 documentation. [online] Scikit-learn.org. Available at: https://scikit-learn.org/stable/modules/generated/sklearn.ensemble.RandomForestRegressor.html.\n",
    "\n",
    "[11]scikit-learn. (n.d.). 3.3. Metrics and scoring: quantifying the quality of predictions. [online] Available at: https://scikit-learn.org/stable/modules/model_evaluation.html#r2-score"
   ]
  }
 ],
 "metadata": {
  "kernelspec": {
   "display_name": "Python 3 (ipykernel)",
   "language": "python",
   "name": "python3"
  },
  "language_info": {
   "codemirror_mode": {
    "name": "ipython",
    "version": 3
   },
   "file_extension": ".py",
   "mimetype": "text/x-python",
   "name": "python",
   "nbconvert_exporter": "python",
   "pygments_lexer": "ipython3",
   "version": "3.9.12"
  }
 },
 "nbformat": 4,
 "nbformat_minor": 5
}
