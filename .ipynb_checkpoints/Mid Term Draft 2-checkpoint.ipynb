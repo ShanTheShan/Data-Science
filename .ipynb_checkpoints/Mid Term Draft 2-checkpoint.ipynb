{
 "cells": [
  {
   "cell_type": "code",
   "execution_count": null,
   "id": "42864e7b",
   "metadata": {},
   "outputs": [],
   "source": [
    "https://data.world/data-ny-gov/8y5c-ebxg/workspace/file?filename=oil-and-gas-summary-production-data-1967-1999-1.csv\n",
    "\n",
    "https://data.ny.gov/Energy-Environment/Oil-and-Gas-Summary-Production-Data-1967-1999/8y5c-ebxg/about_data"
   ]
  }
 ],
 "metadata": {
  "kernelspec": {
   "display_name": "Python 3 (ipykernel)",
   "language": "python",
   "name": "python3"
  },
  "language_info": {
   "codemirror_mode": {
    "name": "ipython",
    "version": 3
   },
   "file_extension": ".py",
   "mimetype": "text/x-python",
   "name": "python",
   "nbconvert_exporter": "python",
   "pygments_lexer": "ipython3",
   "version": "3.9.12"
  }
 },
 "nbformat": 4,
 "nbformat_minor": 5
}
