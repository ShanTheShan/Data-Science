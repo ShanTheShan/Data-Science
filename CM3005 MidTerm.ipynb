{
 "cells": [
  {
   "cell_type": "markdown",
   "id": "1db0a66e",
   "metadata": {},
   "source": [
    "# <center>The Price of Gold<center>"
   ]
  },
  {
   "cell_type": "markdown",
   "id": "06de9153",
   "metadata": {},
   "source": [
    "## 1 Domain-specific area and objectives of the project \n",
    "\n",
    "The chosen domain for this report is financial markets, in particular, tracking one of the most popular commodity and a form of currency, **gold**.\n",
    "\n",
    "Gold has been used as a form of currency and a store of value for centuries[1]. Its historical significance as a medium of exchange as well as symbol of wealth has contributed to its enduring role in finance. Gold is actively traded on daily basis on various global exchanges. Traders buy and sell gold futures contracts to speculate on its future price movements.\n",
    "\n",
    "Gold is incorporated into various financial instruments, such as Exchange-Traded Funds (ETFs) and gold-backed securities[2]. These instruments allow commercial and retail investors to gain exposure to gold prices without physically owning the metal. It also helps to fight against inflation, as gold supply cannot be artificially inflated like fiat currencies[3].\n",
    "\n",
    "As well as being a financial instrument to invest in and generate wealth, gold is often considered a \"safe haven\" asset. During times of economic uncertainty or political instability, people tend to flee towards gold as a store of value. Why? Gold is perceived as a stable and reliable asset that can retain its worth in challenging economic conditions. It can be said that people's perception and ideologies towards gold contributes to the metal's value as well.\n",
    "\n",
    "**As of now, with global market instability, war, and inflation, determining where the price of gold will be in the near future can be a problem for both retail investor and institutions alike.**\n",
    "\n",
    "Now that we know what gold is and why people value it, we can understand why Machine Learning (ML) can come into place here.\n",
    "\n",
    "**A linear regression model can help us predict the future price of gold**. It can give investors an indicator of whether their asset will appreciate or depreciate in the coming future. It can also provide a general consensus of the public's view on gold, as declining gold prices could indicate a disinterest in gold as a commodity, as its demand may be dropping. *Though there are several factors the affect the price of gold*, using historical gold price data is a valid method of predicting its future price. There are already algorithms and trading bots being used by traders that utilize ML to make trades based of historical data.\n",
    "\n",
    "The objective of this project is to build a model that will give us a prediction to future gold prices, which can be use to aid in our decision-making process of whether to add gold to our investment portfolio, or to liquidate it, as well as visualizing the price change over the decades.\n",
    "\n",
    "The results of this project may offer both academic and practical insights into the precious metals markets."
   ]
  },
  {
   "cell_type": "markdown",
   "id": "5bd1496c",
   "metadata": {},
   "source": [
    "## 2 Dataset\n",
    "\n",
    "The dataset acquired to be used for this project comes from Kaggle[4]. The dataset comes in three CSV files that are zipped together. The file names are, \"Gold_Daily\", \"Gold_Monthly\", and \"Gold_Yearly\". The size of each files are 358KB, 23KB and 3KB, bringing the total size of the dataset to 384KB. The way the data was sourced, as stated on the Kaggle page, was from Investing.com[5], which is financial market website that also stores historical prices of tradable assets on the exchange.\n",
    "\n",
    "The three CSV files contains information such as the date of the historical gold price, its high, low, open, as well as its volume and change. The total number of columns for each file is 7, though its column headers are not identical. The date column is the 'date' of the gold on the exchange, the 'price' is its closing price for that day. The 'open' column is what the price of gold opened at during the start of the day, and the 'high' and 'low' is the the highest price and lowest price gold reached during the day\n",
    "\n",
    "This dataset is suitable to the objectives of the project, as it contains a linear trendline that can be implemented into a linear regression model. It highlights the chosen domain of financial markets, and the tracking price of one of the most popular commodities. It is also not in 1NF has it does not a have primary key, and also contains missing values."
   ]
  },
  {
   "cell_type": "markdown",
   "id": "3ef6112b",
   "metadata": {},
   "source": [
    "## 3 Data Preparation\n",
    "\n",
    "We will start processing the dataset here. The steps that will be undertaken here are:\n",
    "\n",
    "    - converting into appropriate datatype\n",
    "    - addressing missing values\n",
    "    - assigning a unique ID to the dataset\n",
    "    - transforming it into a 1NF dataset\n",
    "    \n",
    "These steps are needed to reduce redundancy, increase accuracy of the dataset, which will in turn help our linear regression model later on. We will be using the Pandas library for this."
   ]
  },
  {
   "cell_type": "code",
   "execution_count": 1,
   "id": "71e49594",
   "metadata": {},
   "outputs": [
    {
     "name": "stdout",
     "output_type": "stream",
     "text": [
      "        Date  Price   Open   High    Low    Vol  Change %\n",
      "0  06-Dec-94  375.8  375.6  376.5  375.1  0.99K    0.0008\n",
      "1  07-Dec-94  376.1  377.0  377.5  375.1  1.88K    0.0008\n",
      "2  08-Dec-94  376.6  375.3  376.7  374.8  0.48K    0.0013\n",
      "3  09-Dec-94  377.0  375.6  377.0  375.5  0.38K    0.0011\n",
      "4  12-Dec-94  377.5  376.8  377.8  376.5  0.07K    0.0013\n",
      "\n",
      "\n",
      "     Date  Price   Open   High    Low Vol.  Change %\n",
      "0  Feb 79  271.6  271.6  271.6  271.6    -    0.0727\n",
      "1  Mar 79  256.6  256.6  256.6  256.6    -   -0.0552\n",
      "2  Apr 79  262.4  262.4  262.4  262.4    -    0.0226\n",
      "3  May 79  290.7  290.7  290.7  290.7    -    0.1079\n",
      "4  Jun 79  293.5  293.5  293.5  293.5    -    0.0096\n",
      "\n",
      "\n",
      "   Year  Average\\nClosing Price  Year Open  Year High  Year Low  Year Close  \\\n",
      "0  1969                   41.10      41.80      43.75     35.00       35.21   \n",
      "1  1970                   35.96      35.13      39.19     34.78       37.38   \n",
      "2  1971                   40.80      37.33      43.90     37.33       43.50   \n",
      "3  1972                   58.17      43.73      70.00     43.73       64.70   \n",
      "4  1973                   97.12      64.99     127.00     64.10      112.25   \n",
      "\n",
      "   Annual\\n% Change  \n",
      "0           -0.1607  \n",
      "1            0.0616  \n",
      "2            0.1637  \n",
      "3            0.4874  \n",
      "4            0.7349  \n",
      "\n",
      "\n",
      "<class 'pandas.core.frame.DataFrame'>\n",
      "RangeIndex: 6886 entries, 0 to 6885\n",
      "Data columns (total 7 columns):\n",
      " #   Column    Non-Null Count  Dtype  \n",
      "---  ------    --------------  -----  \n",
      " 0   Date      6886 non-null   object \n",
      " 1   Price     6886 non-null   float64\n",
      " 2   Open      6886 non-null   float64\n",
      " 3   High      6886 non-null   float64\n",
      " 4   Low       6886 non-null   float64\n",
      " 5   Vol       6886 non-null   object \n",
      " 6   Change %  6886 non-null   float64\n",
      "dtypes: float64(5), object(2)\n",
      "memory usage: 376.7+ KB\n",
      "\n",
      "\n",
      "<class 'pandas.core.frame.DataFrame'>\n",
      "RangeIndex: 515 entries, 0 to 514\n",
      "Data columns (total 7 columns):\n",
      " #   Column    Non-Null Count  Dtype  \n",
      "---  ------    --------------  -----  \n",
      " 0   Date      515 non-null    object \n",
      " 1   Price     515 non-null    float64\n",
      " 2   Open      515 non-null    float64\n",
      " 3   High      515 non-null    float64\n",
      " 4   Low       515 non-null    float64\n",
      " 5   Vol.      515 non-null    object \n",
      " 6   Change %  515 non-null    float64\n",
      "dtypes: float64(5), object(2)\n",
      "memory usage: 28.3+ KB\n",
      "\n",
      "\n",
      "<class 'pandas.core.frame.DataFrame'>\n",
      "RangeIndex: 53 entries, 0 to 52\n",
      "Data columns (total 7 columns):\n",
      " #   Column                 Non-Null Count  Dtype  \n",
      "---  ------                 --------------  -----  \n",
      " 0   Year                   53 non-null     int64  \n",
      " 1   Average\n",
      "Closing Price  53 non-null     float64\n",
      " 2   Year Open              53 non-null     float64\n",
      " 3   Year High              53 non-null     float64\n",
      " 4   Year Low               53 non-null     float64\n",
      " 5   Year Close             53 non-null     float64\n",
      " 6   Annual\n",
      "% Change        53 non-null     float64\n",
      "dtypes: float64(6), int64(1)\n",
      "memory usage: 3.0 KB\n"
     ]
    }
   ],
   "source": [
    "import pandas as pd\n",
    "\n",
    "#load the 3 csv files into a dataframe\n",
    "daily_df = pd.read_csv('gold/Gold_Daily.csv')\n",
    "monthly_df = pd.read_csv('gold/Gold_Monthly.csv')\n",
    "yearly_df = pd.read_csv('gold/Gold_Yearly.csv')\n",
    "\n",
    "print(daily_df.head(5))\n",
    "print(\"\\n\")\n",
    "print(monthly_df.head(5))\n",
    "print(\"\\n\")\n",
    "print(yearly_df.head(5))\n",
    "print(\"\\n\")\n",
    "\n",
    "daily_df.info()\n",
    "print(\"\\n\")\n",
    "\n",
    "monthly_df.info()\n",
    "print(\"\\n\")\n",
    "\n",
    "yearly_df.info()"
   ]
  },
  {
   "cell_type": "markdown",
   "id": "7d36eb09",
   "metadata": {},
   "source": [
    "The above shows the format of the three CSV files, as well as the information of each dataframe. We can see they all contain 7 columns, with both float and object(string/mixed) data types. Lets first address the missing values for each file."
   ]
  },
  {
   "cell_type": "markdown",
   "id": "e2116a21",
   "metadata": {},
   "source": [
    "In the daily gold price csv file, the volume column has missing volume data denoted with the symbol '-'. Lets replace it with nan first. To do that, we will need to import numpy"
   ]
  },
  {
   "cell_type": "code",
   "execution_count": 2,
   "id": "7c858504",
   "metadata": {
    "scrolled": true
   },
   "outputs": [
    {
     "data": {
      "text/html": [
       "<div>\n",
       "<style scoped>\n",
       "    .dataframe tbody tr th:only-of-type {\n",
       "        vertical-align: middle;\n",
       "    }\n",
       "\n",
       "    .dataframe tbody tr th {\n",
       "        vertical-align: top;\n",
       "    }\n",
       "\n",
       "    .dataframe thead th {\n",
       "        text-align: right;\n",
       "    }\n",
       "</style>\n",
       "<table border=\"1\" class=\"dataframe\">\n",
       "  <thead>\n",
       "    <tr style=\"text-align: right;\">\n",
       "      <th></th>\n",
       "      <th>Date</th>\n",
       "      <th>Price</th>\n",
       "      <th>Open</th>\n",
       "      <th>High</th>\n",
       "      <th>Low</th>\n",
       "      <th>Vol</th>\n",
       "      <th>Change %</th>\n",
       "    </tr>\n",
       "  </thead>\n",
       "  <tbody>\n",
       "    <tr>\n",
       "      <th>10</th>\n",
       "      <td>20-Dec-94</td>\n",
       "      <td>381.8</td>\n",
       "      <td>381.8</td>\n",
       "      <td>382.3</td>\n",
       "      <td>381.4</td>\n",
       "      <td>0.02K</td>\n",
       "      <td>0.0069</td>\n",
       "    </tr>\n",
       "    <tr>\n",
       "      <th>11</th>\n",
       "      <td>21-Dec-94</td>\n",
       "      <td>381.6</td>\n",
       "      <td>382.0</td>\n",
       "      <td>382.0</td>\n",
       "      <td>381.5</td>\n",
       "      <td>0.03K</td>\n",
       "      <td>-0.0005</td>\n",
       "    </tr>\n",
       "    <tr>\n",
       "      <th>12</th>\n",
       "      <td>22-Dec-94</td>\n",
       "      <td>381.0</td>\n",
       "      <td>381.5</td>\n",
       "      <td>381.5</td>\n",
       "      <td>381.5</td>\n",
       "      <td>0.05K</td>\n",
       "      <td>-0.0016</td>\n",
       "    </tr>\n",
       "    <tr>\n",
       "      <th>13</th>\n",
       "      <td>23-Dec-94</td>\n",
       "      <td>380.4</td>\n",
       "      <td>381.0</td>\n",
       "      <td>381.0</td>\n",
       "      <td>380.4</td>\n",
       "      <td>0.02K</td>\n",
       "      <td>-0.0016</td>\n",
       "    </tr>\n",
       "    <tr>\n",
       "      <th>14</th>\n",
       "      <td>27-Dec-94</td>\n",
       "      <td>381.6</td>\n",
       "      <td>381.0</td>\n",
       "      <td>382.0</td>\n",
       "      <td>381.0</td>\n",
       "      <td>0.06K</td>\n",
       "      <td>0.0032</td>\n",
       "    </tr>\n",
       "    <tr>\n",
       "      <th>15</th>\n",
       "      <td>28-Dec-94</td>\n",
       "      <td>383.7</td>\n",
       "      <td>382.1</td>\n",
       "      <td>383.6</td>\n",
       "      <td>382.1</td>\n",
       "      <td>-</td>\n",
       "      <td>0.0055</td>\n",
       "    </tr>\n",
       "    <tr>\n",
       "      <th>16</th>\n",
       "      <td>29-Dec-94</td>\n",
       "      <td>382.7</td>\n",
       "      <td>382.7</td>\n",
       "      <td>382.7</td>\n",
       "      <td>382.7</td>\n",
       "      <td>-</td>\n",
       "      <td>-0.0026</td>\n",
       "    </tr>\n",
       "    <tr>\n",
       "      <th>17</th>\n",
       "      <td>30-Dec-94</td>\n",
       "      <td>383.1</td>\n",
       "      <td>383.1</td>\n",
       "      <td>383.1</td>\n",
       "      <td>383.1</td>\n",
       "      <td>-</td>\n",
       "      <td>0.0010</td>\n",
       "    </tr>\n",
       "    <tr>\n",
       "      <th>18</th>\n",
       "      <td>03-Jan-95</td>\n",
       "      <td>379.6</td>\n",
       "      <td>379.6</td>\n",
       "      <td>379.6</td>\n",
       "      <td>379.6</td>\n",
       "      <td>-</td>\n",
       "      <td>-0.0091</td>\n",
       "    </tr>\n",
       "    <tr>\n",
       "      <th>19</th>\n",
       "      <td>04-Jan-95</td>\n",
       "      <td>374.0</td>\n",
       "      <td>377.7</td>\n",
       "      <td>377.7</td>\n",
       "      <td>374.0</td>\n",
       "      <td>0.00K</td>\n",
       "      <td>-0.0148</td>\n",
       "    </tr>\n",
       "  </tbody>\n",
       "</table>\n",
       "</div>"
      ],
      "text/plain": [
       "         Date  Price   Open   High    Low    Vol  Change %\n",
       "10  20-Dec-94  381.8  381.8  382.3  381.4  0.02K    0.0069\n",
       "11  21-Dec-94  381.6  382.0  382.0  381.5  0.03K   -0.0005\n",
       "12  22-Dec-94  381.0  381.5  381.5  381.5  0.05K   -0.0016\n",
       "13  23-Dec-94  380.4  381.0  381.0  380.4  0.02K   -0.0016\n",
       "14  27-Dec-94  381.6  381.0  382.0  381.0  0.06K    0.0032\n",
       "15  28-Dec-94  383.7  382.1  383.6  382.1      -    0.0055\n",
       "16  29-Dec-94  382.7  382.7  382.7  382.7      -   -0.0026\n",
       "17  30-Dec-94  383.1  383.1  383.1  383.1      -    0.0010\n",
       "18  03-Jan-95  379.6  379.6  379.6  379.6      -   -0.0091\n",
       "19  04-Jan-95  374.0  377.7  377.7  374.0  0.00K   -0.0148"
      ]
     },
     "execution_count": 2,
     "metadata": {},
     "output_type": "execute_result"
    }
   ],
   "source": [
    "daily_df[10:20]"
   ]
  },
  {
   "cell_type": "code",
   "execution_count": 3,
   "id": "994dc2bd",
   "metadata": {
    "scrolled": true
   },
   "outputs": [
    {
     "data": {
      "text/html": [
       "<div>\n",
       "<style scoped>\n",
       "    .dataframe tbody tr th:only-of-type {\n",
       "        vertical-align: middle;\n",
       "    }\n",
       "\n",
       "    .dataframe tbody tr th {\n",
       "        vertical-align: top;\n",
       "    }\n",
       "\n",
       "    .dataframe thead th {\n",
       "        text-align: right;\n",
       "    }\n",
       "</style>\n",
       "<table border=\"1\" class=\"dataframe\">\n",
       "  <thead>\n",
       "    <tr style=\"text-align: right;\">\n",
       "      <th></th>\n",
       "      <th>Date</th>\n",
       "      <th>Price</th>\n",
       "      <th>Open</th>\n",
       "      <th>High</th>\n",
       "      <th>Low</th>\n",
       "      <th>Vol</th>\n",
       "      <th>Change %</th>\n",
       "    </tr>\n",
       "  </thead>\n",
       "  <tbody>\n",
       "  </tbody>\n",
       "</table>\n",
       "</div>"
      ],
      "text/plain": [
       "Empty DataFrame\n",
       "Columns: [Date, Price, Open, High, Low, Vol, Change %]\n",
       "Index: []"
      ]
     },
     "execution_count": 3,
     "metadata": {},
     "output_type": "execute_result"
    }
   ],
   "source": [
    "#identify duplicate rows\n",
    "duplicateRows_D = daily_df[daily_df.duplicated()]\n",
    "\n",
    "#view duplicate rows\n",
    "duplicateRows_D"
   ]
  },
  {
   "cell_type": "markdown",
   "id": "9cb6b625",
   "metadata": {},
   "source": [
    "No duplicate rows"
   ]
  },
  {
   "cell_type": "code",
   "execution_count": 4,
   "id": "bcb42a55",
   "metadata": {
    "scrolled": false
   },
   "outputs": [
    {
     "name": "stdout",
     "output_type": "stream",
     "text": [
      "         Date  Price   Open   High    Low    Vol  Change %\n",
      "10  20-Dec-94  381.8  381.8  382.3  381.4  0.02K    0.0069\n",
      "11  21-Dec-94  381.6  382.0  382.0  381.5  0.03K   -0.0005\n",
      "12  22-Dec-94  381.0  381.5  381.5  381.5  0.05K   -0.0016\n",
      "13  23-Dec-94  380.4  381.0  381.0  380.4  0.02K   -0.0016\n",
      "14  27-Dec-94  381.6  381.0  382.0  381.0  0.06K    0.0032\n",
      "15  28-Dec-94  383.7  382.1  383.6  382.1    NaN    0.0055\n",
      "16  29-Dec-94  382.7  382.7  382.7  382.7    NaN   -0.0026\n",
      "17  30-Dec-94  383.1  383.1  383.1  383.1    NaN    0.0010\n",
      "18  03-Jan-95  379.6  379.6  379.6  379.6    NaN   -0.0091\n",
      "19  04-Jan-95  374.0  377.7  377.7  374.0  0.00K   -0.0148\n"
     ]
    },
    {
     "data": {
      "text/plain": [
       "1302"
      ]
     },
     "execution_count": 4,
     "metadata": {},
     "output_type": "execute_result"
    }
   ],
   "source": [
    "import numpy as np\n",
    "#daily gold price\n",
    "#replace '-' with NaN\n",
    "daily_df['Vol'] = daily_df['Vol'].replace('-',np.nan) \n",
    "print(daily_df[10:20])\n",
    "\n",
    "#count number of nan values\n",
    "daily_df['Vol'].isna().sum()"
   ]
  },
  {
   "cell_type": "markdown",
   "id": "91bf80ba",
   "metadata": {},
   "source": [
    "We have replaced the missing values for the volume column with numpy NaN, and we can see that we have a total missing value count of 1302. We need to address this in our process of normalizing this dataset as it will improve data integrity and model accuracy.\n",
    "\n",
    "#### How to address missing values?\n",
    "Because out dataset is linear, we can use interpolate() to fill the missing values. The volume column denoted the volume traded in the session in thousands. We need to remove the \"K\" from the object and convert it to a float first, before interpolation can begin.\n",
    "\n",
    "For columns that are identical with the daily and monthly csv files, we will be making functions so that we can call upon them to clean the data set for the 'Gold_Monthly.csv' file"
   ]
  },
  {
   "cell_type": "code",
   "execution_count": 5,
   "id": "d76000a2",
   "metadata": {
    "scrolled": true
   },
   "outputs": [
    {
     "name": "stdout",
     "output_type": "stream",
     "text": [
      "         Date  Price   Open   High    Low   Vol  Change %\n",
      "10  20-Dec-94  381.8  381.8  382.3  381.4  20.0    0.0069\n",
      "11  21-Dec-94  381.6  382.0  382.0  381.5  30.0   -0.0005\n",
      "12  22-Dec-94  381.0  381.5  381.5  381.5  50.0   -0.0016\n",
      "13  23-Dec-94  380.4  381.0  381.0  380.4  20.0   -0.0016\n",
      "14  27-Dec-94  381.6  381.0  382.0  381.0  60.0    0.0032\n",
      "15  28-Dec-94  383.7  382.1  383.6  382.1   NaN    0.0055\n",
      "16  29-Dec-94  382.7  382.7  382.7  382.7   NaN   -0.0026\n",
      "17  30-Dec-94  383.1  383.1  383.1  383.1   NaN    0.0010\n",
      "18  03-Jan-95  379.6  379.6  379.6  379.6   NaN   -0.0091\n",
      "19  04-Jan-95  374.0  377.7  377.7  374.0   0.0   -0.0148\n"
     ]
    }
   ],
   "source": [
    "#function to remove 'K' string and conver to numeric\n",
    "def convertVol(dataframe):\n",
    "    #remove 'K' and convert to numeric\n",
    "    dataframe['Vol'] = dataframe['Vol'].str.replace('K', '').astype(float)\n",
    "    #multiply by 1000 to convert from 'K' (thousands) to actual numeric values\n",
    "    dataframe['Vol'] = dataframe['Vol'] * 1000\n",
    "    return dataframe['Vol']\n",
    "\n",
    "\n",
    "daily_df['Vol'] = convertVol(daily_df)\n",
    "\n",
    "print(daily_df[10:20])"
   ]
  },
  {
   "cell_type": "code",
   "execution_count": 6,
   "id": "5eb8eab6",
   "metadata": {
    "scrolled": true
   },
   "outputs": [
    {
     "name": "stdout",
     "output_type": "stream",
     "text": [
      "   ID  Day  Month  Year  Price   Open   High    Low     Vol  Change\n",
      "0   0    6     12  1994  375.8  375.6  376.5  375.1   990.0  0.0008\n",
      "1   1    7     12  1994  376.1  377.0  377.5  375.1  1880.0  0.0008\n",
      "2   2    8     12  1994  376.6  375.3  376.7  374.8   480.0  0.0013\n",
      "3   3    9     12  1994  377.0  375.6  377.0  375.5   380.0  0.0011\n",
      "4   4   12     12  1994  377.5  376.8  377.8  376.5    70.0  0.0013\n",
      "5   5   13     12  1994  377.6  379.5  379.5  378.0    40.0  0.0003\n",
      "6   6   14     12  1994  378.9  379.0  381.0  379.0    50.0  0.0034\n",
      "7   7   15     12  1994  380.2  379.9  380.3  378.9    80.0  0.0034\n",
      "8   8   16     12  1994  378.6  380.5  380.5  379.0    40.0 -0.0042\n",
      "9   9   19     12  1994  379.2  379.2  379.2  379.2    10.0  0.0016\n",
      "\n",
      "\n",
      "Count of missing values: 0\n"
     ]
    }
   ],
   "source": [
    "#interpolate the missing values, set the direction to forward, from first entry to last\n",
    "daily_df = daily_df.interpolate(method ='linear', limit_direction ='forward') \n",
    "\n",
    "#convert date to pandas datetime format\n",
    "daily_df['Date']=pd.to_datetime(daily_df['Date'],format='%d-%b-%y')\n",
    "\n",
    "#rename change column\n",
    "daily_df = daily_df.rename(columns={\"Change %\":\"Change\"})\n",
    "\n",
    "#add day month year columns and drop date\n",
    "daily_df['Day'] = daily_df['Date'].dt.day\n",
    "daily_df['Month'] = daily_df['Date'].dt.month\n",
    "daily_df['Year'] = daily_df['Date'].dt.year\n",
    "daily_df = daily_df.drop(columns=['Date'])\n",
    "\n",
    "#assign unique ID for each row\n",
    "daily_df['ID'] = range(len(daily_df))\n",
    "\n",
    "#rearrange columns\n",
    "arrange = [\"ID\",\"Day\",\"Month\",\"Year\",\"Price\",\"Open\",\"High\",\"Low\",\"Vol\",\"Change\" ]\n",
    "daily_df = daily_df.reindex(columns=arrange)\n",
    "\n",
    "print(daily_df[:10])\n",
    "print(\"\\n\")\n",
    "print(\"Count of missing values:\",daily_df['Vol'].isna().sum())"
   ]
  },
  {
   "cell_type": "markdown",
   "id": "dde058e4",
   "metadata": {},
   "source": [
    "We can see the volume column has been converted into a float, and the missing values has been interpolated. The total missing values is now zero. \n",
    "\n",
    "I have also converted the \"Date\" column to the appropriate pandas datetime object, as well as renaming the \"Change%\" column, which is the percent change of the previous and current (day, month, or year) price, to\" \"Change\", to remove the special characters. \n",
    "\n",
    "Finally, split the date time format into separate columns, so that we can feed the multiple linear regression model the dates of the each historical gold price later on, and assign a unique ID to each row.\n",
    "\n",
    "Lets now proceed with prepping the \"Gold_Monthly.csv\""
   ]
  },
  {
   "cell_type": "code",
   "execution_count": 7,
   "id": "1294a39a",
   "metadata": {},
   "outputs": [
    {
     "data": {
      "text/html": [
       "<div>\n",
       "<style scoped>\n",
       "    .dataframe tbody tr th:only-of-type {\n",
       "        vertical-align: middle;\n",
       "    }\n",
       "\n",
       "    .dataframe tbody tr th {\n",
       "        vertical-align: top;\n",
       "    }\n",
       "\n",
       "    .dataframe thead th {\n",
       "        text-align: right;\n",
       "    }\n",
       "</style>\n",
       "<table border=\"1\" class=\"dataframe\">\n",
       "  <thead>\n",
       "    <tr style=\"text-align: right;\">\n",
       "      <th></th>\n",
       "      <th>Date</th>\n",
       "      <th>Price</th>\n",
       "      <th>Open</th>\n",
       "      <th>High</th>\n",
       "      <th>Low</th>\n",
       "      <th>Vol.</th>\n",
       "      <th>Change %</th>\n",
       "    </tr>\n",
       "  </thead>\n",
       "  <tbody>\n",
       "  </tbody>\n",
       "</table>\n",
       "</div>"
      ],
      "text/plain": [
       "Empty DataFrame\n",
       "Columns: [Date, Price, Open, High, Low, Vol., Change %]\n",
       "Index: []"
      ]
     },
     "execution_count": 7,
     "metadata": {},
     "output_type": "execute_result"
    }
   ],
   "source": [
    "#identify duplicate rows\n",
    "duplicateRows = monthly_df[monthly_df.duplicated()]\n",
    "\n",
    "#view duplicate rows\n",
    "duplicateRows"
   ]
  },
  {
   "cell_type": "code",
   "execution_count": 8,
   "id": "963ceed5",
   "metadata": {},
   "outputs": [],
   "source": [
    "#rename columns\n",
    "monthly_df = monthly_df.rename(columns={\"Vol.\":\"Vol\",\"Change %\":\"Change\"})\n",
    "\n",
    "#replace '-' with NaN\n",
    "monthly_df['Vol'] = monthly_df['Vol'].replace('-',np.nan)\n",
    "\n",
    "#the 2nd last entry in monthly where the volume is in millions, we will convert that first\n",
    "monthly_df['Vol'] = monthly_df['Vol'].str.replace('M','')\n",
    "monthly_df.at[513,'Vol'] = 1.31 * 1000000\n",
    "\n",
    "#remoke 'K'and convert to float\n",
    "monthly_df['Vol'] = convertVol(monthly_df)"
   ]
  },
  {
   "cell_type": "code",
   "execution_count": 9,
   "id": "bfcbb3f6",
   "metadata": {},
   "outputs": [
    {
     "name": "stdout",
     "output_type": "stream",
     "text": [
      "    Price   Open   High    Low       Vol  Change  Month  Year\n",
      "0   271.6  271.6  271.6  271.6       NaN  0.0727      2  1979\n",
      "1   256.6  256.6  256.6  256.6       NaN -0.0552      3  1979\n",
      "2   262.4  262.4  262.4  262.4       NaN  0.0226      4  1979\n",
      "3   290.7  290.7  290.7  290.7       NaN  0.1079      5  1979\n",
      "4   293.5  293.5  293.5  293.5       NaN  0.0096      6  1979\n",
      "5   297.3  297.3  297.3  297.3       NaN  0.0129      7  1979\n",
      "6   326.7  326.7  326.7  326.7       NaN  0.0989      8  1979\n",
      "7   404.5  404.5  404.5  404.5       NaN  0.2381      9  1979\n",
      "8   385.7  385.7  385.7  385.7       NaN -0.0465     10  1979\n",
      "9   419.1  396.5  421.0  390.0       NaN  0.0866     11  1979\n",
      "10  533.6  430.5  534.5  424.0       NaN  0.2732     12  1979\n",
      "11  681.5  562.5  875.0  558.0  179390.0  0.2772      1  1980\n",
      "12  631.0  677.0  729.0  599.0   49350.0 -0.0741      2  1980\n",
      "13  501.5  631.0  648.5  453.0   57000.0 -0.2052      3  1980\n",
      "14  501.6  504.0  562.0  465.0   23190.0  0.0002      4  1980\n",
      "15  545.2  490.6  552.0  478.0   25700.0  0.0869      5  1980\n",
      "16  647.4  567.0  658.5  550.0   26510.0  0.1875      6  1980\n",
      "17  619.7  662.9  691.0  604.0   51300.0 -0.0428      7  1980\n",
      "18  635.0  620.0  649.0  600.0   14270.0  0.0247      8  1980\n",
      "19  671.5  639.7  727.0  635.5   48930.0  0.0575      9  1980\n",
      "\n",
      "\n",
      "Count of missing values: 11\n"
     ]
    }
   ],
   "source": [
    "#fill missing values\n",
    "monthly_df = monthly_df.interpolate(method ='linear', limit_direction ='forward') \n",
    "\n",
    "#get pandas date time\n",
    "monthly_df['Date']=pd.to_datetime(monthly_df['Date'],format='%b %y')\n",
    "#month and year columns\n",
    "monthly_df['Month'] = monthly_df['Date'].dt.month\n",
    "monthly_df['Year'] = monthly_df['Date'].dt.year\n",
    "#drop original date col\n",
    "monthly_df = monthly_df.drop(columns=['Date'])\n",
    "\n",
    "print(monthly_df[0:20])\n",
    "print(\"\\n\")\n",
    "print(\"Count of missing values:\",monthly_df['Vol'].isna().sum())"
   ]
  },
  {
   "cell_type": "markdown",
   "id": "16781b7c",
   "metadata": {},
   "source": [
    "Looking at the above, we can see our data processing for the \"Monthly_Gold.csv\" file gave us 11 NaN values. This is because, originally, the first 11 rows had no recordings of the monthly volume of transactions, and our interpolate functions that fills the NaN value starts from the first index. Since there is no recorded, the interpolation can only being from the first recording of volume, in this case, row ID 11.\n",
    "\n",
    "You might say, why not interpolate backwards from the last index? This would not make sense for this data set as logically speaking, the volume of transactions recorded at the year 2021, would naturally be significantly higher than that of 1979. Interpolating the data backwards would give us highly inaccurate estimates of the missing values.\n",
    "\n",
    "The logical step here would be to simply drop the 11 rows."
   ]
  },
  {
   "cell_type": "code",
   "execution_count": 10,
   "id": "7f03d494",
   "metadata": {
    "scrolled": true
   },
   "outputs": [
    {
     "data": {
      "text/html": [
       "<div>\n",
       "<style scoped>\n",
       "    .dataframe tbody tr th:only-of-type {\n",
       "        vertical-align: middle;\n",
       "    }\n",
       "\n",
       "    .dataframe tbody tr th {\n",
       "        vertical-align: top;\n",
       "    }\n",
       "\n",
       "    .dataframe thead th {\n",
       "        text-align: right;\n",
       "    }\n",
       "</style>\n",
       "<table border=\"1\" class=\"dataframe\">\n",
       "  <thead>\n",
       "    <tr style=\"text-align: right;\">\n",
       "      <th></th>\n",
       "      <th>ID</th>\n",
       "      <th>Month</th>\n",
       "      <th>Year</th>\n",
       "      <th>Price</th>\n",
       "      <th>Open</th>\n",
       "      <th>High</th>\n",
       "      <th>Low</th>\n",
       "      <th>Vol</th>\n",
       "      <th>Change</th>\n",
       "    </tr>\n",
       "  </thead>\n",
       "  <tbody>\n",
       "    <tr>\n",
       "      <th>11</th>\n",
       "      <td>0</td>\n",
       "      <td>1</td>\n",
       "      <td>1980</td>\n",
       "      <td>681.5</td>\n",
       "      <td>562.5</td>\n",
       "      <td>875.0</td>\n",
       "      <td>558.0</td>\n",
       "      <td>179390.0</td>\n",
       "      <td>0.2772</td>\n",
       "    </tr>\n",
       "    <tr>\n",
       "      <th>12</th>\n",
       "      <td>1</td>\n",
       "      <td>2</td>\n",
       "      <td>1980</td>\n",
       "      <td>631.0</td>\n",
       "      <td>677.0</td>\n",
       "      <td>729.0</td>\n",
       "      <td>599.0</td>\n",
       "      <td>49350.0</td>\n",
       "      <td>-0.0741</td>\n",
       "    </tr>\n",
       "    <tr>\n",
       "      <th>13</th>\n",
       "      <td>2</td>\n",
       "      <td>3</td>\n",
       "      <td>1980</td>\n",
       "      <td>501.5</td>\n",
       "      <td>631.0</td>\n",
       "      <td>648.5</td>\n",
       "      <td>453.0</td>\n",
       "      <td>57000.0</td>\n",
       "      <td>-0.2052</td>\n",
       "    </tr>\n",
       "    <tr>\n",
       "      <th>14</th>\n",
       "      <td>3</td>\n",
       "      <td>4</td>\n",
       "      <td>1980</td>\n",
       "      <td>501.6</td>\n",
       "      <td>504.0</td>\n",
       "      <td>562.0</td>\n",
       "      <td>465.0</td>\n",
       "      <td>23190.0</td>\n",
       "      <td>0.0002</td>\n",
       "    </tr>\n",
       "    <tr>\n",
       "      <th>15</th>\n",
       "      <td>4</td>\n",
       "      <td>5</td>\n",
       "      <td>1980</td>\n",
       "      <td>545.2</td>\n",
       "      <td>490.6</td>\n",
       "      <td>552.0</td>\n",
       "      <td>478.0</td>\n",
       "      <td>25700.0</td>\n",
       "      <td>0.0869</td>\n",
       "    </tr>\n",
       "  </tbody>\n",
       "</table>\n",
       "</div>"
      ],
      "text/plain": [
       "    ID  Month  Year  Price   Open   High    Low       Vol  Change\n",
       "11   0      1  1980  681.5  562.5  875.0  558.0  179390.0  0.2772\n",
       "12   1      2  1980  631.0  677.0  729.0  599.0   49350.0 -0.0741\n",
       "13   2      3  1980  501.5  631.0  648.5  453.0   57000.0 -0.2052\n",
       "14   3      4  1980  501.6  504.0  562.0  465.0   23190.0  0.0002\n",
       "15   4      5  1980  545.2  490.6  552.0  478.0   25700.0  0.0869"
      ]
     },
     "execution_count": 10,
     "metadata": {},
     "output_type": "execute_result"
    }
   ],
   "source": [
    "monthly_df = monthly_df.dropna()\n",
    "\n",
    "#assign unique ID for each row\n",
    "monthly_df['ID'] = range(len(monthly_df))\n",
    "\n",
    "#rearrange columns\n",
    "arrange = [\"ID\",\"Month\",\"Year\",\"Price\",\"Open\",\"High\",\"Low\",\"Vol\",\"Change\" ]\n",
    "monthly_df = monthly_df.reindex(columns=arrange)\n",
    "\n",
    "monthly_df.head()"
   ]
  },
  {
   "cell_type": "markdown",
   "id": "31460915",
   "metadata": {},
   "source": [
    "Now prepping the \"Yearly_Gold.csv\". Only changes here needed are assigning a unique ID, and renaming of columns."
   ]
  },
  {
   "cell_type": "code",
   "execution_count": 11,
   "id": "58a896fe",
   "metadata": {
    "scrolled": true
   },
   "outputs": [
    {
     "data": {
      "text/html": [
       "<div>\n",
       "<style scoped>\n",
       "    .dataframe tbody tr th:only-of-type {\n",
       "        vertical-align: middle;\n",
       "    }\n",
       "\n",
       "    .dataframe tbody tr th {\n",
       "        vertical-align: top;\n",
       "    }\n",
       "\n",
       "    .dataframe thead th {\n",
       "        text-align: right;\n",
       "    }\n",
       "</style>\n",
       "<table border=\"1\" class=\"dataframe\">\n",
       "  <thead>\n",
       "    <tr style=\"text-align: right;\">\n",
       "      <th></th>\n",
       "      <th>ID</th>\n",
       "      <th>Year</th>\n",
       "      <th>Average</th>\n",
       "      <th>Year Open</th>\n",
       "      <th>Year High</th>\n",
       "      <th>Year Low</th>\n",
       "      <th>Year Close</th>\n",
       "      <th>Change</th>\n",
       "    </tr>\n",
       "  </thead>\n",
       "  <tbody>\n",
       "    <tr>\n",
       "      <th>0</th>\n",
       "      <td>0</td>\n",
       "      <td>1969</td>\n",
       "      <td>41.10</td>\n",
       "      <td>41.80</td>\n",
       "      <td>43.75</td>\n",
       "      <td>35.00</td>\n",
       "      <td>35.21</td>\n",
       "      <td>-0.1607</td>\n",
       "    </tr>\n",
       "    <tr>\n",
       "      <th>1</th>\n",
       "      <td>1</td>\n",
       "      <td>1970</td>\n",
       "      <td>35.96</td>\n",
       "      <td>35.13</td>\n",
       "      <td>39.19</td>\n",
       "      <td>34.78</td>\n",
       "      <td>37.38</td>\n",
       "      <td>0.0616</td>\n",
       "    </tr>\n",
       "    <tr>\n",
       "      <th>2</th>\n",
       "      <td>2</td>\n",
       "      <td>1971</td>\n",
       "      <td>40.80</td>\n",
       "      <td>37.33</td>\n",
       "      <td>43.90</td>\n",
       "      <td>37.33</td>\n",
       "      <td>43.50</td>\n",
       "      <td>0.1637</td>\n",
       "    </tr>\n",
       "    <tr>\n",
       "      <th>3</th>\n",
       "      <td>3</td>\n",
       "      <td>1972</td>\n",
       "      <td>58.17</td>\n",
       "      <td>43.73</td>\n",
       "      <td>70.00</td>\n",
       "      <td>43.73</td>\n",
       "      <td>64.70</td>\n",
       "      <td>0.4874</td>\n",
       "    </tr>\n",
       "    <tr>\n",
       "      <th>4</th>\n",
       "      <td>4</td>\n",
       "      <td>1973</td>\n",
       "      <td>97.12</td>\n",
       "      <td>64.99</td>\n",
       "      <td>127.00</td>\n",
       "      <td>64.10</td>\n",
       "      <td>112.25</td>\n",
       "      <td>0.7349</td>\n",
       "    </tr>\n",
       "  </tbody>\n",
       "</table>\n",
       "</div>"
      ],
      "text/plain": [
       "   ID  Year  Average  Year Open  Year High  Year Low  Year Close  Change\n",
       "0   0  1969    41.10      41.80      43.75     35.00       35.21 -0.1607\n",
       "1   1  1970    35.96      35.13      39.19     34.78       37.38  0.0616\n",
       "2   2  1971    40.80      37.33      43.90     37.33       43.50  0.1637\n",
       "3   3  1972    58.17      43.73      70.00     43.73       64.70  0.4874\n",
       "4   4  1973    97.12      64.99     127.00     64.10      112.25  0.7349"
      ]
     },
     "execution_count": 11,
     "metadata": {},
     "output_type": "execute_result"
    }
   ],
   "source": [
    "#rename columns\n",
    "yearly_df = yearly_df.rename(columns={\"Average\\nClosing Price\":\"Average\",\"Annual\\n% Change\":\"Change\"})\n",
    "\n",
    "#assign ID\n",
    "yearly_df['ID'] = range(len(yearly_df))\n",
    "\n",
    "#arrange columns\n",
    "cols = list(yearly_df.columns)\n",
    "cols = [cols[-1]] + cols[:-1]\n",
    "yearly_df = yearly_df[cols]\n",
    "\n",
    "yearly_df.head()"
   ]
  },
  {
   "cell_type": "markdown",
   "id": "5ed7728b",
   "metadata": {},
   "source": [
    "All three dataset have been normalized and converted in 1NF, where there following are satisfied:\n",
    "\n",
    "    - a single cell must not hold more than one value (atomicity)\n",
    "    - there must be a primary key for identification\n",
    "    - no duplicated rows or columns\n",
    "    - each column must have only one value for each row in the table"
   ]
  },
  {
   "cell_type": "markdown",
   "id": "6331fcf6",
   "metadata": {},
   "source": [
    "## 4 Statistical Analysis"
   ]
  },
  {
   "cell_type": "markdown",
   "id": "560d86c4",
   "metadata": {},
   "source": [
    "Our cleaned dataset can now be analyzed to provide statistical insights. These statistical insights removes unnecessary information and logs important data about our dataset in an succinct manner.\n",
    "\n",
    "These will include:\n",
    "\n",
    "    - measures of central tendency\n",
    "    - measures of spread\n",
    "    - type of distribution"
   ]
  },
  {
   "cell_type": "markdown",
   "id": "bfb1b63a",
   "metadata": {},
   "source": [
    "Measures of central tendency is the mode, mean and median of a dataset."
   ]
  },
  {
   "cell_type": "code",
   "execution_count": 18,
   "id": "e2e1d032",
   "metadata": {
    "scrolled": false
   },
   "outputs": [
    {
     "data": {
      "text/html": [
       "<div>\n",
       "<style scoped>\n",
       "    .dataframe tbody tr th:only-of-type {\n",
       "        vertical-align: middle;\n",
       "    }\n",
       "\n",
       "    .dataframe tbody tr th {\n",
       "        vertical-align: top;\n",
       "    }\n",
       "\n",
       "    .dataframe thead th {\n",
       "        text-align: right;\n",
       "    }\n",
       "</style>\n",
       "<table border=\"1\" class=\"dataframe\">\n",
       "  <thead>\n",
       "    <tr style=\"text-align: right;\">\n",
       "      <th></th>\n",
       "      <th>Mode</th>\n",
       "      <th>Mean</th>\n",
       "      <th>Median</th>\n",
       "    </tr>\n",
       "  </thead>\n",
       "  <tbody>\n",
       "    <tr>\n",
       "      <th>Daily Price</th>\n",
       "      <td>382.3</td>\n",
       "      <td>909.824807</td>\n",
       "      <td>890.9</td>\n",
       "    </tr>\n",
       "    <tr>\n",
       "      <th>Monthly Price</th>\n",
       "      <td>342.7</td>\n",
       "      <td>723.299107</td>\n",
       "      <td>419.2</td>\n",
       "    </tr>\n",
       "  </tbody>\n",
       "</table>\n",
       "</div>"
      ],
      "text/plain": [
       "                Mode        Mean  Median\n",
       "Daily Price    382.3  909.824807   890.9\n",
       "Monthly Price  342.7  723.299107   419.2"
      ]
     },
     "execution_count": 18,
     "metadata": {},
     "output_type": "execute_result"
    }
   ],
   "source": [
    "#display mode mean and median of monthly and daily gold prices\n",
    "def measureCentralTendency(dataframe):\n",
    "    measure_list = []\n",
    "    measure_list.append(dataframe['Price'].mode()[0])\n",
    "    measure_list.append(dataframe['Price'].mean())\n",
    "    measure_list.append(dataframe['Price'].median())\n",
    "    return measure_list\n",
    "\n",
    "getStatsList= [measureCentralTendency(daily_df),measureCentralTendency(monthly_df)]\n",
    "\n",
    "stats = pd.DataFrame(getStatsList, columns=[\"Mode\",\"Mean\",\"Median\"],index=[\"Daily Price\",\"Monthly Price\"])\n",
    "stats"
   ]
  },
  {
   "cell_type": "markdown",
   "id": "b097536d",
   "metadata": {},
   "source": [
    "Looking at the above dataframe, we can see daily and monthly mode,mean, and median price of gold from 1994 to 2021."
   ]
  },
  {
   "cell_type": "markdown",
   "id": "534bcbb2",
   "metadata": {},
   "source": [
    "## References\n",
    "\n",
    "[1] World Gold Council. (n.d.). Money and Gold. [online] Available at: https://www.gold.org/history-gold/gold-as-currency\n",
    "\n",
    "[2] ETF Database. (n.d.). Gold ETF List. [online] Available at: https://etfdb.com/etfs/commodity/gold/\n",
    "\n",
    "[3] Maxwell, T. (2022). Why You Should Buy Gold during Inflation. [online] www.cbsnews.com. Available at: https://www.cbsnews.com/news/why-you-should-buy-gold-during-inflation/ \n",
    "\n",
    "[4] Dataset : https://www.kaggle.com/datasets/nward7/gold-historical-datasets?select=Gold_Monthly.csv\n",
    "\n",
    "[5] Investing.com (2023). Investing.com - Stock Market Quotes & Financial News. [online] Investing.com. Available at: https://www.investing.com/."
   ]
  }
 ],
 "metadata": {
  "kernelspec": {
   "display_name": "Python 3 (ipykernel)",
   "language": "python",
   "name": "python3"
  },
  "language_info": {
   "codemirror_mode": {
    "name": "ipython",
    "version": 3
   },
   "file_extension": ".py",
   "mimetype": "text/x-python",
   "name": "python",
   "nbconvert_exporter": "python",
   "pygments_lexer": "ipython3",
   "version": "3.9.12"
  }
 },
 "nbformat": 4,
 "nbformat_minor": 5
}
