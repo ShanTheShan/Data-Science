{
 "cells": [
  {
   "cell_type": "markdown",
   "id": "84686b94",
   "metadata": {},
   "source": [
    "# <center>Financial News Sentiment Analysis:  Supervised Machine Learning versus BERT</center>"
   ]
  },
  {
   "cell_type": "markdown",
   "id": "ccb7178c",
   "metadata": {},
   "source": [
    "# 1 Problem Area\n",
    "\n",
    "The area of industry that I have chosen to apply natural language processing (NLP) text classification, in particular, sentiment anaylsis, is the financial sector. The challenge of sentiment analysis of financial market news lies at the intersection of NLP and financial analysis. It addresses the need to extract actionable insights from the vast amount of textual data generated daily in financial markets. Solving this problem is crucial for retail and institutional investors and traders who rely on timely and accurate information regarding the market's sentiment, in order to make informed decisions on their investments and trades.\n",
    "\n",
    "One of the primary difficulties in this domain is the complexity and ambiguity of financial language. Stock market news articles for example, often contain nuanced sentiments, speculative language, and domain and region specific terminology that can be challenging for sentiment analysis models. For instance, words like \"bullish\" and \"bearish\", carry different meanings depending on context. Understanding and classifying financial news sentiment is important as research has shown there is a link between financial news and stock volatility[1].\n",
    "\n",
    "To tackle this challenge, researchers and practitioners have developed various text classification methods that leverage machine learning and NLP techniques. One of the key approaches is sentiment analysis, which aims to classify text into positive, negative, or neutral sentiments based on the underlying emotions expressed.\n",
    "\n",
    "Prior work in this area has laid the foundation for sentiment analysis in financial texts. Researchers have explored different features and algorithms to improve sentiment classification accuracy. For example, sentiment lexicons specific to financial terms have been developed to enhance the understanding of sentiment-bearing words in financial contexts[2].\n",
    "\n",
    "On top of that, recent advancements in deep learning, particularly with techniques like recurrent neural networks (RNNs) and transformer models, have shown promise in improving sentiment analysis accuracy by capturing dependencies in text[3].\n",
    "\n",
    "In summary, the problem of sentiment analysis in financial market news presents a critical area where text classification methods can significantly contribute to the decisions investors and traders make. By building upon prior work in sentiment analysis and leveraging NLP techniques, I hope that my work can add to the importance of NLP in this sector."
   ]
  },
  {
   "cell_type": "markdown",
   "id": "e671bd5a",
   "metadata": {},
   "source": [
    "# 2 Objectives\n",
    "\n",
    "The objectives of building an NLP Text Classifier for analyzing financial market news sentiment are as follows:\n",
    "\n",
    " - <b><u>Objective 1:</u></b> Compare the performance between Supervised Learning versus BERT\n",
    " \n",
    "     <u>Justification</u>: Statistical modeling using supervised machine learning[4] involves building models based on labeled training data, where the goal is to learn the relationship between input features and the corresponding output labels.\n",
    "     \n",
    "     BERT (Bidirectional Encoder Representations from Transformers)[5] is an embedding-based language model in NLP that generates context-aware word embeddings. Instead of using static embeddings, BERT uses a transformer architecture to consider the context from both directions (left and right) in a sentence, providing a deep understanding of language context. \n",
    "     \n",
    "     Evaluating how well traditional supervised learning models perform compared to BERT can highlight the strengths and weaknesses of each approach. This helps establish benchmarks and identify which models are more effective for financial sentiment analysis.\n",
    "     \n",
    "     <br>\n",
    "\n",
    "  - <b><u>Objective 2:</u></b> Ascertain model applicability in the finance sector\n",
    "  \n",
    "    <u>Justification</u>: Traditional supervised learning models and BERT differ significantly in terms of computational complexity, training time, and resource requirements. Modern day AI tools like deep learning also has a large carbon footprint[6]. Comparing their performance can help understand the trade-offs between model accuracy and efficiency, guiding decisions based on available resources, environmental impact and project constraints.\n",
    "\n",
    "    \n",
    "The impact and significance of this project within the problem area of financial news sentiment analysis are as follows:\n",
    "\n",
    "- Improved Decision-Making: The findings of this project can contribute to ascertain whether a deep learning based approach to classifying financial news is better than machine learning. This comparison is crucial as it can provide insights into which method yields more accurate predictions, thereby guiding financial institutions, investors, and analysts in making informed decisions based on sentiment analysis of news articles. \n",
    "\n",
    "The contribution of this projectc comes from adding validity and credibility to the findings of existing literature and research topic[7]. This ensures that the results are robust and applicable across different datasets and scenarios, providing a more comprehensive understanding of the comparative performance between supervised learning and BERT."
   ]
  },
  {
   "cell_type": "markdown",
   "id": "c484b7b7",
   "metadata": {},
   "source": [
    "# 3 Dataset\n",
    "\n",
    "The chosen dataset for this project comes from Kaggle[8]. The dataset comprises financial news headlines from the perspective of a retail investor, and is stored in a CSV file format, with a relatively small size of 657 kilobytes.\n",
    "\n",
    "The dataset contains two columns:\n",
    "\n",
    "- <b>Sentiment</b>: This column categorizes the sentiment of each news headline into three distinct types: positive, neutral, and negative. These sentiment labels serve as the known sentiment of the article headline.\n",
    "<br>\n",
    "<br>\n",
    "- <b>News Headline</b>: This column contains the actual headlines of the news articles. It is textual data.\n",
    "\n",
    "Both columns in the dataset are of string data type, which is common for text-based datasets in NLP tasks.\n",
    "\n",
    "The labeled nature of this dataset makes it suitable for supervised machine learning approaches, which aligns with the project's objective of building a sentiment analysis classifier model. Supervised learning relies on having labeled data, where the features (in this case, the news headlines) are associated with corresponding labels (sentiments).\n",
    "\n",
    "On overview of the dataset informs me that it may contain ambiguity, noise, special characters, or irregularities typical of real-world textual data. These aspects will need to be addressed through data preprocessing steps as part of the NLP pipeline. These preprocessing steps, which will be done in the later sections of this project, are crucial for preparing the dataset for feature extraction and building an effective sentiment analysis model."
   ]
  },
  {
   "cell_type": "markdown",
   "id": "67d627c6",
   "metadata": {},
   "source": [
    "# 4 Evaluation Methodology\n",
    "\n",
    "To evaluate the classifier, the follow metrics will be used:\n",
    "\n",
    "- <b>Accuracy Score</b>: It is how often a model is correct, overall.\n",
    "- <b>Precision Score</b>: It is how often a model is correct at predicting the target class.\n",
    "- <b>Confusion Matrix</b> A N*N matrix to evaluate a classfication model, where N is the number of labels.\n",
    "    \n",
    "We utilize the accuracy score to measure how well our classifier is at analyzing a given set of article headlines. The higher the score, the better. This means that the classifier is correctly predicting whether an article is positive, neutral or negative, and can be relied upon and trusted when asked to measure new unseen data.\n",
    "\n",
    "We utilize the precision score to measure how well our classifier is at analyzing each of the given target classes. This will allows us to detect if our classifier is weaker at classifying positive headlines over negative headlines, for example, and investigate further as to the cause for it. The higher the precision score, the better. This will imply the classifier is good at predicting each of the 3 classes, respectively.\n",
    "\n",
    "The confusion matrix will provide a general overview of the performance of the classifier for each of the 3 target classes, and is a common practise in the field of machine learning classification models."
   ]
  },
  {
   "cell_type": "markdown",
   "id": "52e122b9",
   "metadata": {},
   "source": [
    "# 5 Preprocessing "
   ]
  },
  {
   "cell_type": "markdown",
   "id": "f2c83f44",
   "metadata": {},
   "source": [
    "## 5.1 Data Cleaning & Transformation"
   ]
  },
  {
   "cell_type": "code",
   "execution_count": 1,
   "id": "001c3c1c",
   "metadata": {},
   "outputs": [],
   "source": [
    "#importing necessary libraries\n",
    "import numpy as np\n",
    "import pandas as pd\n",
    "import matplotlib.pyplot as plt\n",
    "\n",
    "import re\n",
    "import nltk\n",
    "\n",
    "from nltk import FreqDist\n",
    "from nltk.corpus import stopwords, wordnet\n",
    "from nltk import pos_tag\n",
    "from nltk.stem import WordNetLemmatizer, PorterStemmer\n",
    "from nltk.tokenize import word_tokenize, sent_tokenize\n",
    "\n",
    "from wordcloud import WordCloud"
   ]
  },
  {
   "cell_type": "code",
   "execution_count": 2,
   "id": "4d8c7ae3",
   "metadata": {},
   "outputs": [],
   "source": [
    "#import csv and load into pandas dataframe\n",
    "df = pd.read_csv(\"all-data.csv\",encoding='latin-1')"
   ]
  },
  {
   "cell_type": "code",
   "execution_count": 3,
   "id": "4b3ed424",
   "metadata": {
    "scrolled": false
   },
   "outputs": [
    {
     "name": "stdout",
     "output_type": "stream",
     "text": [
      "<class 'pandas.core.frame.DataFrame'>\n",
      "RangeIndex: 4845 entries, 0 to 4844\n",
      "Data columns (total 2 columns):\n",
      " #   Column                                                                                                                           Non-Null Count  Dtype \n",
      "---  ------                                                                                                                           --------------  ----- \n",
      " 0   neutral                                                                                                                          4845 non-null   object\n",
      " 1   According to Gran , the company has no plans to move all production to Russia , although that is where the company is growing .  4845 non-null   object\n",
      "dtypes: object(2)\n",
      "memory usage: 75.8+ KB\n"
     ]
    }
   ],
   "source": [
    "df.info()"
   ]
  },
  {
   "cell_type": "code",
   "execution_count": 4,
   "id": "288a2fd9",
   "metadata": {},
   "outputs": [
    {
     "data": {
      "text/html": [
       "<div>\n",
       "<style scoped>\n",
       "    .dataframe tbody tr th:only-of-type {\n",
       "        vertical-align: middle;\n",
       "    }\n",
       "\n",
       "    .dataframe tbody tr th {\n",
       "        vertical-align: top;\n",
       "    }\n",
       "\n",
       "    .dataframe thead th {\n",
       "        text-align: right;\n",
       "    }\n",
       "</style>\n",
       "<table border=\"1\" class=\"dataframe\">\n",
       "  <thead>\n",
       "    <tr style=\"text-align: right;\">\n",
       "      <th></th>\n",
       "      <th>neutral</th>\n",
       "      <th>According to Gran , the company has no plans to move all production to Russia , although that is where the company is growing .</th>\n",
       "    </tr>\n",
       "  </thead>\n",
       "  <tbody>\n",
       "    <tr>\n",
       "      <th>0</th>\n",
       "      <td>neutral</td>\n",
       "      <td>Technopolis plans to develop in stages an area...</td>\n",
       "    </tr>\n",
       "    <tr>\n",
       "      <th>1</th>\n",
       "      <td>negative</td>\n",
       "      <td>The international electronic industry company ...</td>\n",
       "    </tr>\n",
       "    <tr>\n",
       "      <th>2</th>\n",
       "      <td>positive</td>\n",
       "      <td>With the new production plant the company woul...</td>\n",
       "    </tr>\n",
       "    <tr>\n",
       "      <th>3</th>\n",
       "      <td>positive</td>\n",
       "      <td>According to the company 's updated strategy f...</td>\n",
       "    </tr>\n",
       "    <tr>\n",
       "      <th>4</th>\n",
       "      <td>positive</td>\n",
       "      <td>FINANCING OF ASPOCOMP 'S GROWTH Aspocomp is ag...</td>\n",
       "    </tr>\n",
       "  </tbody>\n",
       "</table>\n",
       "</div>"
      ],
      "text/plain": [
       "    neutral  \\\n",
       "0   neutral   \n",
       "1  negative   \n",
       "2  positive   \n",
       "3  positive   \n",
       "4  positive   \n",
       "\n",
       "  According to Gran , the company has no plans to move all production to Russia , although that is where the company is growing .  \n",
       "0  Technopolis plans to develop in stages an area...                                                                               \n",
       "1  The international electronic industry company ...                                                                               \n",
       "2  With the new production plant the company woul...                                                                               \n",
       "3  According to the company 's updated strategy f...                                                                               \n",
       "4  FINANCING OF ASPOCOMP 'S GROWTH Aspocomp is ag...                                                                               "
      ]
     },
     "execution_count": 4,
     "metadata": {},
     "output_type": "execute_result"
    }
   ],
   "source": [
    "df.head()"
   ]
  },
  {
   "cell_type": "markdown",
   "id": "587d916c",
   "metadata": {},
   "source": [
    "The file appears to not have the actual column headings mentioned in '3 Dataset'. Lets address that first."
   ]
  },
  {
   "cell_type": "code",
   "execution_count": 5,
   "id": "1a023d66",
   "metadata": {},
   "outputs": [],
   "source": [
    "#extract the false formated column values\n",
    "firstEntry = list(df.columns)"
   ]
  },
  {
   "cell_type": "code",
   "execution_count": 6,
   "id": "b6d5d1b2",
   "metadata": {},
   "outputs": [],
   "source": [
    "#MY ORIGINAL CODE/CONTRIBUTIONS\n",
    "\n",
    "#rename columns\n",
    "df = df.rename(columns={'neutral':'sentiment',\n",
    "                        'According to Gran , the company has no plans to move all production to Russia , although that is where the company is growing .':'Headline'})\n",
    "\n",
    "#append a new single row\n",
    "addRow = {'sentiment':firstEntry[0],'Headline':firstEntry[1]}\n",
    "df = df._append(addRow,ignore_index=True)"
   ]
  },
  {
   "cell_type": "code",
   "execution_count": 7,
   "id": "d8c5ccaa",
   "metadata": {
    "scrolled": true
   },
   "outputs": [
    {
     "data": {
      "text/html": [
       "<div>\n",
       "<style scoped>\n",
       "    .dataframe tbody tr th:only-of-type {\n",
       "        vertical-align: middle;\n",
       "    }\n",
       "\n",
       "    .dataframe tbody tr th {\n",
       "        vertical-align: top;\n",
       "    }\n",
       "\n",
       "    .dataframe thead th {\n",
       "        text-align: right;\n",
       "    }\n",
       "</style>\n",
       "<table border=\"1\" class=\"dataframe\">\n",
       "  <thead>\n",
       "    <tr style=\"text-align: right;\">\n",
       "      <th></th>\n",
       "      <th>sentiment</th>\n",
       "      <th>Headline</th>\n",
       "    </tr>\n",
       "  </thead>\n",
       "  <tbody>\n",
       "    <tr>\n",
       "      <th>4841</th>\n",
       "      <td>neutral</td>\n",
       "      <td>Rinkuskiai 's beer sales fell by 6.5 per cent ...</td>\n",
       "    </tr>\n",
       "    <tr>\n",
       "      <th>4842</th>\n",
       "      <td>negative</td>\n",
       "      <td>Operating profit fell to EUR 35.4 mn from EUR ...</td>\n",
       "    </tr>\n",
       "    <tr>\n",
       "      <th>4843</th>\n",
       "      <td>negative</td>\n",
       "      <td>Net sales of the Paper segment decreased to EU...</td>\n",
       "    </tr>\n",
       "    <tr>\n",
       "      <th>4844</th>\n",
       "      <td>negative</td>\n",
       "      <td>Sales in Finland decreased by 10.5 % in Januar...</td>\n",
       "    </tr>\n",
       "    <tr>\n",
       "      <th>4845</th>\n",
       "      <td>neutral</td>\n",
       "      <td>According to Gran , the company has no plans t...</td>\n",
       "    </tr>\n",
       "  </tbody>\n",
       "</table>\n",
       "</div>"
      ],
      "text/plain": [
       "     sentiment                                           Headline\n",
       "4841   neutral  Rinkuskiai 's beer sales fell by 6.5 per cent ...\n",
       "4842  negative  Operating profit fell to EUR 35.4 mn from EUR ...\n",
       "4843  negative  Net sales of the Paper segment decreased to EU...\n",
       "4844  negative  Sales in Finland decreased by 10.5 % in Januar...\n",
       "4845   neutral  According to Gran , the company has no plans t..."
      ]
     },
     "execution_count": 7,
     "metadata": {},
     "output_type": "execute_result"
    }
   ],
   "source": [
    "#column value is now in the last row\n",
    "df.tail()"
   ]
  },
  {
   "cell_type": "code",
   "execution_count": 8,
   "id": "cb0193cf",
   "metadata": {
    "scrolled": true
   },
   "outputs": [
    {
     "data": {
      "text/html": [
       "<div>\n",
       "<style scoped>\n",
       "    .dataframe tbody tr th:only-of-type {\n",
       "        vertical-align: middle;\n",
       "    }\n",
       "\n",
       "    .dataframe tbody tr th {\n",
       "        vertical-align: top;\n",
       "    }\n",
       "\n",
       "    .dataframe thead th {\n",
       "        text-align: right;\n",
       "    }\n",
       "</style>\n",
       "<table border=\"1\" class=\"dataframe\">\n",
       "  <thead>\n",
       "    <tr style=\"text-align: right;\">\n",
       "      <th></th>\n",
       "      <th>sentiment</th>\n",
       "      <th>Headline</th>\n",
       "    </tr>\n",
       "  </thead>\n",
       "  <tbody>\n",
       "    <tr>\n",
       "      <th>count</th>\n",
       "      <td>4846</td>\n",
       "      <td>4846</td>\n",
       "    </tr>\n",
       "    <tr>\n",
       "      <th>unique</th>\n",
       "      <td>3</td>\n",
       "      <td>4838</td>\n",
       "    </tr>\n",
       "    <tr>\n",
       "      <th>top</th>\n",
       "      <td>neutral</td>\n",
       "      <td>TELECOMWORLDWIRE-7 April 2006-TJ Group Plc sel...</td>\n",
       "    </tr>\n",
       "    <tr>\n",
       "      <th>freq</th>\n",
       "      <td>2879</td>\n",
       "      <td>2</td>\n",
       "    </tr>\n",
       "  </tbody>\n",
       "</table>\n",
       "</div>"
      ],
      "text/plain": [
       "       sentiment                                           Headline\n",
       "count       4846                                               4846\n",
       "unique         3                                               4838\n",
       "top      neutral  TELECOMWORLDWIRE-7 April 2006-TJ Group Plc sel...\n",
       "freq        2879                                                  2"
      ]
     },
     "execution_count": 8,
     "metadata": {},
     "output_type": "execute_result"
    }
   ],
   "source": [
    "df.describe()"
   ]
  },
  {
   "cell_type": "markdown",
   "id": "f92a02fe",
   "metadata": {},
   "source": [
    "Originally the file contained 4845 rows, but because we know that the first row was formatted as column headers, we renamed the columns, and added the back the extracted old header vaues. Thus, the row count increased by row, which is correct."
   ]
  },
  {
   "cell_type": "code",
   "execution_count": 9,
   "id": "6792e41a",
   "metadata": {
    "scrolled": true
   },
   "outputs": [
    {
     "data": {
      "text/plain": [
       "sentiment    0\n",
       "Headline     0\n",
       "dtype: int64"
      ]
     },
     "execution_count": 9,
     "metadata": {},
     "output_type": "execute_result"
    }
   ],
   "source": [
    "df.isnull().sum()"
   ]
  },
  {
   "cell_type": "markdown",
   "id": "8aca4447",
   "metadata": {},
   "source": [
    "No missing values in our dataframe."
   ]
  },
  {
   "cell_type": "markdown",
   "id": "cf46c0c0",
   "metadata": {},
   "source": [
    "In the later sections of the project, a text classifier model will be built. To accomadate the model, I will tranform the labels into 3 numerical classes, whilst retaining the textual data of the headline to be processing by the model.\n",
    "\n",
    "The 3 numerical classes will be:\n",
    "\n",
    "<b>1</b>: positive sentiment\n",
    "\n",
    "<b>0</b>: neutral sentiment\n",
    "\n",
    "<b>-1</b>: negative sentiment"
   ]
  },
  {
   "cell_type": "code",
   "execution_count": 10,
   "id": "e875d303",
   "metadata": {},
   "outputs": [],
   "source": [
    "#MY ORIGINAL CODE/CONTRIBUTIONS\n",
    "\n",
    "#replace the sentiment values based on condition\n",
    "df['sentiment'] = df['sentiment'].apply(lambda val: {'positive': 1, 'neutral':0 ,'negative': -1}.get(val, ' '))"
   ]
  },
  {
   "cell_type": "code",
   "execution_count": 11,
   "id": "87f599b7",
   "metadata": {
    "scrolled": true
   },
   "outputs": [
    {
     "data": {
      "text/html": [
       "<div>\n",
       "<style scoped>\n",
       "    .dataframe tbody tr th:only-of-type {\n",
       "        vertical-align: middle;\n",
       "    }\n",
       "\n",
       "    .dataframe tbody tr th {\n",
       "        vertical-align: top;\n",
       "    }\n",
       "\n",
       "    .dataframe thead th {\n",
       "        text-align: right;\n",
       "    }\n",
       "</style>\n",
       "<table border=\"1\" class=\"dataframe\">\n",
       "  <thead>\n",
       "    <tr style=\"text-align: right;\">\n",
       "      <th></th>\n",
       "      <th>sentiment</th>\n",
       "      <th>Headline</th>\n",
       "    </tr>\n",
       "  </thead>\n",
       "  <tbody>\n",
       "    <tr>\n",
       "      <th>0</th>\n",
       "      <td>0</td>\n",
       "      <td>Technopolis plans to develop in stages an area...</td>\n",
       "    </tr>\n",
       "    <tr>\n",
       "      <th>1</th>\n",
       "      <td>-1</td>\n",
       "      <td>The international electronic industry company ...</td>\n",
       "    </tr>\n",
       "    <tr>\n",
       "      <th>2</th>\n",
       "      <td>1</td>\n",
       "      <td>With the new production plant the company woul...</td>\n",
       "    </tr>\n",
       "    <tr>\n",
       "      <th>3</th>\n",
       "      <td>1</td>\n",
       "      <td>According to the company 's updated strategy f...</td>\n",
       "    </tr>\n",
       "    <tr>\n",
       "      <th>4</th>\n",
       "      <td>1</td>\n",
       "      <td>FINANCING OF ASPOCOMP 'S GROWTH Aspocomp is ag...</td>\n",
       "    </tr>\n",
       "  </tbody>\n",
       "</table>\n",
       "</div>"
      ],
      "text/plain": [
       "   sentiment                                           Headline\n",
       "0          0  Technopolis plans to develop in stages an area...\n",
       "1         -1  The international electronic industry company ...\n",
       "2          1  With the new production plant the company woul...\n",
       "3          1  According to the company 's updated strategy f...\n",
       "4          1  FINANCING OF ASPOCOMP 'S GROWTH Aspocomp is ag..."
      ]
     },
     "execution_count": 11,
     "metadata": {},
     "output_type": "execute_result"
    }
   ],
   "source": [
    "df.head()"
   ]
  },
  {
   "cell_type": "markdown",
   "id": "1f2368fa",
   "metadata": {},
   "source": [
    "## 5.2 Text Normalization"
   ]
  },
  {
   "cell_type": "markdown",
   "id": "ec7ecdcd",
   "metadata": {},
   "source": [
    "Converting all text to ASCII and lowercase helps standardize the text and ensures that the model doesn't treat \"the\" and \"The\" as different tokens. This step is vital in tasks where the case of the text doesn't carry significant meaning, such as sentiment analysis.\n",
    "\n",
    "Punctuation marks like commas, periods, exclamation marks, etc., typically do not contribute directly to sentiment analysis and can add noise to the data. Removing them can help the model focus on meaningful words and improve accuracy.\n",
    "\n",
    "We also remove digits as they do not add value to analyzing sentiment as well.\n",
    "\n",
    "So the first step in the normalization process is addressing these two agendas. Regular Expression and built in Python string methods will be used."
   ]
  },
  {
   "cell_type": "code",
   "execution_count": 12,
   "id": "41cb7a92",
   "metadata": {},
   "outputs": [],
   "source": [
    "#MY ORIGINAL CODE/CONTRIBUTIONS\n",
    "\n",
    "def ascii_lower(str_):\n",
    "    #this regex removes characters that come after an apostrophe,eg apple's -> apple\n",
    "    reg = re.sub(r\"'[a-z]+\",'',str_)\n",
    "    x = reg.encode(\"ascii\", \"ignore\").decode()\n",
    "    x = x.lower()\n",
    "    return x\n",
    "\n",
    "def removeDigits(str_):\n",
    "    #replace all special characters, that is, everything that isnt a letter or digit\n",
    "    reg = re.sub(r'[^A-Za-z ]+','',str_)\n",
    "    return reg\n",
    "\n",
    "#apply our function to the headline column\n",
    "df['Headline'] = df['Headline'].apply(ascii_lower)\n",
    "df['Headline'] = df['Headline'].apply(removeDigits)"
   ]
  },
  {
   "cell_type": "code",
   "execution_count": 13,
   "id": "da9507c9",
   "metadata": {
    "scrolled": true
   },
   "outputs": [
    {
     "data": {
      "text/html": [
       "<div>\n",
       "<style scoped>\n",
       "    .dataframe tbody tr th:only-of-type {\n",
       "        vertical-align: middle;\n",
       "    }\n",
       "\n",
       "    .dataframe tbody tr th {\n",
       "        vertical-align: top;\n",
       "    }\n",
       "\n",
       "    .dataframe thead th {\n",
       "        text-align: right;\n",
       "    }\n",
       "</style>\n",
       "<table border=\"1\" class=\"dataframe\">\n",
       "  <thead>\n",
       "    <tr style=\"text-align: right;\">\n",
       "      <th></th>\n",
       "      <th>sentiment</th>\n",
       "      <th>Headline</th>\n",
       "    </tr>\n",
       "  </thead>\n",
       "  <tbody>\n",
       "    <tr>\n",
       "      <th>4841</th>\n",
       "      <td>0</td>\n",
       "      <td>rinkuskiai  beer sales fell by  per cent to  m...</td>\n",
       "    </tr>\n",
       "    <tr>\n",
       "      <th>4842</th>\n",
       "      <td>-1</td>\n",
       "      <td>operating profit fell to eur  mn from eur  mn ...</td>\n",
       "    </tr>\n",
       "    <tr>\n",
       "      <th>4843</th>\n",
       "      <td>-1</td>\n",
       "      <td>net sales of the paper segment decreased to eu...</td>\n",
       "    </tr>\n",
       "    <tr>\n",
       "      <th>4844</th>\n",
       "      <td>-1</td>\n",
       "      <td>sales in finland decreased by   in january  wh...</td>\n",
       "    </tr>\n",
       "    <tr>\n",
       "      <th>4845</th>\n",
       "      <td>0</td>\n",
       "      <td>according to gran  the company has no plans to...</td>\n",
       "    </tr>\n",
       "  </tbody>\n",
       "</table>\n",
       "</div>"
      ],
      "text/plain": [
       "      sentiment                                           Headline\n",
       "4841          0  rinkuskiai  beer sales fell by  per cent to  m...\n",
       "4842         -1  operating profit fell to eur  mn from eur  mn ...\n",
       "4843         -1  net sales of the paper segment decreased to eu...\n",
       "4844         -1  sales in finland decreased by   in january  wh...\n",
       "4845          0  according to gran  the company has no plans to..."
      ]
     },
     "execution_count": 13,
     "metadata": {},
     "output_type": "execute_result"
    }
   ],
   "source": [
    "df.tail()"
   ]
  },
  {
   "cell_type": "markdown",
   "id": "d66537a9",
   "metadata": {},
   "source": [
    "The next step is our normalization process is to tokenize the headlines and remove common stopwords that add no value to the sentiment analysis. \n",
    "\n",
    "We also lemmatize our tokens to break them down into a more meaningful base form. This is known also as linguistically principled anaylsis. We choose this over stemming as stemming simply removes the last few characters to return a root word, and because the stock market news headlines can contain nuances statement that stemming cannot provide any value to.\n",
    "\n",
    "For example, stemming \"historical highs\" would return \"histori highs\". Whereas lemmatization would return \"historical highs\". The word \"historical\" is of much more value than \"histori\", which is not a English word at all."
   ]
  },
  {
   "cell_type": "code",
   "execution_count": 14,
   "id": "052a7419",
   "metadata": {},
   "outputs": [],
   "source": [
    "#MY ORIGINAL CODE/CONTRIBUTIONS\n",
    "\n",
    "#we store our tokenized words from our headlines into a list, for visualization later\n",
    "tokenizedData= []\n",
    "\n",
    "#define lemmatization object\n",
    "lt = WordNetLemmatizer()\n",
    "\n",
    "#create our stopwords set\n",
    "myStopWords = set(stopwords.words('english'))\n",
    "\n",
    "def custom_tokenizer(headline):\n",
    "    tokens = []\n",
    "    for sent in sent_tokenize(headline):\n",
    "        for word in word_tokenize(sent):\n",
    "            if word not in myStopWords:\n",
    "                tokenizedData.append(word)\n",
    "                word = lt.lemmatize(word)\n",
    "                tokens.append(word)\n",
    "            \n",
    "    newHeadline = ' '.join(tokens)\n",
    "    return newHeadline\n",
    "\n",
    "df['Updated_Headlines'] = df['Headline'].apply(custom_tokenizer)"
   ]
  },
  {
   "cell_type": "code",
   "execution_count": 15,
   "id": "27b981fe",
   "metadata": {
    "scrolled": false
   },
   "outputs": [
    {
     "data": {
      "text/html": [
       "<div>\n",
       "<style scoped>\n",
       "    .dataframe tbody tr th:only-of-type {\n",
       "        vertical-align: middle;\n",
       "    }\n",
       "\n",
       "    .dataframe tbody tr th {\n",
       "        vertical-align: top;\n",
       "    }\n",
       "\n",
       "    .dataframe thead th {\n",
       "        text-align: right;\n",
       "    }\n",
       "</style>\n",
       "<table border=\"1\" class=\"dataframe\">\n",
       "  <thead>\n",
       "    <tr style=\"text-align: right;\">\n",
       "      <th></th>\n",
       "      <th>sentiment</th>\n",
       "      <th>Headline</th>\n",
       "      <th>Updated_Headlines</th>\n",
       "    </tr>\n",
       "  </thead>\n",
       "  <tbody>\n",
       "    <tr>\n",
       "      <th>0</th>\n",
       "      <td>0</td>\n",
       "      <td>technopolis plans to develop in stages an area...</td>\n",
       "      <td>technopolis plan develop stage area le square ...</td>\n",
       "    </tr>\n",
       "    <tr>\n",
       "      <th>1</th>\n",
       "      <td>-1</td>\n",
       "      <td>the international electronic industry company ...</td>\n",
       "      <td>international electronic industry company elco...</td>\n",
       "    </tr>\n",
       "    <tr>\n",
       "      <th>2</th>\n",
       "      <td>1</td>\n",
       "      <td>with the new production plant the company woul...</td>\n",
       "      <td>new production plant company would increase ca...</td>\n",
       "    </tr>\n",
       "    <tr>\n",
       "      <th>3</th>\n",
       "      <td>1</td>\n",
       "      <td>according to the company  updated strategy for...</td>\n",
       "      <td>according company updated strategy year baswar...</td>\n",
       "    </tr>\n",
       "    <tr>\n",
       "      <th>4</th>\n",
       "      <td>1</td>\n",
       "      <td>financing of aspocomp s growth aspocomp is agg...</td>\n",
       "      <td>financing aspocomp growth aspocomp aggressivel...</td>\n",
       "    </tr>\n",
       "  </tbody>\n",
       "</table>\n",
       "</div>"
      ],
      "text/plain": [
       "   sentiment                                           Headline  \\\n",
       "0          0  technopolis plans to develop in stages an area...   \n",
       "1         -1  the international electronic industry company ...   \n",
       "2          1  with the new production plant the company woul...   \n",
       "3          1  according to the company  updated strategy for...   \n",
       "4          1  financing of aspocomp s growth aspocomp is agg...   \n",
       "\n",
       "                                   Updated_Headlines  \n",
       "0  technopolis plan develop stage area le square ...  \n",
       "1  international electronic industry company elco...  \n",
       "2  new production plant company would increase ca...  \n",
       "3  according company updated strategy year baswar...  \n",
       "4  financing aspocomp growth aspocomp aggressivel...  "
      ]
     },
     "execution_count": 15,
     "metadata": {},
     "output_type": "execute_result"
    }
   ],
   "source": [
    "df.head()"
   ]
  },
  {
   "cell_type": "markdown",
   "id": "e1b18985",
   "metadata": {},
   "source": [
    "We now have our updated headlines, where the textual data is in lowercase ascii, containing no digits and special characters, common stopwords removed and remaining words lemmatized. I will go ahead and drop the old headline column,"
   ]
  },
  {
   "cell_type": "code",
   "execution_count": 16,
   "id": "a09dcfba",
   "metadata": {},
   "outputs": [],
   "source": [
    "df = df.drop('Headline',axis=1)\n",
    "df = df.rename(columns={'Updated_Headlines':'Headlines'})"
   ]
  },
  {
   "cell_type": "markdown",
   "id": "fe4a9a38",
   "metadata": {},
   "source": [
    "## 5.3 Visualizing the data"
   ]
  },
  {
   "cell_type": "code",
   "execution_count": 17,
   "id": "f6cd0364",
   "metadata": {
    "scrolled": false
   },
   "outputs": [
    {
     "data": {
      "image/png": "[encoded data removed]",
      "text/plain": [
       "<Figure size 640x480 with 1 Axes>"
      ]
     },
     "metadata": {},
     "output_type": "display_data"
    }
   ],
   "source": [
    "#MY ORIGINAL CODE/CONTRIBUTIONS\n",
    "\n",
    "#plotting a bar chart with matplotlib\n",
    "fig, ax = plt.subplots()\n",
    "\n",
    "yAxisVal = ['neutral','positive','negative']\n",
    "xAxisVal = df.sentiment.value_counts()\n",
    "barColors = ['grey','red','green']\n",
    "\n",
    "ax.barh(yAxisVal, xAxisVal, align='center',color=barColors)\n",
    "ax.invert_yaxis()\n",
    "ax.set_title('Count of Sentiment')\n",
    "\n",
    "plt.show()"
   ]
  },
  {
   "cell_type": "code",
   "execution_count": 18,
   "id": "7edbbc75",
   "metadata": {
    "scrolled": false
   },
   "outputs": [
    {
     "data": {
      "image/png": "[encoded data removed]",
      "text/plain": [
       "<Figure size 1000x400 with 1 Axes>"
      ]
     },
     "metadata": {},
     "output_type": "display_data"
    },
    {
     "data": {
      "text/plain": [
       "<Axes: xlabel='Samples', ylabel='Counts'>"
      ]
     },
     "execution_count": 18,
     "metadata": {},
     "output_type": "execute_result"
    }
   ],
   "source": [
    "#frequncy diagram of the most common tokens in our dataset\n",
    "FreqData = FreqDist(w for w in tokenizedData)\n",
    "plt.figure(figsize=(10,4))\n",
    "FreqData.plot(50)"
   ]
  },
  {
   "cell_type": "markdown",
   "id": "8ad17341",
   "metadata": {},
   "source": [
    "Based on the frequency distribution plot, it appears that a significant portion of the financial headlines originates from Europe, specifically focusing on the European market, and Finland seems to be at the core of these news articles."
   ]
  },
  {
   "cell_type": "code",
   "execution_count": 19,
   "id": "2c6894f6",
   "metadata": {
    "scrolled": true
   },
   "outputs": [
    {
     "data": {
      "image/png": "[encoded data removed]",
      "text/plain": [
       "<Figure size 640x480 with 1 Axes>"
      ]
     },
     "metadata": {},
     "output_type": "display_data"
    }
   ],
   "source": [
    "#MY ORIGINAL CODE/CONTRIBUTIONS\n",
    "word_Cloud_Text = \" \".join(tokenizedData)\n",
    "\n",
    "#plotting a word using the WordCloud library\n",
    "word_cloud = WordCloud(collocations = False, background_color = 'white').generate(word_Cloud_Text)\n",
    "plt.imshow(word_cloud, interpolation='bilinear')\n",
    "plt.axis(\"off\")\n",
    "plt.show()"
   ]
  },
  {
   "cell_type": "markdown",
   "id": "2082dc19",
   "metadata": {},
   "source": [
    "The above word cloud provides a more visual and readable representation of the frequency distribution diagram."
   ]
  },
  {
   "cell_type": "markdown",
   "id": "73198be7",
   "metadata": {},
   "source": [
    "## 5.5 Statistical Model Text Representation\n",
    "\n",
    "For this project, I have chosen the Bag of Words Model to represent the textual data for the supervised machine learning model. The reason for this choice are as follows:\n",
    "\n",
    "- Simplicity and Efficiency: The BoW model is relatively simple to implement and understand. It represents text data as a collection of words without considering the order or structure of the sentences. This simplicity makes it computationally efficient and scalable\n",
    "<br>\n",
    "\n",
    "- Suitability for Classification: The BoW model is well-suited for classification tasks, where the goal is to assign labels to input text data, this case, the financial news headlines and its respective sentiment. It works effectively with classifiers like Naive Bayes, Support Vector Machines (SVM), and Random Forests, making it a versatile choice for sentiment analysis."
   ]
  },
  {
   "cell_type": "markdown",
   "id": "06ddc57f",
   "metadata": {},
   "source": [
    "Prepare the train test split for our model. Train-test split is a technique in machine learning where the dataset is divided into a training set, used to train the model, and a testing set, used to evaluate the model's performance on unseen data, helping assess its generalization capabilities and potential overfitting issues."
   ]
  },
  {
   "cell_type": "code",
   "execution_count": 20,
   "id": "478d89f0",
   "metadata": {},
   "outputs": [],
   "source": [
    "from sklearn.model_selection import train_test_split\n",
    "#using sklearn's train_test_split\n",
    "\n",
    "#convert the headlines and sentiment column values into a list\n",
    "features = df['Headlines'].tolist() \n",
    "\n",
    "labels = df['sentiment'].tolist()\n",
    "\n",
    "X_train,X_test,y_train,y_test = train_test_split(features,labels,test_size=0.2,random_state=7)"
   ]
  },
  {
   "cell_type": "code",
   "execution_count": 21,
   "id": "285140bc",
   "metadata": {},
   "outputs": [],
   "source": [
    "#import's sklearn's CounteVectorizer to build the BoW\n",
    "from sklearn.feature_extraction.text import CountVectorizer\n",
    "\n",
    "count_Vect = CountVectorizer()\n",
    "supervised_X_train = count_Vect.fit_transform(X_train)\n",
    "supervised_X_test = count_Vect.transform(X_test)"
   ]
  },
  {
   "cell_type": "markdown",
   "id": "dc1833e6",
   "metadata": {},
   "source": [
    "## 5.6 Embedding Model Text Representation\n",
    "\n",
    "Preparing and representing the text data for a deep learning model like BERT is slightly different than a traditional supervised model. \n",
    "\n",
    "\n",
    "We need to prepare three sets of data for deep learning.\n",
    "\n",
    "\n",
    "Training Set: Subset of the data used to train the model. \n",
    "\n",
    "\n",
    "Validation Set: Subset of the data used to tune the model's hyperparameters and to monitor its performance during training.\n",
    "\n",
    "\n",
    "Test Set: Subset of the data used to evaluate the final model's performance. "
   ]
  },
  {
   "cell_type": "code",
   "execution_count": 22,
   "id": "ca08b5d2",
   "metadata": {},
   "outputs": [],
   "source": [
    "from transformers import BertTokenizer\n",
    "\n",
    "#Tokenize and encode the data using the BERT tokenizer\n",
    "tokenizer = BertTokenizer.from_pretrained('bert-base-uncased', do_lower_case=True)"
   ]
  },
  {
   "cell_type": "code",
   "execution_count": 23,
   "id": "861d1885",
   "metadata": {},
   "outputs": [],
   "source": [
    "#change -1,0,1 to 0,1,2\n",
    "df['sentiment'] = df['sentiment'].apply(lambda x:2 if x == -1 else x)"
   ]
  },
  {
   "cell_type": "code",
   "execution_count": 24,
   "id": "0e1880bb",
   "metadata": {},
   "outputs": [
    {
     "data": {
      "text/html": [
       "<div>\n",
       "<style scoped>\n",
       "    .dataframe tbody tr th:only-of-type {\n",
       "        vertical-align: middle;\n",
       "    }\n",
       "\n",
       "    .dataframe tbody tr th {\n",
       "        vertical-align: top;\n",
       "    }\n",
       "\n",
       "    .dataframe thead th {\n",
       "        text-align: right;\n",
       "    }\n",
       "</style>\n",
       "<table border=\"1\" class=\"dataframe\">\n",
       "  <thead>\n",
       "    <tr style=\"text-align: right;\">\n",
       "      <th></th>\n",
       "      <th>sentiment</th>\n",
       "      <th>Headlines</th>\n",
       "    </tr>\n",
       "  </thead>\n",
       "  <tbody>\n",
       "    <tr>\n",
       "      <th>0</th>\n",
       "      <td>0</td>\n",
       "      <td>technopolis plan develop stage area le square ...</td>\n",
       "    </tr>\n",
       "    <tr>\n",
       "      <th>1</th>\n",
       "      <td>2</td>\n",
       "      <td>international electronic industry company elco...</td>\n",
       "    </tr>\n",
       "    <tr>\n",
       "      <th>2</th>\n",
       "      <td>1</td>\n",
       "      <td>new production plant company would increase ca...</td>\n",
       "    </tr>\n",
       "    <tr>\n",
       "      <th>3</th>\n",
       "      <td>1</td>\n",
       "      <td>according company updated strategy year baswar...</td>\n",
       "    </tr>\n",
       "    <tr>\n",
       "      <th>4</th>\n",
       "      <td>1</td>\n",
       "      <td>financing aspocomp growth aspocomp aggressivel...</td>\n",
       "    </tr>\n",
       "  </tbody>\n",
       "</table>\n",
       "</div>"
      ],
      "text/plain": [
       "   sentiment                                          Headlines\n",
       "0          0  technopolis plan develop stage area le square ...\n",
       "1          2  international electronic industry company elco...\n",
       "2          1  new production plant company would increase ca...\n",
       "3          1  according company updated strategy year baswar...\n",
       "4          1  financing aspocomp growth aspocomp aggressivel..."
      ]
     },
     "execution_count": 24,
     "metadata": {},
     "output_type": "execute_result"
    }
   ],
   "source": [
    "df.head()"
   ]
  },
  {
   "cell_type": "code",
   "execution_count": 25,
   "id": "d7239fee",
   "metadata": {
    "scrolled": true
   },
   "outputs": [
    {
     "name": "stdout",
     "output_type": "stream",
     "text": [
      "train_text shape:  (4119,)\n",
      "val_text shape: (727,)\n",
      "test_text shape:  (412,)\n"
     ]
    }
   ],
   "source": [
    "#this is the train and validation split\n",
    "\n",
    "\n",
    "bert_X_train,bert_X_val,bert_y_train,bert_y_val=train_test_split(df['Headlines'], df['sentiment'], test_size=0.15, random_state=42)\n",
    "\n",
    "#this is the test split\n",
    "_,bert_X_test,_,bert_y_test=train_test_split(bert_X_train, bert_y_train, test_size=0.1, random_state=42)\n",
    "\n",
    "print(\"train_text shape: \",bert_X_train.shape)\n",
    "print(\"val_text shape:\",bert_X_val.shape)\n",
    "print(\"test_text shape: \",bert_X_test.shape)"
   ]
  },
  {
   "cell_type": "code",
   "execution_count": 26,
   "id": "503e8d27",
   "metadata": {},
   "outputs": [
    {
     "name": "stdout",
     "output_type": "stream",
     "text": [
      "WARNING:tensorflow:From C:\\ProgramData\\anaconda3\\Lib\\site-packages\\keras\\src\\losses.py:2976: The name tf.losses.sparse_softmax_cross_entropy is deprecated. Please use tf.compat.v1.losses.sparse_softmax_cross_entropy instead.\n",
      "\n"
     ]
    }
   ],
   "source": [
    "max_len= 128\n",
    "\n",
    "#convert train test split type from panda series to list before feeding into BERT\n",
    "bert_X_train = bert_X_train.tolist()\n",
    "bert_X_val = bert_X_val.tolist()\n",
    "bert_X_test = bert_X_test.tolist()\n",
    "\n",
    "# Tokenize and encode the sentences\n",
    "X_train_encoded = tokenizer.batch_encode_plus(bert_X_train,\n",
    "                                              padding=True, \n",
    "                                              truncation=True,\n",
    "                                              max_length = max_len,\n",
    "                                              return_tensors='tf')\n",
    " \n",
    "X_val_encoded = tokenizer.batch_encode_plus(bert_X_val, \n",
    "                                              padding=True, \n",
    "                                              truncation=True,\n",
    "                                              max_length = max_len,\n",
    "                                              return_tensors='tf')\n",
    " \n",
    "X_test_encoded = tokenizer.batch_encode_plus(bert_X_test, \n",
    "                                              padding=True, \n",
    "                                              truncation=True,\n",
    "                                              max_length = max_len,\n",
    "                                              return_tensors='tf')\n"
   ]
  },
  {
   "cell_type": "markdown",
   "id": "033b06ab",
   "metadata": {},
   "source": [
    "# 6 Baseline performance\n",
    "\n",
    "# not done yet"
   ]
  },
  {
   "cell_type": "code",
   "execution_count": null,
   "id": "c9217e8a",
   "metadata": {},
   "outputs": [],
   "source": []
  },
  {
   "cell_type": "markdown",
   "id": "b181a4f5",
   "metadata": {},
   "source": [
    "# 7 Classification Approach\n",
    "\n",
    "### <b>Features and Labels Selection:<b>\n",
    "\n",
    "- <b>Label:</b> The label selected will consist of the values in the \"Sentiment\" column of our dataset. The sentiment values (1, -1, 0) provide clear polarity labels for sentiment analysis, making them suitable for the classifier's prediction task. It has already be pre-processed and represented as an array, suitable to be inserted into our model. Refer to 5.4.\n",
    "<br>\n",
    "\n",
    "- <b>Feature:</b> The feature that will be used is the textual data contained in the \"Headlines\" column. The news article headlines contain rich linguistic information that serves as valuable features for capturing sentiment. It has already been pre-processed and the textual features extracted into a Bag of Words, after applying NLP techniques to it. Refer to 5.5.\n",
    "\n",
    "### Chosen Approach: Naive Bayes\n",
    "\n",
    "Naive Bayes is a probabilistic classifier that applies Bayes' theorem with the assumption that features (words) are independent given the class (sentiment). It estimates the prior probability of each sentiment class and the likelihood of each word given the sentiment from the training data.The rationale for my chosen approach of using the Naives Bayes classifier are as follows:\n",
    "    \n",
    "1. <b>Ease of Use</b>: Naive Bayes is simple to implement and computationally efficient.It doesn't require complex parameter tuning, making it a great choice for quick development and deployment.\n",
    "    <br>\n",
    "    \n",
    "1. <b>Dataset size</b>:Performs well even on small training dataset. This is important for supervised learning as gathering and labeling datasets can be tedious and large pre-labelled datasets are hard to comeby.\n",
    "    <br>\n",
    "    \n",
    "3. <b>Reduced Overfitting</b>: This classification model is generally less prone to overfitting.\n",
    "\n",
    "### Potential Benefits and Drawbacks of Alternative Approaches:\n",
    "\n",
    "1. <b>Support Vector Machine (SVM):</b>\n",
    "   - Benefits: It is effective in high-dimensional spaces and versatile and robust to overfitting in some cases.\n",
    "   - Drawbacks: Computationally intensive for large datasets, sensitive to feature scaling, and less interpretable than decision tree-based methods. It's hyperparameter tuning is not as straightforward as Decision Trees, for example.<br/>\n",
    "    <br>\n",
    "    \n",
    "    \n",
    "1. <b>Logistic Regression (LR):</b>\n",
    "    - Benefits: This model can handle large datasets efficiently, making it suitable for tasks involving extensive text data.\n",
    "    - Drawbacks: LR assumes a linear relationship between the features, which may not always hold true for complex sentiment patterns.\n",
    "    \n",
    "  \n",
    "As highlighted above, each approach has its strengths and weaknesses, making the choice dependent on factors such as dataset size, complexity of relationships and computational resources available. Random Forest's ability to handle non-linearity, feature importance analysis, and ensemble learning make it well-suited for the project's objectives."
   ]
  },
  {
   "cell_type": "markdown",
   "id": "b687322e",
   "metadata": {},
   "source": [
    "## 7.1 Multinomial Naives Bayes Base Model"
   ]
  },
  {
   "cell_type": "code",
   "execution_count": 27,
   "id": "e1c020a1",
   "metadata": {},
   "outputs": [],
   "source": [
    "#import machine learning model from sklearn\n",
    "from sklearn.metrics import confusion_matrix,ConfusionMatrixDisplay\n",
    "from sklearn.metrics import precision_score\n",
    "from sklearn.metrics import accuracy_score\n",
    "from sklearn.naive_bayes import MultinomialNB"
   ]
  },
  {
   "cell_type": "code",
   "execution_count": 28,
   "id": "d68ec34a",
   "metadata": {},
   "outputs": [],
   "source": [
    "#using sklearn's model\n",
    "base_Model = MultinomialNB(fit_prior=True, force_alpha=True)\n",
    "base_Model.fit(supervised_X_train,y_train)\n",
    "base_Prediction = base_Model.predict(supervised_X_test)"
   ]
  },
  {
   "cell_type": "code",
   "execution_count": 29,
   "id": "c9cbd504",
   "metadata": {},
   "outputs": [
    {
     "name": "stdout",
     "output_type": "stream",
     "text": [
      "0.6969072164948453\n"
     ]
    }
   ],
   "source": [
    "print(accuracy_score(y_test,base_Prediction))"
   ]
  },
  {
   "cell_type": "markdown",
   "id": "1fe347d8",
   "metadata": {},
   "source": [
    "## 7.2 Hyperparameter Tuning"
   ]
  },
  {
   "cell_type": "code",
   "execution_count": 30,
   "id": "660113ad",
   "metadata": {},
   "outputs": [],
   "source": [
    "from sklearn.model_selection import GridSearchCV\n",
    "\n",
    "#MY ORIGINAL CODE/CONTRIBUTIONS\n",
    "\n",
    "tuningOptions = {\n",
    "    'alpha': [0.1,0.2,0.3,0.4,0.5,0.6,0.7,0.8,0.9,1]\n",
    "}\n",
    "\n",
    "mnb = GridSearchCV(base_Model,tuningOptions,cv=5,scoring='accuracy')"
   ]
  },
  {
   "cell_type": "code",
   "execution_count": 31,
   "id": "b12cc879",
   "metadata": {},
   "outputs": [
    {
     "data": {
      "text/plain": [
       "{'alpha': 1}"
      ]
     },
     "execution_count": 31,
     "metadata": {},
     "output_type": "execute_result"
    }
   ],
   "source": [
    "mnb.fit(supervised_X_train,y_train)\n",
    "mnb.best_params_"
   ]
  },
  {
   "cell_type": "markdown",
   "id": "b553f1f7",
   "metadata": {},
   "source": [
    "## 7.3 Production Model"
   ]
  },
  {
   "cell_type": "code",
   "execution_count": 32,
   "id": "ace85230",
   "metadata": {},
   "outputs": [],
   "source": [
    "#using sklearn's model\n",
    "classifier = MultinomialNB(alpha=1,fit_prior=True, force_alpha=True)\n",
    "classifier.fit(supervised_X_train,y_train)\n",
    "classifier_Prediction = classifier.predict(supervised_X_test)"
   ]
  },
  {
   "cell_type": "code",
   "execution_count": 33,
   "id": "7ba9f05f",
   "metadata": {
    "scrolled": true
   },
   "outputs": [
    {
     "name": "stdout",
     "output_type": "stream",
     "text": [
      "0.6969072164948453\n"
     ]
    }
   ],
   "source": [
    "print(accuracy_score(y_test,classifier_Prediction))"
   ]
  },
  {
   "cell_type": "markdown",
   "id": "744fd1a1",
   "metadata": {},
   "source": [
    "## 7.4 BERT Base Model\n",
    "https://www.geeksforgeeks.org/sentiment-classification-using-bert/\n",
    "\n",
    "## DONT FORGET TO REFACTOR "
   ]
  },
  {
   "cell_type": "code",
   "execution_count": 34,
   "id": "105e2cdf",
   "metadata": {},
   "outputs": [
    {
     "name": "stdout",
     "output_type": "stream",
     "text": [
      "WARNING:tensorflow:From C:\\ProgramData\\anaconda3\\Lib\\site-packages\\keras\\src\\backend.py:873: The name tf.get_default_graph is deprecated. Please use tf.compat.v1.get_default_graph instead.\n",
      "\n"
     ]
    },
    {
     "name": "stderr",
     "output_type": "stream",
     "text": [
      "All PyTorch model weights were used when initializing TFBertForSequenceClassification.\n",
      "\n",
      "Some weights or buffers of the TF 2.0 model TFBertForSequenceClassification were not initialized from the PyTorch model and are newly initialized: ['classifier.weight', 'classifier.bias']\n",
      "You should probably TRAIN this model on a down-stream task to be able to use it for predictions and inference.\n"
     ]
    }
   ],
   "source": [
    "import tensorflow as tf\n",
    "from transformers import TFBertForSequenceClassification\n",
    "from transformers import logging\n",
    "\n",
    "#intialize model\n",
    "bert_model = TFBertForSequenceClassification.from_pretrained('bert-base-uncased', num_labels=3)\n",
    "\n",
    "logging.set_verbosity_error()"
   ]
  },
  {
   "cell_type": "code",
   "execution_count": 35,
   "id": "e54300e2",
   "metadata": {},
   "outputs": [],
   "source": [
    "# Compile the model with an appropriate optimizer, loss function, and metrics\n",
    "optimizer = tf.keras.optimizers.Adam(learning_rate=2e-5)\n",
    "loss = tf.keras.losses.SparseCategoricalCrossentropy(from_logits=True)\n",
    "metric = tf.keras.metrics.SparseCategoricalAccuracy('accuracy')\n",
    "bert_model.compile(optimizer=optimizer, loss=loss, metrics=[metric])\n"
   ]
  },
  {
   "cell_type": "code",
   "execution_count": 36,
   "id": "f108e85b",
   "metadata": {
    "scrolled": true
   },
   "outputs": [
    {
     "name": "stdout",
     "output_type": "stream",
     "text": [
      "Epoch 1/3\n",
      "WARNING:tensorflow:From C:\\ProgramData\\anaconda3\\Lib\\site-packages\\keras\\src\\utils\\tf_utils.py:492: The name tf.ragged.RaggedTensorValue is deprecated. Please use tf.compat.v1.ragged.RaggedTensorValue instead.\n",
      "\n",
      "129/129 [==============================] - 417s 3s/step - loss: 0.7820 - accuracy: 0.6579 - val_loss: 0.5425 - val_accuracy: 0.7799\n",
      "Epoch 2/3\n",
      "129/129 [==============================] - 398s 3s/step - loss: 0.4655 - accuracy: 0.8228 - val_loss: 0.4942 - val_accuracy: 0.7840\n",
      "Epoch 3/3\n",
      "129/129 [==============================] - 406s 3s/step - loss: 0.3119 - accuracy: 0.8866 - val_loss: 0.5533 - val_accuracy: 0.7992\n"
     ]
    }
   ],
   "source": [
    "#train the bert model\n",
    "history = bert_model.fit(\n",
    "    [X_train_encoded['input_ids'], X_train_encoded['token_type_ids'], X_train_encoded['attention_mask']],\n",
    "    bert_y_train,\n",
    "    validation_data=(\n",
    "      [X_val_encoded['input_ids'], X_val_encoded['token_type_ids'], X_val_encoded['attention_mask']],bert_y_val),\n",
    "    batch_size=32,\n",
    "    epochs=3\n",
    ")\n"
   ]
  },
  {
   "cell_type": "code",
   "execution_count": 39,
   "id": "baf31c93",
   "metadata": {},
   "outputs": [
    {
     "name": "stdout",
     "output_type": "stream",
     "text": [
      "13/13 [==============================] - 11s 568ms/step - loss: 0.2283 - accuracy: 0.9223\n",
      "Test loss: 0.22831161320209503, Test accuracy: 0.9223300814628601\n"
     ]
    }
   ],
   "source": [
    "#Evaluate the model on the test data\n",
    "test_loss, test_accuracy = bert_model.evaluate(\n",
    "    [X_test_encoded['input_ids'], X_test_encoded['token_type_ids'], X_test_encoded['attention_mask']],\n",
    "    bert_y_test\n",
    ")\n",
    "print(f'Test loss: {test_loss}, Test accuracy: {test_accuracy}')\n"
   ]
  },
  {
   "cell_type": "code",
   "execution_count": 41,
   "id": "55313c3b",
   "metadata": {},
   "outputs": [
    {
     "data": {
      "text/plain": [
       "{'loss': [0.7820360660552979, 0.4655134379863739, 0.311892569065094],\n",
       " 'accuracy': [0.6579266786575317, 0.8227725028991699, 0.886622965335846],\n",
       " 'val_loss': [0.5424903631210327, 0.49417710304260254, 0.5532850623130798],\n",
       " 'val_accuracy': [0.7799174785614014, 0.7840440273284912, 0.7991746664047241]}"
      ]
     },
     "execution_count": 41,
     "metadata": {},
     "output_type": "execute_result"
    }
   ],
   "source": [
    "history.history"
   ]
  },
  {
   "cell_type": "markdown",
   "id": "7f9fb69a",
   "metadata": {},
   "source": [
    "# 8 Evaluation"
   ]
  },
  {
   "cell_type": "markdown",
   "id": "5d106a3b",
   "metadata": {},
   "source": [
    "# 9 Conclusion"
   ]
  },
  {
   "cell_type": "markdown",
   "id": "26c89424",
   "metadata": {},
   "source": [
    "# 10 References\n",
    "\n",
    "[1]  Seng, J.-L. and Yang, H.-F. (2017), \"The association between stock price volatility and financial news – a sentiment analysis approach\", Kybernetes, Vol. 46 No. 8, pp. 1341-1365. https://doi.org/10.1108/K-11-2016-0307 \n",
    "\n",
    "[2] S. Sohangir, N. Petty and D. Wang, \"Financial Sentiment Lexicon Analysis,\" 2018 IEEE 12th International Conference on Semantic Computing (ICSC), Laguna Hills, CA, USA, 2018, pp. 286-289, doi: 10.1109/ICSC.2018.00052.\n",
    "\n",
    "[3] Devlin, J., Chang, M., Lee, K., & Toutanova, K. (2019). BERT: Pre-training of Deep Bidirectional Transformers for Language Understanding. North American Chapter of the Association for Computational Linguistics.\n",
    "\n",
    "[4] IBM (2023). What is supervised learning? [online] IBM. Available at: https://www.ibm.com/topics/supervised-learning.\n",
    "\n",
    "[5] Wikipedia. (2020). BERT (language model). [online] Available at: https://en.wikipedia.org/wiki/BERT_(language_model).\n",
    "\n",
    "\n",
    "[6] Ligozat A-L, Lefevre J, Bugeau A, Combaz J. Unraveling the Hidden Environmental Impacts of AI Solutions for Environment Life Cycle Assessment of AI Solutions. Sustainability. 2022; 14(9):5172. https://doi.org/10.3390/su14095172\n",
    "\n",
    "[7] Ahmad, H.O., & Umar, S.U. (2023). Sentiment Analysis of Financial Textual data Using Machine Learning and Deep Learning Models. Informatica (Slovenia), 47 https://doi.org/10.31449/inf.v47i5.4673\n",
    "\n",
    "[8] www.kaggle.com. (n.d.). Sentiment Analysis for Financial News. [online] Available at: https://www.kaggle.com/datasets/ankurzing/sentiment-analysis-for-financial-news/data.\n",
    "\n",
    "[3] Roopam Srivastava, P. K. Bharti and Parul Verma, “Comparative Analysis of Lexicon and Machine Learning Approach for Sentiment Analysis” International Journal of Advanced Computer Science and Applications(IJACSA), 13(3), 2022. http://dx.doi.org/10.14569/IJACSA.2022.0130312\n",
    "\n",
    "[4] A. Agarwal, \"Sentiment Analysis of Financial News,\" 2020 12th International Conference on Computational Intelligence and Communication Networks (CICN), Bhimtal, India, 2020, pp. 312-315, doi: 10.1109/CICN49253.2020.9242579\n",
    "\n",
    "[5] K. Mishev, A. Gjorgjevikj, I. Vodenska, L. T. Chitkushev and D. Trajanov, \"Evaluation of Sentiment Analysis in Finance: From Lexicons to Transformers,\" in IEEE Access, vol. 8, pp. 131662-131682, 2020, doi: 10.1109/ACCESS.2020.3009626\n",
    "\n",
    "[6] Dame, M.C.W. // U. of N. (n.d.). Loughran-McDonald Master Dictionary w/ Sentiment Word Lists // Software Repository for Accounting and Finance // University of Notre Dame. [online] Software Repository for Accounting and Finance. Available at: https://sraf.nd.edu/loughranmcdonald-master-dictionary/"
   ]
  }
 ],
 "metadata": {
  "kernelspec": {
   "display_name": "Python 3 (ipykernel)",
   "language": "python",
   "name": "python3"
  },
  "language_info": {
   "codemirror_mode": {
    "name": "ipython",
    "version": 3
   },
   "file_extension": ".py",
   "mimetype": "text/x-python",
   "name": "python",
   "nbconvert_exporter": "python",
   "pygments_lexer": "ipython3",
   "version": "3.11.5"
  }
 },
 "nbformat": 4,
 "nbformat_minor": 5
}
