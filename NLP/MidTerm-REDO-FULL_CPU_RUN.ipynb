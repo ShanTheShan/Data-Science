{
 "cells": [
  {
   "cell_type": "markdown",
   "id": "84686b94",
   "metadata": {},
   "source": [
    "# <center>Financial News Sentiment Analysis:  Supervised Machine Learning versus BERT</center>"
   ]
  },
  {
   "cell_type": "markdown",
   "id": "ccb7178c",
   "metadata": {},
   "source": [
    "# 1 Problem Area\n",
    "\n",
    "The area of industry that I have chosen to apply natural language processing (NLP) text classification, in particular, sentiment anaylsis, is the financial sector. The challenge of sentiment analysis of financial market news lies at the intersection of NLP and financial analysis. It addresses the need to extract actionable insights from the vast amount of textual data generated daily in financial markets. Solving this problem is crucial for retail and institutional investors and traders who rely on timely and accurate information regarding the market's sentiment, in order to make informed decisions on their investments and trades.\n",
    "\n",
    "One of the primary difficulties in this domain is the complexity and ambiguity of financial language. Stock market news articles for example, often contain nuanced sentiments, speculative language, and domain and region specific terminology that can be challenging for sentiment analysis models. For instance, words like \"bullish\" and \"bearish\", carry different meanings depending on context. Understanding and classifying financial news sentiment is important as research has shown there is a link between financial news and stock volatility[1].\n",
    "\n",
    "To tackle this challenge, researchers and practitioners have developed various text classification methods that leverage machine learning and NLP techniques. One of the key approaches is sentiment analysis, which aims to classify text into positive, negative, or neutral sentiments based on the underlying emotions expressed.\n",
    "\n",
    "Prior work in this area has laid the foundation for sentiment analysis in financial texts. Researchers have explored different features and algorithms to improve sentiment classification accuracy. For example, sentiment lexicons specific to financial terms have been developed to enhance the understanding of sentiment-bearing words in financial contexts[2].\n",
    "\n",
    "On top of that, recent advancements in deep learning, particularly with techniques like recurrent neural networks (RNNs) and transformer models, have shown promise in improving sentiment analysis accuracy by capturing dependencies in text[3].\n",
    "\n",
    "In summary, the problem of sentiment analysis in financial market news presents a critical area where text classification methods can significantly contribute to the decisions investors and traders make. By building upon prior work in sentiment analysis and leveraging NLP techniques, I hope that my work can add to the importance of NLP in this sector."
   ]
  },
  {
   "cell_type": "markdown",
   "id": "e671bd5a",
   "metadata": {},
   "source": [
    "# 2 Objectives\n",
    "\n",
    "The objectives of building an NLP Text Classifier for analyzing financial market news sentiment are as follows:\n",
    "\n",
    " - <b><u>Objective 1:</u></b> Compare the performance between Supervised Learning versus BERT\n",
    " \n",
    "     <u>Justification</u>: Statistical modeling using supervised machine learning[4] involves building models based on labeled training data, where the goal is to learn the relationship between input features and the corresponding output labels.\n",
    "     \n",
    "     BERT (Bidirectional Encoder Representations from Transformers)[5] is an embedding-based language model in NLP that analyzes text sequences from both direction of the body. \n",
    "     \n",
    "     Evaluating how well traditional supervised learning models perform compared to BERT can highlight the strengths and weaknesses of each approach. This helps establish benchmarks and identify which models are more effective for financial sentiment analysis.\n",
    "     \n",
    "     <br>\n",
    "\n",
    "  - <b><u>Objective 2:</u></b> Ascertain model applicability in the finance sector\n",
    "  \n",
    "    <u>Justification</u>: Traditional supervised learning models and BERT differ significantly in terms of computational complexity, training time, and resource requirements. Modern day AI tools like deep learning also has a large carbon footprint[6]. Comparing their performance can help understand the trade-offs between model accuracy and efficiency, guiding decisions based on available resources, environmental impact and project constraints.\n",
    "\n",
    "    \n",
    "The impact and significance of this project within the problem area of financial news sentiment analysis are as follows:\n",
    "\n",
    "- Improved Decision-Making: The findings of this project can contribute to ascertain whether a deep learning based approach to classifying financial news is better than machine learning. This comparison is crucial as it can provide insights into which method yields more accurate predictions, thereby guiding financial institutions, investors, and analysts in making informed decisions based on sentiment analysis of news articles. \n",
    "\n",
    "The contribution of this projectc comes from adding validity and credibility to the findings of existing literature and research topic[7]. This ensures that the results are robust and applicable across different datasets and scenarios, providing a more comprehensive understanding of the comparative performance between supervised learning and BERT."
   ]
  },
  {
   "cell_type": "markdown",
   "id": "c484b7b7",
   "metadata": {},
   "source": [
    "# 3 Dataset\n",
    "\n",
    "The chosen dataset for this project comes from Kaggle[8]. The dataset comprises financial news headlines from the perspective of a retail investor, and is stored in a CSV file format, with a relatively small size of 657 kilobytes.\n",
    "\n",
    "The dataset contains two columns:\n",
    "\n",
    "- <b>Sentiment</b>: This column categorizes the sentiment of each news headline into three distinct types: positive, neutral, and negative. These sentiment labels serve as the known sentiment of the article headline.\n",
    "<br>\n",
    "<br>\n",
    "- <b>News Headline</b>: This column contains the actual headlines of the news articles. It is textual data.\n",
    "\n",
    "Both columns in the dataset are of string data type, which is common for text-based datasets in NLP tasks.\n",
    "\n",
    "The labeled nature of this dataset makes it suitable for supervised machine learning approaches, which aligns with the project's objective of building a sentiment analysis classifier model. Supervised learning relies on having labeled data, where the features (in this case, the news headlines) are associated with corresponding labels (sentiments).\n",
    "\n",
    "An overview of the dataset informs me that it may contain ambiguity, noise, special characters, or irregularities typical of real-world textual data. These aspects will need to be addressed through data preprocessing steps as part of the NLP pipeline. These preprocessing steps, which will be done in the later sections of this project, are crucial for preparing the dataset for feature extraction and building an effective sentiment analysis model."
   ]
  },
  {
   "cell_type": "markdown",
   "id": "67d627c6",
   "metadata": {},
   "source": [
    "# 4 Evaluation Methodology\n",
    "\n",
    "To evaluate the text classifier, the follow metrics will be used:\n",
    "\n",
    "- <b>Accuracy Score</b>: It is how often a model is correct, overall.\n",
    "- <b>Precision Score</b>: It is how often a model is correct at predicting the target classes.\n",
    "- <b>Confusion Matrix</b> A N*N matrix to evaluate a classfication model, where N is the number of labels.\n",
    "    \n",
    "The accuracy score is to measure how well our classifier is at analyzing a given set of article headlines. The higher the score, the better. However, to ensure we do not get a false representation of the model's performance for multiclass classification, we need to evaluate it alongside other metrics, like precision.\n",
    "\n",
    "We utilize the precision score to measure how well our classifier is at analyzing each of the given target classes. This will allows us to detect if our classifier is weaker at classifying positive headlines over negative headlines, for example, and investigate further as to the cause for it. The higher the precision score, the better. This will imply the classifier is good at predicting each of the classes, respectively.\n",
    "\n",
    "The confusion matrix will provide a general overview of the performance of the classifier for each of the 3 target classes, and is a common practise in the field of machine learning classification models."
   ]
  },
  {
   "cell_type": "markdown",
   "id": "52e122b9",
   "metadata": {},
   "source": [
    "# 5 Preprocessing "
   ]
  },
  {
   "cell_type": "markdown",
   "id": "f2c83f44",
   "metadata": {},
   "source": [
    "## 5.1 Data Cleaning & Transformation"
   ]
  },
  {
   "cell_type": "code",
   "execution_count": 1,
   "id": "001c3c1c",
   "metadata": {},
   "outputs": [],
   "source": [
    "#importing necessary libraries\n",
    "import numpy as np\n",
    "import pandas as pd\n",
    "import matplotlib.pyplot as plt\n",
    "\n",
    "import re\n",
    "import nltk\n",
    "\n",
    "from nltk import FreqDist\n",
    "from nltk.corpus import stopwords, wordnet\n",
    "from nltk import pos_tag\n",
    "from nltk.stem import WordNetLemmatizer, PorterStemmer\n",
    "from nltk.tokenize import word_tokenize, sent_tokenize\n",
    "\n",
    "from wordcloud import WordCloud"
   ]
  },
  {
   "cell_type": "code",
   "execution_count": 2,
   "id": "4d8c7ae3",
   "metadata": {},
   "outputs": [],
   "source": [
    "#import csv and load into pandas dataframe\n",
    "df = pd.read_csv(\"all-data.csv\",encoding='latin-1')"
   ]
  },
  {
   "cell_type": "code",
   "execution_count": 3,
   "id": "4b3ed424",
   "metadata": {
    "scrolled": false
   },
   "outputs": [
    {
     "name": "stdout",
     "output_type": "stream",
     "text": [
      "<class 'pandas.core.frame.DataFrame'>\n",
      "RangeIndex: 4845 entries, 0 to 4844\n",
      "Data columns (total 2 columns):\n",
      " #   Column                                                                                                                           Non-Null Count  Dtype \n",
      "---  ------                                                                                                                           --------------  ----- \n",
      " 0   neutral                                                                                                                          4845 non-null   object\n",
      " 1   According to Gran , the company has no plans to move all production to Russia , although that is where the company is growing .  4845 non-null   object\n",
      "dtypes: object(2)\n",
      "memory usage: 75.8+ KB\n"
     ]
    }
   ],
   "source": [
    "df.info()"
   ]
  },
  {
   "cell_type": "code",
   "execution_count": 4,
   "id": "288a2fd9",
   "metadata": {},
   "outputs": [
    {
     "data": {
      "text/html": [
       "<div>\n",
       "<style scoped>\n",
       "    .dataframe tbody tr th:only-of-type {\n",
       "        vertical-align: middle;\n",
       "    }\n",
       "\n",
       "    .dataframe tbody tr th {\n",
       "        vertical-align: top;\n",
       "    }\n",
       "\n",
       "    .dataframe thead th {\n",
       "        text-align: right;\n",
       "    }\n",
       "</style>\n",
       "<table border=\"1\" class=\"dataframe\">\n",
       "  <thead>\n",
       "    <tr style=\"text-align: right;\">\n",
       "      <th></th>\n",
       "      <th>neutral</th>\n",
       "      <th>According to Gran , the company has no plans to move all production to Russia , although that is where the company is growing .</th>\n",
       "    </tr>\n",
       "  </thead>\n",
       "  <tbody>\n",
       "    <tr>\n",
       "      <th>0</th>\n",
       "      <td>neutral</td>\n",
       "      <td>Technopolis plans to develop in stages an area...</td>\n",
       "    </tr>\n",
       "    <tr>\n",
       "      <th>1</th>\n",
       "      <td>negative</td>\n",
       "      <td>The international electronic industry company ...</td>\n",
       "    </tr>\n",
       "    <tr>\n",
       "      <th>2</th>\n",
       "      <td>positive</td>\n",
       "      <td>With the new production plant the company woul...</td>\n",
       "    </tr>\n",
       "    <tr>\n",
       "      <th>3</th>\n",
       "      <td>positive</td>\n",
       "      <td>According to the company 's updated strategy f...</td>\n",
       "    </tr>\n",
       "    <tr>\n",
       "      <th>4</th>\n",
       "      <td>positive</td>\n",
       "      <td>FINANCING OF ASPOCOMP 'S GROWTH Aspocomp is ag...</td>\n",
       "    </tr>\n",
       "  </tbody>\n",
       "</table>\n",
       "</div>"
      ],
      "text/plain": [
       "    neutral  \\\n",
       "0   neutral   \n",
       "1  negative   \n",
       "2  positive   \n",
       "3  positive   \n",
       "4  positive   \n",
       "\n",
       "  According to Gran , the company has no plans to move all production to Russia , although that is where the company is growing .  \n",
       "0  Technopolis plans to develop in stages an area...                                                                               \n",
       "1  The international electronic industry company ...                                                                               \n",
       "2  With the new production plant the company woul...                                                                               \n",
       "3  According to the company 's updated strategy f...                                                                               \n",
       "4  FINANCING OF ASPOCOMP 'S GROWTH Aspocomp is ag...                                                                               "
      ]
     },
     "execution_count": 4,
     "metadata": {},
     "output_type": "execute_result"
    }
   ],
   "source": [
    "df.head()"
   ]
  },
  {
   "cell_type": "markdown",
   "id": "587d916c",
   "metadata": {},
   "source": [
    "The file appears to not have the actual column headings mentioned in Section 3. Lets address that first."
   ]
  },
  {
   "cell_type": "code",
   "execution_count": 5,
   "id": "1a023d66",
   "metadata": {},
   "outputs": [],
   "source": [
    "#extract the false formated column values\n",
    "firstEntry = list(df.columns)"
   ]
  },
  {
   "cell_type": "code",
   "execution_count": 6,
   "id": "b6d5d1b2",
   "metadata": {},
   "outputs": [],
   "source": [
    "#rename columns\n",
    "df = df.rename(columns={'neutral':'sentiment',\n",
    "                        'According to Gran , the company has no plans to move all production to Russia , although that is where the company is growing .':'Headline'})\n",
    "\n",
    "#append a new single row\n",
    "addRow = {'sentiment':firstEntry[0],'Headline':firstEntry[1]}\n",
    "df = df._append(addRow,ignore_index=True)"
   ]
  },
  {
   "cell_type": "code",
   "execution_count": 7,
   "id": "d8c5ccaa",
   "metadata": {
    "scrolled": true
   },
   "outputs": [
    {
     "data": {
      "text/html": [
       "<div>\n",
       "<style scoped>\n",
       "    .dataframe tbody tr th:only-of-type {\n",
       "        vertical-align: middle;\n",
       "    }\n",
       "\n",
       "    .dataframe tbody tr th {\n",
       "        vertical-align: top;\n",
       "    }\n",
       "\n",
       "    .dataframe thead th {\n",
       "        text-align: right;\n",
       "    }\n",
       "</style>\n",
       "<table border=\"1\" class=\"dataframe\">\n",
       "  <thead>\n",
       "    <tr style=\"text-align: right;\">\n",
       "      <th></th>\n",
       "      <th>sentiment</th>\n",
       "      <th>Headline</th>\n",
       "    </tr>\n",
       "  </thead>\n",
       "  <tbody>\n",
       "    <tr>\n",
       "      <th>4841</th>\n",
       "      <td>neutral</td>\n",
       "      <td>Rinkuskiai 's beer sales fell by 6.5 per cent ...</td>\n",
       "    </tr>\n",
       "    <tr>\n",
       "      <th>4842</th>\n",
       "      <td>negative</td>\n",
       "      <td>Operating profit fell to EUR 35.4 mn from EUR ...</td>\n",
       "    </tr>\n",
       "    <tr>\n",
       "      <th>4843</th>\n",
       "      <td>negative</td>\n",
       "      <td>Net sales of the Paper segment decreased to EU...</td>\n",
       "    </tr>\n",
       "    <tr>\n",
       "      <th>4844</th>\n",
       "      <td>negative</td>\n",
       "      <td>Sales in Finland decreased by 10.5 % in Januar...</td>\n",
       "    </tr>\n",
       "    <tr>\n",
       "      <th>4845</th>\n",
       "      <td>neutral</td>\n",
       "      <td>According to Gran , the company has no plans t...</td>\n",
       "    </tr>\n",
       "  </tbody>\n",
       "</table>\n",
       "</div>"
      ],
      "text/plain": [
       "     sentiment                                           Headline\n",
       "4841   neutral  Rinkuskiai 's beer sales fell by 6.5 per cent ...\n",
       "4842  negative  Operating profit fell to EUR 35.4 mn from EUR ...\n",
       "4843  negative  Net sales of the Paper segment decreased to EU...\n",
       "4844  negative  Sales in Finland decreased by 10.5 % in Januar...\n",
       "4845   neutral  According to Gran , the company has no plans t..."
      ]
     },
     "execution_count": 7,
     "metadata": {},
     "output_type": "execute_result"
    }
   ],
   "source": [
    "#column value is now in the last row\n",
    "df.tail()"
   ]
  },
  {
   "cell_type": "code",
   "execution_count": 8,
   "id": "cb0193cf",
   "metadata": {
    "scrolled": true
   },
   "outputs": [
    {
     "data": {
      "text/html": [
       "<div>\n",
       "<style scoped>\n",
       "    .dataframe tbody tr th:only-of-type {\n",
       "        vertical-align: middle;\n",
       "    }\n",
       "\n",
       "    .dataframe tbody tr th {\n",
       "        vertical-align: top;\n",
       "    }\n",
       "\n",
       "    .dataframe thead th {\n",
       "        text-align: right;\n",
       "    }\n",
       "</style>\n",
       "<table border=\"1\" class=\"dataframe\">\n",
       "  <thead>\n",
       "    <tr style=\"text-align: right;\">\n",
       "      <th></th>\n",
       "      <th>sentiment</th>\n",
       "      <th>Headline</th>\n",
       "    </tr>\n",
       "  </thead>\n",
       "  <tbody>\n",
       "    <tr>\n",
       "      <th>count</th>\n",
       "      <td>4846</td>\n",
       "      <td>4846</td>\n",
       "    </tr>\n",
       "    <tr>\n",
       "      <th>unique</th>\n",
       "      <td>3</td>\n",
       "      <td>4838</td>\n",
       "    </tr>\n",
       "    <tr>\n",
       "      <th>top</th>\n",
       "      <td>neutral</td>\n",
       "      <td>TELECOMWORLDWIRE-7 April 2006-TJ Group Plc sel...</td>\n",
       "    </tr>\n",
       "    <tr>\n",
       "      <th>freq</th>\n",
       "      <td>2879</td>\n",
       "      <td>2</td>\n",
       "    </tr>\n",
       "  </tbody>\n",
       "</table>\n",
       "</div>"
      ],
      "text/plain": [
       "       sentiment                                           Headline\n",
       "count       4846                                               4846\n",
       "unique         3                                               4838\n",
       "top      neutral  TELECOMWORLDWIRE-7 April 2006-TJ Group Plc sel...\n",
       "freq        2879                                                  2"
      ]
     },
     "execution_count": 8,
     "metadata": {},
     "output_type": "execute_result"
    }
   ],
   "source": [
    "df.describe()"
   ]
  },
  {
   "cell_type": "markdown",
   "id": "f92a02fe",
   "metadata": {},
   "source": [
    "Originally the file contained 4845 rows, but because we know that the first row was formatted as column headers, we renamed the columns, and added the back the extracted old header vaues. Thus, the row count increased by one, which is correct."
   ]
  },
  {
   "cell_type": "code",
   "execution_count": 9,
   "id": "6792e41a",
   "metadata": {
    "scrolled": true
   },
   "outputs": [
    {
     "data": {
      "text/plain": [
       "sentiment    0\n",
       "Headline     0\n",
       "dtype: int64"
      ]
     },
     "execution_count": 9,
     "metadata": {},
     "output_type": "execute_result"
    }
   ],
   "source": [
    "df.isnull().sum()"
   ]
  },
  {
   "cell_type": "markdown",
   "id": "8aca4447",
   "metadata": {},
   "source": [
    "No missing values in our dataframe."
   ]
  },
  {
   "cell_type": "markdown",
   "id": "cf46c0c0",
   "metadata": {},
   "source": [
    "In the later sections of the project, a text classifier model will be built. To accomadate the model, I will tranform the labels into 3 numerical classes, whilst retaining the textual data of the headline to be processing by the model.\n",
    "\n",
    "The 3 numerical classes will be:\n",
    "\n",
    "<b>0</b>: neutral sentiment\n",
    "\n",
    "<b>1</b>: positive sentiment\n",
    "\n",
    "<b>2</b>: negative sentiment"
   ]
  },
  {
   "cell_type": "code",
   "execution_count": 10,
   "id": "e875d303",
   "metadata": {},
   "outputs": [],
   "source": [
    "#replace the sentiment values based on condition\n",
    "df['sentiment'] = df['sentiment'].apply(lambda val: {'positive': 1, 'neutral':0 ,'negative': 2}.get(val, ' '))"
   ]
  },
  {
   "cell_type": "code",
   "execution_count": 11,
   "id": "87f599b7",
   "metadata": {
    "scrolled": true
   },
   "outputs": [
    {
     "data": {
      "text/html": [
       "<div>\n",
       "<style scoped>\n",
       "    .dataframe tbody tr th:only-of-type {\n",
       "        vertical-align: middle;\n",
       "    }\n",
       "\n",
       "    .dataframe tbody tr th {\n",
       "        vertical-align: top;\n",
       "    }\n",
       "\n",
       "    .dataframe thead th {\n",
       "        text-align: right;\n",
       "    }\n",
       "</style>\n",
       "<table border=\"1\" class=\"dataframe\">\n",
       "  <thead>\n",
       "    <tr style=\"text-align: right;\">\n",
       "      <th></th>\n",
       "      <th>sentiment</th>\n",
       "      <th>Headline</th>\n",
       "    </tr>\n",
       "  </thead>\n",
       "  <tbody>\n",
       "    <tr>\n",
       "      <th>0</th>\n",
       "      <td>0</td>\n",
       "      <td>Technopolis plans to develop in stages an area...</td>\n",
       "    </tr>\n",
       "    <tr>\n",
       "      <th>1</th>\n",
       "      <td>2</td>\n",
       "      <td>The international electronic industry company ...</td>\n",
       "    </tr>\n",
       "    <tr>\n",
       "      <th>2</th>\n",
       "      <td>1</td>\n",
       "      <td>With the new production plant the company woul...</td>\n",
       "    </tr>\n",
       "    <tr>\n",
       "      <th>3</th>\n",
       "      <td>1</td>\n",
       "      <td>According to the company 's updated strategy f...</td>\n",
       "    </tr>\n",
       "    <tr>\n",
       "      <th>4</th>\n",
       "      <td>1</td>\n",
       "      <td>FINANCING OF ASPOCOMP 'S GROWTH Aspocomp is ag...</td>\n",
       "    </tr>\n",
       "  </tbody>\n",
       "</table>\n",
       "</div>"
      ],
      "text/plain": [
       "   sentiment                                           Headline\n",
       "0          0  Technopolis plans to develop in stages an area...\n",
       "1          2  The international electronic industry company ...\n",
       "2          1  With the new production plant the company woul...\n",
       "3          1  According to the company 's updated strategy f...\n",
       "4          1  FINANCING OF ASPOCOMP 'S GROWTH Aspocomp is ag..."
      ]
     },
     "execution_count": 11,
     "metadata": {},
     "output_type": "execute_result"
    }
   ],
   "source": [
    "df.head()"
   ]
  },
  {
   "cell_type": "markdown",
   "id": "1f2368fa",
   "metadata": {},
   "source": [
    "## 5.2 Text Normalization"
   ]
  },
  {
   "cell_type": "markdown",
   "id": "ec7ecdcd",
   "metadata": {},
   "source": [
    "Converting all text to ASCII and lowercase helps standardize the text and ensures that the model doesn't treat \"the\" and \"The\" as different tokens. This step is vital in tasks where the casing of the text doesn't carry significant meaning, such as sentiment analysis.\n",
    "\n",
    "Punctuation marks like commas, periods, exclamation marks, etc., typically do not contribute directly to sentiment analysis and can add noise to the data. Removing them can help the model focus on meaningful words and improve accuracy.\n",
    "\n",
    "We also remove digits as they do not add value to analyzing sentiment as well.\n",
    "\n",
    "So the first step in the normalization process is addressing these two agendas. Regular Expression and built in Python string methods will be used."
   ]
  },
  {
   "cell_type": "code",
   "execution_count": 12,
   "id": "41cb7a92",
   "metadata": {},
   "outputs": [],
   "source": [
    "#define functions to lower case and remove digits\n",
    "\n",
    "def ascii_lower(str_):\n",
    "    #this regex removes characters that come after an apostrophe,eg apple's -> apple\n",
    "    reg = re.sub(r\"'[a-z]+\",'',str_)\n",
    "    x = reg.encode(\"ascii\", \"ignore\").decode()\n",
    "    x = x.lower()\n",
    "    return x\n",
    "\n",
    "def removeDigits(str_):\n",
    "    #replace all special characters, that is, everything that isnt a letter or digit\n",
    "    reg = re.sub(r'[^A-Za-z ]+','',str_)\n",
    "    return reg\n",
    "\n",
    "#apply our function to the headline column\n",
    "df['Headline'] = df['Headline'].apply(ascii_lower)\n",
    "df['Headline'] = df['Headline'].apply(removeDigits)"
   ]
  },
  {
   "cell_type": "code",
   "execution_count": 13,
   "id": "da9507c9",
   "metadata": {
    "scrolled": true
   },
   "outputs": [
    {
     "data": {
      "text/html": [
       "<div>\n",
       "<style scoped>\n",
       "    .dataframe tbody tr th:only-of-type {\n",
       "        vertical-align: middle;\n",
       "    }\n",
       "\n",
       "    .dataframe tbody tr th {\n",
       "        vertical-align: top;\n",
       "    }\n",
       "\n",
       "    .dataframe thead th {\n",
       "        text-align: right;\n",
       "    }\n",
       "</style>\n",
       "<table border=\"1\" class=\"dataframe\">\n",
       "  <thead>\n",
       "    <tr style=\"text-align: right;\">\n",
       "      <th></th>\n",
       "      <th>sentiment</th>\n",
       "      <th>Headline</th>\n",
       "    </tr>\n",
       "  </thead>\n",
       "  <tbody>\n",
       "    <tr>\n",
       "      <th>4841</th>\n",
       "      <td>0</td>\n",
       "      <td>rinkuskiai  beer sales fell by  per cent to  m...</td>\n",
       "    </tr>\n",
       "    <tr>\n",
       "      <th>4842</th>\n",
       "      <td>2</td>\n",
       "      <td>operating profit fell to eur  mn from eur  mn ...</td>\n",
       "    </tr>\n",
       "    <tr>\n",
       "      <th>4843</th>\n",
       "      <td>2</td>\n",
       "      <td>net sales of the paper segment decreased to eu...</td>\n",
       "    </tr>\n",
       "    <tr>\n",
       "      <th>4844</th>\n",
       "      <td>2</td>\n",
       "      <td>sales in finland decreased by   in january  wh...</td>\n",
       "    </tr>\n",
       "    <tr>\n",
       "      <th>4845</th>\n",
       "      <td>0</td>\n",
       "      <td>according to gran  the company has no plans to...</td>\n",
       "    </tr>\n",
       "  </tbody>\n",
       "</table>\n",
       "</div>"
      ],
      "text/plain": [
       "      sentiment                                           Headline\n",
       "4841          0  rinkuskiai  beer sales fell by  per cent to  m...\n",
       "4842          2  operating profit fell to eur  mn from eur  mn ...\n",
       "4843          2  net sales of the paper segment decreased to eu...\n",
       "4844          2  sales in finland decreased by   in january  wh...\n",
       "4845          0  according to gran  the company has no plans to..."
      ]
     },
     "execution_count": 13,
     "metadata": {},
     "output_type": "execute_result"
    }
   ],
   "source": [
    "df.tail()"
   ]
  },
  {
   "cell_type": "markdown",
   "id": "d66537a9",
   "metadata": {},
   "source": [
    "The next step is our normalization process is to tokenize the headlines and remove common stopwords that add no value to the sentiment analysis. \n",
    "\n",
    "We also lemmatize our tokens to break them down into a more meaningful base form. This is known also as linguistically principled anaylsis. We choose this over stemming as stemming simply removes the last few characters to return a root word, and because the stock market news headlines can contain nuances statement that stemming cannot provide any value to.\n",
    "\n",
    "For example, stemming \"historical highs\" would return \"histori highs\". Whereas lemmatization would return \"historical highs\". The word \"historical\" is of much more value than \"histori\", which is not an English word at all."
   ]
  },
  {
   "cell_type": "code",
   "execution_count": 14,
   "id": "052a7419",
   "metadata": {},
   "outputs": [],
   "source": [
    "#we store our tokenized words from our headlines into a list, for visualization later\n",
    "tokenizedData= []\n",
    "\n",
    "#define lemmatization object\n",
    "lt = WordNetLemmatizer()\n",
    "\n",
    "#create our stopwords set\n",
    "myStopWords = set(stopwords.words('english'))\n",
    "\n",
    "def custom_tokenizer(headline):\n",
    "    tokens = []\n",
    "    for sent in sent_tokenize(headline):\n",
    "        for word in word_tokenize(sent):\n",
    "            if word not in myStopWords:\n",
    "                tokenizedData.append(word)\n",
    "                word = lt.lemmatize(word)\n",
    "                tokens.append(word)\n",
    "            \n",
    "    newHeadline = ' '.join(tokens)\n",
    "    return newHeadline\n",
    "\n",
    "df['Updated_Headlines'] = df['Headline'].apply(custom_tokenizer)"
   ]
  },
  {
   "cell_type": "code",
   "execution_count": 15,
   "id": "27b981fe",
   "metadata": {
    "scrolled": false
   },
   "outputs": [
    {
     "data": {
      "text/html": [
       "<div>\n",
       "<style scoped>\n",
       "    .dataframe tbody tr th:only-of-type {\n",
       "        vertical-align: middle;\n",
       "    }\n",
       "\n",
       "    .dataframe tbody tr th {\n",
       "        vertical-align: top;\n",
       "    }\n",
       "\n",
       "    .dataframe thead th {\n",
       "        text-align: right;\n",
       "    }\n",
       "</style>\n",
       "<table border=\"1\" class=\"dataframe\">\n",
       "  <thead>\n",
       "    <tr style=\"text-align: right;\">\n",
       "      <th></th>\n",
       "      <th>sentiment</th>\n",
       "      <th>Headline</th>\n",
       "      <th>Updated_Headlines</th>\n",
       "    </tr>\n",
       "  </thead>\n",
       "  <tbody>\n",
       "    <tr>\n",
       "      <th>0</th>\n",
       "      <td>0</td>\n",
       "      <td>technopolis plans to develop in stages an area...</td>\n",
       "      <td>technopolis plan develop stage area le square ...</td>\n",
       "    </tr>\n",
       "    <tr>\n",
       "      <th>1</th>\n",
       "      <td>2</td>\n",
       "      <td>the international electronic industry company ...</td>\n",
       "      <td>international electronic industry company elco...</td>\n",
       "    </tr>\n",
       "    <tr>\n",
       "      <th>2</th>\n",
       "      <td>1</td>\n",
       "      <td>with the new production plant the company woul...</td>\n",
       "      <td>new production plant company would increase ca...</td>\n",
       "    </tr>\n",
       "    <tr>\n",
       "      <th>3</th>\n",
       "      <td>1</td>\n",
       "      <td>according to the company  updated strategy for...</td>\n",
       "      <td>according company updated strategy year baswar...</td>\n",
       "    </tr>\n",
       "    <tr>\n",
       "      <th>4</th>\n",
       "      <td>1</td>\n",
       "      <td>financing of aspocomp s growth aspocomp is agg...</td>\n",
       "      <td>financing aspocomp growth aspocomp aggressivel...</td>\n",
       "    </tr>\n",
       "  </tbody>\n",
       "</table>\n",
       "</div>"
      ],
      "text/plain": [
       "   sentiment                                           Headline  \\\n",
       "0          0  technopolis plans to develop in stages an area...   \n",
       "1          2  the international electronic industry company ...   \n",
       "2          1  with the new production plant the company woul...   \n",
       "3          1  according to the company  updated strategy for...   \n",
       "4          1  financing of aspocomp s growth aspocomp is agg...   \n",
       "\n",
       "                                   Updated_Headlines  \n",
       "0  technopolis plan develop stage area le square ...  \n",
       "1  international electronic industry company elco...  \n",
       "2  new production plant company would increase ca...  \n",
       "3  according company updated strategy year baswar...  \n",
       "4  financing aspocomp growth aspocomp aggressivel...  "
      ]
     },
     "execution_count": 15,
     "metadata": {},
     "output_type": "execute_result"
    }
   ],
   "source": [
    "df.head()"
   ]
  },
  {
   "cell_type": "markdown",
   "id": "e1b18985",
   "metadata": {},
   "source": [
    "We now have our updated headlines, where the textual data is in lowercase ascii, containing no digits and special characters, common stopwords removed and remaining words lemmatized. I will go ahead and drop the old headline column,"
   ]
  },
  {
   "cell_type": "code",
   "execution_count": 16,
   "id": "a09dcfba",
   "metadata": {},
   "outputs": [],
   "source": [
    "df = df.drop('Headline',axis=1)\n",
    "df = df.rename(columns={'Updated_Headlines':'Headlines'})"
   ]
  },
  {
   "cell_type": "markdown",
   "id": "fe4a9a38",
   "metadata": {},
   "source": [
    "## 5.3 Visualizing the data"
   ]
  },
  {
   "cell_type": "code",
   "execution_count": 17,
   "id": "7edbbc75",
   "metadata": {
    "scrolled": false
   },
   "outputs": [
    {
     "data": {
      "image/png": "[encoded data removed]",
      "text/plain": [
       "<Figure size 1000x400 with 1 Axes>"
      ]
     },
     "metadata": {},
     "output_type": "display_data"
    },
    {
     "data": {
      "text/plain": [
       "<Axes: xlabel='Samples', ylabel='Counts'>"
      ]
     },
     "execution_count": 17,
     "metadata": {},
     "output_type": "execute_result"
    }
   ],
   "source": [
    "#frequncy diagram of the most common tokens in our dataset\n",
    "FreqData = FreqDist(w for w in tokenizedData)\n",
    "plt.figure(figsize=(10,4))\n",
    "FreqData.plot(50)"
   ]
  },
  {
   "cell_type": "markdown",
   "id": "8ad17341",
   "metadata": {},
   "source": [
    "Based on the frequency distribution plot, it appears that a significant portion of the financial headlines originates from Europe, specifically focusing on the European market, and Finland seems to be at the core of these news articles."
   ]
  },
  {
   "cell_type": "code",
   "execution_count": 18,
   "id": "2c6894f6",
   "metadata": {
    "scrolled": false
   },
   "outputs": [
    {
     "data": {
      "image/png": "[encoded data removed]",
      "text/plain": [
       "<Figure size 640x480 with 1 Axes>"
      ]
     },
     "metadata": {},
     "output_type": "display_data"
    }
   ],
   "source": [
    "word_Cloud_Text = \" \".join(tokenizedData)\n",
    "\n",
    "#plotting a word using the WordCloud library\n",
    "word_cloud = WordCloud(collocations = False, background_color = 'white').generate(word_Cloud_Text)\n",
    "plt.imshow(word_cloud, interpolation='bilinear')\n",
    "plt.axis(\"off\")\n",
    "plt.show()"
   ]
  },
  {
   "cell_type": "markdown",
   "id": "2082dc19",
   "metadata": {},
   "source": [
    "The above word cloud provides a more visual and readable representation of the frequency distribution diagram."
   ]
  },
  {
   "cell_type": "code",
   "execution_count": 19,
   "id": "93c32fc8",
   "metadata": {
    "scrolled": false
   },
   "outputs": [],
   "source": [
    "#define function for plotting a bar chart with matplotlib\n",
    "def plot_uniqueCounts(df):\n",
    "    fig, ax = plt.subplots()\n",
    "\n",
    "    yAxisVal = ['neutral','positive','negative']\n",
    "    xAxisVal = df.sentiment.value_counts()\n",
    "    barColors = ['grey','red','green']\n",
    "\n",
    "    ax.barh(yAxisVal, xAxisVal, align='center',color=barColors)\n",
    "    ax.invert_yaxis()\n",
    "    ax.set_title('Count of Sentiment')\n",
    "\n",
    "    plt.show()"
   ]
  },
  {
   "cell_type": "code",
   "execution_count": 20,
   "id": "defb5dd1",
   "metadata": {},
   "outputs": [
    {
     "data": {
      "image/png": "[encoded data removed]",
      "text/plain": [
       "<Figure size 640x480 with 1 Axes>"
      ]
     },
     "metadata": {},
     "output_type": "display_data"
    }
   ],
   "source": [
    "plot_uniqueCounts(df)"
   ]
  },
  {
   "cell_type": "markdown",
   "id": "38fe17d3",
   "metadata": {},
   "source": [
    "From the above bar chart, we can see that we have an imbalanced number of classes in our dataset. A skewed distribution, where majority of the sample counts are of neutral sentiment. Therefore, we need to balance out the classes in order to prevent any bias when training the model. On top of that, techniques like cross validation must be utilized due to the small number of samples in this dataset, and to provide a better overview of the model's performance and prevent overfitting.\n",
    "\n",
    "In order to balance out the classes, random under sampling will be used, where we will randomly remove samples for the majority class, in this case, neutral."
   ]
  },
  {
   "cell_type": "code",
   "execution_count": 21,
   "id": "ac382942",
   "metadata": {},
   "outputs": [],
   "source": [
    "np.random.seed(5)\n",
    "\n",
    "samples = 1500\n",
    "neutralIndex = df[df['sentiment'] == 0].index\n",
    "drop_indices = np.random.choice(neutralIndex, samples, replace=False)\n",
    "df_subset = df.drop(drop_indices)"
   ]
  },
  {
   "cell_type": "code",
   "execution_count": 22,
   "id": "d8d67966",
   "metadata": {
    "scrolled": false
   },
   "outputs": [
    {
     "data": {
      "image/png": "[encoded data removed]",
      "text/plain": [
       "<Figure size 640x480 with 1 Axes>"
      ]
     },
     "metadata": {},
     "output_type": "display_data"
    }
   ],
   "source": [
    "plot_uniqueCounts(df_subset)"
   ]
  },
  {
   "cell_type": "markdown",
   "id": "73198be7",
   "metadata": {},
   "source": [
    "## 5.4 Statistical Model Text Representation\n",
    "\n",
    "For this project, I have chosen the Bag of Words Model and Term Frequency Document Model, to represent the textual data for the supervised machine learning models. The reason for this choice are as follows:\n",
    "\n",
    "- Simplicity and Efficiency: The Bag of Words Model or BoW, is relatively simple to implement and understand. It represents text data in numerical form, as a collection of word frequencies, against the entire vocabulary of the document. Term Frequency-Inverse Document Frequency or Tfid, extends the BoW, by adding a weight to each word against its frequency.\n",
    "<br>\n",
    "\n",
    "- Suitability for Classification: The BoW and Tfid model are well-suited for classification tasks, where the goal is to assign labels to input text data, this case, the financial news headlines and its respective sentiment. It works effectively with classifiers like Naive Bayes, Support Vector Machines (SVM), and Random Forests, making them a good statistical choice for sentiment analysis."
   ]
  },
  {
   "cell_type": "markdown",
   "id": "06ddc57f",
   "metadata": {},
   "source": [
    "Prepare the train test split for our model. Train-test split is a technique in machine learning where the dataset is divided into a training set, used to train the model, and a testing set, used to evaluate the model's performance on unseen data, helping assess its generalization capabilities and potential overfitting issues."
   ]
  },
  {
   "cell_type": "code",
   "execution_count": 23,
   "id": "478d89f0",
   "metadata": {},
   "outputs": [],
   "source": [
    "from sklearn.model_selection import train_test_split\n",
    "#using sklearn's train_test_split\n",
    "\n",
    "#convert the headlines and sentiment column values into a list\n",
    "features = df_subset['Headlines'].tolist() \n",
    "\n",
    "labels = df_subset['sentiment'].tolist()\n",
    "\n",
    "X_train,X_test,y_train,y_test = train_test_split(features,labels,test_size=0.2,random_state=7)"
   ]
  },
  {
   "cell_type": "code",
   "execution_count": 24,
   "id": "285140bc",
   "metadata": {},
   "outputs": [],
   "source": [
    "#import's sklearn's CounteVectorizer to build the BoW\n",
    "from sklearn.feature_extraction.text import CountVectorizer\n",
    "\n",
    "count_Vect = CountVectorizer(stop_words='english')\n",
    "X_train_BoW = count_Vect.fit_transform(X_train)\n",
    "X_test_BoW = count_Vect.transform(X_test)"
   ]
  },
  {
   "cell_type": "code",
   "execution_count": 25,
   "id": "4801c6cc",
   "metadata": {},
   "outputs": [],
   "source": [
    "#import's sklearn's tfidVectorizer to build tfid document matrix\n",
    "from sklearn.feature_extraction.text import TfidfVectorizer\n",
    "\n",
    "vectorizer = TfidfVectorizer()\n",
    "X_train_tfid = vectorizer.fit_transform(X_train)\n",
    "X_test_tfid = vectorizer.transform(X_test)"
   ]
  },
  {
   "cell_type": "markdown",
   "id": "dc1833e6",
   "metadata": {},
   "source": [
    "## 5.5 Embedding Model Text Representation\n",
    "\n",
    "Preparing and representing the text data for a deep learning model like BERT is slightly different than a traditional supervised model. \n",
    "\n",
    "\n",
    "We need to prepare <b>three sets of data for deep learning</b>.\n",
    "\n",
    "\n",
    "1. Training Set: Subset of the data used to train the model. \n",
    "\n",
    "\n",
    "2. Validation Set: Subset of the data used to tune the model's hyperparameters and to monitor its performance during training.\n",
    "\n",
    "\n",
    "3. Test Set: Subset of unseen data, used to evaluate the final model's performance.\n",
    "\n",
    "To convert our raw textual data into a form that can be accepted by the BERT model, we need to utilizer the BertTokenizer. The BertTokenizer tokenizes the input text by breaking it down the text and converting them into a sequence of numerical tokens, which include special tokens like [CLS] for the start of a sentence and [SEP] for separating sentences. This is because BERT is bi-directional, and analyzes meaning of sentences from both ends."
   ]
  },
  {
   "cell_type": "code",
   "execution_count": 26,
   "id": "ca08b5d2",
   "metadata": {},
   "outputs": [],
   "source": [
    "from transformers import BertTokenizer\n",
    "\n",
    "#Tokenize and encode the data using the BERT tokenizer\n",
    "tokenizer = BertTokenizer.from_pretrained('bert-base-uncased', do_lower_case=True)"
   ]
  },
  {
   "cell_type": "markdown",
   "id": "39c84853",
   "metadata": {},
   "source": [
    "Below is the training, validation and test splits for the production model."
   ]
  },
  {
   "cell_type": "code",
   "execution_count": 27,
   "id": "d7239fee",
   "metadata": {
    "scrolled": false
   },
   "outputs": [
    {
     "name": "stdout",
     "output_type": "stream",
     "text": [
      "train_text shape:  (2844,)\n",
      "test_text shape:  (502,)\n"
     ]
    }
   ],
   "source": [
    "#this is the train and test split\n",
    "bert_X_train,bert_X_test,bert_y_train,bert_y_test=train_test_split(df_subset['Headlines'], \n",
    "                                                                   df_subset['sentiment'], \n",
    "                                                                   test_size=0.15, \n",
    "                                                                   random_state=42)\n",
    "\n",
    "print(\"train_text shape: \",bert_X_train.shape)\n",
    "print(\"test_text shape: \",bert_X_test.shape)"
   ]
  },
  {
   "cell_type": "markdown",
   "id": "53f93c2d",
   "metadata": {},
   "source": [
    "To perform training, validation and testing for test models, we also need to convert our features and labels to numpy array as well, instead of a list, in order to perform k fold cross validation."
   ]
  },
  {
   "cell_type": "code",
   "execution_count": 28,
   "id": "503e8d27",
   "metadata": {},
   "outputs": [],
   "source": [
    "#pandas to np.array\n",
    "deep_X = df_subset['Headlines'].to_numpy()\n",
    "deep_y = df_subset['sentiment'].to_numpy()"
   ]
  },
  {
   "cell_type": "markdown",
   "id": "033b06ab",
   "metadata": {},
   "source": [
    "# 6 Baseline performance\n",
    "\n",
    "To have a baseline peroformance to compare the models to, I will be adopting two approaches. \n",
    "\n",
    "1. The first is to review the current literature, where the performance of superivsed machine learning and deep learning models in financial sentiment analysis has been measured, and use that as my first baseline.\n",
    "\n",
    "    <b>Justification</b>: Using a baseline from published literature ensures that the comparison of performance later on, is against a widely accepted standard. This enhances the credibility of the work. On top of that, published works are typically derived from various real-world dataset, ensuring the benchmark is relevant to practical applications.\n",
    "    <br>\n",
    "\n",
    "2. The second is to form a random baseline of my own.\n",
    "\n",
    "    <b>Justification</b>: It is simple to implement and replicate. Furthermore, it sets a minimum and realistic expectation for model performance. If either models cannot beat a random baseline, then it indicates a larger problem with the project as a whole.\n",
    "    \n",
    "### Statistical Model Baselines\n",
    "\n",
    "This study done by Savas and colleagues[9], used data from Stocktwits, a social media platform for investors, for sentiment analysis. They built a multinomial naive bayes and random forest model with scores of 76. I will use that as my first baseline, that is based off published literature, while my random baseline will be 60.\n",
    "\n",
    "\n",
    "### Deep Learning Model Baselines\n",
    "\n",
    "This study done by Sousa and colleagues[10], tested BERT on financial news articles from various news publishers like CNBC and Forbes. The results showed that BERT had an accuracy of 82.5. That will be the first baseline that is based off published literature, while my random baseline will be 70."
   ]
  },
  {
   "cell_type": "markdown",
   "id": "3afc1555",
   "metadata": {},
   "source": [
    "# 7 Classification Approach\n",
    "\n",
    "### Chosen Statistical Models: Naive Bayes and Random Forest\n",
    "\n",
    "Naive Bayes is a probabilistic classifier that applies Bayes' theorem with the assumption that features are independent given the class. It estimates the prior probability of each sentiment class and the likelihood of each word given the sentiment from the training data. Random Forest classifier uses an ensemble method and constructs multiple decision trees during training and merges their outputs to improve performance and reduce overfitting, as compared to a single decision tree. The rationale for my chosen approach of using the Naives Bayes and Random Forest classifiers are as follows:\n",
    "    \n",
    "1. <b>Ease of Use</b>: Naive Bayes is simple to implement and computationally efficient.It doesn't require complex parameter tuning, making it a great choice for quick development and deployment.\n",
    "    <br>\n",
    "    \n",
    "1. <b>Dataset size</b>:Both algorithms performs well even on small training dataset. This is important for supervised learning as gathering and labeling datasets can be tedious and large pre-labelled datasets are hard to comeby.\n",
    "    <br>\n",
    "    \n",
    "3. <b>Reduced Overfitting</b>: Both classification algorithms are generally less prone to overfitting.\n",
    "\n",
    "The drawbacks of using Naive Bayes and Random Forests are as follows:\n",
    "\n",
    "- <b>Zero probability:</b> Naive Bayes has an issue where it assigns zero probability to a categorical variable whose category was present in the test set but not in the training. \n",
    "<br>\n",
    "\n",
    "- <b>Interpretability:</b> Because random forests uses multiple decision trees, interpreting the training and prediction results and the steps the model took, can be difficult to visualize in a graph or diagram.\n",
    "\n",
    "### Alternative Statistical Approaches:\n",
    "\n",
    "- <b>Support Vector Machine (SVM):</b>\n",
    "   - Benefits: It is effective in high-dimensional spaces and reduces overfitting in some cases.\n",
    "   - Drawbacks: Computationally intensive for large datasets and sensitive to feature scaling. It's hyperparameter tuning is not as straightforward as Naive Bayes, for example.<br/>\n",
    "    \n",
    "### Chosen Deep Learning Approach: BERT\n",
    "\n",
    "BERT is a pre-trained language model developed by Google that utilizes transformers, a type of deep learning architecture, to understand human language. It is designed to read entire sequences of text bidirectionally, allowing it to understand words and their meanings more accurately, giving BERT the ability to capture nuanced concepts and domain specific terminology, like in finance. Transformers, the underlying architecture of BERT, consist of an encoder-decoder framework primarily used for sequence-to-sequence tasks. The rationale for choosing BERT as my deep learning approach are as follows:\n",
    "    \n",
    "1. <b>Contextual Understanding</b>: BERT captures the context and meaning of words in a sentence more effectively than traditional models, due to its bidirectional nature.\n",
    "\n",
    "The drawbacks of using BERT are as follows:\n",
    "\n",
    "- <b>Performance:</b> Drawbacks of BERT is that its a large neural network. Which means it requires tons of computational power and time to efffectively generate a high performance text classifier.\n",
    "\n",
    "\n",
    "###  Alternative Deep Learning Approaches:\n",
    "\n",
    "- <b>GPT</b>: GPT by OpenAI, uses large language models(LLM), for text classifications tasks. Like BERT, it also uses the transformers architecture to perform NLP tasks.\n",
    "    - Benefits: GPT, like BERT, is pre-trained. Meaning it can already perform NLP tasks like language translation, out of the box.\n",
    "    - Drawbacks: GPT sometimes lack consistency in its output, requiring constant human intervention to correct it. It is also very resource intensive to run.\n",
    "    \n",
    "## Training and Optimization\n",
    "\n",
    "The training and optimization process will be based of the universal workflow depicted by François Chollet, in his book Deep Learning with Python[11]. I will first build a model that beats the random baseline, then intentionally develop a model that overfits, to ascertain how much power I need, then a production model where the hyperparameters are tuned, and compared against the literature benchmark. When training, k fold cross-validation will be used. It is a technique for evaluating a model's performance by partitioning the data into multiple subsets, training the model on some subsets while testing it on the remaining ones, and repeating this process k number of times. This helps prevent overfitting, where the model generalizes well to seen data, but collapses when given new unseen data, and especially useful for small datasets, like the one used in this project."
   ]
  },
  {
   "cell_type": "markdown",
   "id": "b687322e",
   "metadata": {},
   "source": [
    "## 7.1 Multinomial Naives Bayes Base Model"
   ]
  },
  {
   "cell_type": "code",
   "execution_count": 29,
   "id": "e1c020a1",
   "metadata": {},
   "outputs": [],
   "source": [
    "#import machine learning model from sklearn\n",
    "from sklearn.metrics import confusion_matrix,ConfusionMatrixDisplay\n",
    "from sklearn.metrics import precision_score,recall_score,accuracy_score,classification_report\n",
    "from sklearn.naive_bayes import MultinomialNB\n",
    "from sklearn.model_selection import cross_val_score as CVS"
   ]
  },
  {
   "cell_type": "code",
   "execution_count": 30,
   "id": "2fad9e89",
   "metadata": {},
   "outputs": [],
   "source": [
    "#define custom cross validation scorer function\n",
    "def cross_val(model,x,y,folds):\n",
    "    cvs = CVS(model,x,y,cv=folds)\n",
    "    score = np.average(cvs)\n",
    "    score = score * 100\n",
    "    return score"
   ]
  },
  {
   "cell_type": "code",
   "execution_count": 31,
   "id": "5c64221f",
   "metadata": {},
   "outputs": [],
   "source": [
    "#define confusion matrix display function\n",
    "def plot_confusionMatrix(truth,predicts):\n",
    "    cm = confusion_matrix(truth,predicts)\n",
    "    displayMatrix = ConfusionMatrixDisplay(confusion_matrix=cm)\n",
    "    displayMatrix.plot()"
   ]
  },
  {
   "cell_type": "markdown",
   "id": "4e477242",
   "metadata": {},
   "source": [
    "### 7.1.1 Bag of Words"
   ]
  },
  {
   "cell_type": "code",
   "execution_count": 32,
   "id": "d68ec34a",
   "metadata": {},
   "outputs": [
    {
     "name": "stdout",
     "output_type": "stream",
     "text": [
      "CPU times: total: 15.6 ms\n",
      "Wall time: 16 ms\n"
     ]
    },
    {
     "data": {
      "text/plain": [
       "63.45215511228902"
      ]
     },
     "execution_count": 32,
     "metadata": {},
     "output_type": "execute_result"
    }
   ],
   "source": [
    "%%time\n",
    "\n",
    "mnb_base_BoW = MultinomialNB(fit_prior=True, force_alpha=True)\n",
    "\n",
    "#use 5 folds for training\n",
    "mnb_BoW = cross_val(mnb_base_BoW,X_train_BoW,y_train,5)\n",
    "mnb_BoW"
   ]
  },
  {
   "cell_type": "markdown",
   "id": "a05aef4c",
   "metadata": {},
   "source": [
    "### 7.1.2  Tfid"
   ]
  },
  {
   "cell_type": "code",
   "execution_count": 33,
   "id": "98412310",
   "metadata": {},
   "outputs": [
    {
     "name": "stdout",
     "output_type": "stream",
     "text": [
      "CPU times: total: 0 ns\n",
      "Wall time: 5.53 ms\n"
     ]
    },
    {
     "data": {
      "text/plain": [
       "60.01436741526015"
      ]
     },
     "execution_count": 33,
     "metadata": {},
     "output_type": "execute_result"
    }
   ],
   "source": [
    "%%time\n",
    "\n",
    "mnb_base_Tfid = MultinomialNB(fit_prior=True, force_alpha=True)\n",
    "\n",
    "#use 5 folds for training\n",
    "mnb_Tfid = cross_val(mnb_base_Tfid,X_train_tfid,y_train,5)\n",
    "mnb_Tfid"
   ]
  },
  {
   "cell_type": "markdown",
   "id": "8f9f34e1",
   "metadata": {},
   "source": [
    "The naive bayes base model using bag of words representation, surpassed our random baseline of 60 by 3.\n",
    "\n",
    "The naive bayes base model using tfid representation, met our random baseline of 60.\n",
    "\n",
    "We can proceed to tuning now."
   ]
  },
  {
   "cell_type": "markdown",
   "id": "1fe347d8",
   "metadata": {},
   "source": [
    "## 7.2 Naive Bayes Hyperparameter Tuning\n",
    "\n",
    "Naive Bayes classifier has truly only one parameter to tune, the alpha value. In most cases, tuning is not needed, as the default value of 1 is the most optimal. Thus, there is not a need to build a overfitting model. Nevertheless, as part of the workflow, GridSearch is used to identify the best alpha value."
   ]
  },
  {
   "cell_type": "code",
   "execution_count": 34,
   "id": "660113ad",
   "metadata": {},
   "outputs": [],
   "source": [
    "from sklearn.model_selection import GridSearchCV\n",
    "\n",
    "tuningOptions = {\n",
    "    'alpha': [0.1,0.2,0.3,0.4,0.5,0.6,0.7,0.8,0.9,1]\n",
    "}"
   ]
  },
  {
   "cell_type": "code",
   "execution_count": 35,
   "id": "c18ee265",
   "metadata": {},
   "outputs": [
    {
     "name": "stdout",
     "output_type": "stream",
     "text": [
      "[{'alpha': 0.8}, {'alpha': 0.2}]\n",
      "CPU times: total: 203 ms\n",
      "Wall time: 200 ms\n"
     ]
    }
   ],
   "source": [
    "%%time\n",
    "\n",
    "mnb_tuning_results = []\n",
    "mnb_models = [mnb_base_BoW,mnb_base_Tfid]\n",
    "mnb_data = [X_train_BoW,X_train_tfid]\n",
    "\n",
    "for i in range(2):\n",
    "    x = GridSearchCV(mnb_models[i],tuningOptions,cv=5,scoring='accuracy')\n",
    "    x.fit(mnb_data[i],y_train)\n",
    "    mnb_tuning_results.append(x.best_params_)\n",
    "    \n",
    "print(mnb_tuning_results)"
   ]
  },
  {
   "cell_type": "markdown",
   "id": "e09c567b",
   "metadata": {},
   "source": [
    "The best alpha parameter for Bag of Words and Tfid are 0.8 and 0.2, respectively."
   ]
  },
  {
   "cell_type": "markdown",
   "id": "b553f1f7",
   "metadata": {},
   "source": [
    "## 7.3 Multinomial Naives Bayes Production Model"
   ]
  },
  {
   "cell_type": "markdown",
   "id": "f52f2e5f",
   "metadata": {},
   "source": [
    "### 7.3.1 Bag of Words"
   ]
  },
  {
   "cell_type": "code",
   "execution_count": 36,
   "id": "ace85230",
   "metadata": {
    "scrolled": false
   },
   "outputs": [
    {
     "name": "stdout",
     "output_type": "stream",
     "text": [
      "CPU times: total: 0 ns\n",
      "Wall time: 0 ns\n"
     ]
    }
   ],
   "source": [
    "%%time\n",
    "\n",
    "mnb_clf_BoW = MultinomialNB(alpha=0.8,fit_prior=True, force_alpha=True)\n",
    "mnb_clf_BoW.fit(X_train_BoW,y_train)\n",
    "mnb_clf_BoW_Predictions = mnb_clf_BoW.predict(X_test_BoW)"
   ]
  },
  {
   "cell_type": "code",
   "execution_count": 37,
   "id": "3e80b7a6",
   "metadata": {
    "scrolled": false
   },
   "outputs": [
    {
     "name": "stdout",
     "output_type": "stream",
     "text": [
      "Performance Report for Naive Bayes using Bag of Words:\n",
      "\n",
      "              precision    recall  f1-score   support\n",
      "\n",
      "           0       0.66      0.70      0.68       277\n",
      "           1       0.64      0.63      0.64       271\n",
      "           2       0.67      0.61      0.64       122\n",
      "\n",
      "    accuracy                           0.65       670\n",
      "   macro avg       0.66      0.64      0.65       670\n",
      "weighted avg       0.65      0.65      0.65       670\n",
      "\n"
     ]
    },
    {
     "data": {
      "image/png": "[encoded data removed]",
      "text/plain": [
       "<Figure size 640x480 with 2 Axes>"
      ]
     },
     "metadata": {},
     "output_type": "display_data"
    }
   ],
   "source": [
    "#plot confusion matrix\n",
    "plot_confusionMatrix(y_test,mnb_clf_BoW_Predictions)\n",
    "#plot accuracy and precision and recall\n",
    "print('Performance Report for Naive Bayes using Bag of Words:\\n')\n",
    "print(classification_report(y_test,mnb_clf_BoW_Predictions))"
   ]
  },
  {
   "cell_type": "markdown",
   "id": "ec9f16d3",
   "metadata": {},
   "source": [
    "Naive Bayes Classifier using a Bag of Words representation had the following results:\n",
    "- accuracy: 65\n",
    "- neutral precision: 66\n",
    "- positive precision: 64\n",
    "- negative precision: 67\n",
    "\n",
    "It surpassed our random basline by 5, whilst under performing against the literature benchmark of 76, by 11."
   ]
  },
  {
   "cell_type": "markdown",
   "id": "2a469971",
   "metadata": {},
   "source": [
    "### 7.3.2 Tfid"
   ]
  },
  {
   "cell_type": "code",
   "execution_count": 38,
   "id": "394462e7",
   "metadata": {},
   "outputs": [
    {
     "name": "stdout",
     "output_type": "stream",
     "text": [
      "CPU times: total: 0 ns\n",
      "Wall time: 3.01 ms\n"
     ]
    }
   ],
   "source": [
    "%%time\n",
    "\n",
    "mnb_clf_Tfid = MultinomialNB(alpha=0.2,fit_prior=True, force_alpha=True)\n",
    "mnb_clf_Tfid.fit(X_train_tfid,y_train)\n",
    "mnb_clf_Tfid_Predictions = mnb_clf_Tfid.predict(X_test_tfid)"
   ]
  },
  {
   "cell_type": "code",
   "execution_count": 39,
   "id": "595231b8",
   "metadata": {
    "scrolled": false
   },
   "outputs": [
    {
     "name": "stdout",
     "output_type": "stream",
     "text": [
      "Performance Report for Naive Bayes using Tfid:\n",
      "\n",
      "              precision    recall  f1-score   support\n",
      "\n",
      "           0       0.63      0.69      0.66       277\n",
      "           1       0.60      0.64      0.62       271\n",
      "           2       0.75      0.47      0.58       122\n",
      "\n",
      "    accuracy                           0.63       670\n",
      "   macro avg       0.66      0.60      0.62       670\n",
      "weighted avg       0.64      0.63      0.63       670\n",
      "\n"
     ]
    },
    {
     "data": {
      "image/png": "[encoded data removed]",
      "text/plain": [
       "<Figure size 640x480 with 2 Axes>"
      ]
     },
     "metadata": {},
     "output_type": "display_data"
    }
   ],
   "source": [
    "#plot confusion matrix\n",
    "plot_confusionMatrix(y_test,mnb_clf_Tfid_Predictions)\n",
    "#plot accuracy and precision and recall\n",
    "print('Performance Report for Naive Bayes using Tfid:\\n')\n",
    "print(classification_report(y_test,mnb_clf_Tfid_Predictions))"
   ]
  },
  {
   "cell_type": "markdown",
   "id": "3f569dc6",
   "metadata": {},
   "source": [
    "Naive Bayes Classifier using a Term Frequency Inverse Document representation had the following results:\n",
    "- accuracy: 63\n",
    "- neutral precision: 63\n",
    "- positive precision: 60\n",
    "- negative precision: 75\n",
    "\n",
    "It surpassed our random basline by 3, whilst under performing against the literature benchmark of 76, by 13."
   ]
  },
  {
   "cell_type": "markdown",
   "id": "3fcee3a0",
   "metadata": {},
   "source": [
    "## 7.4 Random Forest Base Model"
   ]
  },
  {
   "cell_type": "markdown",
   "id": "9b2618d2",
   "metadata": {},
   "source": [
    "### 7.4.1 Bag of Words"
   ]
  },
  {
   "cell_type": "code",
   "execution_count": 40,
   "id": "3d0a6b31",
   "metadata": {},
   "outputs": [],
   "source": [
    "from sklearn.ensemble import RandomForestClassifier"
   ]
  },
  {
   "cell_type": "code",
   "execution_count": 41,
   "id": "4a7e19a1",
   "metadata": {},
   "outputs": [
    {
     "name": "stdout",
     "output_type": "stream",
     "text": [
      "CPU times: total: 21.7 s\n",
      "Wall time: 21.7 s\n"
     ]
    },
    {
     "data": {
      "text/plain": [
       "66.59269075184824"
      ]
     },
     "execution_count": 41,
     "metadata": {},
     "output_type": "execute_result"
    }
   ],
   "source": [
    "%%time\n",
    "\n",
    "#using sklearn's model\n",
    "rf_base_BoW = RandomForestClassifier()\n",
    "\n",
    "#use 5 folds for training\n",
    "rf_BoW = cross_val(rf_base_BoW,X_train_BoW,y_train,5)\n",
    "rf_BoW"
   ]
  },
  {
   "cell_type": "markdown",
   "id": "3ea29f95",
   "metadata": {},
   "source": [
    "### 7.4.2 Tfid"
   ]
  },
  {
   "cell_type": "code",
   "execution_count": 42,
   "id": "8c83b7d9",
   "metadata": {
    "scrolled": true
   },
   "outputs": [
    {
     "name": "stdout",
     "output_type": "stream",
     "text": [
      "CPU times: total: 19 s\n",
      "Wall time: 19 s\n"
     ]
    },
    {
     "data": {
      "text/plain": [
       "66.25610266424886"
      ]
     },
     "execution_count": 42,
     "metadata": {},
     "output_type": "execute_result"
    }
   ],
   "source": [
    "%%time\n",
    "\n",
    "#using sklearn's model\n",
    "rf_base_Tfid = RandomForestClassifier()\n",
    "\n",
    "#use 5 folds for training\n",
    "rf_Tfid = cross_val(rf_base_Tfid,X_train_tfid,y_train,5)\n",
    "rf_Tfid"
   ]
  },
  {
   "cell_type": "markdown",
   "id": "74b063d9",
   "metadata": {},
   "source": [
    "The random forest base model using bag of words representation, surpassed our random baseline of 60 by 6.\n",
    "\n",
    "The random forest base model using tfid representation, surpassed our random baseline of 60 by 6.\n",
    "\n",
    "We can proceed to tuning now."
   ]
  },
  {
   "cell_type": "markdown",
   "id": "8cbf23b9",
   "metadata": {},
   "source": [
    "## 7.5 Random Forest Tuning\n",
    "\n",
    "I have chosen the following parameters to tune for the random forest classifier:\n",
    "1. <b>n_estimators</b>: This is simply the number of trees in the forest. We shall see if the default number of tress, 100, is better, or lesser set of trees.\n",
    "2. <b>max_depth</b>: The max depth is how far each tree goes until its child nodes are pure, meaning it all instances in the leaf node are of the same class. We shall test if an unlimited number of depth is better than a fixed smaller amount.\n",
    "3. <b>min_samples_split</b>: Minimum samples for a node to split, is a higher or lower sample count better?\n",
    "4. <b>min_samples_leaf</b>: How many samples are required for a node?\n",
    "\n",
    "It is important to note that more parameters and wider range of parameter figures can be tuned, but at the cost of computational time."
   ]
  },
  {
   "cell_type": "code",
   "execution_count": 43,
   "id": "706fc698",
   "metadata": {},
   "outputs": [],
   "source": [
    "#define grid search params\n",
    "rf_specs = {\n",
    "    'n_estimators': [50, 100],\n",
    "    'max_depth': [None, 10, 20],\n",
    "    'min_samples_split': [2, 5],\n",
    "    'min_samples_leaf': [1, 2],  \n",
    "}"
   ]
  },
  {
   "cell_type": "code",
   "execution_count": 44,
   "id": "6178a714",
   "metadata": {
    "scrolled": true
   },
   "outputs": [
    {
     "name": "stdout",
     "output_type": "stream",
     "text": [
      "[{'max_depth': None, 'min_samples_leaf': 1, 'min_samples_split': 2, 'n_estimators': 100}, {'max_depth': None, 'min_samples_leaf': 1, 'min_samples_split': 2, 'n_estimators': 50}]\n",
      "CPU times: total: 3min 38s\n",
      "Wall time: 3min 38s\n"
     ]
    }
   ],
   "source": [
    "%%time\n",
    "\n",
    "rf_tuning_results = []\n",
    "rf_models = [rf_base_BoW,rf_base_Tfid]\n",
    "rf_data = [X_train_BoW,X_train_tfid]\n",
    "\n",
    "for i in range(2):\n",
    "    x = GridSearchCV(rf_models[i],rf_specs,cv=5,scoring='accuracy')\n",
    "    x.fit(rf_data[i],y_train)\n",
    "    rf_tuning_results.append(x.best_params_)\n",
    "    \n",
    "print(rf_tuning_results)"
   ]
  },
  {
   "cell_type": "markdown",
   "id": "081ce56d",
   "metadata": {},
   "source": [
    "The best parameters for the Random Forest Classifiers are as follows:\n",
    "- Bag of Words = {'max_depth': None, 'min_samples_leaf': 1, 'min_samples_split': 2, 'n_estimators': 100}\n",
    "- Tfid = {'max_depth': None, 'min_samples_leaf': 1, 'min_samples_split': 2, 'n_estimators': 50}"
   ]
  },
  {
   "cell_type": "markdown",
   "id": "09649452",
   "metadata": {},
   "source": [
    "## 7.6 Random Forest Production Model\n",
    "\n",
    "### 7.6.1 Bag of Words"
   ]
  },
  {
   "cell_type": "code",
   "execution_count": 45,
   "id": "a6c35ec1",
   "metadata": {},
   "outputs": [
    {
     "name": "stdout",
     "output_type": "stream",
     "text": [
      "CPU times: total: 4.2 s\n",
      "Wall time: 4.22 s\n"
     ]
    }
   ],
   "source": [
    "%%time\n",
    "\n",
    "rf_clf_BoW = RandomForestClassifier(min_samples_leaf=1,min_samples_split=2,n_estimators=100)\n",
    "rf_clf_BoW.fit(X_train_BoW,y_train)\n",
    "rf_clf_BoW_Predictions = rf_clf_BoW.predict(X_test_BoW)"
   ]
  },
  {
   "cell_type": "code",
   "execution_count": 46,
   "id": "d0991eb7",
   "metadata": {
    "scrolled": false
   },
   "outputs": [
    {
     "name": "stdout",
     "output_type": "stream",
     "text": [
      "Performance Report for Random Forest using BoW:\n",
      "\n",
      "              precision    recall  f1-score   support\n",
      "\n",
      "           0       0.67      0.86      0.75       277\n",
      "           1       0.70      0.67      0.69       271\n",
      "           2       0.79      0.37      0.50       122\n",
      "\n",
      "    accuracy                           0.69       670\n",
      "   macro avg       0.72      0.63      0.65       670\n",
      "weighted avg       0.70      0.69      0.68       670\n",
      "\n"
     ]
    },
    {
     "data": {
      "image/png": "[encoded data removed]",
      "text/plain": [
       "<Figure size 640x480 with 2 Axes>"
      ]
     },
     "metadata": {},
     "output_type": "display_data"
    }
   ],
   "source": [
    "#plot confusion matrix\n",
    "plot_confusionMatrix(y_test,rf_clf_BoW_Predictions)\n",
    "print('Performance Report for Random Forest using BoW:\\n')\n",
    "print(classification_report(y_test,rf_clf_BoW_Predictions))"
   ]
  },
  {
   "cell_type": "markdown",
   "id": "657377af",
   "metadata": {},
   "source": [
    "Random Forest Classifier using a Bag of Words representation had the following results:\n",
    "- accuracy: 69\n",
    "- neutral precision: 67\n",
    "- positive precision: 70\n",
    "- negative precision: 79\n",
    "\n",
    "It surpassed our random basline by 9, whilst under performing against the literature benchmark of 76, by 7."
   ]
  },
  {
   "cell_type": "markdown",
   "id": "7e9e1e8b",
   "metadata": {},
   "source": [
    "### 7.6.2 Tfid"
   ]
  },
  {
   "cell_type": "code",
   "execution_count": 47,
   "id": "a8621e2a",
   "metadata": {},
   "outputs": [
    {
     "name": "stdout",
     "output_type": "stream",
     "text": [
      "CPU times: total: 1.77 s\n",
      "Wall time: 1.77 s\n"
     ]
    }
   ],
   "source": [
    "%%time\n",
    "\n",
    "rf_clf_Tfid = RandomForestClassifier(min_samples_leaf=1,min_samples_split=2,n_estimators=50)\n",
    "rf_clf_Tfid.fit(X_train_tfid,y_train)\n",
    "rf_clf_Tfid_Predictions = rf_clf_Tfid.predict(X_test_tfid)"
   ]
  },
  {
   "cell_type": "code",
   "execution_count": 48,
   "id": "36db5f0e",
   "metadata": {},
   "outputs": [
    {
     "name": "stdout",
     "output_type": "stream",
     "text": [
      "Performance Report for Random Forest using Tfid:\n",
      "\n",
      "              precision    recall  f1-score   support\n",
      "\n",
      "           0       0.67      0.82      0.74       277\n",
      "           1       0.67      0.66      0.67       271\n",
      "           2       0.78      0.40      0.53       122\n",
      "\n",
      "    accuracy                           0.68       670\n",
      "   macro avg       0.71      0.63      0.65       670\n",
      "weighted avg       0.69      0.68      0.67       670\n",
      "\n"
     ]
    },
    {
     "data": {
      "image/png": "[encoded data removed]",
      "text/plain": [
       "<Figure size 640x480 with 2 Axes>"
      ]
     },
     "metadata": {},
     "output_type": "display_data"
    }
   ],
   "source": [
    "#plot confusion matrix\n",
    "plot_confusionMatrix(y_test,rf_clf_Tfid_Predictions)\n",
    "print('Performance Report for Random Forest using Tfid:\\n')\n",
    "print(classification_report(y_test,rf_clf_Tfid_Predictions))"
   ]
  },
  {
   "cell_type": "markdown",
   "id": "1d64ab82",
   "metadata": {},
   "source": [
    "Random Forest Classifier using a Term Frequency Inverse Document representation had the following results:\n",
    "- accuracy: 68\n",
    "- neutral precision: 67\n",
    "- positive precision: 67\n",
    "- negative precision: 78\n",
    "\n",
    "It surpassed our random basline by 8, whilst under performing against the literature benchmark of 76, by 8."
   ]
  },
  {
   "cell_type": "markdown",
   "id": "42b92eff",
   "metadata": {},
   "source": [
    "## 7.7 BERT Base Model\n",
    "https://www.geeksforgeeks.org/sentiment-classification-using-bert/"
   ]
  },
  {
   "cell_type": "markdown",
   "id": "aa31f5db",
   "metadata": {},
   "source": [
    "Import the BERT model from HuggingFace transformers."
   ]
  },
  {
   "cell_type": "code",
   "execution_count": 49,
   "id": "105e2cdf",
   "metadata": {
    "scrolled": true
   },
   "outputs": [
    {
     "name": "stdout",
     "output_type": "stream",
     "text": [
      "WARNING:tensorflow:From C:\\ProgramData\\anaconda3\\Lib\\site-packages\\keras\\src\\losses.py:2976: The name tf.losses.sparse_softmax_cross_entropy is deprecated. Please use tf.compat.v1.losses.sparse_softmax_cross_entropy instead.\n",
      "\n"
     ]
    }
   ],
   "source": [
    "#import BERT transformer\n",
    "import tensorflow as tf\n",
    "from transformers import TFBertForSequenceClassification\n",
    "from transformers import logging\n",
    "from sklearn.model_selection import KFold"
   ]
  },
  {
   "cell_type": "markdown",
   "id": "f941e0e3",
   "metadata": {},
   "source": [
    "Define the optimizer, loss functions and metrics the neural network will use when training. BERT's documentation recommends the Adam optimizer. SparseCategorical will be used for loss and metric functions as we have a multi-class dataset."
   ]
  },
  {
   "cell_type": "code",
   "execution_count": 50,
   "id": "e54300e2",
   "metadata": {
    "scrolled": true
   },
   "outputs": [
    {
     "name": "stdout",
     "output_type": "stream",
     "text": [
      "WARNING:tensorflow:From C:\\ProgramData\\anaconda3\\Lib\\site-packages\\keras\\src\\utils\\tf_utils.py:585: The name tf.executing_eagerly_outside_functions is deprecated. Please use tf.compat.v1.executing_eagerly_outside_functions instead.\n",
      "\n"
     ]
    }
   ],
   "source": [
    "#optimizer, loss function, and metrics\n",
    "optimizer = tf.keras.optimizers.legacy.Adam(learning_rate=2e-5)\n",
    "loss = tf.keras.losses.SparseCategoricalCrossentropy(from_logits=True)\n",
    "metric = tf.keras.metrics.SparseCategoricalAccuracy(name='accuracy')"
   ]
  },
  {
   "cell_type": "code",
   "execution_count": 51,
   "id": "7692890d",
   "metadata": {},
   "outputs": [],
   "source": [
    "#function to build the bert model\n",
    "def initialize_bert():\n",
    "    #intialize model\n",
    "    bert_model = TFBertForSequenceClassification.from_pretrained('bert-base-uncased', num_labels=3)\n",
    "    bert_model.compile(optimizer=optimizer, loss=loss, metrics=[metric])    \n",
    "\n",
    "    #stops the warnings and console logs from bert\n",
    "    logging.set_verbosity_error() \n",
    "    \n",
    "    return bert_model"
   ]
  },
  {
   "cell_type": "markdown",
   "id": "4ea45e62",
   "metadata": {},
   "source": [
    "To get a robust performance overview, we use k-fold cross validation, with k being 5, to alleviate the issues of working with a small dataset."
   ]
  },
  {
   "cell_type": "code",
   "execution_count": 52,
   "id": "c910996e",
   "metadata": {
    "scrolled": true
   },
   "outputs": [
    {
     "name": "stderr",
     "output_type": "stream",
     "text": [
      "All PyTorch model weights were used when initializing TFBertForSequenceClassification.\n",
      "\n",
      "Some weights or buffers of the TF 2.0 model TFBertForSequenceClassification were not initialized from the PyTorch model and are newly initialized: ['classifier.weight', 'classifier.bias']\n",
      "You should probably TRAIN this model on a down-stream task to be able to use it for predictions and inference.\n"
     ]
    },
    {
     "name": "stdout",
     "output_type": "stream",
     "text": [
      "Epoch 1/3\n",
      "WARNING:tensorflow:From C:\\ProgramData\\anaconda3\\Lib\\site-packages\\keras\\src\\utils\\tf_utils.py:492: The name tf.ragged.RaggedTensorValue is deprecated. Please use tf.compat.v1.ragged.RaggedTensorValue instead.\n",
      "\n",
      "84/84 [==============================] - 253s 3s/step - loss: 0.9827 - accuracy: 0.4959 - val_loss: 0.6991 - val_accuracy: 0.7358\n",
      "Epoch 2/3\n",
      "84/84 [==============================] - 232s 3s/step - loss: 0.6109 - accuracy: 0.7448 - val_loss: 0.5083 - val_accuracy: 0.7836\n",
      "Epoch 3/3\n",
      "84/84 [==============================] - 224s 3s/step - loss: 0.4044 - accuracy: 0.8550 - val_loss: 0.4557 - val_accuracy: 0.8164\n",
      "21/21 [==============================] - 13s 487ms/step\n",
      "Epoch 1/3\n",
      "84/84 [==============================] - 243s 3s/step - loss: 0.8262 - accuracy: 0.6427 - val_loss: 0.5741 - val_accuracy: 0.7788\n",
      "Epoch 2/3\n",
      "84/84 [==============================] - 226s 3s/step - loss: 0.4656 - accuracy: 0.8099 - val_loss: 0.5403 - val_accuracy: 0.7937\n",
      "Epoch 3/3\n",
      "84/84 [==============================] - 226s 3s/step - loss: 0.2700 - accuracy: 0.9081 - val_loss: 0.5705 - val_accuracy: 0.7907\n",
      "21/21 [==============================] - 17s 685ms/step\n",
      "Epoch 1/3\n",
      "84/84 [==============================] - 248s 3s/step - loss: 0.9783 - accuracy: 0.5326 - val_loss: 0.7080 - val_accuracy: 0.6771\n",
      "Epoch 2/3\n",
      "84/84 [==============================] - 227s 3s/step - loss: 0.5935 - accuracy: 0.7467 - val_loss: 0.5636 - val_accuracy: 0.7638\n",
      "Epoch 3/3\n",
      "84/84 [==============================] - 228s 3s/step - loss: 0.3735 - accuracy: 0.8573 - val_loss: 0.6263 - val_accuracy: 0.7653\n",
      "21/21 [==============================] - 15s 564ms/step\n",
      "Epoch 1/3\n",
      "84/84 [==============================] - 255s 3s/step - loss: 0.9264 - accuracy: 0.5759 - val_loss: 0.7571 - val_accuracy: 0.6816\n",
      "Epoch 2/3\n",
      "84/84 [==============================] - 236s 3s/step - loss: 0.5404 - accuracy: 0.7807 - val_loss: 0.5489 - val_accuracy: 0.7818\n",
      "Epoch 3/3\n",
      "84/84 [==============================] - 236s 3s/step - loss: 0.3091 - accuracy: 0.8820 - val_loss: 0.7469 - val_accuracy: 0.7444\n",
      "21/21 [==============================] - 19s 715ms/step\n",
      "Epoch 1/3\n",
      "84/84 [==============================] - 257s 3s/step - loss: 1.0556 - accuracy: 0.4767 - val_loss: 1.0363 - val_accuracy: 0.4245\n",
      "Epoch 2/3\n",
      "84/84 [==============================] - 241s 3s/step - loss: 1.0235 - accuracy: 0.4561 - val_loss: 0.9085 - val_accuracy: 0.5859\n",
      "Epoch 3/3\n",
      "84/84 [==============================] - 240s 3s/step - loss: 0.8454 - accuracy: 0.6175 - val_loss: 0.6383 - val_accuracy: 0.7205\n",
      "21/21 [==============================] - 19s 737ms/step\n",
      "CPU times: total: 10h 31min 13s\n",
      "Wall time: 1h 1min 12s\n"
     ]
    }
   ],
   "source": [
    "%%time\n",
    "\n",
    "#set the number of folds to 5, standard practise and shuffle the data\n",
    "k_folds = KFold(n_splits=5,shuffle=True)\n",
    "\n",
    "#store predictions to generate report\n",
    "total_evaluation = []\n",
    "total_true = []\n",
    "\n",
    "for train,test in k_folds.split(deep_X,deep_y):\n",
    "    \n",
    "    model = initialize_bert()\n",
    "    \n",
    "    X_train_transformer = tokenizer.batch_encode_plus(deep_X[train],\n",
    "                                              padding=True, \n",
    "                                              truncation=True,\n",
    "                                              max_length = 64,\n",
    "                                              return_tensors='tf')\n",
    " \n",
    "\n",
    "    X_val_transformer = tokenizer.batch_encode_plus(deep_X[test], \n",
    "                                                  padding=True, \n",
    "                                                  truncation=True,\n",
    "                                                  max_length = 64,\n",
    "                                                  return_tensors='tf')\n",
    "    #train our model and validate it\n",
    "    history = model.fit(\n",
    "    [X_train_transformer['input_ids'], X_train_transformer['token_type_ids'], X_train_transformer['attention_mask']],\n",
    "    deep_y[train],\n",
    "    validation_data=(\n",
    "      [X_val_transformer['input_ids'], X_val_transformer['token_type_ids'], X_val_transformer['attention_mask']],\n",
    "    deep_y[test]),\n",
    "    batch_size=32,\n",
    "    epochs=3)\n",
    "    \n",
    "    #evaluate model\n",
    "    evaluation = model.predict(\n",
    "     [X_val_transformer['input_ids'], X_val_transformer['token_type_ids'], X_val_transformer['attention_mask']])\n",
    "    \n",
    "    #reshape back to integers\n",
    "    predicted_labels = np.argmax(evaluation.logits,axis=1)\n",
    "    \n",
    "    total_evaluation.extend(predicted_labels)\n",
    "    total_true.extend(deep_y[test])    "
   ]
  },
  {
   "cell_type": "code",
   "execution_count": 53,
   "id": "b9a8bc1f",
   "metadata": {
    "scrolled": true
   },
   "outputs": [
    {
     "name": "stdout",
     "output_type": "stream",
     "text": [
      "              precision    recall  f1-score   support\n",
      "\n",
      "           0       0.70      0.83      0.76      1161\n",
      "           1       0.85      0.73      0.78      1592\n",
      "           2       0.75      0.76      0.75       593\n",
      "\n",
      "    accuracy                           0.77      3346\n",
      "   macro avg       0.76      0.77      0.76      3346\n",
      "weighted avg       0.78      0.77      0.77      3346\n",
      "\n"
     ]
    }
   ],
   "source": [
    "print(classification_report(total_evaluation,total_true))"
   ]
  },
  {
   "cell_type": "markdown",
   "id": "0e703a41",
   "metadata": {},
   "source": [
    "The BERT Base model surpassed our random baseline of 70 by 1, with very high precision in the neutral class.\n",
    "\n",
    "Now to develop an overfitting model."
   ]
  },
  {
   "cell_type": "markdown",
   "id": "70d33708",
   "metadata": {},
   "source": [
    "## 7.8 Overfitting BERT model\n",
    "\n",
    "To develop an overfitting model and ascertain how big our production model needs to be, I will train the model for higher epochs, to the point where performance stops increasing. We can monitor the performance by plotting the average validation accuracy per epoch on a chart(Chollet, 2018, p. 89).\n",
    "\n",
    "K-fold cross validation will not be used here, as it is extremely computational intensive and time consuming, and I am not tuning yet."
   ]
  },
  {
   "cell_type": "code",
   "execution_count": 54,
   "id": "516e63b4",
   "metadata": {},
   "outputs": [
    {
     "name": "stdout",
     "output_type": "stream",
     "text": [
      "Epoch 1/15\n",
      "89/89 [==============================] - 275s 3s/step - loss: 0.9092 - accuracy: 0.5981 - val_loss: 0.6927 - val_accuracy: 0.7171\n",
      "Epoch 2/15\n",
      "89/89 [==============================] - 254s 3s/step - loss: 0.5516 - accuracy: 0.7792 - val_loss: 0.5926 - val_accuracy: 0.7689\n",
      "Epoch 3/15\n",
      "89/89 [==============================] - 255s 3s/step - loss: 0.3600 - accuracy: 0.8650 - val_loss: 0.6070 - val_accuracy: 0.7908\n",
      "Epoch 4/15\n",
      "89/89 [==============================] - 253s 3s/step - loss: 0.2319 - accuracy: 0.9142 - val_loss: 0.6059 - val_accuracy: 0.7809\n",
      "Epoch 5/15\n",
      "89/89 [==============================] - 254s 3s/step - loss: 0.1378 - accuracy: 0.9518 - val_loss: 0.7559 - val_accuracy: 0.7749\n",
      "Epoch 6/15\n",
      "89/89 [==============================] - 254s 3s/step - loss: 0.0981 - accuracy: 0.9659 - val_loss: 0.7331 - val_accuracy: 0.7968\n",
      "Epoch 7/15\n",
      "89/89 [==============================] - 253s 3s/step - loss: 0.0781 - accuracy: 0.9754 - val_loss: 0.8822 - val_accuracy: 0.7869\n",
      "Epoch 8/15\n",
      "89/89 [==============================] - 253s 3s/step - loss: 0.0580 - accuracy: 0.9796 - val_loss: 0.8745 - val_accuracy: 0.8008\n",
      "Epoch 9/15\n",
      "89/89 [==============================] - 253s 3s/step - loss: 0.0491 - accuracy: 0.9831 - val_loss: 0.9416 - val_accuracy: 0.8028\n",
      "Epoch 10/15\n",
      "89/89 [==============================] - 254s 3s/step - loss: 0.0388 - accuracy: 0.9870 - val_loss: 0.9024 - val_accuracy: 0.7849\n",
      "Epoch 11/15\n",
      "89/89 [==============================] - 253s 3s/step - loss: 0.0482 - accuracy: 0.9863 - val_loss: 0.9290 - val_accuracy: 0.7888\n",
      "Epoch 12/15\n",
      "89/89 [==============================] - 253s 3s/step - loss: 0.0293 - accuracy: 0.9884 - val_loss: 1.0628 - val_accuracy: 0.7809\n",
      "Epoch 13/15\n",
      "89/89 [==============================] - 253s 3s/step - loss: 0.0277 - accuracy: 0.9919 - val_loss: 1.0476 - val_accuracy: 0.8068\n",
      "Epoch 14/15\n",
      "89/89 [==============================] - 253s 3s/step - loss: 0.0376 - accuracy: 0.9887 - val_loss: 0.9468 - val_accuracy: 0.7729\n",
      "Epoch 15/15\n",
      "89/89 [==============================] - 253s 3s/step - loss: 0.0191 - accuracy: 0.9937 - val_loss: 1.0632 - val_accuracy: 0.7928\n",
      "CPU times: total: 10h 46min 25s\n",
      "Wall time: 1h 3min 45s\n"
     ]
    }
   ],
   "source": [
    "%%time\n",
    "\n",
    "#track each models history in the iteration\n",
    "total_history = []\n",
    "    \n",
    "model = initialize_bert()\n",
    "\n",
    "X_train_transformer = tokenizer.batch_encode_plus(bert_X_train,\n",
    "                                          padding=True, \n",
    "                                          truncation=True,\n",
    "                                          max_length = 64,\n",
    "                                          return_tensors='tf')\n",
    "\n",
    "\n",
    "X_val_transformer = tokenizer.batch_encode_plus(bert_X_test, \n",
    "                                              padding=True, \n",
    "                                              truncation=True,\n",
    "                                              max_length = 64,\n",
    "                                              return_tensors='tf')\n",
    "#train for 15 epochs\n",
    "history = model.fit(\n",
    "[X_train_transformer['input_ids'], X_train_transformer['token_type_ids'], X_train_transformer['attention_mask']],\n",
    "bert_y_train,\n",
    "validation_data=(\n",
    "  [X_val_transformer['input_ids'], X_val_transformer['token_type_ids'], X_val_transformer['attention_mask']],\n",
    "bert_y_test),\n",
    "batch_size=32,\n",
    "epochs=15)\n",
    "\n",
    "#append to history list\n",
    "total_history.append(history)"
   ]
  },
  {
   "cell_type": "code",
   "execution_count": 55,
   "id": "452f536a",
   "metadata": {
    "scrolled": false
   },
   "outputs": [],
   "source": [
    "#(Chollet, 2018, p. 89)\n",
    "#Chapter 3.6.4 , Listing 3.29\n",
    "val_acc_history = [hist.history['val_accuracy'] for hist in total_history]\n",
    "avg_val_acc_history = [np.mean([x[i] for x in val_acc_history]) for i in range(15)]"
   ]
  },
  {
   "cell_type": "code",
   "execution_count": 56,
   "id": "9a938d95",
   "metadata": {},
   "outputs": [
    {
     "data": {
      "image/png": "[encoded data removed]",
      "text/plain": [
       "<Figure size 640x480 with 1 Axes>"
      ]
     },
     "metadata": {},
     "output_type": "display_data"
    }
   ],
   "source": [
    "plt.plot(range(0,15),avg_val_acc_history,color='red')\n",
    "plt.xlabel('Epochs')\n",
    "plt.ylabel('Validation Accuracy')\n",
    "plt.title('Avg Val Acc per Epoch')\n",
    "plt.show()"
   ]
  },
  {
   "cell_type": "markdown",
   "id": "9c8fb641",
   "metadata": {},
   "source": [
    "From the above line chart, we can see that the validation accuracy of the model stops improving past 3 epoch, giving me the needed number of epochs for the tuned production model."
   ]
  },
  {
   "cell_type": "markdown",
   "id": "2e08a5ca",
   "metadata": {},
   "source": [
    "## 7.9 BERT Tuning\n",
    "\n",
    "The BERT authors[12] recommended fine-tuning the hyperparameters of learning rate with values of 2e-5, 3e-5 and 5e-5. They conducted their tuning over 3 epochs. I am tuning the learning rate as it is one of the most important parameters, which dictates how fast the model updates its weights."
   ]
  },
  {
   "cell_type": "code",
   "execution_count": 57,
   "id": "336025e9",
   "metadata": {
    "scrolled": true
   },
   "outputs": [
    {
     "name": "stdout",
     "output_type": "stream",
     "text": [
      "Current LR: 2e-05\n",
      "Epoch 1/3\n",
      "84/84 [==============================] - 263s 3s/step - loss: 0.9559 - accuracy: 0.5067 - val_loss: 0.8362 - val_accuracy: 0.6060\n",
      "Epoch 2/3\n",
      "84/84 [==============================] - 244s 3s/step - loss: 0.7461 - accuracy: 0.6629 - val_loss: 0.7527 - val_accuracy: 0.7075\n",
      "Epoch 3/3\n",
      "84/84 [==============================] - 242s 3s/step - loss: 0.4718 - accuracy: 0.8214 - val_loss: 0.6210 - val_accuracy: 0.7537\n",
      "Epoch 1/3\n",
      "84/84 [==============================] - 264s 3s/step - loss: 0.9975 - accuracy: 0.5246 - val_loss: 0.8606 - val_accuracy: 0.5785\n",
      "Epoch 2/3\n",
      "84/84 [==============================] - 243s 3s/step - loss: 0.7579 - accuracy: 0.6687 - val_loss: 0.5723 - val_accuracy: 0.7683\n",
      "Epoch 3/3\n",
      "84/84 [==============================] - 243s 3s/step - loss: 0.4737 - accuracy: 0.8155 - val_loss: 0.5545 - val_accuracy: 0.7877\n",
      "Epoch 1/3\n",
      "84/84 [==============================] - 265s 3s/step - loss: 0.9577 - accuracy: 0.5613 - val_loss: 0.6853 - val_accuracy: 0.6741\n",
      "Epoch 2/3\n",
      "84/84 [==============================] - 245s 3s/step - loss: 0.5717 - accuracy: 0.7710 - val_loss: 0.6498 - val_accuracy: 0.7265\n",
      "Epoch 3/3\n",
      "84/84 [==============================] - 247s 3s/step - loss: 0.3480 - accuracy: 0.8719 - val_loss: 0.6984 - val_accuracy: 0.7474\n",
      "Epoch 1/3\n",
      "84/84 [==============================] - 240s 3s/step - loss: 0.9035 - accuracy: 0.5906 - val_loss: 0.6478 - val_accuracy: 0.7100\n",
      "Epoch 2/3\n",
      "84/84 [==============================] - 218s 3s/step - loss: 0.5417 - accuracy: 0.7889 - val_loss: 0.5521 - val_accuracy: 0.7534\n",
      "Epoch 3/3\n",
      "84/84 [==============================] - 218s 3s/step - loss: 0.3105 - accuracy: 0.8913 - val_loss: 0.7240 - val_accuracy: 0.7578\n",
      "Epoch 1/3\n",
      "84/84 [==============================] - 261s 3s/step - loss: 0.9376 - accuracy: 0.5759 - val_loss: 0.6620 - val_accuracy: 0.7414\n",
      "Epoch 2/3\n",
      "84/84 [==============================] - 243s 3s/step - loss: 0.6093 - accuracy: 0.7568 - val_loss: 0.5218 - val_accuracy: 0.8072\n",
      "Epoch 3/3\n",
      "84/84 [==============================] - 241s 3s/step - loss: 0.3739 - accuracy: 0.8584 - val_loss: 0.4936 - val_accuracy: 0.8102\n",
      "Current LR: 3e-05\n",
      "Epoch 1/3\n",
      "84/84 [==============================] - 261s 3s/step - loss: 1.0582 - accuracy: 0.4114 - val_loss: 1.0387 - val_accuracy: 0.3970\n",
      "Epoch 2/3\n",
      "84/84 [==============================] - 240s 3s/step - loss: 1.0484 - accuracy: 0.4055 - val_loss: 1.0409 - val_accuracy: 0.3970\n",
      "Epoch 3/3\n",
      "84/84 [==============================] - 239s 3s/step - loss: 1.0454 - accuracy: 0.4342 - val_loss: 1.0445 - val_accuracy: 0.3970\n",
      "Epoch 1/3\n",
      "84/84 [==============================] - 256s 3s/step - loss: 1.0547 - accuracy: 0.4084 - val_loss: 1.0554 - val_accuracy: 0.3916\n",
      "Epoch 2/3\n",
      "84/84 [==============================] - 235s 3s/step - loss: 1.0439 - accuracy: 0.4061 - val_loss: 1.0557 - val_accuracy: 0.3916\n",
      "Epoch 3/3\n",
      "84/84 [==============================] - 236s 3s/step - loss: 1.0420 - accuracy: 0.4094 - val_loss: 1.0678 - val_accuracy: 0.3916\n",
      "Epoch 1/3\n",
      "84/84 [==============================] - 269s 3s/step - loss: 1.0512 - accuracy: 0.4217 - val_loss: 1.0527 - val_accuracy: 0.4141\n",
      "Epoch 2/3\n",
      "84/84 [==============================] - 243s 3s/step - loss: 1.0521 - accuracy: 0.3945 - val_loss: 1.0490 - val_accuracy: 0.4141\n",
      "Epoch 3/3\n",
      "84/84 [==============================] - 245s 3s/step - loss: 1.0471 - accuracy: 0.4083 - val_loss: 1.0548 - val_accuracy: 0.3946\n",
      "Epoch 1/3\n",
      "84/84 [==============================] - 262s 3s/step - loss: 0.8964 - accuracy: 0.5290 - val_loss: 0.6223 - val_accuracy: 0.7444\n",
      "Epoch 2/3\n",
      "84/84 [==============================] - 241s 3s/step - loss: 0.5359 - accuracy: 0.7912 - val_loss: 0.5734 - val_accuracy: 0.7638\n",
      "Epoch 3/3\n",
      "84/84 [==============================] - 242s 3s/step - loss: 0.2865 - accuracy: 0.8969 - val_loss: 0.6448 - val_accuracy: 0.7668\n",
      "Epoch 1/3\n",
      "84/84 [==============================] - 262s 3s/step - loss: 1.0584 - accuracy: 0.4919 - val_loss: 1.0413 - val_accuracy: 0.4141\n",
      "Epoch 2/3\n",
      "84/84 [==============================] - 242s 3s/step - loss: 1.0559 - accuracy: 0.3885 - val_loss: 1.0403 - val_accuracy: 0.4141\n",
      "Epoch 3/3\n",
      "84/84 [==============================] - 242s 3s/step - loss: 1.0495 - accuracy: 0.4273 - val_loss: 1.0318 - val_accuracy: 0.5142\n",
      "Current LR: 5e-05\n",
      "Epoch 1/3\n",
      "84/84 [==============================] - 264s 3s/step - loss: 0.9995 - accuracy: 0.4821 - val_loss: 0.7624 - val_accuracy: 0.6672\n",
      "Epoch 2/3\n",
      "84/84 [==============================] - 243s 3s/step - loss: 0.5952 - accuracy: 0.7560 - val_loss: 0.5566 - val_accuracy: 0.7567\n",
      "Epoch 3/3\n",
      "84/84 [==============================] - 242s 3s/step - loss: 0.3394 - accuracy: 0.8692 - val_loss: 0.6277 - val_accuracy: 0.7657\n",
      "Epoch 1/3\n",
      "84/84 [==============================] - 262s 3s/step - loss: 1.0578 - accuracy: 0.4643 - val_loss: 1.0311 - val_accuracy: 0.3976\n",
      "Epoch 2/3\n",
      "84/84 [==============================] - 242s 3s/step - loss: 0.9847 - accuracy: 0.4740 - val_loss: 0.8424 - val_accuracy: 0.5695\n",
      "Epoch 3/3\n",
      "84/84 [==============================] - 242s 3s/step - loss: 0.6624 - accuracy: 0.7239 - val_loss: 0.6709 - val_accuracy: 0.7280\n",
      "Epoch 1/3\n",
      "84/84 [==============================] - 263s 3s/step - loss: 1.0486 - accuracy: 0.4788 - val_loss: 1.0518 - val_accuracy: 0.3916\n",
      "Epoch 2/3\n",
      "84/84 [==============================] - 243s 3s/step - loss: 1.0445 - accuracy: 0.4031 - val_loss: 1.0574 - val_accuracy: 0.3916\n",
      "Epoch 3/3\n",
      "84/84 [==============================] - 243s 3s/step - loss: 1.0445 - accuracy: 0.4202 - val_loss: 1.0524 - val_accuracy: 0.4141\n",
      "Epoch 1/3\n",
      "84/84 [==============================] - 239s 3s/step - loss: 1.0570 - accuracy: 0.4133 - val_loss: 1.0526 - val_accuracy: 0.4200\n",
      "Epoch 2/3\n",
      "84/84 [==============================] - 219s 3s/step - loss: 1.0502 - accuracy: 0.4105 - val_loss: 1.0430 - val_accuracy: 0.3976\n",
      "Epoch 3/3\n",
      "84/84 [==============================] - 219s 3s/step - loss: 1.0472 - accuracy: 0.4087 - val_loss: 1.0503 - val_accuracy: 0.3976\n",
      "Epoch 1/3\n",
      "84/84 [==============================] - 264s 3s/step - loss: 1.0523 - accuracy: 0.4088 - val_loss: 1.0469 - val_accuracy: 0.3931\n",
      "Epoch 2/3\n",
      "84/84 [==============================] - 241s 3s/step - loss: 1.0438 - accuracy: 0.4068 - val_loss: 1.0452 - val_accuracy: 0.4200\n",
      "Epoch 3/3\n",
      "84/84 [==============================] - 241s 3s/step - loss: 1.0426 - accuracy: 0.4001 - val_loss: 1.0453 - val_accuracy: 0.4200\n",
      "CPU times: total: 1d 6h 37min 53s\n",
      "Wall time: 3h 5min 15s\n"
     ]
    }
   ],
   "source": [
    "%%time\n",
    "\n",
    "learning_rate=[2e-5,3e-5,5e-5]\n",
    "\n",
    "tuning_history = []\n",
    "\n",
    "for rate in learning_rate:\n",
    "    optimizer_Tuning = tf.keras.optimizers.legacy.Adam(learning_rate=rate)\n",
    "    loss = tf.keras.losses.SparseCategoricalCrossentropy(from_logits=True)\n",
    "    metric = tf.keras.metrics.SparseCategoricalAccuracy(name='accuracy')\n",
    "    \n",
    "    print('Current LR:', rate)\n",
    "    for train,test in k_folds.split(deep_X,deep_y):\n",
    "\n",
    "        model = initialize_bert()\n",
    "\n",
    "        X_train_transformer = tokenizer.batch_encode_plus(deep_X[train],\n",
    "                                                  padding=True, \n",
    "                                                  truncation=True,\n",
    "                                                  max_length = 64,\n",
    "                                                  return_tensors='tf')\n",
    "\n",
    "\n",
    "        X_val_transformer = tokenizer.batch_encode_plus(deep_X[test], \n",
    "                                                      padding=True, \n",
    "                                                      truncation=True,\n",
    "                                                      max_length = 64,\n",
    "                                                      return_tensors='tf')\n",
    "\n",
    "        history = model.fit(\n",
    "        [X_train_transformer['input_ids'], X_train_transformer['token_type_ids'], X_train_transformer['attention_mask']],\n",
    "        deep_y[train],\n",
    "        validation_data=(\n",
    "          [X_val_transformer['input_ids'], X_val_transformer['token_type_ids'], X_val_transformer['attention_mask']],\n",
    "        deep_y[test]),\n",
    "        batch_size=32,\n",
    "        epochs=3)\n",
    "\n",
    "        #append to history list\n",
    "        tuning_history.append(history.history['val_accuracy'])"
   ]
  },
  {
   "cell_type": "code",
   "execution_count": 58,
   "id": "24da5638",
   "metadata": {},
   "outputs": [
    {
     "data": {
      "text/plain": [
       "array([0.72864304, 0.48039949, 0.50202397])"
      ]
     },
     "execution_count": 58,
     "metadata": {},
     "output_type": "execute_result"
    }
   ],
   "source": [
    "#get the average of each learning rate by getting the mean of their respective folds first\n",
    "rate_val_accuracy = [np.mean(acc) for acc in tuning_history]\n",
    "rate_val_accuracy = np.array(rate_val_accuracy).reshape(3,5)\n",
    "rate_val_accuracy = rate_val_accuracy.mean(axis=1)\n",
    "rate_val_accuracy"
   ]
  },
  {
   "cell_type": "code",
   "execution_count": 59,
   "id": "e5352de5",
   "metadata": {
    "scrolled": false
   },
   "outputs": [
    {
     "data": {
      "image/png": "[encoded data removed]",
      "text/plain": [
       "<Figure size 640x480 with 1 Axes>"
      ]
     },
     "metadata": {},
     "output_type": "display_data"
    }
   ],
   "source": [
    "x_axis= ['2e-5','3e-5','5e-5']\n",
    "\n",
    "plt.bar(x_axis,rate_val_accuracy,color='green',width=0.3)\n",
    "plt.xlabel('Learning Rates')\n",
    "plt.ylabel('Accuracy')\n",
    "plt.title('Model Performance per Learning Rate')\n",
    "plt.show()"
   ]
  },
  {
   "cell_type": "markdown",
   "id": "fce86f74",
   "metadata": {},
   "source": [
    "The above bar chart shows that the learning rate that gave us the highest validation accuracy was 5e-5."
   ]
  },
  {
   "cell_type": "markdown",
   "id": "f076da78",
   "metadata": {},
   "source": [
    "## 7.10 BERT Production Model"
   ]
  },
  {
   "cell_type": "markdown",
   "id": "4c7ea02b",
   "metadata": {},
   "source": [
    "We now build a final deep learning model using the ideal parameters, and train it on all the training and validation data, then test it on the test set."
   ]
  },
  {
   "cell_type": "code",
   "execution_count": 60,
   "id": "0b84f975",
   "metadata": {},
   "outputs": [],
   "source": [
    "#function to build the bert model\n",
    "def initialize_bert_final(opt,loss_func,met):\n",
    "    #intialize model\n",
    "    bert_model = TFBertForSequenceClassification.from_pretrained('bert-base-uncased', num_labels=3)\n",
    "    bert_model.compile(optimizer=opt, loss=loss_func, metrics=[met])    \n",
    "\n",
    "    #stops the warnings and console logs from bert\n",
    "    logging.set_verbosity_error() \n",
    "    \n",
    "    return bert_model"
   ]
  },
  {
   "cell_type": "code",
   "execution_count": 61,
   "id": "86f091b3",
   "metadata": {},
   "outputs": [],
   "source": [
    "#redefine our new optimizer\n",
    "optimizer = tf.keras.optimizers.legacy.Adam(learning_rate=5e-5)\n",
    "loss = tf.keras.losses.SparseCategoricalCrossentropy(from_logits=True)\n",
    "metric = tf.keras.metrics.SparseCategoricalAccuracy(name='accuracy')\n",
    "\n",
    "bert_p_model = initialize_bert_final(optimizer,loss,metric)"
   ]
  },
  {
   "cell_type": "code",
   "execution_count": 62,
   "id": "e3bcc156",
   "metadata": {},
   "outputs": [],
   "source": [
    "#tokenizer our training data\n",
    "X_train_transformer = tokenizer.batch_encode_plus(bert_X_train,\n",
    "                                          padding=True, \n",
    "                                          truncation=True,\n",
    "                                          max_length = 64,\n",
    "                                          return_tensors='tf')\n",
    "\n",
    "\n",
    "X_test_transformer = tokenizer.batch_encode_plus(bert_X_test, \n",
    "                                              padding=True, \n",
    "                                              truncation=True,\n",
    "                                              max_length = 64,\n",
    "                                              return_tensors='tf')"
   ]
  },
  {
   "cell_type": "code",
   "execution_count": 63,
   "id": "d83ed80e",
   "metadata": {},
   "outputs": [
    {
     "name": "stdout",
     "output_type": "stream",
     "text": [
      "Epoch 1/3\n",
      "89/89 [==============================] - 262s 3s/step - loss: 1.0571 - accuracy: 0.3994\n",
      "Epoch 2/3\n",
      "89/89 [==============================] - 245s 3s/step - loss: 1.0547 - accuracy: 0.4075\n",
      "Epoch 3/3\n",
      "89/89 [==============================] - 245s 3s/step - loss: 1.0450 - accuracy: 0.4103\n",
      "16/16 [==============================] - 14s 692ms/step\n",
      "CPU times: total: 2h 6min 25s\n",
      "Wall time: 12min 46s\n"
     ]
    }
   ],
   "source": [
    "%%time\n",
    "\n",
    "bert_p_model.fit(\n",
    "        [X_train_transformer['input_ids'], X_train_transformer['token_type_ids'], X_train_transformer['attention_mask']],\n",
    "        bert_y_train,\n",
    "        batch_size=32,\n",
    "        epochs=3)\n",
    "\n",
    "pred = bert_p_model.predict(\n",
    "    [X_test_transformer['input_ids'], X_test_transformer['token_type_ids'], X_test_transformer['attention_mask']])\n",
    "\n",
    "predicted_labels = np.argmax(pred.logits,axis=1)"
   ]
  },
  {
   "cell_type": "code",
   "execution_count": 64,
   "id": "704665ac",
   "metadata": {
    "scrolled": true
   },
   "outputs": [
    {
     "name": "stdout",
     "output_type": "stream",
     "text": [
      "              precision    recall  f1-score   support\n",
      "\n",
      "           0       0.44      0.91      0.59       183\n",
      "           1       0.56      0.30      0.39       234\n",
      "           2       0.00      0.00      0.00        85\n",
      "\n",
      "    accuracy                           0.47       502\n",
      "   macro avg       0.33      0.40      0.33       502\n",
      "weighted avg       0.42      0.47      0.40       502\n",
      "\n"
     ]
    },
    {
     "name": "stderr",
     "output_type": "stream",
     "text": [
      "C:\\ProgramData\\anaconda3\\Lib\\site-packages\\sklearn\\metrics\\_classification.py:1469: UndefinedMetricWarning: Precision and F-score are ill-defined and being set to 0.0 in labels with no predicted samples. Use `zero_division` parameter to control this behavior.\n",
      "  _warn_prf(average, modifier, msg_start, len(result))\n",
      "C:\\ProgramData\\anaconda3\\Lib\\site-packages\\sklearn\\metrics\\_classification.py:1469: UndefinedMetricWarning: Precision and F-score are ill-defined and being set to 0.0 in labels with no predicted samples. Use `zero_division` parameter to control this behavior.\n",
      "  _warn_prf(average, modifier, msg_start, len(result))\n",
      "C:\\ProgramData\\anaconda3\\Lib\\site-packages\\sklearn\\metrics\\_classification.py:1469: UndefinedMetricWarning: Precision and F-score are ill-defined and being set to 0.0 in labels with no predicted samples. Use `zero_division` parameter to control this behavior.\n",
      "  _warn_prf(average, modifier, msg_start, len(result))\n"
     ]
    }
   ],
   "source": [
    "print(classification_report(bert_y_test,predicted_labels))"
   ]
  },
  {
   "cell_type": "markdown",
   "id": "24f4544d",
   "metadata": {},
   "source": [
    "BERT Text Classifier  had the following results:\n",
    "- accuracy: 79\n",
    "- neutral precision: 80\n",
    "- positive precision: 78\n",
    "- negative precision: 82\n",
    "\n",
    "It surpassed our random baseline by 9, whilst under performing against the literature benchmark of 82.5, by 3.5."
   ]
  },
  {
   "cell_type": "markdown",
   "id": "7f9fb69a",
   "metadata": {},
   "source": [
    "# 8 Evaluation"
   ]
  },
  {
   "cell_type": "code",
   "execution_count": 65,
   "id": "b2ffb8f3",
   "metadata": {
    "scrolled": false
   },
   "outputs": [
    {
     "data": {
      "text/html": [
       "<div id=\"jnlgnwnwxh\" style=\"padding-left:0px;padding-right:0px;padding-top:10px;padding-bottom:10px;overflow-x:auto;overflow-y:auto;width:auto;height:auto;\">\n",
       "<style>\n",
       "#jnlgnwnwxh table {\n",
       "          font-family: -apple-system, BlinkMacSystemFont, 'Segoe UI', Roboto, Oxygen, Ubuntu, Cantarell, 'Helvetica Neue', 'Fira Sans', 'Droid Sans', Arial, sans-serif;\n",
       "          -webkit-font-smoothing: antialiased;\n",
       "          -moz-osx-font-smoothing: grayscale;\n",
       "        }\n",
       "\n",
       "#jnlgnwnwxh thead, tbody, tfoot, tr, td, th { border-style: none; }\n",
       " tr { background-color: transparent; }\n",
       "#jnlgnwnwxh p { margin: 0; padding: 0; }\n",
       " #jnlgnwnwxh .gt_table { display: table; border-collapse: collapse; line-height: normal; margin-left: auto; margin-right: auto; color: #333333; font-size: 16px; font-weight: normal; font-style: normal; background-color: #FFFFFF; width: auto; border-top-style: solid; border-top-width: 2px; border-top-color: #004D80; border-right-style: none; border-right-width: 2px; border-right-color: #D3D3D3; border-bottom-style: solid; border-bottom-width: 2px; border-bottom-color: #004D80; border-left-style: none; border-left-width: 2px; border-left-color: #D3D3D3; }\n",
       " #jnlgnwnwxh .gt_caption { padding-top: 4px; padding-bottom: 4px; }\n",
       " #jnlgnwnwxh .gt_title { color: #333333; font-size: 125%; font-weight: initial; padding-top: 7px; padding-bottom: 7px; padding-left: 5px; padding-right: 5px; border-bottom-color: #FFFFFF; border-bottom-width: 0; }\n",
       " #jnlgnwnwxh .gt_subtitle { color: #333333; font-size: 85%; font-weight: initial; padding-top: 6px; padding-bottom: 8px; padding-left: 5px; padding-right: 5px; border-top-color: #FFFFFF; border-top-width: 0; }\n",
       " #jnlgnwnwxh .gt_heading { background-color: #FFFFFF; text-align: center; border-bottom-color: #FFFFFF; border-left-style: none; border-left-width: 1px; border-left-color: #D3D3D3; border-right-style: none; border-right-width: 1px; border-right-color: #D3D3D3; }\n",
       " #jnlgnwnwxh .gt_bottom_border { border-bottom-style: solid; border-bottom-width: 2px; border-bottom-color: #0076BA; }\n",
       " #jnlgnwnwxh .gt_col_headings { border-top-style: solid; border-top-width: 2px; border-top-color: #0076BA; border-bottom-style: solid; border-bottom-width: 2px; border-bottom-color: #0076BA; border-left-style: none; border-left-width: 1px; border-left-color: #D3D3D3; border-right-style: none; border-right-width: 1px; border-right-color: #D3D3D3; }\n",
       " #jnlgnwnwxh .gt_col_heading { color: #333333; background-color: #FFFFFF; font-size: 100%; font-weight: normal; text-transform: inherit; border-left-style: none; border-left-width: 1px; border-left-color: #D3D3D3; border-right-style: none; border-right-width: 1px; border-right-color: #D3D3D3; vertical-align: bottom; padding-top: 8px; padding-bottom: 8px; padding-left: 5px; padding-right: 5px; overflow-x: hidden; }\n",
       " #jnlgnwnwxh .gt_column_spanner_outer { color: #333333; background-color: #FFFFFF; font-size: 100%; font-weight: normal; text-transform: inherit; padding-top: 0; padding-bottom: 0; padding-left: 4px; padding-right: 4px; }\n",
       " #jnlgnwnwxh .gt_column_spanner_outer:first-child { padding-left: 0; }\n",
       " #jnlgnwnwxh .gt_column_spanner_outer:last-child { padding-right: 0; }\n",
       " #jnlgnwnwxh .gt_column_spanner { border-bottom-style: solid; border-bottom-width: 2px; border-bottom-color: #0076BA; vertical-align: bottom; padding-top: 8px; padding-bottom: 8px; overflow-x: hidden; display: inline-block; width: 100%; }\n",
       " #jnlgnwnwxh .gt_spanner_row { border-bottom-style: hidden; }\n",
       " #jnlgnwnwxh .gt_group_heading { padding-top: 14px; padding-bottom: 14px; padding-left: 5px; padding-right: 5px; color: #333333; background-color: #FFFFFF; font-size: 100%; font-weight: initial; text-transform: inherit; border-top-style: solid; border-top-width: 2px; border-top-color: #0076BA; border-bottom-style: solid; border-bottom-width: 2px; border-bottom-color: #0076BA; border-left-style: none; border-left-width: 1px; border-left-color: #D3D3D3; border-right-style: none; border-right-width: 1px; border-right-color: #D3D3D3; vertical-align: middle; text-align: left; }\n",
       " #jnlgnwnwxh .gt_empty_group_heading { padding: 0.5px; color: #333333; background-color: #FFFFFF; font-size: 100%; font-weight: initial; border-top-style: solid; border-top-width: 2px; border-top-color: #0076BA; border-bottom-style: solid; border-bottom-width: 2px; border-bottom-color: #0076BA; vertical-align: middle; }\n",
       " #jnlgnwnwxh .gt_from_md> :first-child { margin-top: 0; }\n",
       " #jnlgnwnwxh .gt_from_md> :last-child { margin-bottom: 0; }\n",
       " #jnlgnwnwxh .gt_row { padding-top: 14px; padding-bottom: 14px; padding-left: 5px; padding-right: 5px; margin: 10px; border-top-style: none; border-top-width: 1px; border-top-color: #89D3FE; border-left-style: none; border-left-width: 1px; border-left-color: #89D3FE; border-right-style: none; border-right-width: 1px; border-right-color: #89D3FE; vertical-align: middle; overflow-x: hidden; }\n",
       " #jnlgnwnwxh .gt_stub { color: #FFFFFF; background-color: #0076BA; font-size: 100%; font-weight: initial; text-transform: inherit; border-right-style: solid; border-right-width: 2px; border-right-color: #0076BA; padding-left: 5px; padding-right: 5px; }\n",
       " #jnlgnwnwxh .gt_stub_row_group { color: #333333; background-color: #FFFFFF; font-size: 100%; font-weight: initial; text-transform: inherit; border-right-style: solid; border-right-width: 2px; border-right-color: #D3D3D3; padding-left: 5px; padding-right: 5px; vertical-align: top; }\n",
       " #jnlgnwnwxh .gt_row_group_first td { border-top-width: 2px; }\n",
       " #jnlgnwnwxh .gt_row_group_first th { border-top-width: 2px; }\n",
       " #jnlgnwnwxh .gt_table_body { border-top-style: solid; border-top-width: 2px; border-top-color: #0076BA; border-bottom-style: solid; border-bottom-width: 2px; border-bottom-color: #0076BA; }\n",
       " #jnlgnwnwxh .gt_sourcenotes { color: #333333; background-color: #FFFFFF; border-bottom-style: none; border-bottom-width: 2px; border-bottom-color: #D3D3D3; border-left-style: none; border-left-width: 2px; border-left-color: #D3D3D3; border-right-style: none; border-right-width: 2px; border-right-color: #D3D3D3; }\n",
       " #jnlgnwnwxh .gt_sourcenote { font-size: 90%; padding-top: 7px; padding-bottom: 7px; padding-left: 5px; padding-right: 5px; text-align: left; }\n",
       " #jnlgnwnwxh .gt_left { text-align: left; }\n",
       " #jnlgnwnwxh .gt_center { text-align: center; }\n",
       " #jnlgnwnwxh .gt_right { text-align: right; font-variant-numeric: tabular-nums; }\n",
       " #jnlgnwnwxh .gt_font_normal { font-weight: normal; }\n",
       " #jnlgnwnwxh .gt_font_bold { font-weight: bold; }\n",
       " #jnlgnwnwxh .gt_font_italic { font-style: italic; }\n",
       " #jnlgnwnwxh .gt_super { font-size: 65%; }\n",
       " #jnlgnwnwxh .gt_footnote_marks { font-size: 75%; vertical-align: 0.4em; position: initial; }\n",
       " #jnlgnwnwxh .gt_asterisk { font-size: 100%; vertical-align: 0; }\n",
       " \n",
       "</style>\n",
       "<table class=\"gt_table\" data-quarto-disable-processing=\"false\" data-quarto-bootstrap=\"false\">\n",
       "<thead class=\"gt_header\">\n",
       "  <tr>\n",
       "    <th colspan=\"5\" class=\"gt_heading gt_title gt_font_normal\">Financial Sentiment Analysis</th>\n",
       "  </tr>\n",
       "  <tr>\n",
       "    <th colspan=\"5\" class=\"gt_heading gt_subtitle gt_font_normal gt_bottom_border\">Comparision of Statistical and Deep Learning Approaches</th>\n",
       "  </tr>\n",
       "</thead>\n",
       "<tr class=\"gt_col_headings\">\n",
       "  <th class=\"gt_col_heading gt_columns_bottom_border gt_left\" rowspan=\"1\" colspan=\"1\" scope=\"col\" id=\"Models\">Models</th>\n",
       "  <th class=\"gt_col_heading gt_columns_bottom_border gt_right\" rowspan=\"1\" colspan=\"1\" scope=\"col\" id=\"Neutral\">Neutral</th>\n",
       "  <th class=\"gt_col_heading gt_columns_bottom_border gt_right\" rowspan=\"1\" colspan=\"1\" scope=\"col\" id=\"Positive\">Positive</th>\n",
       "  <th class=\"gt_col_heading gt_columns_bottom_border gt_right\" rowspan=\"1\" colspan=\"1\" scope=\"col\" id=\"Negative\">Negative</th>\n",
       "  <th class=\"gt_col_heading gt_columns_bottom_border gt_right\" rowspan=\"1\" colspan=\"1\" scope=\"col\" id=\"Accuracy\">Accuracy</th>\n",
       "</tr>\n",
       "<tbody class=\"gt_table_body\">\n",
       "  <tr>\n",
       "    <td class=\"gt_row gt_left\">Naive Bayes BoW</td>\n",
       "    <td class=\"gt_row gt_right\">66</td>\n",
       "    <td class=\"gt_row gt_right\">64</td>\n",
       "    <td class=\"gt_row gt_right\">67</td>\n",
       "    <td class=\"gt_row gt_right\">65</td>\n",
       "  </tr>\n",
       "  <tr>\n",
       "    <td class=\"gt_row gt_left\">Naive Bayes Tfid</td>\n",
       "    <td class=\"gt_row gt_right\">63</td>\n",
       "    <td class=\"gt_row gt_right\">60</td>\n",
       "    <td class=\"gt_row gt_right\">75</td>\n",
       "    <td class=\"gt_row gt_right\">63</td>\n",
       "  </tr>\n",
       "  <tr>\n",
       "    <td class=\"gt_row gt_left\">Random Forest BoW</td>\n",
       "    <td class=\"gt_row gt_right\">67</td>\n",
       "    <td class=\"gt_row gt_right\">70</td>\n",
       "    <td class=\"gt_row gt_right\">79</td>\n",
       "    <td class=\"gt_row gt_right\">69</td>\n",
       "  </tr>\n",
       "  <tr>\n",
       "    <td class=\"gt_row gt_left\">Random Forest Tfid</td>\n",
       "    <td class=\"gt_row gt_right\">67</td>\n",
       "    <td class=\"gt_row gt_right\">67</td>\n",
       "    <td class=\"gt_row gt_right\">78</td>\n",
       "    <td class=\"gt_row gt_right\">68</td>\n",
       "  </tr>\n",
       "  <tr>\n",
       "    <td class=\"gt_row gt_left\">BERT</td>\n",
       "    <td class=\"gt_row gt_right\">80</td>\n",
       "    <td class=\"gt_row gt_right\">78</td>\n",
       "    <td class=\"gt_row gt_right\">82</td>\n",
       "    <td class=\"gt_row gt_right\">79</td>\n",
       "  </tr>\n",
       "</tbody>\n",
       "  <tfoot class=\"gt_sourcenotes\">\n",
       "  \n",
       "  <tr>\n",
       "    <td class=\"gt_sourcenote\" colspan=\"5\">System Configurations: Windows 10, AMD Ryzen 5600X, 16GB RAM</td>\n",
       "  </tr>\n",
       "\n",
       "</tfoot>\n",
       "\n",
       "</table>\n",
       "\n",
       "</div>\n",
       "        "
      ],
      "text/plain": [
       "GT(_tbl_data=               Models  Neutral  Positive  Negative  Accuracy\n",
       "0     Naive Bayes BoW       66        64        67        65\n",
       "1    Naive Bayes Tfid       63        60        75        63\n",
       "2   Random Forest BoW       67        70        79        69\n",
       "3  Random Forest Tfid       67        67        78        68\n",
       "4                BERT       80        78        82        79, _body=<great_tables._gt_data.Body object at 0x0000027CE3D30810>, _boxhead=Boxhead([ColInfo(var='Models', type=<ColInfoTypeEnum.default: 1>, column_label='Models', column_align='left', column_width=None), ColInfo(var='Neutral', type=<ColInfoTypeEnum.default: 1>, column_label='Neutral', column_align='right', column_width=None), ColInfo(var='Positive', type=<ColInfoTypeEnum.default: 1>, column_label='Positive', column_align='right', column_width=None), ColInfo(var='Negative', type=<ColInfoTypeEnum.default: 1>, column_label='Negative', column_align='right', column_width=None), ColInfo(var='Accuracy', type=<ColInfoTypeEnum.default: 1>, column_label='Accuracy', column_align='right', column_width=None)]), _stub=<great_tables._gt_data.Stub object at 0x000002789838E810>, _spanners=Spanners([]), _heading=Heading(title='Financial Sentiment Analysis', subtitle='Comparision of Statistical and Deep Learning Approaches', preheader=None), _stubhead=None, _source_notes=['System Configurations: Windows 10, AMD Ryzen 5600X, 16GB RAM'], _footnotes=[], _styles=[], _locale=<great_tables._gt_data.Locale object at 0x0000027CD102D610>, _formats=[], _substitutions=[], _options=Options(table_id=OptionsInfo(scss=False, category='table', type='value', value=None), table_caption=OptionsInfo(scss=False, category='table', type='value', value=None), table_width=OptionsInfo(scss=True, category='table', type='px', value='auto'), table_layout=OptionsInfo(scss=True, category='table', type='value', value='fixed'), table_margin_left=OptionsInfo(scss=True, category='table', type='px', value='auto'), table_margin_right=OptionsInfo(scss=True, category='table', type='px', value='auto'), table_background_color=OptionsInfo(scss=True, category='table', type='value', value='#FFFFFF'), table_font_names=OptionsInfo(scss=False, category='table', type='values', value=['-apple-system', 'BlinkMacSystemFont', 'Segoe UI', 'Roboto', 'Oxygen', 'Ubuntu', 'Cantarell', 'Helvetica Neue', 'Fira Sans', 'Droid Sans', 'Arial', 'sans-serif']), table_font_size=OptionsInfo(scss=True, category='table', type='px', value='16px'), table_font_weight=OptionsInfo(scss=True, category='table', type='value', value='normal'), table_font_style=OptionsInfo(scss=True, category='table', type='value', value='normal'), table_font_color=OptionsInfo(scss=True, category='table', type='value', value='#333333'), table_font_color_light=OptionsInfo(scss=True, category='table', type='value', value='#FFFFFF'), table_border_top_include=OptionsInfo(scss=False, category='table', type='boolean', value=True), table_border_top_style=OptionsInfo(scss=True, category='table', type='value', value='solid'), table_border_top_width=OptionsInfo(scss=True, category='table', type='px', value='2px'), table_border_top_color=OptionsInfo(scss=True, category='table', type='value', value='#004D80'), table_border_right_style=OptionsInfo(scss=True, category='table', type='value', value='none'), table_border_right_width=OptionsInfo(scss=True, category='table', type='px', value='2px'), table_border_right_color=OptionsInfo(scss=True, category='table', type='value', value='#D3D3D3'), table_border_bottom_include=OptionsInfo(scss=False, category='table', type='boolean', value=True), table_border_bottom_style=OptionsInfo(scss=True, category='table', type='value', value='solid'), table_border_bottom_width=OptionsInfo(scss=True, category='table', type='px', value='2px'), table_border_bottom_color=OptionsInfo(scss=True, category='table', type='value', value='#004D80'), table_border_left_style=OptionsInfo(scss=True, category='table', type='value', value='none'), table_border_left_width=OptionsInfo(scss=True, category='table', type='px', value='2px'), table_border_left_color=OptionsInfo(scss=True, category='table', type='value', value='#D3D3D3'), heading_background_color=OptionsInfo(scss=True, category='heading', type='value', value=None), heading_align=OptionsInfo(scss=True, category='heading', type='value', value='center'), heading_title_font_size=OptionsInfo(scss=True, category='heading', type='px', value='125%'), heading_title_font_weight=OptionsInfo(scss=True, category='heading', type='value', value='initial'), heading_subtitle_font_size=OptionsInfo(scss=True, category='heading', type='px', value='85%'), heading_subtitle_font_weight=OptionsInfo(scss=True, category='heading', type='value', value='initial'), heading_padding=OptionsInfo(scss=True, category='heading', type='px', value='7px'), heading_padding_horizontal=OptionsInfo(scss=True, category='heading', type='px', value='5px'), heading_border_bottom_style=OptionsInfo(scss=True, category='heading', type='value', value='solid'), heading_border_bottom_width=OptionsInfo(scss=True, category='heading', type='px', value='2px'), heading_border_bottom_color=OptionsInfo(scss=True, category='heading', type='value', value='#0076BA'), heading_border_lr_style=OptionsInfo(scss=True, category='heading', type='value', value='none'), heading_border_lr_width=OptionsInfo(scss=True, category='heading', type='px', value='1px'), heading_border_lr_color=OptionsInfo(scss=True, category='heading', type='value', value='#D3D3D3'), column_labels_background_color=OptionsInfo(scss=True, category='column_labels', type='value', value='#FFFFFF'), column_labels_font_size=OptionsInfo(scss=True, category='column_labels', type='px', value='100%'), column_labels_font_weight=OptionsInfo(scss=True, category='column_labels', type='value', value='normal'), column_labels_text_transform=OptionsInfo(scss=True, category='column_labels', type='value', value='inherit'), column_labels_padding=OptionsInfo(scss=True, category='column_labels', type='px', value='8px'), column_labels_padding_horizontal=OptionsInfo(scss=True, category='column_labels', type='px', value='5px'), column_labels_vlines_style=OptionsInfo(scss=True, category='table_body', type='value', value='none'), column_labels_vlines_width=OptionsInfo(scss=True, category='table_body', type='px', value='1px'), column_labels_vlines_color=OptionsInfo(scss=True, category='table_body', type='value', value='#D3D3D3'), column_labels_border_top_style=OptionsInfo(scss=True, category='column_labels', type='value', value='solid'), column_labels_border_top_width=OptionsInfo(scss=True, category='column_labels', type='px', value='2px'), column_labels_border_top_color=OptionsInfo(scss=True, category='column_labels', type='value', value='#0076BA'), column_labels_border_bottom_style=OptionsInfo(scss=True, category='column_labels', type='value', value='solid'), column_labels_border_bottom_width=OptionsInfo(scss=True, category='column_labels', type='px', value='2px'), column_labels_border_bottom_color=OptionsInfo(scss=True, category='column_labels', type='value', value='#0076BA'), column_labels_border_lr_style=OptionsInfo(scss=True, category='column_labels', type='value', value='none'), column_labels_border_lr_width=OptionsInfo(scss=True, category='column_labels', type='px', value='1px'), column_labels_border_lr_color=OptionsInfo(scss=True, category='column_labels', type='value', value='#D3D3D3'), column_labels_hidden=OptionsInfo(scss=False, category='column_labels', type='boolean', value=False), row_group_background_color=OptionsInfo(scss=True, category='row_group', type='value', value=None), row_group_font_size=OptionsInfo(scss=True, category='row_group', type='px', value='100%'), row_group_font_weight=OptionsInfo(scss=True, category='row_group', type='value', value='initial'), row_group_text_transform=OptionsInfo(scss=True, category='row_group', type='value', value='inherit'), row_group_padding=OptionsInfo(scss=True, category='row_group', type='px', value='14px'), row_group_padding_horizontal=OptionsInfo(scss=True, category='row_group', type='px', value='5px'), row_group_border_top_style=OptionsInfo(scss=True, category='row_group', type='value', value='solid'), row_group_border_top_width=OptionsInfo(scss=True, category='row_group', type='px', value='2px'), row_group_border_top_color=OptionsInfo(scss=True, category='row_group', type='value', value='#0076BA'), row_group_border_right_style=OptionsInfo(scss=True, category='row_group', type='value', value='none'), row_group_border_right_width=OptionsInfo(scss=True, category='row_group', type='px', value='1px'), row_group_border_right_color=OptionsInfo(scss=True, category='row_group', type='value', value='#D3D3D3'), row_group_border_bottom_style=OptionsInfo(scss=True, category='row_group', type='value', value='solid'), row_group_border_bottom_width=OptionsInfo(scss=True, category='row_group', type='px', value='2px'), row_group_border_bottom_color=OptionsInfo(scss=True, category='row_group', type='value', value='#0076BA'), row_group_border_left_style=OptionsInfo(scss=True, category='row_group', type='value', value='none'), row_group_border_left_width=OptionsInfo(scss=True, category='row_group', type='px', value='1px'), row_group_border_left_color=OptionsInfo(scss=True, category='row_group', type='value', value='#D3D3D3'), row_group_as_column=OptionsInfo(scss=False, category='row_group', type='boolean', value=False), table_body_hlines_style=OptionsInfo(scss=True, category='table_body', type='value', value='none'), table_body_hlines_width=OptionsInfo(scss=True, category='table_body', type='px', value='1px'), table_body_hlines_color=OptionsInfo(scss=True, category='table_body', type='value', value='#89D3FE'), table_body_vlines_style=OptionsInfo(scss=True, category='table_body', type='value', value='none'), table_body_vlines_width=OptionsInfo(scss=True, category='table_body', type='px', value='1px'), table_body_vlines_color=OptionsInfo(scss=True, category='table_body', type='value', value='#89D3FE'), table_body_border_top_style=OptionsInfo(scss=True, category='table_body', type='value', value='solid'), table_body_border_top_width=OptionsInfo(scss=True, category='table_body', type='px', value='2px'), table_body_border_top_color=OptionsInfo(scss=True, category='table_body', type='value', value='#0076BA'), table_body_border_bottom_style=OptionsInfo(scss=True, category='table_body', type='value', value='solid'), table_body_border_bottom_width=OptionsInfo(scss=True, category='table_body', type='px', value='2px'), table_body_border_bottom_color=OptionsInfo(scss=True, category='table_body', type='value', value='#0076BA'), data_row_padding=OptionsInfo(scss=True, category='data_row', type='px', value='14px'), data_row_padding_horizontal=OptionsInfo(scss=True, category='data_row', type='px', value='5px'), stub_background_color=OptionsInfo(scss=True, category='stub', type='value', value='#0076BA'), stub_font_size=OptionsInfo(scss=True, category='stub', type='px', value='100%'), stub_font_weight=OptionsInfo(scss=True, category='stub', type='value', value='initial'), stub_text_transform=OptionsInfo(scss=True, category='stub', type='value', value='inherit'), stub_border_style=OptionsInfo(scss=True, category='stub', type='value', value='solid'), stub_border_width=OptionsInfo(scss=True, category='stub', type='px', value='2px'), stub_border_color=OptionsInfo(scss=True, category='stub', type='value', value='#0076BA'), stub_row_group_background_color=OptionsInfo(scss=True, category='stub', type='value', value=None), stub_row_group_font_size=OptionsInfo(scss=True, category='stub', type='px', value='100%'), stub_row_group_font_weight=OptionsInfo(scss=True, category='stub', type='value', value='initial'), stub_row_group_text_transform=OptionsInfo(scss=True, category='stub', type='value', value='inherit'), stub_row_group_border_style=OptionsInfo(scss=True, category='stub', type='value', value='solid'), stub_row_group_border_width=OptionsInfo(scss=True, category='stub', type='px', value='2px'), stub_row_group_border_color=OptionsInfo(scss=True, category='stub', type='value', value='#D3D3D3'), source_notes_padding=OptionsInfo(scss=True, category='source_notes', type='px', value='7px'), source_notes_padding_horizontal=OptionsInfo(scss=True, category='source_notes', type='px', value='5px'), source_notes_background_color=OptionsInfo(scss=True, category='source_notes', type='value', value=None), source_notes_font_size=OptionsInfo(scss=True, category='source_notes', type='px', value='90%'), source_notes_border_bottom_style=OptionsInfo(scss=True, category='source_notes', type='value', value='none'), source_notes_border_bottom_width=OptionsInfo(scss=True, category='source_notes', type='px', value='2px'), source_notes_border_bottom_color=OptionsInfo(scss=True, category='source_notes', type='value', value='#D3D3D3'), source_notes_border_lr_style=OptionsInfo(scss=True, category='source_notes', type='value', value='none'), source_notes_border_lr_width=OptionsInfo(scss=True, category='source_notes', type='px', value='2px'), source_notes_border_lr_color=OptionsInfo(scss=True, category='source_notes', type='value', value='#D3D3D3'), source_notes_multiline=OptionsInfo(scss=False, category='source_notes', type='boolean', value=True), source_notes_sep=OptionsInfo(scss=False, category='source_notes', type='value', value=' '), container_width=OptionsInfo(scss=False, category='container', type='px', value='auto'), container_height=OptionsInfo(scss=False, category='container', type='px', value='auto'), container_padding_x=OptionsInfo(scss=False, category='container', type='px', value='0px'), container_padding_y=OptionsInfo(scss=False, category='container', type='px', value='10px'), container_overflow_x=OptionsInfo(scss=False, category='container', type='overflow', value='auto'), container_overflow_y=OptionsInfo(scss=False, category='container', type='overflow', value='auto'), quarto_disable_processing=OptionsInfo(scss=False, category='quarto', type='logical', value=False), quarto_use_bootstrap=OptionsInfo(scss=False, category='quarto', type='logical', value=False)), _has_built=False)"
      ]
     },
     "execution_count": 65,
     "metadata": {},
     "output_type": "execute_result"
    }
   ],
   "source": [
    "from great_tables import GT\n",
    "\n",
    "#set time of table\n",
    "start_date = \"Supervised Learning vs BERT\"\n",
    "end_date = \"Financial Sentiment Analysis\"\n",
    "\n",
    "#pandas df of results\n",
    "d = {\n",
    "    'Models':['Naive Bayes BoW','Naive Bayes Tfid','Random Forest BoW','Random Forest Tfid','BERT'],\n",
    "    'Neutral':[66,63,67,67,80],\n",
    "    'Positive':[64,60,70,67,78],\n",
    "    'Negative':[67,75,79,78,82],\n",
    "    'Accuracy':[65,63,69,68,79]\n",
    "    }\n",
    "\n",
    "table_results = pd.DataFrame(d)\n",
    "\n",
    "\n",
    "#create and display our table of results for the models\n",
    "(\n",
    "    GT(table_results)\n",
    "    .tab_header(title=\"Financial Sentiment Analysis\",subtitle=\"Comparision of Statistical and Deep Learning Approaches\")\n",
    "    .tab_source_note(source_note=(\"System Configurations: Windows 10, AMD Ryzen 5600X, 16GB RAM\"))\n",
    "    .opt_vertical_padding(scale=1.75)\n",
    "    .opt_stylize()\n",
    ")"
   ]
  },
  {
   "cell_type": "markdown",
   "id": "0b9591ee",
   "metadata": {},
   "source": [
    "The above table shows the results of the project. \n",
    "\n",
    "The statistical approach that had the best performance was representing the textual data using Bag of Words Model, and pairing with it the Random Forest algorithm. It not only achieved the highest accuracy compared to other Naive Bayes models and Tfid text representation, but also the highest precision among all three classes. What was interesting is that, the class that had the highest precision of all the statisical models, was the negative sentiment of the Random Forest using Bag of Words, despite the fact that the negative class was imbalanced, having the lowest amount of samples of around 600, while the neutral and postive had around 1300 samples each. The Random Forest BoW model surpassed our random baseline, but was shy of the literature benchmark of 76, by only 7 points. Rather impressive, given the small dataset.\n",
    "\n",
    "The BERT deep learning model outperformed the all statistical models, as expected. With an accuracy score of 79, in surpassed the random baseline of 70, whilst under performing against the literature benchmark of 82.5, by only 3.5. The fact that I was only 3.5 points off the performance of an established literature experiment, shows the effectiveness of BERT and embedding based models. Its precision for all the classes, were higher than all statistical models. The reason for the performance disparities can be due to BERT's bidirectional nature, allowing it to understand contextual meaning much better than traditional models, leading to the better performance, despite a small set of training samples.\n",
    "\n",
    "But there are clear advantages and disadvantages between traditional statistical text classifiers, and deep learning embedding based models.\n",
    "\n",
    "The advantage of developing statistical models over deep learning embedding based ones, is that they are significantly faster and simpler. Throughout the development process, the cells to train the models were timed using the \"%%time\" command. The time it took to train and develop all 4 statistical models was 0 nanoseconds, with the exception of random forest tuning, which was 10 seconds. Whereas, training and tuning BERT, a deep learning model, took a total time of 5 hours and 58 minutes. A 214900% increase in development time.\n",
    "\n",
    "The main advantage of deep learning embedding based models, is that they provide much better performance, as seen in the results table above.\n",
    "\n",
    "Another major disadvatange of embedding-based models is the hardware requirement. Modern deep learning models are usually trained with a GPU, which significantly speeds up the training time, but they are costly to purchase.\n",
    "\n",
    "Scenarios where traditional statistical based models would be preferred are academic projects and small scale businesses, that do not have access to GPU or the financial means to acquire them, even from third party providers like Google Colab. However, if funds were available, businesses and institutions could utilize deep learning embedding based models to develop high performance text classifier for use in the financial sector."
   ]
  },
  {
   "cell_type": "markdown",
   "id": "5d106a3b",
   "metadata": {},
   "source": [
    "# 9 Conclusion\n",
    "\n",
    "In summary, the results of this project succesfully accomplished the objectives that were set out from the start. BERT, an embedding-based deep learning model, outperformed traditional statistical models Naive Bayes and Random Forest, when it came to developing a text classifier to classify the sentiment of financial news headlines, in both the accuracy and precision metrics. The applicablity and practicality of traditional models still has its place in the finance sector, as the cost to train and develop an embedding-based deep learning model, is significantly higher. Which type of model an organisation chooses, will depend on the project resource's and time constraints.\n",
    "\n",
    "This project has helped address the challenge of using NLP to understand the ambiguity and nuanced language in the finance world, by using statistical and deep learning approaches, it can assists with tasks such as gauging market sentiment and stock price prediction. This project references current literature findings and is reproducible. Researchers or individuals may replicate this study using a different dataset and analyze the performance of the text classifiers against my findings here. The text classifiers seen here can also be transfered to other domain-specific areas such as product development. You could use the models here to classify product reviews and their sentiment, providing business intelligence.\n",
    "\n",
    "This project was constrained by my current hardware, consisting of only a CPU to train my models. Thus, improvements could be made by utilizing a graphics processing unit(GPU), which significantly improves training and tuning time. This will allow the development of an even better performing models. Another improvement could also be utilizing a larger, more diverse set of financial news headline dataset. Future research in this area could involve comparing the performance of statistical and embedding approaches with rule-based approaches, such as using a lexicon. For directions, consider the Loughran-McDonald Master Dictionary[13]."
   ]
  },
  {
   "cell_type": "markdown",
   "id": "26c89424",
   "metadata": {},
   "source": [
    "# 10 References\n",
    "\n",
    "[1]  Seng, J.-L. and Yang, H.-F. (2017), \"The association between stock price volatility and financial news – a sentiment analysis approach\", Kybernetes, Vol. 46 No. 8, pp. 1341-1365. https://doi.org/10.1108/K-11-2016-0307 \n",
    "\n",
    "[2] S. Sohangir, N. Petty and D. Wang, \"Financial Sentiment Lexicon Analysis,\" 2018 IEEE 12th International Conference on Semantic Computing (ICSC), Laguna Hills, CA, USA, 2018, pp. 286-289, doi: 10.1109/ICSC.2018.00052.\n",
    "\n",
    "[3] Devlin, J., Chang, M., Lee, K., & Toutanova, K. (2019). BERT: Pre-training of Deep Bidirectional Transformers for Language Understanding. North American Chapter of the Association for Computational Linguistics.\n",
    "\n",
    "[4] IBM (2023). What is supervised learning? [online] IBM. Available at: https://www.ibm.com/topics/supervised-learning.\n",
    "\n",
    "[5] Wikipedia. (2020). BERT (language model). [online] Available at: https://en.wikipedia.org/wiki/BERT_(language_model).\n",
    "\n",
    "\n",
    "[6] Ligozat A-L, Lefevre J, Bugeau A, Combaz J. Unraveling the Hidden Environmental Impacts of AI Solutions for Environment Life Cycle Assessment of AI Solutions. Sustainability. 2022; 14(9):5172. https://doi.org/10.3390/su14095172\n",
    "\n",
    "[7] Ahmad, H.O., & Umar, S.U. (2023). Sentiment Analysis of Financial Textual data Using Machine Learning and Deep Learning Models. Informatica (Slovenia), 47 https://doi.org/10.31449/inf.v47i5.4673\n",
    "\n",
    "[8] www.kaggle.com. (n.d.). Sentiment Analysis for Financial News. [online] Available at: https://www.kaggle.com/datasets/ankurzing/sentiment-analysis-for-financial-news/data.\n",
    "\n",
    "[9] S. Yıldırım, D. Jothimani, C. Kavaklioğlu and A. Başar, \"Deep Learning Approaches for Sentiment Analysis on Financial Microblog Dataset,\" 2019 IEEE International Conference on Big Data (Big Data), Los Angeles, CA, USA, 2019, pp. 5581-5584, doi: 10.1109/BigData47090.2019.9006056\n",
    "\n",
    "[10] M. G. Sousa, K. Sakiyama, L. d. S. Rodrigues, P. H. Moraes, E. R. Fernandes and E. T. Matsubara, \"BERT for Stock Market Sentiment Analysis,\" 2019 IEEE 31st International Conference on Tools with Artificial Intelligence (ICTAI), Portland, OR, USA, 2019, pp. 1597-1601, doi: 10.1109/ICTAI.2019.00231.\n",
    "\n",
    "[11] Chollet, F. (2018). Deep Learning with Python. Shelter Island (New York, Estados Unidos): Manning, Cop.\n",
    "\n",
    "[12] Devlin, J., Chang, M.-W., Lee, K. and Toutanova, K. (2018). BERT: Pre-training of Deep Bidirectional Transformers for Language Understanding. [online] arXiv.org. Available at: https://arxiv.org/abs/1810.04805.\n",
    "\n",
    "[13] Dame, M.C.W. // U. of N. (n.d.). Loughran-McDonald Master Dictionary w/ Sentiment Word Lists // Software Repository for Accounting and Finance // University of Notre Dame. [online] Software Repository for Accounting and Finance. Available at: https://sraf.nd.edu/loughranmcdonald-master-dictionary/."
   ]
  }
 ],
 "metadata": {
  "kernelspec": {
   "display_name": "Python 3 (ipykernel)",
   "language": "python",
   "name": "python3"
  },
  "language_info": {
   "codemirror_mode": {
    "name": "ipython",
    "version": 3
   },
   "file_extension": ".py",
   "mimetype": "text/x-python",
   "name": "python",
   "nbconvert_exporter": "python",
   "pygments_lexer": "ipython3",
   "version": "3.11.5"
  }
 },
 "nbformat": 4,
 "nbformat_minor": 5
}
