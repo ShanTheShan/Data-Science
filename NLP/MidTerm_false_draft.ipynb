{
 "cells": [
  {
   "cell_type": "markdown",
   "id": "84686b94",
   "metadata": {},
   "source": [
    "# <center>Financial News Sentiment Analysis:  Supervised Machine Learning versus Lexicon</center>"
   ]
  },
  {
   "cell_type": "markdown",
   "id": "ccb7178c",
   "metadata": {},
   "source": [
    "# 1 Problem Area\n",
    "\n",
    "The area of industry that I have chosen to apply natural language processing (NLP) text classification, in particular, sentiment anaylsis, is the financial sector. The challenge of sentiment analysis of financial market news lies at the intersection of NLP and financial analysis. It addresses the need to extract actionable insights from the vast amount of textual data generated daily in financial markets. Solving this problem is crucial for retail and institutional investors and traders who rely on timely and accurate information regarding the market's sentiment, in order to make informed decisions on their investments and trades.\n",
    "\n",
    "One of the primary difficulties in this domain is the complexity and ambiguity of financial language. Stock market news articles for example, often contain nuanced sentiments, speculative language, and domain and region specific terminology that can be challenging for sentiment analysis models. For instance, words like \"bullish\" and \"bearish\", carry different meanings depending on context.\n",
    "\n",
    "To tackle this challenge, researchers and practitioners have developed various text classification methods that leverage machine learning and NLP techniques. One of the key approaches is sentiment analysis, which aims to classify text into positive, negative, or neutral sentiments based on the underlying emotions expressed.\n",
    "\n",
    "Prior work in this area has laid the foundation for sentiment analysis in financial texts. Researchers have explored different features and algorithms to improve sentiment classification accuracy. For example, sentiment lexicons specific to financial terms have been developed to enhance the understanding of sentiment-bearing words in financial contexts[1].\n",
    "\n",
    "On top of that, recent advancements in deep learning, particularly with techniques like recurrent neural networks (RNNs) and transformer models, have shown promise in improving sentiment analysis accuracy by capturing dependencies in text[2].\n",
    "\n",
    "In summary, the problem of sentiment analysis in financial market news presents a critical area where text classification methods can significantly contribute to the decisions investors and traders make. By building upon prior work in sentiment analysis and leveraging NLP techniques, I hope that my work can add to the importance of NLP in this sector."
   ]
  },
  {
   "cell_type": "markdown",
   "id": "e671bd5a",
   "metadata": {},
   "source": [
    "# 2 Objectives\n",
    "\n",
    "The objectives of building an NLP Text Classifier for analyzing financial market news sentiment are as follows:\n",
    "\n",
    " - <b><u>Objective 1:</u></b> Compare the performance between Supervised Learning versus Lexicon Approach:\n",
    " \n",
    "     <u>Justification</u>: Majority of the publicly available literature on the subject of comparing financial sentiment anaylsis using Lexicon versus Machine Learning, is based off the VADER Lexicon. The VADER lexicon is a rule-based sentiment analysis tool designed to analyze the sentiment of texts by assigning polarity scores to words based on their context and intensity. However, I believe VADER is a poor choice for financial headlines, as it excels at classifying social media texts, and not the nuanced language of finance. \n",
    "     \n",
    "     This comparitve study of Lexicon and Machine Learning for sentiment analysis, uses the VADER Lexicon and the dataset comprising of hotel reviews[3]. Thus, we cannot use the finding in presented in that work, to support this project, as it is not related to finance. Another study done on Sentiment Analysis of Financial News, using VADER once again, on an unlabelled dataset scraped from the web[4]. The results of the study tries to predict stock market movement, and does not address whether the sentiment predicted was correct in the first place, as the dataset was scraped from the web and unlabelled. Hence, I wish to make a comparive assessment between a lexicon catered towards finance, and a supervised machine learning model.    \n",
    "     \n",
    "     <br>\n",
    "\n",
    "  - <b><u>Objective 2:</u></b> Sentiment Classification Accuracy: To develop an accurate sentiment analysis model specifically tailored for financial market news. This involves training a classifier that can effectively identify and categorize sentiment expressions in financial texts, including nuanced sentiments related to market trends, investor sentiment, and economic indicators.\n",
    "  \n",
    "    <u>Justification</u>: Accurate sentiment classification is essential for investors and traders to make informed decisions, especially in the volatile markets we are experiencing now in 2024. A reliable sentiment analysis model can help identify market sentiment shifts, assess investor sentiment towards specific stocks or sectors, and gauge the overall market mood.\n",
    "\n",
    "\n",
    "\n",
    "    \n",
    "The impact and significance of this project within the problem area of financial news sentiment analysis are as follows:\n",
    "\n",
    "- Improved Decision-Making: The findings of this project can contribute to ascertain whether a lexicon based approach to classifying financial news is better than machine learning. Should machine learning perform better, an accurate sentiment analysis model can significantly improve decision-making processes for investors and traders by providing actionable insights and overall market trends. Whilst the lexicon approach can provide the same level of aid, whilst being less computational expensive, with a lower degree of a learning curve.\n",
    "\n",
    "The novelty and ambition of this project stem from the fact that the majority of published studies focus on either using Lexicon or Machine Learning, and not comparing both simultaneously, often with datasets that are not labeled financial news headlines. There is only one major publicly available work that directly compares the performance of machine learning and financial lexicons[5]. This project aims to contribute significantly to this comparison in the field of sentiment analysis for financial news, bridging the gap between these two approaches and providing valuable insights into their respective strengths and weaknesses."
   ]
  },
  {
   "cell_type": "markdown",
   "id": "c484b7b7",
   "metadata": {},
   "source": [
    "# 3 Dataset\n",
    "\n",
    "The chosen dataset for this project comes from Kaggle[1]. The dataset comprises financial news headlines from the perspective of a retail investor, and is stored in a CSV file format, with a relatively small size of 657 kilobytes.\n",
    "\n",
    "The dataset contains two columns:\n",
    "\n",
    "- <b>Sentiment</b>: This column categorizes the sentiment of each news headline into three distinct types: positive, neutral, and negative. These sentiment labels serve as the known sentiment of the article headline.\n",
    "<br>\n",
    "<br>\n",
    "- <b>News Headline</b>: This column contains the actual headlines of the news articles. It is textual data.\n",
    "\n",
    "Both columns in the dataset are of string data type, which is common for text-based datasets in NLP tasks.\n",
    "\n",
    "The labeled nature of this dataset makes it suitable for supervised machine learning approaches, which aligns with the project's objective of building a sentiment analysis classifier model. Supervised learning relies on having labeled data, where the features (in this case, the news headlines) are associated with corresponding labels (sentiments).\n",
    "\n",
    "On overview of the dataset informs me that it may contain ambiguity, noise, special characters, or irregularities typical of real-world textual data. These aspects will need to be addressed through data preprocessing steps as part of the NLP pipeline. These preprocessing steps, which will be done in the later sections of this project, are crucial for preparing the dataset for feature extraction and building an effective sentiment analysis model."
   ]
  },
  {
   "cell_type": "markdown",
   "id": "67d627c6",
   "metadata": {},
   "source": [
    "# 4 Evaluation Methodology\n",
    "\n",
    "To evaluate the classifier, the follow metrics will be used:\n",
    "\n",
    "- <b>Accuracy Score</b>: It is how often a model is correct, overall.\n",
    "- <b>Precision Score</b>: It is how often a model is correct at predicting the target class.\n",
    "- <b>Confusion Matrix</b> A N*N matrix to evaluate a classfication model, where N is the number of labels.\n",
    "    \n",
    "We utilize the accuracy score to measure how well our classifier is at analyzing a given set of article headlines. The higher the score, the better. This means that the classifier is correctly predicting whether an article is positive, neutral or negative, and can be relied upon and trusted when asked to measure new unseen data.\n",
    "\n",
    "We utilize the precision score to measure how well our classifier is at analyzing each of the given target classes. This will allows us to detect if our classifier is weaker at classifying positive headlines over negative headlines, for example, and investigate further as to the cause for it. The higher the precision score, the better. This will imply the classifier is good at predicting each of the 3 classes, respectively.\n",
    "\n",
    "The confusion matrix will provide a general overview of the performance of the classifier for each of the 3 target classes, and is a common practise in the field of machine learning classification models."
   ]
  },
  {
   "cell_type": "markdown",
   "id": "52e122b9",
   "metadata": {},
   "source": [
    "# 5 Preprocessing "
   ]
  },
  {
   "cell_type": "markdown",
   "id": "f2c83f44",
   "metadata": {},
   "source": [
    "## 5.1 Data Cleaning & Transformation"
   ]
  },
  {
   "cell_type": "code",
   "execution_count": 1,
   "id": "001c3c1c",
   "metadata": {},
   "outputs": [
    {
     "name": "stderr",
     "output_type": "stream",
     "text": [
      "[nltk_data] Downloading package wordnet to\n",
      "[nltk_data]     C:\\Users\\shana\\AppData\\Roaming\\nltk_data...\n",
      "[nltk_data]   Package wordnet is already up-to-date!\n"
     ]
    }
   ],
   "source": [
    "#importing necessary libraries\n",
    "import numpy as np\n",
    "import pandas as pd\n",
    "import matplotlib.pyplot as plt\n",
    "\n",
    "import re\n",
    "import nltk\n",
    "nltk.download('wordnet')\n",
    "from nltk import FreqDist\n",
    "from nltk.corpus import stopwords, wordnet\n",
    "from nltk import pos_tag\n",
    "from nltk.stem import WordNetLemmatizer, PorterStemmer\n",
    "from nltk.tokenize import word_tokenize, sent_tokenize\n",
    "from wordcloud import WordCloud"
   ]
  },
  {
   "cell_type": "code",
   "execution_count": 2,
   "id": "4d8c7ae3",
   "metadata": {},
   "outputs": [],
   "source": [
    "#import csv and load into pandas dataframe\n",
    "df = pd.read_csv(\"all-data.csv\",encoding='latin-1')"
   ]
  },
  {
   "cell_type": "code",
   "execution_count": 3,
   "id": "4b3ed424",
   "metadata": {
    "scrolled": false
   },
   "outputs": [
    {
     "name": "stdout",
     "output_type": "stream",
     "text": [
      "<class 'pandas.core.frame.DataFrame'>\n",
      "RangeIndex: 4845 entries, 0 to 4844\n",
      "Data columns (total 2 columns):\n",
      " #   Column                                                                                                                           Non-Null Count  Dtype \n",
      "---  ------                                                                                                                           --------------  ----- \n",
      " 0   neutral                                                                                                                          4845 non-null   object\n",
      " 1   According to Gran , the company has no plans to move all production to Russia , although that is where the company is growing .  4845 non-null   object\n",
      "dtypes: object(2)\n",
      "memory usage: 75.8+ KB\n"
     ]
    }
   ],
   "source": [
    "df.info()"
   ]
  },
  {
   "cell_type": "code",
   "execution_count": 4,
   "id": "288a2fd9",
   "metadata": {},
   "outputs": [
    {
     "data": {
      "text/html": [
       "<div>\n",
       "<style scoped>\n",
       "    .dataframe tbody tr th:only-of-type {\n",
       "        vertical-align: middle;\n",
       "    }\n",
       "\n",
       "    .dataframe tbody tr th {\n",
       "        vertical-align: top;\n",
       "    }\n",
       "\n",
       "    .dataframe thead th {\n",
       "        text-align: right;\n",
       "    }\n",
       "</style>\n",
       "<table border=\"1\" class=\"dataframe\">\n",
       "  <thead>\n",
       "    <tr style=\"text-align: right;\">\n",
       "      <th></th>\n",
       "      <th>neutral</th>\n",
       "      <th>According to Gran , the company has no plans to move all production to Russia , although that is where the company is growing .</th>\n",
       "    </tr>\n",
       "  </thead>\n",
       "  <tbody>\n",
       "    <tr>\n",
       "      <th>0</th>\n",
       "      <td>neutral</td>\n",
       "      <td>Technopolis plans to develop in stages an area...</td>\n",
       "    </tr>\n",
       "    <tr>\n",
       "      <th>1</th>\n",
       "      <td>negative</td>\n",
       "      <td>The international electronic industry company ...</td>\n",
       "    </tr>\n",
       "    <tr>\n",
       "      <th>2</th>\n",
       "      <td>positive</td>\n",
       "      <td>With the new production plant the company woul...</td>\n",
       "    </tr>\n",
       "    <tr>\n",
       "      <th>3</th>\n",
       "      <td>positive</td>\n",
       "      <td>According to the company 's updated strategy f...</td>\n",
       "    </tr>\n",
       "    <tr>\n",
       "      <th>4</th>\n",
       "      <td>positive</td>\n",
       "      <td>FINANCING OF ASPOCOMP 'S GROWTH Aspocomp is ag...</td>\n",
       "    </tr>\n",
       "  </tbody>\n",
       "</table>\n",
       "</div>"
      ],
      "text/plain": [
       "    neutral  \\\n",
       "0   neutral   \n",
       "1  negative   \n",
       "2  positive   \n",
       "3  positive   \n",
       "4  positive   \n",
       "\n",
       "  According to Gran , the company has no plans to move all production to Russia , although that is where the company is growing .  \n",
       "0  Technopolis plans to develop in stages an area...                                                                               \n",
       "1  The international electronic industry company ...                                                                               \n",
       "2  With the new production plant the company woul...                                                                               \n",
       "3  According to the company 's updated strategy f...                                                                               \n",
       "4  FINANCING OF ASPOCOMP 'S GROWTH Aspocomp is ag...                                                                               "
      ]
     },
     "execution_count": 4,
     "metadata": {},
     "output_type": "execute_result"
    }
   ],
   "source": [
    "df.head()"
   ]
  },
  {
   "cell_type": "markdown",
   "id": "587d916c",
   "metadata": {},
   "source": [
    "The file appears to not have the actual column headings mentioned in '3 Dataset'. Lets address that first."
   ]
  },
  {
   "cell_type": "code",
   "execution_count": 5,
   "id": "1a023d66",
   "metadata": {},
   "outputs": [],
   "source": [
    "#extract the false formated column values\n",
    "firstEntry = list(df.columns)"
   ]
  },
  {
   "cell_type": "code",
   "execution_count": 6,
   "id": "b6d5d1b2",
   "metadata": {},
   "outputs": [],
   "source": [
    "#MY ORIGINAL CODE/CONTRIBUTIONS\n",
    "\n",
    "#rename columns\n",
    "df = df.rename(columns={'neutral':'sentiment',\n",
    "                        'According to Gran , the company has no plans to move all production to Russia , although that is where the company is growing .':'Headline'})\n",
    "\n",
    "#append a new single row\n",
    "addRow = {'sentiment':firstEntry[0],'Headline':firstEntry[1]}\n",
    "df = df._append(addRow,ignore_index=True)"
   ]
  },
  {
   "cell_type": "code",
   "execution_count": 7,
   "id": "d8c5ccaa",
   "metadata": {
    "scrolled": true
   },
   "outputs": [
    {
     "data": {
      "text/html": [
       "<div>\n",
       "<style scoped>\n",
       "    .dataframe tbody tr th:only-of-type {\n",
       "        vertical-align: middle;\n",
       "    }\n",
       "\n",
       "    .dataframe tbody tr th {\n",
       "        vertical-align: top;\n",
       "    }\n",
       "\n",
       "    .dataframe thead th {\n",
       "        text-align: right;\n",
       "    }\n",
       "</style>\n",
       "<table border=\"1\" class=\"dataframe\">\n",
       "  <thead>\n",
       "    <tr style=\"text-align: right;\">\n",
       "      <th></th>\n",
       "      <th>sentiment</th>\n",
       "      <th>Headline</th>\n",
       "    </tr>\n",
       "  </thead>\n",
       "  <tbody>\n",
       "    <tr>\n",
       "      <th>4841</th>\n",
       "      <td>neutral</td>\n",
       "      <td>Rinkuskiai 's beer sales fell by 6.5 per cent ...</td>\n",
       "    </tr>\n",
       "    <tr>\n",
       "      <th>4842</th>\n",
       "      <td>negative</td>\n",
       "      <td>Operating profit fell to EUR 35.4 mn from EUR ...</td>\n",
       "    </tr>\n",
       "    <tr>\n",
       "      <th>4843</th>\n",
       "      <td>negative</td>\n",
       "      <td>Net sales of the Paper segment decreased to EU...</td>\n",
       "    </tr>\n",
       "    <tr>\n",
       "      <th>4844</th>\n",
       "      <td>negative</td>\n",
       "      <td>Sales in Finland decreased by 10.5 % in Januar...</td>\n",
       "    </tr>\n",
       "    <tr>\n",
       "      <th>4845</th>\n",
       "      <td>neutral</td>\n",
       "      <td>According to Gran , the company has no plans t...</td>\n",
       "    </tr>\n",
       "  </tbody>\n",
       "</table>\n",
       "</div>"
      ],
      "text/plain": [
       "     sentiment                                           Headline\n",
       "4841   neutral  Rinkuskiai 's beer sales fell by 6.5 per cent ...\n",
       "4842  negative  Operating profit fell to EUR 35.4 mn from EUR ...\n",
       "4843  negative  Net sales of the Paper segment decreased to EU...\n",
       "4844  negative  Sales in Finland decreased by 10.5 % in Januar...\n",
       "4845   neutral  According to Gran , the company has no plans t..."
      ]
     },
     "execution_count": 7,
     "metadata": {},
     "output_type": "execute_result"
    }
   ],
   "source": [
    "#column value is now in the last row\n",
    "df.tail()"
   ]
  },
  {
   "cell_type": "code",
   "execution_count": 8,
   "id": "cb0193cf",
   "metadata": {
    "scrolled": true
   },
   "outputs": [
    {
     "data": {
      "text/html": [
       "<div>\n",
       "<style scoped>\n",
       "    .dataframe tbody tr th:only-of-type {\n",
       "        vertical-align: middle;\n",
       "    }\n",
       "\n",
       "    .dataframe tbody tr th {\n",
       "        vertical-align: top;\n",
       "    }\n",
       "\n",
       "    .dataframe thead th {\n",
       "        text-align: right;\n",
       "    }\n",
       "</style>\n",
       "<table border=\"1\" class=\"dataframe\">\n",
       "  <thead>\n",
       "    <tr style=\"text-align: right;\">\n",
       "      <th></th>\n",
       "      <th>sentiment</th>\n",
       "      <th>Headline</th>\n",
       "    </tr>\n",
       "  </thead>\n",
       "  <tbody>\n",
       "    <tr>\n",
       "      <th>count</th>\n",
       "      <td>4846</td>\n",
       "      <td>4846</td>\n",
       "    </tr>\n",
       "    <tr>\n",
       "      <th>unique</th>\n",
       "      <td>3</td>\n",
       "      <td>4838</td>\n",
       "    </tr>\n",
       "    <tr>\n",
       "      <th>top</th>\n",
       "      <td>neutral</td>\n",
       "      <td>TELECOMWORLDWIRE-7 April 2006-TJ Group Plc sel...</td>\n",
       "    </tr>\n",
       "    <tr>\n",
       "      <th>freq</th>\n",
       "      <td>2879</td>\n",
       "      <td>2</td>\n",
       "    </tr>\n",
       "  </tbody>\n",
       "</table>\n",
       "</div>"
      ],
      "text/plain": [
       "       sentiment                                           Headline\n",
       "count       4846                                               4846\n",
       "unique         3                                               4838\n",
       "top      neutral  TELECOMWORLDWIRE-7 April 2006-TJ Group Plc sel...\n",
       "freq        2879                                                  2"
      ]
     },
     "execution_count": 8,
     "metadata": {},
     "output_type": "execute_result"
    }
   ],
   "source": [
    "df.describe()"
   ]
  },
  {
   "cell_type": "markdown",
   "id": "f92a02fe",
   "metadata": {},
   "source": [
    "Originally the file contained 4845 rows, but because we know that the first row was formatted as column headers, we renamed the columns, and added the back the extracted old header vaues. Thus, the row count increased by row, which is correct."
   ]
  },
  {
   "cell_type": "code",
   "execution_count": 9,
   "id": "6792e41a",
   "metadata": {
    "scrolled": true
   },
   "outputs": [
    {
     "data": {
      "text/plain": [
       "sentiment    0\n",
       "Headline     0\n",
       "dtype: int64"
      ]
     },
     "execution_count": 9,
     "metadata": {},
     "output_type": "execute_result"
    }
   ],
   "source": [
    "df.isnull().sum()"
   ]
  },
  {
   "cell_type": "markdown",
   "id": "8aca4447",
   "metadata": {},
   "source": [
    "No missing values in our dataframe."
   ]
  },
  {
   "cell_type": "markdown",
   "id": "cf46c0c0",
   "metadata": {},
   "source": [
    "In the later sections of the project, a text classifier model will be built. To accomadate the model, I will tranform the labels into 3 numerical classes, whilst retainng the textual data of the headline to be processing by the model.\n",
    "\n",
    "The 3 numerical classes will be:\n",
    "\n",
    "<b>1</b>: positive sentiment\n",
    "\n",
    "<b>0</b>: neutral sentiment\n",
    "\n",
    "<b>-1</b>: negative sentiment"
   ]
  },
  {
   "cell_type": "code",
   "execution_count": 10,
   "id": "e875d303",
   "metadata": {},
   "outputs": [],
   "source": [
    "#MY ORIGINAL CODE/CONTRIBUTIONS\n",
    "\n",
    "#replace the sentiment values based on condition\n",
    "df['sentiment'] = df['sentiment'].apply(lambda val: {'positive': 1, 'neutral':0 ,'negative': -1}.get(val, ' '))"
   ]
  },
  {
   "cell_type": "code",
   "execution_count": 11,
   "id": "87f599b7",
   "metadata": {
    "scrolled": true
   },
   "outputs": [
    {
     "data": {
      "text/html": [
       "<div>\n",
       "<style scoped>\n",
       "    .dataframe tbody tr th:only-of-type {\n",
       "        vertical-align: middle;\n",
       "    }\n",
       "\n",
       "    .dataframe tbody tr th {\n",
       "        vertical-align: top;\n",
       "    }\n",
       "\n",
       "    .dataframe thead th {\n",
       "        text-align: right;\n",
       "    }\n",
       "</style>\n",
       "<table border=\"1\" class=\"dataframe\">\n",
       "  <thead>\n",
       "    <tr style=\"text-align: right;\">\n",
       "      <th></th>\n",
       "      <th>sentiment</th>\n",
       "      <th>Headline</th>\n",
       "    </tr>\n",
       "  </thead>\n",
       "  <tbody>\n",
       "    <tr>\n",
       "      <th>0</th>\n",
       "      <td>0</td>\n",
       "      <td>Technopolis plans to develop in stages an area...</td>\n",
       "    </tr>\n",
       "    <tr>\n",
       "      <th>1</th>\n",
       "      <td>-1</td>\n",
       "      <td>The international electronic industry company ...</td>\n",
       "    </tr>\n",
       "    <tr>\n",
       "      <th>2</th>\n",
       "      <td>1</td>\n",
       "      <td>With the new production plant the company woul...</td>\n",
       "    </tr>\n",
       "    <tr>\n",
       "      <th>3</th>\n",
       "      <td>1</td>\n",
       "      <td>According to the company 's updated strategy f...</td>\n",
       "    </tr>\n",
       "    <tr>\n",
       "      <th>4</th>\n",
       "      <td>1</td>\n",
       "      <td>FINANCING OF ASPOCOMP 'S GROWTH Aspocomp is ag...</td>\n",
       "    </tr>\n",
       "  </tbody>\n",
       "</table>\n",
       "</div>"
      ],
      "text/plain": [
       "   sentiment                                           Headline\n",
       "0          0  Technopolis plans to develop in stages an area...\n",
       "1         -1  The international electronic industry company ...\n",
       "2          1  With the new production plant the company woul...\n",
       "3          1  According to the company 's updated strategy f...\n",
       "4          1  FINANCING OF ASPOCOMP 'S GROWTH Aspocomp is ag..."
      ]
     },
     "execution_count": 11,
     "metadata": {},
     "output_type": "execute_result"
    }
   ],
   "source": [
    "df.head()"
   ]
  },
  {
   "cell_type": "markdown",
   "id": "1f2368fa",
   "metadata": {},
   "source": [
    "## 5.2 Text Normalization"
   ]
  },
  {
   "cell_type": "markdown",
   "id": "ec7ecdcd",
   "metadata": {},
   "source": [
    "Converting all text to ASCII and lowercase helps standardize the text and ensures that the model doesn't treat \"the\" and \"The\" as different tokens. This step is vital in tasks where the case of the text doesn't carry significant meaning, such as sentiment analysis.\n",
    "\n",
    "Punctuation marks like commas, periods, exclamation marks, etc., typically do not contribute directly to sentiment analysis and can add noise to the data. Removing them can help the model focus on meaningful words and improve accuracy.\n",
    "\n",
    "We also remove digits as they do not add value to analyzing sentiment as well.\n",
    "\n",
    "So the first step in the normalization process is addressing these two agendas. Regular Expression and built in Python string methods will be used."
   ]
  },
  {
   "cell_type": "code",
   "execution_count": 12,
   "id": "41cb7a92",
   "metadata": {},
   "outputs": [],
   "source": [
    "#MY ORIGINAL CODE/CONTRIBUTIONS\n",
    "\n",
    "def ascii_lower(str_):\n",
    "    #this regex removes characters that come after an apostrophe,eg apple's -> apple\n",
    "    reg = re.sub(r\"'[a-z]+\",'',str_)\n",
    "    x = reg.encode(\"ascii\", \"ignore\").decode()\n",
    "    x = x.lower()\n",
    "    return x\n",
    "\n",
    "def removeDigits(str_):\n",
    "    #replace all special characters, that is, everything that isnt a letter or digit\n",
    "    reg = re.sub(r'[^A-Za-z ]+','',str_)\n",
    "    return reg\n",
    "\n",
    "#apply our function to the headline column\n",
    "df['Headline'] = df['Headline'].apply(ascii_lower)\n",
    "df['Headline'] = df['Headline'].apply(removeDigits)"
   ]
  },
  {
   "cell_type": "code",
   "execution_count": 13,
   "id": "da9507c9",
   "metadata": {
    "scrolled": true
   },
   "outputs": [
    {
     "data": {
      "text/html": [
       "<div>\n",
       "<style scoped>\n",
       "    .dataframe tbody tr th:only-of-type {\n",
       "        vertical-align: middle;\n",
       "    }\n",
       "\n",
       "    .dataframe tbody tr th {\n",
       "        vertical-align: top;\n",
       "    }\n",
       "\n",
       "    .dataframe thead th {\n",
       "        text-align: right;\n",
       "    }\n",
       "</style>\n",
       "<table border=\"1\" class=\"dataframe\">\n",
       "  <thead>\n",
       "    <tr style=\"text-align: right;\">\n",
       "      <th></th>\n",
       "      <th>sentiment</th>\n",
       "      <th>Headline</th>\n",
       "    </tr>\n",
       "  </thead>\n",
       "  <tbody>\n",
       "    <tr>\n",
       "      <th>4841</th>\n",
       "      <td>0</td>\n",
       "      <td>rinkuskiai  beer sales fell by  per cent to  m...</td>\n",
       "    </tr>\n",
       "    <tr>\n",
       "      <th>4842</th>\n",
       "      <td>-1</td>\n",
       "      <td>operating profit fell to eur  mn from eur  mn ...</td>\n",
       "    </tr>\n",
       "    <tr>\n",
       "      <th>4843</th>\n",
       "      <td>-1</td>\n",
       "      <td>net sales of the paper segment decreased to eu...</td>\n",
       "    </tr>\n",
       "    <tr>\n",
       "      <th>4844</th>\n",
       "      <td>-1</td>\n",
       "      <td>sales in finland decreased by   in january  wh...</td>\n",
       "    </tr>\n",
       "    <tr>\n",
       "      <th>4845</th>\n",
       "      <td>0</td>\n",
       "      <td>according to gran  the company has no plans to...</td>\n",
       "    </tr>\n",
       "  </tbody>\n",
       "</table>\n",
       "</div>"
      ],
      "text/plain": [
       "      sentiment                                           Headline\n",
       "4841          0  rinkuskiai  beer sales fell by  per cent to  m...\n",
       "4842         -1  operating profit fell to eur  mn from eur  mn ...\n",
       "4843         -1  net sales of the paper segment decreased to eu...\n",
       "4844         -1  sales in finland decreased by   in january  wh...\n",
       "4845          0  according to gran  the company has no plans to..."
      ]
     },
     "execution_count": 13,
     "metadata": {},
     "output_type": "execute_result"
    }
   ],
   "source": [
    "df.tail()"
   ]
  },
  {
   "cell_type": "markdown",
   "id": "d66537a9",
   "metadata": {},
   "source": [
    "The next step is our normalization process is to tokenize the headlines and remove common stopwords that add no value to the sentiment analysis. \n",
    "\n",
    "We also lemmatize our tokens to break them down into a more meaningful base form. This is known also as linguistically principled anaylsis. We choose this over stemming as stemming simply removes the last few characters to return a root word, and because the stock market news headlines can contain nuances statement that stemming cannot provide any value to.\n",
    "\n",
    "For example, stemming \"historical highs\" would return \"histori highs\". Whereas lemmatization would return \"historical highs\". The word \"historical\" is of much more value than \"histori\", which is not a English word at all."
   ]
  },
  {
   "cell_type": "code",
   "execution_count": 14,
   "id": "052a7419",
   "metadata": {},
   "outputs": [],
   "source": [
    "#MY ORIGINAL CODE/CONTRIBUTIONS\n",
    "\n",
    "#we store our tokenized words from our headlines into a list, for visualization later\n",
    "tokenizedData= []\n",
    "\n",
    "#define lemmatization object\n",
    "lt = WordNetLemmatizer()\n",
    "\n",
    "#create our stopwords set\n",
    "myStopWords = set(stopwords.words('english'))\n",
    "\n",
    "def custom_tokenizer(headline):\n",
    "    tokens = []\n",
    "    for sent in sent_tokenize(headline):\n",
    "        for word in word_tokenize(sent):\n",
    "            if word not in myStopWords:\n",
    "                tokenizedData.append(word)\n",
    "                word = lt.lemmatize(word)\n",
    "                tokens.append(word)\n",
    "            \n",
    "    newHeadline = ' '.join(tokens)\n",
    "    return newHeadline\n",
    "\n",
    "df['Updated_Headlines'] = df['Headline'].apply(custom_tokenizer)"
   ]
  },
  {
   "cell_type": "code",
   "execution_count": 15,
   "id": "27b981fe",
   "metadata": {
    "scrolled": false
   },
   "outputs": [
    {
     "data": {
      "text/html": [
       "<div>\n",
       "<style scoped>\n",
       "    .dataframe tbody tr th:only-of-type {\n",
       "        vertical-align: middle;\n",
       "    }\n",
       "\n",
       "    .dataframe tbody tr th {\n",
       "        vertical-align: top;\n",
       "    }\n",
       "\n",
       "    .dataframe thead th {\n",
       "        text-align: right;\n",
       "    }\n",
       "</style>\n",
       "<table border=\"1\" class=\"dataframe\">\n",
       "  <thead>\n",
       "    <tr style=\"text-align: right;\">\n",
       "      <th></th>\n",
       "      <th>sentiment</th>\n",
       "      <th>Headline</th>\n",
       "      <th>Updated_Headlines</th>\n",
       "    </tr>\n",
       "  </thead>\n",
       "  <tbody>\n",
       "    <tr>\n",
       "      <th>0</th>\n",
       "      <td>0</td>\n",
       "      <td>technopolis plans to develop in stages an area...</td>\n",
       "      <td>technopolis plan develop stage area le square ...</td>\n",
       "    </tr>\n",
       "    <tr>\n",
       "      <th>1</th>\n",
       "      <td>-1</td>\n",
       "      <td>the international electronic industry company ...</td>\n",
       "      <td>international electronic industry company elco...</td>\n",
       "    </tr>\n",
       "    <tr>\n",
       "      <th>2</th>\n",
       "      <td>1</td>\n",
       "      <td>with the new production plant the company woul...</td>\n",
       "      <td>new production plant company would increase ca...</td>\n",
       "    </tr>\n",
       "    <tr>\n",
       "      <th>3</th>\n",
       "      <td>1</td>\n",
       "      <td>according to the company  updated strategy for...</td>\n",
       "      <td>according company updated strategy year baswar...</td>\n",
       "    </tr>\n",
       "    <tr>\n",
       "      <th>4</th>\n",
       "      <td>1</td>\n",
       "      <td>financing of aspocomp s growth aspocomp is agg...</td>\n",
       "      <td>financing aspocomp growth aspocomp aggressivel...</td>\n",
       "    </tr>\n",
       "  </tbody>\n",
       "</table>\n",
       "</div>"
      ],
      "text/plain": [
       "   sentiment                                           Headline  \\\n",
       "0          0  technopolis plans to develop in stages an area...   \n",
       "1         -1  the international electronic industry company ...   \n",
       "2          1  with the new production plant the company woul...   \n",
       "3          1  according to the company  updated strategy for...   \n",
       "4          1  financing of aspocomp s growth aspocomp is agg...   \n",
       "\n",
       "                                   Updated_Headlines  \n",
       "0  technopolis plan develop stage area le square ...  \n",
       "1  international electronic industry company elco...  \n",
       "2  new production plant company would increase ca...  \n",
       "3  according company updated strategy year baswar...  \n",
       "4  financing aspocomp growth aspocomp aggressivel...  "
      ]
     },
     "execution_count": 15,
     "metadata": {},
     "output_type": "execute_result"
    }
   ],
   "source": [
    "df.head()"
   ]
  },
  {
   "cell_type": "markdown",
   "id": "e1b18985",
   "metadata": {},
   "source": [
    "We now have our updated headlines, where the textual data is in lowercase ascii, containing no digits and special characters, common stopwords removed and remaining words lemmatized. I will go ahead and drop the old headline column,"
   ]
  },
  {
   "cell_type": "code",
   "execution_count": 16,
   "id": "a09dcfba",
   "metadata": {},
   "outputs": [],
   "source": [
    "df = df.drop('Headline',axis=1)\n",
    "df = df.rename(columns={'Updated_Headlines':'Headlines'})"
   ]
  },
  {
   "cell_type": "markdown",
   "id": "fe4a9a38",
   "metadata": {},
   "source": [
    "## 5.3 Visualizing the data"
   ]
  },
  {
   "cell_type": "code",
   "execution_count": 17,
   "id": "f6cd0364",
   "metadata": {
    "scrolled": false
   },
   "outputs": [
    {
     "data": {
      "image/png": "[encoded data removed]",
      "text/plain": [
       "<Figure size 640x480 with 1 Axes>"
      ]
     },
     "metadata": {},
     "output_type": "display_data"
    }
   ],
   "source": [
    "#MY ORIGINAL CODE/CONTRIBUTIONS\n",
    "\n",
    "#plotting a bar chart with matplotlib\n",
    "fig, ax = plt.subplots()\n",
    "\n",
    "yAxisVal = ['neutral','positive','negative']\n",
    "xAxisVal = df.sentiment.value_counts()\n",
    "barColors = ['grey','red','green']\n",
    "\n",
    "ax.barh(yAxisVal, xAxisVal, align='center',color=barColors)\n",
    "ax.invert_yaxis()\n",
    "ax.set_title('Count of Sentiment')\n",
    "\n",
    "plt.show()"
   ]
  },
  {
   "cell_type": "code",
   "execution_count": 18,
   "id": "7edbbc75",
   "metadata": {
    "scrolled": false
   },
   "outputs": [
    {
     "data": {
      "image/png": "[encoded data removed]",
      "text/plain": [
       "<Figure size 1000x400 with 1 Axes>"
      ]
     },
     "metadata": {},
     "output_type": "display_data"
    },
    {
     "data": {
      "text/plain": [
       "<Axes: xlabel='Samples', ylabel='Counts'>"
      ]
     },
     "execution_count": 18,
     "metadata": {},
     "output_type": "execute_result"
    }
   ],
   "source": [
    "#frequncy diagram of the most common tokens in our dataset\n",
    "FreqData = FreqDist(w for w in tokenizedData)\n",
    "plt.figure(figsize=(10,4))\n",
    "FreqData.plot(50)"
   ]
  },
  {
   "cell_type": "markdown",
   "id": "8ad17341",
   "metadata": {},
   "source": [
    "Based on the frequency distribution plot, it appears that a significant portion of the financial headlines originates from Europe, specifically focusing on the European market, and Finland seems to be at the core of these news articles."
   ]
  },
  {
   "cell_type": "code",
   "execution_count": 19,
   "id": "2c6894f6",
   "metadata": {
    "scrolled": true
   },
   "outputs": [
    {
     "data": {
      "image/png": "[encoded data removed]",
      "text/plain": [
       "<Figure size 640x480 with 1 Axes>"
      ]
     },
     "metadata": {},
     "output_type": "display_data"
    }
   ],
   "source": [
    "#MY ORIGINAL CODE/CONTRIBUTIONS\n",
    "word_Cloud_Text = \" \".join(tokenizedData)\n",
    "\n",
    "#plotting a word using the WordCloud library\n",
    "word_cloud = WordCloud(collocations = False, background_color = 'white').generate(word_Cloud_Text)\n",
    "plt.imshow(word_cloud, interpolation='bilinear')\n",
    "plt.axis(\"off\")\n",
    "plt.show()"
   ]
  },
  {
   "cell_type": "markdown",
   "id": "2082dc19",
   "metadata": {},
   "source": [
    "The above word cloud provides a more visual and readable representation of the frequency distribution diagram."
   ]
  },
  {
   "cell_type": "markdown",
   "id": "73198be7",
   "metadata": {},
   "source": [
    "## 5.4 Text Representation\n",
    "\n",
    "For this project, I have chosen the Bag of Words Model to represent the textual data at hand. The reason for this choice are as follows:\n",
    "\n",
    "- Simplicity and Efficiency: The BoW model is relatively simple to implement and understand. It represents text data as a collection of words without considering the order or structure of the sentences. This simplicity makes it computationally efficient and scalable\n",
    "<br>\n",
    "\n",
    "- Suitability for Classification: The BoW model is well-suited for classification tasks, where the goal is to assign labels to input text data, this case, the financial news headlines and its respective sentiment. It works effectively with classifiers like Naive Bayes, Support Vector Machines (SVM), and Random Forests, making it a versatile choice for sentiment analysis."
   ]
  },
  {
   "cell_type": "code",
   "execution_count": 21,
   "id": "f5d9f320",
   "metadata": {},
   "outputs": [],
   "source": [
    "#import's sklearn's CounteVectorizer to build the BoW\n",
    "from sklearn.feature_extraction.text import CountVectorizer\n",
    "from sklearn.model_selection import train_test_split\n",
    "\n",
    "#convert the headlines column values into a list\n",
    "headline_list = df['Headlines'].tolist()\n",
    "\n",
    "count_Vect = CountVectorizer(max_features=200)\n",
    "X = count_Vect.fit_transform(headline_list)\n",
    "X = X.toarray()"
   ]
  },
  {
   "cell_type": "code",
   "execution_count": 22,
   "id": "f7884973",
   "metadata": {},
   "outputs": [
    {
     "name": "stdout",
     "output_type": "stream",
     "text": [
      "[[0 0 0 ... 0 0 0]\n",
      " [0 0 0 ... 0 0 0]\n",
      " [0 0 0 ... 0 2 0]\n",
      " ...\n",
      " [0 0 0 ... 0 0 0]\n",
      " [0 0 0 ... 0 0 0]\n",
      " [1 0 0 ... 0 0 0]]\n"
     ]
    }
   ],
   "source": [
    "print(X)"
   ]
  },
  {
   "cell_type": "code",
   "execution_count": 21,
   "id": "285140bc",
   "metadata": {},
   "outputs": [],
   "source": [
    "y = df['sentiment'].tolist()"
   ]
  },
  {
   "cell_type": "markdown",
   "id": "033b06ab",
   "metadata": {},
   "source": [
    "# 6 Baseline performance\n",
    "\n",
    "As outlined in the objectives of the project, we aim to compare Supervised Learning against Lexicon Approach. Therefore, our baseline performance against which we will compare the performance of our classifer model, will be the Lexicon.\n",
    "\n",
    "The lexicon chosen to perform sentiment analysis, has to be one that was built to cater financial news. Among the publicly available financial lexicons, I have selected the Loughran-McDonald Master Dictionary. It is a  lexicon specifically designed for sentiment analysis in financial text. Created by Timothy Loughran and Bill McDonald, these word lists categorize words commonly found in financial documents into positive and negative sentiment categories[6]. It was last updated on February 2024, suggesting that it is well maintained and up to date. It is also available for academic use. Another reason this lexicon was chosen, was that it outperformed other financial based lexicons such as Harvard IV-4 Dictionary, in this study conducted by Kostadin Mishev and colleagues[5]."
   ]
  },
  {
   "cell_type": "markdown",
   "id": "8a97a193",
   "metadata": {},
   "source": [
    "The Loughran-McDonald Master Dictionary is available in CSV format. It will be downloaded and loaded into pandas, locally."
   ]
  },
  {
   "cell_type": "code",
   "execution_count": 22,
   "id": "7d815ef0",
   "metadata": {
    "scrolled": true
   },
   "outputs": [],
   "source": [
    "#load into pandas dataframe\n",
    "df_Loughran_McDonald = pd.read_csv(\"Loughran-McDonald_MasterDictionary_1993-2023.csv\")"
   ]
  },
  {
   "cell_type": "code",
   "execution_count": 23,
   "id": "fb452632",
   "metadata": {},
   "outputs": [
    {
     "data": {
      "text/html": [
       "<div>\n",
       "<style scoped>\n",
       "    .dataframe tbody tr th:only-of-type {\n",
       "        vertical-align: middle;\n",
       "    }\n",
       "\n",
       "    .dataframe tbody tr th {\n",
       "        vertical-align: top;\n",
       "    }\n",
       "\n",
       "    .dataframe thead th {\n",
       "        text-align: right;\n",
       "    }\n",
       "</style>\n",
       "<table border=\"1\" class=\"dataframe\">\n",
       "  <thead>\n",
       "    <tr style=\"text-align: right;\">\n",
       "      <th></th>\n",
       "      <th>Word</th>\n",
       "      <th>Seq_num</th>\n",
       "      <th>Word Count</th>\n",
       "      <th>Word Proportion</th>\n",
       "      <th>Average Proportion</th>\n",
       "      <th>Std Dev</th>\n",
       "      <th>Doc Count</th>\n",
       "      <th>Negative</th>\n",
       "      <th>Positive</th>\n",
       "      <th>Uncertainty</th>\n",
       "      <th>Litigious</th>\n",
       "      <th>Strong_Modal</th>\n",
       "      <th>Weak_Modal</th>\n",
       "      <th>Constraining</th>\n",
       "      <th>Complexity</th>\n",
       "      <th>Syllables</th>\n",
       "      <th>Source</th>\n",
       "    </tr>\n",
       "  </thead>\n",
       "  <tbody>\n",
       "    <tr>\n",
       "      <th>0</th>\n",
       "      <td>AARDVARK</td>\n",
       "      <td>1</td>\n",
       "      <td>664</td>\n",
       "      <td>2.690000e-08</td>\n",
       "      <td>1.860000e-08</td>\n",
       "      <td>4.050000e-06</td>\n",
       "      <td>131</td>\n",
       "      <td>0</td>\n",
       "      <td>0</td>\n",
       "      <td>0</td>\n",
       "      <td>0</td>\n",
       "      <td>0</td>\n",
       "      <td>0</td>\n",
       "      <td>0</td>\n",
       "      <td>0</td>\n",
       "      <td>2</td>\n",
       "      <td>12of12inf</td>\n",
       "    </tr>\n",
       "    <tr>\n",
       "      <th>1</th>\n",
       "      <td>AARDVARKS</td>\n",
       "      <td>2</td>\n",
       "      <td>3</td>\n",
       "      <td>1.210000e-10</td>\n",
       "      <td>8.230000e-12</td>\n",
       "      <td>9.020000e-09</td>\n",
       "      <td>1</td>\n",
       "      <td>0</td>\n",
       "      <td>0</td>\n",
       "      <td>0</td>\n",
       "      <td>0</td>\n",
       "      <td>0</td>\n",
       "      <td>0</td>\n",
       "      <td>0</td>\n",
       "      <td>0</td>\n",
       "      <td>2</td>\n",
       "      <td>12of12inf</td>\n",
       "    </tr>\n",
       "    <tr>\n",
       "      <th>2</th>\n",
       "      <td>ABACI</td>\n",
       "      <td>3</td>\n",
       "      <td>9</td>\n",
       "      <td>3.640000e-10</td>\n",
       "      <td>1.110000e-10</td>\n",
       "      <td>5.160000e-08</td>\n",
       "      <td>7</td>\n",
       "      <td>0</td>\n",
       "      <td>0</td>\n",
       "      <td>0</td>\n",
       "      <td>0</td>\n",
       "      <td>0</td>\n",
       "      <td>0</td>\n",
       "      <td>0</td>\n",
       "      <td>0</td>\n",
       "      <td>3</td>\n",
       "      <td>12of12inf</td>\n",
       "    </tr>\n",
       "    <tr>\n",
       "      <th>3</th>\n",
       "      <td>ABACK</td>\n",
       "      <td>4</td>\n",
       "      <td>29</td>\n",
       "      <td>1.170000e-09</td>\n",
       "      <td>6.330000e-10</td>\n",
       "      <td>1.560000e-07</td>\n",
       "      <td>28</td>\n",
       "      <td>0</td>\n",
       "      <td>0</td>\n",
       "      <td>0</td>\n",
       "      <td>0</td>\n",
       "      <td>0</td>\n",
       "      <td>0</td>\n",
       "      <td>0</td>\n",
       "      <td>0</td>\n",
       "      <td>2</td>\n",
       "      <td>12of12inf</td>\n",
       "    </tr>\n",
       "    <tr>\n",
       "      <th>4</th>\n",
       "      <td>ABACUS</td>\n",
       "      <td>5</td>\n",
       "      <td>9349</td>\n",
       "      <td>3.790000e-07</td>\n",
       "      <td>3.830000e-07</td>\n",
       "      <td>3.460000e-05</td>\n",
       "      <td>1239</td>\n",
       "      <td>0</td>\n",
       "      <td>0</td>\n",
       "      <td>0</td>\n",
       "      <td>0</td>\n",
       "      <td>0</td>\n",
       "      <td>0</td>\n",
       "      <td>0</td>\n",
       "      <td>0</td>\n",
       "      <td>3</td>\n",
       "      <td>12of12inf</td>\n",
       "    </tr>\n",
       "  </tbody>\n",
       "</table>\n",
       "</div>"
      ],
      "text/plain": [
       "        Word  Seq_num  Word Count  Word Proportion  Average Proportion  \\\n",
       "0   AARDVARK        1         664     2.690000e-08        1.860000e-08   \n",
       "1  AARDVARKS        2           3     1.210000e-10        8.230000e-12   \n",
       "2      ABACI        3           9     3.640000e-10        1.110000e-10   \n",
       "3      ABACK        4          29     1.170000e-09        6.330000e-10   \n",
       "4     ABACUS        5        9349     3.790000e-07        3.830000e-07   \n",
       "\n",
       "        Std Dev  Doc Count  Negative  Positive  Uncertainty  Litigious  \\\n",
       "0  4.050000e-06        131         0         0            0          0   \n",
       "1  9.020000e-09          1         0         0            0          0   \n",
       "2  5.160000e-08          7         0         0            0          0   \n",
       "3  1.560000e-07         28         0         0            0          0   \n",
       "4  3.460000e-05       1239         0         0            0          0   \n",
       "\n",
       "   Strong_Modal  Weak_Modal  Constraining  Complexity  Syllables     Source  \n",
       "0             0           0             0           0          2  12of12inf  \n",
       "1             0           0             0           0          2  12of12inf  \n",
       "2             0           0             0           0          3  12of12inf  \n",
       "3             0           0             0           0          2  12of12inf  \n",
       "4             0           0             0           0          3  12of12inf  "
      ]
     },
     "execution_count": 23,
     "metadata": {},
     "output_type": "execute_result"
    }
   ],
   "source": [
    "df_Loughran_McDonald.head()"
   ]
  },
  {
   "cell_type": "markdown",
   "id": "93a4e309",
   "metadata": {},
   "source": [
    "We now have to extract the labelled positive and negative words from the lexicon, into a list. The custom functions below will achieve just that."
   ]
  },
  {
   "cell_type": "code",
   "execution_count": 24,
   "id": "b157cf91",
   "metadata": {},
   "outputs": [],
   "source": [
    "#MY ORIGINAL CODE/CONTRIBUTIONS\n",
    "\n",
    "#function to extract positive and negative words into a seperate list\n",
    "def extractPositive(df):\n",
    "    filtered_df = df_Loughran_McDonald[df_Loughran_McDonald[\"Positive\"] != 0]\n",
    "\n",
    "    word_column = filtered_df[\"Word\"]\n",
    "    column_ToList = word_column.tolist()\n",
    "    positive_Words = [x.lower() for x in column_ToList]\n",
    "    \n",
    "    return positive_Words\n",
    "\n",
    "def extractNegative(df):\n",
    "    filtered_df = df_Loughran_McDonald[df_Loughran_McDonald[\"Negative\"] != 0]\n",
    "\n",
    "    word_column = filtered_df[\"Word\"]\n",
    "    column_ToList = word_column.tolist()\n",
    "    negative_Words = [x.lower() for x in column_ToList]\n",
    "    \n",
    "    return negative_Words"
   ]
  },
  {
   "cell_type": "code",
   "execution_count": 25,
   "id": "49dc7846",
   "metadata": {},
   "outputs": [],
   "source": [
    "positive_Words = extractPositive(df_Loughran_McDonald)\n",
    "negative_Words = extractNegative(df_Loughran_McDonald)"
   ]
  },
  {
   "cell_type": "markdown",
   "id": "958b4223",
   "metadata": {},
   "source": [
    "Now that we have a list of positive and negative words from the lexicon, we can run the analysis of our financial news headlines.\n",
    "\n",
    "For each row in the dataset, the functions below will analyse it for positive and negative words that are found in the lexicon, and create separate columns in the dataframe that houses the count of these words."
   ]
  },
  {
   "cell_type": "code",
   "execution_count": 26,
   "id": "0da33439",
   "metadata": {},
   "outputs": [],
   "source": [
    "#MY ORIGINAL CODE/CONTRIBUTIONS\n",
    "\n",
    "#function to calculate number of positive words in each row\n",
    "def positiveWordsLexicon(sentence):\n",
    "    pos_Word_Count = 0\n",
    "    #tokenize first\n",
    "    words = sentence.split()\n",
    "    for word in words:\n",
    "        if word in positive_Words:\n",
    "            pos_Word_Count += 1\n",
    "        \n",
    "    return pos_Word_Count\n",
    "\n",
    "#function to calculate number of negative words in each row\n",
    "def negativeWordsLexicon(sentence):\n",
    "    neg_Word_Count = 0\n",
    "    #tokenize first\n",
    "    words = sentence.split()\n",
    "    for word in words:\n",
    "        if word in negative_Words:\n",
    "            neg_Word_Count += 1\n",
    "        \n",
    "    return neg_Word_Count\n",
    "\n",
    "#function to label the sentiment\n",
    "def sentimentLexicon(val):\n",
    "    if val < 0:\n",
    "        return -1\n",
    "    if val > 0:\n",
    "        return 1\n",
    "    else:\n",
    "        return 0"
   ]
  },
  {
   "cell_type": "code",
   "execution_count": 27,
   "id": "da52a739",
   "metadata": {},
   "outputs": [],
   "source": [
    "df['positiveWords'] = df['Headlines'].apply(positiveWordsLexicon)\n",
    "df['negativeWords'] = df['Headlines'].apply(negativeWordsLexicon)"
   ]
  },
  {
   "cell_type": "code",
   "execution_count": 28,
   "id": "e4fe8b15",
   "metadata": {
    "scrolled": true
   },
   "outputs": [
    {
     "data": {
      "text/html": [
       "<div>\n",
       "<style scoped>\n",
       "    .dataframe tbody tr th:only-of-type {\n",
       "        vertical-align: middle;\n",
       "    }\n",
       "\n",
       "    .dataframe tbody tr th {\n",
       "        vertical-align: top;\n",
       "    }\n",
       "\n",
       "    .dataframe thead th {\n",
       "        text-align: right;\n",
       "    }\n",
       "</style>\n",
       "<table border=\"1\" class=\"dataframe\">\n",
       "  <thead>\n",
       "    <tr style=\"text-align: right;\">\n",
       "      <th></th>\n",
       "      <th>sentiment</th>\n",
       "      <th>Headlines</th>\n",
       "      <th>positiveWords</th>\n",
       "      <th>negativeWords</th>\n",
       "    </tr>\n",
       "  </thead>\n",
       "  <tbody>\n",
       "    <tr>\n",
       "      <th>0</th>\n",
       "      <td>0</td>\n",
       "      <td>technopolis plan develop stage area le square ...</td>\n",
       "      <td>0</td>\n",
       "      <td>0</td>\n",
       "    </tr>\n",
       "    <tr>\n",
       "      <th>1</th>\n",
       "      <td>-1</td>\n",
       "      <td>international electronic industry company elco...</td>\n",
       "      <td>0</td>\n",
       "      <td>2</td>\n",
       "    </tr>\n",
       "    <tr>\n",
       "      <th>2</th>\n",
       "      <td>1</td>\n",
       "      <td>new production plant company would increase ca...</td>\n",
       "      <td>2</td>\n",
       "      <td>0</td>\n",
       "    </tr>\n",
       "    <tr>\n",
       "      <th>3</th>\n",
       "      <td>1</td>\n",
       "      <td>according company updated strategy year baswar...</td>\n",
       "      <td>0</td>\n",
       "      <td>0</td>\n",
       "    </tr>\n",
       "    <tr>\n",
       "      <th>4</th>\n",
       "      <td>1</td>\n",
       "      <td>financing aspocomp growth aspocomp aggressivel...</td>\n",
       "      <td>0</td>\n",
       "      <td>0</td>\n",
       "    </tr>\n",
       "  </tbody>\n",
       "</table>\n",
       "</div>"
      ],
      "text/plain": [
       "   sentiment                                          Headlines  \\\n",
       "0          0  technopolis plan develop stage area le square ...   \n",
       "1         -1  international electronic industry company elco...   \n",
       "2          1  new production plant company would increase ca...   \n",
       "3          1  according company updated strategy year baswar...   \n",
       "4          1  financing aspocomp growth aspocomp aggressivel...   \n",
       "\n",
       "   positiveWords  negativeWords  \n",
       "0              0              0  \n",
       "1              0              2  \n",
       "2              2              0  \n",
       "3              0              0  \n",
       "4              0              0  "
      ]
     },
     "execution_count": 28,
     "metadata": {},
     "output_type": "execute_result"
    }
   ],
   "source": [
    "df.head()"
   ]
  },
  {
   "cell_type": "markdown",
   "id": "3bc77f20",
   "metadata": {},
   "source": [
    "The final step will be to derive the label of the sentiment. If the lexical score is more than 0, its positive, which is 1. If it's less than 0, its negative, which is -1. A score of 0 will be classified as neutral."
   ]
  },
  {
   "cell_type": "code",
   "execution_count": 29,
   "id": "73bc57c3",
   "metadata": {},
   "outputs": [],
   "source": [
    "#score of lexicon analysis\n",
    "df['wordCount']= df['positiveWords'] - df['negativeWords']"
   ]
  },
  {
   "cell_type": "code",
   "execution_count": 30,
   "id": "437231f5",
   "metadata": {},
   "outputs": [],
   "source": [
    "df['lexiconSentiment'] = df['wordCount'].apply(sentimentLexicon)"
   ]
  },
  {
   "cell_type": "markdown",
   "id": "05d1f1fe",
   "metadata": {},
   "source": [
    "We can now use the accuracy metric outlined in our methodolgy, to see how the Lexicon approach faired."
   ]
  },
  {
   "cell_type": "code",
   "execution_count": 31,
   "id": "a1860448",
   "metadata": {},
   "outputs": [],
   "source": [
    "#importing sklearn accuracy score\n",
    "from sklearn.metrics import accuracy_score"
   ]
  },
  {
   "cell_type": "code",
   "execution_count": 32,
   "id": "0707592f",
   "metadata": {},
   "outputs": [],
   "source": [
    "#MY ORIGINAL CODE/CONTRIBUTIONS\n",
    "def lexiconAccuracy(truthColumn,predictedColumn):\n",
    "    lexiconPrediction = predictedColumn.tolist()\n",
    "    truth = truthColumn.tolist()\n",
    "    return accuracy_score(truth,lexiconPrediction)"
   ]
  },
  {
   "cell_type": "code",
   "execution_count": 33,
   "id": "3288ed7f",
   "metadata": {},
   "outputs": [],
   "source": [
    "#MY ORIGINAL CODE/CONTRIBUTIONS\n",
    "lexiconAnalyzer_Performance = lexiconAccuracy(df['sentiment'],df['lexiconSentiment'])"
   ]
  },
  {
   "cell_type": "code",
   "execution_count": 34,
   "id": "49ae2dbf",
   "metadata": {
    "scrolled": true
   },
   "outputs": [
    {
     "name": "stdout",
     "output_type": "stream",
     "text": [
      "0.6246388774246802\n"
     ]
    }
   ],
   "source": [
    "print(lexiconAnalyzer_Performance)"
   ]
  },
  {
   "cell_type": "markdown",
   "id": "f3a29f80",
   "metadata": {},
   "source": [
    "62% will be the baseline performance score that will be used to compare the performance of the chosen approach in the next section."
   ]
  },
  {
   "cell_type": "markdown",
   "id": "b181a4f5",
   "metadata": {},
   "source": [
    "# 7 Classification Approach\n",
    "\n",
    "### <b>Features and Labels Selection:<b>\n",
    "\n",
    "- <b>Label:</b> The label selected will consist of the values in the \"Sentiment\" column of our dataset. The sentiment values (1, -1, 0) provide clear polarity labels for sentiment analysis, making them suitable for the classifier's prediction task. It has already be pre-processed and represented as an array, suitable to be inserted into our model. Refer to 5.4.\n",
    "<br>\n",
    "\n",
    "- <b>Feature:</b> The feature that will be used is the textual data contained in the \"Headlines\" column. The news article headlines contain rich linguistic information that serves as valuable features for capturing sentiment. It has already been pre-processed and the textual features extracted into a Bag of Words, after applying NLP techniques to it. Refer to 5.2\n",
    "\n",
    "### Chosen Approach: Random Forest\n",
    "\n",
    "The rationale for my chosen approach of using the Random Forest classifier are as follows:\n",
    "    \n",
    "1. <b>Ensemble Learning:</b> Random Forest is an ensemble learning method that combines multiple decision trees. Ensemble meaning it uses multiple learning algorithms to achieve better outcomes, in this case, multiple decision trees. This ensemble approach can improve accuracy and reduce overfitting compared to a single decision tree.\n",
    "    <br>\n",
    "    \n",
    "2. <b>Feature Importance:</b> Random Forest provides insights into feature importance, helping identify which words or phrases contribute most to sentiment analysis.\n",
    "    <br>\n",
    "    \n",
    "3. <b>Handling High-Dimensional Data:</b> Random Forest can handle sparse data. The ease of fine-tuning allows for optimizing hyperparameters such as the tree depth, further enhancing its effectiveness in achieving better generalization of the data.\n",
    "\n",
    "### Potential Benefits and Drawbacks of Alternative Approaches:\n",
    "\n",
    "1. <b>Support Vector Machine (SVM):</b>\n",
    "   - Benefits: It is effective in high-dimensional spaces and versatile and robust to overfitting in some cases.\n",
    "   - Drawbacks: Computationally intensive for large datasets, sensitive to feature scaling, and less interpretable than decision tree-based methods. It's hyperparameter tuning is not as straightforward as Decision Trees, for example.\n",
    "    <br>\n",
    "    \n",
    "2. <b>Naïve Bayes:</b>\n",
    "   - Benefits: It is simple and not computationally expensive, and works well with small datasets. It can handle categorical data effectively.\n",
    "   - Drawbacks: Assumes independence among features (naïve assumption), and  may not capture complex relationships well. It can be sensitive to outliers in the dataset as well.\n",
    "<br> \n",
    "  \n",
    "As highlighted above, each approach has its strengths and weaknesses, making the choice dependent on factors such as dataset size, complexity of relationships and computational resources available. Random Forest's ability to handle non-linearity, feature importance analysis, and ensemble learning make it well-suited for the project's objectives."
   ]
  },
  {
   "cell_type": "markdown",
   "id": "b687322e",
   "metadata": {},
   "source": [
    "## 7.1 Base Model"
   ]
  },
  {
   "cell_type": "code",
   "execution_count": 23,
   "id": "e1c020a1",
   "metadata": {},
   "outputs": [],
   "source": [
    "#import machine learning model from sklearn\n",
    "from sklearn.metrics import confusion_matrix,ConfusionMatrixDisplay\n",
    "from sklearn.metrics import precision_score\n",
    "from sklearn.ensemble import RandomForestClassifier\n",
    "from sklearn.model_selection import train_test_split"
   ]
  },
  {
   "cell_type": "markdown",
   "id": "ac7003ec",
   "metadata": {},
   "source": [
    "Prepare the train test split for our model. Train-test split is a technique in machine learning where the dataset is divided into a training set, used to train the model, and a testing set, used to evaluate the model's performance on unseen data, helping assess its generalization capabilities and potential overfitting issues."
   ]
  },
  {
   "cell_type": "code",
   "execution_count": 36,
   "id": "6525988f",
   "metadata": {},
   "outputs": [],
   "source": [
    "#using sklearn's train_test_split\n",
    "X_train,X_test,y_train,y_test = train_test_split(X,y,test_size=0.2,random_state=7)"
   ]
  },
  {
   "cell_type": "code",
   "execution_count": 37,
   "id": "d68ec34a",
   "metadata": {},
   "outputs": [],
   "source": [
    "#using sklearn's model\n",
    "base_Model = RandomForestClassifier()\n",
    "base_Model.fit(X_train,y_train)\n",
    "base_Prediction = base_Model.predict(X_test)"
   ]
  },
  {
   "cell_type": "code",
   "execution_count": 38,
   "id": "c9cbd504",
   "metadata": {},
   "outputs": [
    {
     "name": "stdout",
     "output_type": "stream",
     "text": [
      "0.6628865979381443\n"
     ]
    }
   ],
   "source": [
    "print(accuracy_score(y_test,base_Prediction))"
   ]
  },
  {
   "cell_type": "markdown",
   "id": "1fe347d8",
   "metadata": {},
   "source": [
    "## 7.2 Hyperparameter Tuning"
   ]
  },
  {
   "cell_type": "code",
   "execution_count": 39,
   "id": "660113ad",
   "metadata": {},
   "outputs": [],
   "source": [
    "#MY ORIGINAL CODE/CONTRIBUTIONS\n",
    "\n",
    "tuningOptions = {\n",
    "    'n_estimators': [10,25,50, 100, 150,200,250,300,450,500,550],\n",
    "    'max_depth': [3, 6, 9,12,24,32,64,105,150,200,250,300] \n",
    "}\n",
    "\n",
    "accuracy_history = []\n",
    "\n",
    "for i in range(0,10):\n",
    "    model = RandomForestClassifier(n_estimators=tuningOptions['n_estimators'][i],\n",
    "                                   max_depth=tuningOptions['max_depth'][i])\n",
    "    model.fit(X_train,y_train)\n",
    "    modelPrediction = model.predict(X_test)\n",
    "    \n",
    "    acc_score = accuracy_score(y_test,modelPrediction)\n",
    "    accuracy_history.append(acc_score)"
   ]
  },
  {
   "cell_type": "code",
   "execution_count": 40,
   "id": "d693024a",
   "metadata": {},
   "outputs": [
    {
     "data": {
      "image/png": "[encoded data removed]",
      "text/plain": [
       "<Figure size 640x480 with 1 Axes>"
      ]
     },
     "metadata": {},
     "output_type": "display_data"
    }
   ],
   "source": [
    "plt.plot(accuracy_history)\n",
    "plt.title('Hyperparamter Tuning')\n",
    "plt.xlabel('Epochs')\n",
    "plt.ylabel('Accuracy')\n",
    "plt.show()"
   ]
  },
  {
   "cell_type": "markdown",
   "id": "075e0b60",
   "metadata": {},
   "source": [
    "Past the fourth epoch, our model's accuracy beings to fall. We start to overfit. Hence, the ideal parameters for number of trees is 150, and 24 for the max depth."
   ]
  },
  {
   "cell_type": "markdown",
   "id": "b553f1f7",
   "metadata": {},
   "source": [
    "## 7.3 Production Model"
   ]
  },
  {
   "cell_type": "code",
   "execution_count": 41,
   "id": "ace85230",
   "metadata": {},
   "outputs": [],
   "source": [
    "#using sklearn's model\n",
    "classifier = RandomForestClassifier(n_estimators=150,max_depth=24)\n",
    "classifier.fit(X_train,y_train)\n",
    "classifier_Prediction = classifier.predict(X_test)"
   ]
  },
  {
   "cell_type": "code",
   "execution_count": 42,
   "id": "7ba9f05f",
   "metadata": {},
   "outputs": [
    {
     "name": "stdout",
     "output_type": "stream",
     "text": [
      "0.7061855670103093\n"
     ]
    }
   ],
   "source": [
    "print(accuracy_score(y_test,classifier_Prediction))"
   ]
  },
  {
   "cell_type": "markdown",
   "id": "7f9fb69a",
   "metadata": {},
   "source": [
    "# 8 Evaluation"
   ]
  },
  {
   "cell_type": "markdown",
   "id": "6f138d72",
   "metadata": {},
   "source": [
    "We have now built our text classifier model using Random Forest, and are ready to evaluate its financial text sentiment anaylsis performance, against the Lexicon Rule-Based approach. Refer to 6 to see the baseline benchmark.\n",
    "\n",
    "To recap, lets see what the baseline performance was, the Loughran-McDonald Financial Lexicon."
   ]
  },
  {
   "cell_type": "code",
   "execution_count": 43,
   "id": "3e0821af",
   "metadata": {
    "scrolled": true
   },
   "outputs": [
    {
     "data": {
      "text/plain": [
       "0.6246388774246802"
      ]
     },
     "execution_count": 43,
     "metadata": {},
     "output_type": "execute_result"
    }
   ],
   "source": [
    "lexiconAnalyzer_Performance"
   ]
  },
  {
   "cell_type": "markdown",
   "id": "a0d0b6b0",
   "metadata": {},
   "source": [
    "Now, we will return the performance of the classifier."
   ]
  },
  {
   "cell_type": "code",
   "execution_count": 44,
   "id": "ecfe34c1",
   "metadata": {
    "scrolled": true
   },
   "outputs": [
    {
     "name": "stdout",
     "output_type": "stream",
     "text": [
      "0.7061855670103093\n"
     ]
    }
   ],
   "source": [
    "print(accuracy_score(y_test,classifier_Prediction))"
   ]
  },
  {
   "cell_type": "markdown",
   "id": "90f5c198",
   "metadata": {},
   "source": [
    "Our text classifier model for sentiment anaylsis, achieved a 8% higher accuracy score than our Lexicon approach."
   ]
  },
  {
   "cell_type": "code",
   "execution_count": 45,
   "id": "d352c679",
   "metadata": {},
   "outputs": [
    {
     "data": {
      "image/png": "[encoded data removed]",
      "text/plain": [
       "<Figure size 640x480 with 2 Axes>"
      ]
     },
     "metadata": {},
     "output_type": "display_data"
    }
   ],
   "source": [
    "cm = confusion_matrix(y_test,classifier_Prediction)\n",
    "disp = ConfusionMatrixDisplay(confusion_matrix=cm,display_labels=classifier.classes_)\n",
    "disp.plot()\n",
    "plt.show()"
   ]
  },
  {
   "cell_type": "markdown",
   "id": "0c31775b",
   "metadata": {},
   "source": [
    "From the confusion matrix, we can now calculate the precision score of the model, to see which labels it performed well and which it didnt."
   ]
  },
  {
   "cell_type": "code",
   "execution_count": 50,
   "id": "0c06852f",
   "metadata": {},
   "outputs": [],
   "source": [
    "#MY ORIGINAL CODE/CONTRIBUTIONS\n",
    "\n",
    "negativePrecision = 41/(41+5+10) * 100\n",
    "positivePrecision = 85/(85+20+14) * 100\n",
    "neutralPrecision = 559/(559+156+80) * 100"
   ]
  },
  {
   "cell_type": "code",
   "execution_count": 51,
   "id": "bd329597",
   "metadata": {},
   "outputs": [
    {
     "name": "stdout",
     "output_type": "stream",
     "text": [
      "73.21428571428571\n",
      "71.42857142857143\n",
      "70.31446540880502\n"
     ]
    }
   ],
   "source": [
    "print(negativePrecision)\n",
    "print(positivePrecision)\n",
    "print(neutralPrecision)"
   ]
  },
  {
   "cell_type": "markdown",
   "id": "415c1a76",
   "metadata": {},
   "source": [
    "For all three sentiments, positive, negative and neutral, our model score 70%. There was no one label that the model was biased towards, or one that it failed to generalize."
   ]
  },
  {
   "cell_type": "markdown",
   "id": "5dfe31a1",
   "metadata": {},
   "source": [
    "To summarize:\n",
    "\n",
    "- Supervised Machine Learning using Random Forest Classification, achieved a performance score of 70%, compared to the performance of a Lexicon which was our benchmark for the comparison, with a score of 62%.\n",
    "\n",
    "- The machine learning model hyperparameter's had to be tuned in order to raise its default performance of 64% to 70%, wheareas the Lexicon analysis required no tuning at all.\n",
    "\n",
    "- The Lexicon approach to financial news sentiment analysis was significantly faster than the classifier model."
   ]
  },
  {
   "cell_type": "markdown",
   "id": "5d106a3b",
   "metadata": {},
   "source": [
    "# 9 Conclusion"
   ]
  },
  {
   "cell_type": "markdown",
   "id": "353b45ee",
   "metadata": {},
   "source": [
    "By combining the Lexicon and Random Forest approaches, this project has pursued a comprehensive investigation into sentiment analysis methods, highlighting the project's originality and ambition as not much major literature and studies has been performed on such direct comparison between the two. Only one broad general overview of the latest approaches to financial sentiment analysis was done[5], without the specificity highlighted in this project. This dual approach adds novelty to my work, providing a clear comparison of techniques and benchmark scores that contribute to the problem area of financial news sentiment analysis. From this project, financial professionals such as investors and traders, can turn to one of the two approaches used in this study for financial news sentiment analysis, according to their needs. If speed and convenience is of importance, sentiment analysis using a ruled-based financial lexicon is the way to go. But if a large labelled dataset is available, then a supervised machine learning model may perform better.\n",
    "\n",
    "Moreover, the findings from this project have broader implications, as they can be transferred to other domains beyond finance, such as marketing, customer feedback analysis, and social media monitoring. I believe the methods used in this project are replicable and adaptable, allowing others to apply similar techniques using different programming languages, development environments, and libraries like PyTorch or Keras. Overall, this project reflects not only my dedication to understanding sentiment analysis but also its potential to impact various industries with its transferable insights and replicable methods."
   ]
  },
  {
   "cell_type": "markdown",
   "id": "26c89424",
   "metadata": {},
   "source": [
    "# 10 References\n",
    "\n",
    "[1] S. Sohangir, N. Petty and D. Wang, \"Financial Sentiment Lexicon Analysis,\" 2018 IEEE 12th International Conference on Semantic Computing (ICSC), Laguna Hills, CA, USA, 2018, pp. 286-289, doi: 10.1109/ICSC.2018.00052.\n",
    "\n",
    "[2] Devlin, J., Chang, M., Lee, K., & Toutanova, K. (2019). BERT: Pre-training of Deep Bidirectional Transformers for Language Understanding. North American Chapter of the Association for Computational Linguistics.\n",
    "\n",
    "[3] Roopam Srivastava, P. K. Bharti and Parul Verma, “Comparative Analysis of Lexicon and Machine Learning Approach for Sentiment Analysis” International Journal of Advanced Computer Science and Applications(IJACSA), 13(3), 2022. http://dx.doi.org/10.14569/IJACSA.2022.0130312\n",
    "\n",
    "[4] A. Agarwal, \"Sentiment Analysis of Financial News,\" 2020 12th International Conference on Computational Intelligence and Communication Networks (CICN), Bhimtal, India, 2020, pp. 312-315, doi: 10.1109/CICN49253.2020.9242579\n",
    "\n",
    "[5] K. Mishev, A. Gjorgjevikj, I. Vodenska, L. T. Chitkushev and D. Trajanov, \"Evaluation of Sentiment Analysis in Finance: From Lexicons to Transformers,\" in IEEE Access, vol. 8, pp. 131662-131682, 2020, doi: 10.1109/ACCESS.2020.3009626\n",
    "\n",
    "[6] Dame, M.C.W. // U. of N. (n.d.). Loughran-McDonald Master Dictionary w/ Sentiment Word Lists // Software Repository for Accounting and Finance // University of Notre Dame. [online] Software Repository for Accounting and Finance. Available at: https://sraf.nd.edu/loughranmcdonald-master-dictionary/"
   ]
  }
 ],
 "metadata": {
  "kernelspec": {
   "display_name": "Python 3 (ipykernel)",
   "language": "python",
   "name": "python3"
  },
  "language_info": {
   "codemirror_mode": {
    "name": "ipython",
    "version": 3
   },
   "file_extension": ".py",
   "mimetype": "text/x-python",
   "name": "python",
   "nbconvert_exporter": "python",
   "pygments_lexer": "ipython3",
   "version": "3.11.5"
  }
 },
 "nbformat": 4,
 "nbformat_minor": 5
}
